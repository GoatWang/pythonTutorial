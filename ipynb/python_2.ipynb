{
 "cells": [
  {
   "cell_type": "markdown",
   "metadata": {
    "deletable": true,
    "editable": true
   },
   "source": [
    "# int"
   ]
  },
  {
   "cell_type": "code",
   "execution_count": 11,
   "metadata": {
    "collapsed": false,
    "deletable": true,
    "editable": true
   },
   "outputs": [
    {
     "name": "stdout",
     "output_type": "stream",
     "text": [
      "0b1100100\n",
      "0x64\n",
      "3\n",
      "3\n"
     ]
    }
   ],
   "source": [
    "print(bin(100))  ##二進位(binary)\n",
    "print(hex(100))  ##十六進位(hexadecimal) \n",
    "print(int(3.14))\n",
    "print(int(3.88))  ##自動捨去法"
   ]
  },
  {
   "cell_type": "markdown",
   "metadata": {
    "deletable": true,
    "editable": true
   },
   "source": [
    "# bool"
   ]
  },
  {
   "cell_type": "code",
   "execution_count": 17,
   "metadata": {
    "collapsed": false,
    "deletable": true,
    "editable": true
   },
   "outputs": [
    {
     "name": "stdout",
     "output_type": "stream",
     "text": [
      "False\n",
      "False\n"
     ]
    }
   ],
   "source": [
    "print(True is 1)\n",
    "print(False is 0)"
   ]
  },
  {
   "cell_type": "code",
   "execution_count": 18,
   "metadata": {
    "collapsed": false,
    "deletable": true,
    "editable": true
   },
   "outputs": [
    {
     "name": "stdout",
     "output_type": "stream",
     "text": [
      "True\n",
      "True\n"
     ]
    }
   ],
   "source": [
    "print(True == 1)\n",
    "print(False == 0)"
   ]
  },
  {
   "cell_type": "markdown",
   "metadata": {
    "deletable": true,
    "editable": true
   },
   "source": [
    "# 條件運算式"
   ]
  },
  {
   "cell_type": "code",
   "execution_count": 25,
   "metadata": {
    "collapsed": false,
    "deletable": true,
    "editable": true
   },
   "outputs": [
    {
     "name": "stdout",
     "output_type": "stream",
     "text": [
      "3\n",
      "3\n",
      "4\n",
      "4\n"
     ]
    }
   ],
   "source": [
    "x =3 if 1 else 4\n",
    "print(x)\n",
    "x =3 if True else 4\n",
    "print(x)\n",
    "x =3 if 0 else 4\n",
    "print(x)\n",
    "x =3 if False else 4\n",
    "print(x)"
   ]
  },
  {
   "cell_type": "markdown",
   "metadata": {
    "deletable": true,
    "editable": true
   },
   "source": [
    "# Fraction"
   ]
  },
  {
   "cell_type": "code",
   "execution_count": 32,
   "metadata": {
    "collapsed": false,
    "deletable": true,
    "editable": true
   },
   "outputs": [
    {
     "name": "stdout",
     "output_type": "stream",
     "text": [
      "1/2\n",
      "3537118815677477/1125899906842624\n",
      "6368089873101881/4503599627370496\n"
     ]
    }
   ],
   "source": [
    "from fractions import *\n",
    "F = Fraction\n",
    "print(F(1,2))\n",
    "print(F(3.1415926))\n",
    "print(F(1.414))"
   ]
  },
  {
   "cell_type": "markdown",
   "metadata": {
    "deletable": true,
    "editable": true
   },
   "source": [
    "# List"
   ]
  },
  {
   "cell_type": "code",
   "execution_count": 34,
   "metadata": {
    "collapsed": false,
    "deletable": true,
    "editable": true
   },
   "outputs": [
    {
     "data": {
      "text/plain": [
       "[2, 3]"
      ]
     },
     "execution_count": 34,
     "metadata": {},
     "output_type": "execute_result"
    }
   ],
   "source": [
    "# list announcement, append, pop\n",
    "mylist = []\n",
    "mylist.append(1)\n",
    "mylist.append(2)\n",
    "mylist.append(3)\n",
    "mylist.pop(0)  ## drop obj in the index\n",
    "mylist"
   ]
  },
  {
   "cell_type": "code",
   "execution_count": 41,
   "metadata": {
    "collapsed": false,
    "deletable": true,
    "editable": true
   },
   "outputs": [
    {
     "name": "stdout",
     "output_type": "stream",
     "text": [
      "[0, 1, 2, 3, 4, 5, 6, 7, 8, 9]\n",
      "[0, 1]\n",
      "[2, 3, 4, 5, 6, 7, 8, 9]\n",
      "[7, 8, 9]\n",
      "[0, 1, 2, 3, 4]\n"
     ]
    }
   ],
   "source": [
    "## index slicing\n",
    "mylist = list(range(10))\n",
    "print(mylist)\n",
    "print(mylist[:2])\n",
    "print(mylist[2:])\n",
    "print(mylist[-3:])\n",
    "print(mylist[:-5])"
   ]
  },
  {
   "cell_type": "code",
   "execution_count": 61,
   "metadata": {
    "collapsed": false,
    "deletable": true,
    "editable": true
   },
   "outputs": [
    {
     "name": "stdout",
     "output_type": "stream",
     "text": [
      "[0, 1, 2, 3, 4, 5, 6, 7, 8, 9, [100, 100, 100, -1, -99]]\n",
      "[100, 100, 100, -1, -99]\n",
      "-------------------\n",
      "[0, 1, 2, 3, 4, 5, 6, 7, 8, 9, 100, 100, 100, -1, -99]\n",
      "-------------------\n",
      "[0, 1, 2, 3, 4, 5, 6, 7, 8, 9, 100, 100, 100, -1, -99]\n",
      "-------------------\n",
      "[0, 0, 0, 0, 0, 0, 0, 0, 0, 0, 0, 0, 0, 0, 0, 0, 0, 0, 0, 0, 0, 0, 0, 0, 0, 0, 0, 0, 0, 0, 0, 0, 0, 0, 0, 0, 0, 0, 0, 0, 0, 0, 0, 0, 0, 0, 0, 0, 0, 0, 0, 0, 0, 0, 0, 0, 0, 0, 0, 0, 0, 0, 0, 0, 0, 0, 0, 0, 0, 0, 0, 0, 0, 0, 0, 0, 0, 0, 0, 0, 0, 0, 0, 0, 0, 0, 0, 0, 0, 0, 0, 0, 0, 0, 0, 0, 0, 0, 0, 0]\n",
      "-------------------\n"
     ]
    }
   ],
   "source": [
    "# append extend\n",
    "mylist = list(range(10))\n",
    "mylist.append([100, 100, 100, -1, -99])\n",
    "print(mylist)\n",
    "print(mylist[10])\n",
    "print(\"-------------------\")\n",
    "\n",
    "mylist = list(range(10))\n",
    "mylist.extend([100, 100, 100, -1, -99])\n",
    "print(mylist)\n",
    "print(\"-------------------\")\n",
    "\n",
    "mylist = list(range(10))\n",
    "mylist = mylist + [100, 100, 100, -1, -99]\n",
    "print(mylist)\n",
    "print(\"-------------------\")\n",
    "\n",
    "mylist = [0] * 100\n",
    "print(mylist)\n",
    "print(\"-------------------\")"
   ]
  },
  {
   "cell_type": "code",
   "execution_count": 155,
   "metadata": {
    "collapsed": false,
    "deletable": true,
    "editable": true
   },
   "outputs": [
    {
     "name": "stdout",
     "output_type": "stream",
     "text": [
      "[-99, -1, 0, 1, 2, 3, 4, 5, 6, 7, 8, 9, 100, 100, 100]\n",
      "[100, 100, 100, 9, 8, 7, 6, 5, 4, 3, 2, 1, 0, -1, -99]\n",
      "3\n",
      "10\n",
      "{0, 1, 2, 3, 4, 5, 6, 7, 8, 9, 100, -99, -1}\n"
     ]
    }
   ],
   "source": [
    "# sort, count, min, max, len, inedx\n",
    "mylist = list(range(10))\n",
    "mylist = mylist + [100, 100, 100, -1, -99]\n",
    "print(sorted(mylist))\n",
    "print(sorted(mylist, reverse = True))\n",
    "print(mylist.count(100))  #有幾個100\n",
    "print(mylist.index(100))  # 第一次出現的索引值"
   ]
  },
  {
   "cell_type": "code",
   "execution_count": 157,
   "metadata": {
    "collapsed": false,
    "deletable": true,
    "editable": true
   },
   "outputs": [
    {
     "name": "stdout",
     "output_type": "stream",
     "text": [
      "[0, 1, 2, 3, 4, 5, 6, 7, 8, 9, 100, -1, -99]\n",
      "[0, 1, 2, 3, 4, 5, 6, 7, 8, 9, 100, -99, -1]\n"
     ]
    }
   ],
   "source": [
    "# set\n",
    "newlist = []\n",
    "for i in mylist:\n",
    "    if i not in newlist:\n",
    "        newlist.append(i) \n",
    "print(newlist)\n",
    "print(list(set(mylist)))  ##去掉重複值"
   ]
  },
  {
   "cell_type": "code",
   "execution_count": 65,
   "metadata": {
    "collapsed": false
   },
   "outputs": [
    {
     "data": {
      "text/plain": [
       "'0 1 2 3 4 5 6 7 8 9'"
      ]
     },
     "execution_count": 65,
     "metadata": {},
     "output_type": "execute_result"
    }
   ],
   "source": [
    "# join\n",
    "mylist = list(range(10))\n",
    "newlist = [str(i) for i in mylist]\n",
    "\" \".join(newlist)"
   ]
  },
  {
   "cell_type": "code",
   "execution_count": 65,
   "metadata": {
    "collapsed": false,
    "deletable": true,
    "editable": true
   },
   "outputs": [
    {
     "name": "stdout",
     "output_type": "stream",
     "text": [
      "False\n",
      "True\n",
      "False\n",
      "False\n"
     ]
    }
   ],
   "source": [
    "# copy\n",
    "mylist = list(range(10))\n",
    "mycopy = mylist.copy()\n",
    "print(mycopy is mylist)\n",
    "print(mycopy == mylist)\n",
    "\n",
    "\n",
    "mycopy[0] = -100\n",
    "print(mycopy is mylist)\n",
    "print(mycopy == mylist)\n"
   ]
  },
  {
   "cell_type": "code",
   "execution_count": 178,
   "metadata": {
    "collapsed": false,
    "deletable": true,
    "editable": true,
    "scrolled": true
   },
   "outputs": [
    {
     "name": "stdout",
     "output_type": "stream",
     "text": [
      "['2017年01月01日至2017年06月30日', nan, nan, '309336', '309336', nan, nan, '36661', '4745', '-15525', '14001', '17236', '-9674', '-11760', '-52771', '508', '0', '-4550', '60', '5000', '0', '45', '0', '48844', '-48191', '-7541', '-22912', nan, nan, '-8230', '52863', '99976', '805565', '-58842', '-134', '-21197', '-4950', '865051', nan, '0', '7251', '-302181', '-1519513', '-36567', '-663', '-2465', '-1854138', '-989087', '-1011999', '-702663', '12874', '12967', '-10777', '-57075', '-744674', nan, '0', '10517', '-465878', '494467', '-104000', '2470', '0', '-15168', '8457', '-682', '44323', '33747', '-500', '9388', '0', '225130', '-15753', '226518', nan, '310000', '-1488', '190', '0', '0', '-109870', '198832', '47228', '-272096', '2876766', '2604670', '2604670']\n",
      "-------------\n",
      "<class 'float'>\n",
      "<class 'float'>\n",
      "<class 'float'>\n",
      "<class 'float'>\n",
      "<class 'float'>\n",
      "<class 'float'>\n",
      "<class 'float'>\n",
      "<class 'float'>\n",
      "<class 'float'>\n",
      "-------------\n",
      "['309336', '309336', '36661', '33747', '310000']\n"
     ]
    }
   ],
   "source": [
    "# iteration\n",
    "import pandas as pd\n",
    "import math\n",
    "import re\n",
    "df = pd.read_html(\"http://mops.twse.com.tw/server-java/t164sb01?step=1&CO_ID=4104&SYEAR=2017&SSEASON=2&REPORT_ID=C\")[3]\n",
    "mylist = list(df[1])\n",
    "print(mylist)\n",
    "print(\"-------------\")\n",
    "\n",
    "[print(type(item)) for item in mylist if type(item) != str]\n",
    "print(\"-------------\")\n",
    "\n",
    "notNoneList = [item for item in mylist if type(item) == str and re.findall(r'^3', item)]\n",
    "print(notNoneList)"
   ]
  },
  {
   "cell_type": "code",
   "execution_count": 181,
   "metadata": {
    "collapsed": false,
    "deletable": true,
    "editable": true
   },
   "outputs": [
    {
     "name": "stdout",
     "output_type": "stream",
     "text": [
      "0 2017年01月01日至2017年06月30日\n",
      "1 nan\n",
      "2 nan\n",
      "3 309336\n",
      "4 309336\n",
      "5 nan\n",
      "6 nan\n",
      "7 36661\n",
      "8 4745\n",
      "9 -15525\n"
     ]
    }
   ],
   "source": [
    "# enumerate\n",
    "for num, item in enumerate(mylist):\n",
    "    if num < 10:\n",
    "        print(num, item)"
   ]
  },
  {
   "cell_type": "markdown",
   "metadata": {
    "deletable": true,
    "editable": true
   },
   "source": [
    "# Dict"
   ]
  },
  {
   "cell_type": "code",
   "execution_count": 175,
   "metadata": {
    "collapsed": false,
    "deletable": true,
    "editable": true
   },
   "outputs": [
    {
     "name": "stdout",
     "output_type": "stream",
     "text": [
      "<class 'dict'>\n",
      "<class 'set'>\n",
      "{'c': 3, 'b': 2, 'a': 1}\n",
      "{'d': 4, 'c': 3, 'b': 2, 'a': 1}\n"
     ]
    }
   ],
   "source": [
    "# dict announcement\n",
    "a = {}\n",
    "print(type(a))\n",
    "b = {1,}\n",
    "print(type(b))\n",
    "\n",
    "mydict = {\"a\":1, \"b\":2, \"c\":3}\n",
    "print(mydict)\n",
    "mydict['d'] = 4\n",
    "print(mydict)  ##沒有順序"
   ]
  },
  {
   "cell_type": "code",
   "execution_count": 176,
   "metadata": {
    "collapsed": false,
    "deletable": true,
    "editable": true
   },
   "outputs": [
    {
     "name": "stdout",
     "output_type": "stream",
     "text": [
      "dict_keys(['d', 'c', 'b', 'a'])\n",
      "dict_values([4, 3, 2, 1])\n",
      "4\n",
      "None\n",
      "100\n",
      "'e' not in mydict.keys()\n"
     ]
    }
   ],
   "source": [
    "# dict call\n",
    "print(mydict.keys())\n",
    "print(mydict.values())\n",
    "\n",
    "print(mydict['d'])\n",
    "print(mydict.get('e'))\n",
    "print(mydict.get('e', 100))\n",
    "\n",
    "try:\n",
    "    print(mydict['e'])\n",
    "except:\n",
    "    print(\"'e' not in mydict.keys()\")\n",
    "# exceptions: https://docs.python.org/3/library/exceptions.html#bltin-exceptions\n",
    "\n"
   ]
  },
  {
   "cell_type": "code",
   "execution_count": 177,
   "metadata": {
    "collapsed": false,
    "deletable": true,
    "editable": true
   },
   "outputs": [
    {
     "name": "stdout",
     "output_type": "stream",
     "text": [
      "{'c': 3, 'a': 1, 'b': 2}\n",
      "None\n",
      "{'c': 3, 'a': 1, 'b': 2}\n"
     ]
    },
    {
     "ename": "KeyError",
     "evalue": "'100'",
     "output_type": "error",
     "traceback": [
      "\u001b[1;31m---------------------------------------------------------------------------\u001b[0m",
      "\u001b[1;31mKeyError\u001b[0m                                  Traceback (most recent call last)",
      "\u001b[1;32m<ipython-input-177-b8a305011ba8>\u001b[0m in \u001b[0;36m<module>\u001b[1;34m()\u001b[0m\n\u001b[0;32m      6\u001b[0m \u001b[0mprint\u001b[0m\u001b[1;33m(\u001b[0m\u001b[0mres\u001b[0m\u001b[1;33m)\u001b[0m\u001b[1;33m\u001b[0m\u001b[0m\n\u001b[0;32m      7\u001b[0m \u001b[0mprint\u001b[0m\u001b[1;33m(\u001b[0m\u001b[0mmydict\u001b[0m\u001b[1;33m)\u001b[0m\u001b[1;33m\u001b[0m\u001b[0m\n\u001b[1;32m----> 8\u001b[1;33m \u001b[0mmydict\u001b[0m\u001b[1;33m.\u001b[0m\u001b[0mpop\u001b[0m\u001b[1;33m(\u001b[0m\u001b[1;34m'100'\u001b[0m\u001b[1;33m)\u001b[0m\u001b[1;33m\u001b[0m\u001b[0m\n\u001b[0m",
      "\u001b[1;31mKeyError\u001b[0m: '100'"
     ]
    }
   ],
   "source": [
    "# pop\n",
    "mydict = {'d': 4, 'c': 3, 'b': 2, 'a': 1}\n",
    "mydict.pop('d')\n",
    "print(mydict)\n",
    "res = mydict.pop('100', None)\n",
    "print(res)\n",
    "print(mydict)\n",
    "mydict.pop('100')"
   ]
  },
  {
   "cell_type": "code",
   "execution_count": 149,
   "metadata": {
    "collapsed": false,
    "deletable": true,
    "editable": true
   },
   "outputs": [
    {
     "name": "stdout",
     "output_type": "stream",
     "text": [
      "d 4\n",
      "c 3\n",
      "b 2\n",
      "a 1\n"
     ]
    }
   ],
   "source": [
    "# iteration\n",
    "for key, value in mydict.items():\n",
    "    print(key, value)"
   ]
  },
  {
   "cell_type": "code",
   "execution_count": 150,
   "metadata": {
    "collapsed": false,
    "deletable": true,
    "editable": true
   },
   "outputs": [
    {
     "data": {
      "text/plain": [
       "[('a', 1), ('b', 2), ('c', 3), ('d', 4)]"
      ]
     },
     "execution_count": 150,
     "metadata": {},
     "output_type": "execute_result"
    }
   ],
   "source": [
    "# sort\n",
    "sorted(mydict.items(), key=lambda x:x[1])"
   ]
  },
  {
   "cell_type": "code",
   "execution_count": 2,
   "metadata": {
    "collapsed": false,
    "deletable": true,
    "editable": true
   },
   "outputs": [
    {
     "data": {
      "text/plain": [
       "Counter({'hlist': 7,\n",
       "         'Sharp': 3,\n",
       "         'third': 4,\n",
       "         '1.0,': 2,\n",
       "         'you': 3,\n",
       "         'issues': 2,\n",
       "         'must': 4,\n",
       "         'Think': 1,\n",
       "         'External': 1,\n",
       "         'article.': 2,\n",
       "         'lang=\"no\"': 1,\n",
       "         'Also,': 1,\n",
       "         'be': 43,\n",
       "         'return': 1,\n",
       "         'Monty': 2,\n",
       "         'rigidly': 1,\n",
       "         'comes': 2,\n",
       "         'European': 1,\n",
       "         'mistaking': 1,\n",
       "         'lately:': 1,\n",
       "         'garbage': 1,\n",
       "         'party': 1,\n",
       "         'also': 24,\n",
       "         'for,': 1,\n",
       "         '20&#160;–': 1,\n",
       "         'methods,': 1,\n",
       "         'benefited': 1,\n",
       "         '(5': 5,\n",
       "         'was': 26,\n",
       "         'Chinese\"': 2,\n",
       "         '.pyw,': 1,\n",
       "         'how': 3,\n",
       "         'makes': 3,\n",
       "         'value,': 2,\n",
       "         'To': 1,\n",
       "         'via': 3,\n",
       "         'Force': 1,\n",
       "         '1,': 1,\n",
       "         'empirical': 2,\n",
       "         'date)': 1,\n",
       "         'calls': 1,\n",
       "         'bound.': 1,\n",
       "         'That’s': 1,\n",
       "         'taking': 1,\n",
       "         'Modern': 1,\n",
       "         'shift': 1,\n",
       "         'articles': 15,\n",
       "         'checker': 1,\n",
       "         '(2010).': 2,\n",
       "         'edited': 1,\n",
       "         '(The': 1,\n",
       "         'Escape': 1,\n",
       "         '(August': 1,\n",
       "         'solid': 3,\n",
       "         '(for': 5,\n",
       "         'session': 1,\n",
       "         '(since': 3,\n",
       "         'id=\"toc\"': 1,\n",
       "         'width=\"9\"': 1,\n",
       "         'lang=\"vi\"': 1,\n",
       "         'widget': 1,\n",
       "         'sunset': 1,\n",
       "         'package': 1,\n",
       "         'whenever': 1,\n",
       "         'IDEs,': 1,\n",
       "         'decided': 2,\n",
       "         'made': 2,\n",
       "         'back': 1,\n",
       "         'rather': 4,\n",
       "         '(زبان': 1,\n",
       "         'creating': 2,\n",
       "         '2011<span': 1,\n",
       "         '(at': 1,\n",
       "         'Guys,': 1,\n",
       "         'rules': 1,\n",
       "         'more': 11,\n",
       "         'site,': 1,\n",
       "         'Davis': 1,\n",
       "         'instance,': 1,\n",
       "         'p.': 1,\n",
       "         'Chinese': 1,\n",
       "         'encloses': 1,\n",
       "         'Galician\"': 1,\n",
       "         'type.': 1,\n",
       "         '(REPL),': 1,\n",
       "         '(3rd': 1,\n",
       "         '1': 14,\n",
       "         'kinds': 4,\n",
       "         'included': 1,\n",
       "         'until': 1,\n",
       "         'Desktop': 1,\n",
       "         'standard,': 1,\n",
       "         'Integers': 2,\n",
       "         '1900800': 1,\n",
       "         '(notation': 1,\n",
       "         'interpret': 1,\n",
       "         'import': 5,\n",
       "         '1.532': 1,\n",
       "         'products': 1,\n",
       "         '1989,': 1,\n",
       "         'instances': 2,\n",
       "         'C': 12,\n",
       "         'show': 2,\n",
       "         'text\"': 185,\n",
       "         'Free': 7,\n",
       "         'Developer': 3,\n",
       "         'possible;': 1,\n",
       "         'bring': 1,\n",
       "         'users': 1,\n",
       "         '2.7\"</a>.': 1,\n",
       "         'lang=\"ka\"': 1,\n",
       "         'best': 2,\n",
       "         'sparser,': 1,\n",
       "         'Purpose': 2,\n",
       "         'is,': 2,\n",
       "         'Other': 2,\n",
       "         'Inc.': 1,\n",
       "         'may': 8,\n",
       "         'evaluate': 1,\n",
       "         'JRuby': 1,\n",
       "         'closing': 1,\n",
       "         'Generator': 1,\n",
       "         'Raimo': 1,\n",
       "         'approach': 3,\n",
       "         'C\".<sup': 1,\n",
       "         '(itself': 2,\n",
       "         'mixture': 2,\n",
       "         '(1st': 1,\n",
       "         'Notebook': 1,\n",
       "         'knowing': 1,\n",
       "         'result': 3,\n",
       "         'true.': 1,\n",
       "         '(2):': 1,\n",
       "         'capable': 1,\n",
       "         'direct': 1,\n",
       "         '333<sup': 1,\n",
       "         '(16': 2,\n",
       "         'call': 1,\n",
       "         'Version': 1,\n",
       "         'coding': 1,\n",
       "         'called': 3,\n",
       "         'APIs': 1,\n",
       "         'lang=\"fi\"': 1,\n",
       "         'bugfix': 1,\n",
       "         'exists\"': 1,\n",
       "         'Just': 1,\n",
       "         'names.': 1,\n",
       "         'alt=\"\"': 9,\n",
       "         'A': 9,\n",
       "         'smaller': 1,\n",
       "         'Mike.': 1,\n",
       "         'easily': 2,\n",
       "         'C++,': 2,\n",
       "         'online': 1,\n",
       "         'be]': 1,\n",
       "         'behavior': 3,\n",
       "         'variables': 1,\n",
       "         'Latvian\"': 1,\n",
       "         'Chris': 4,\n",
       "         'because': 3,\n",
       "         'contrast,': 1,\n",
       "         \"3's\": 1,\n",
       "         \"object's\": 1,\n",
       "         'CPython.': 1,\n",
       "         'example)': 1,\n",
       "         'acquiring': 1,\n",
       "         'dir=\"ltr\"': 2,\n",
       "         'Each': 1,\n",
       "         'belonging': 2,\n",
       "         'context': 1,\n",
       "         'cost': 1,\n",
       "         'operator': 13,\n",
       "         'strive': 1,\n",
       "         'Institute': 1,\n",
       "         'web\">Eby,': 1,\n",
       "         'Calling': 1,\n",
       "         'data': 3,\n",
       "         'one—and': 1,\n",
       "         'भाषा)': 1,\n",
       "         'author,': 1,\n",
       "         'exact': 1,\n",
       "         'storage': 3,\n",
       "         'Korean\"': 1,\n",
       "         'Using': 1,\n",
       "         \"it's\": 1,\n",
       "         'Wikipedia': 4,\n",
       "         'term': 1,\n",
       "         \"project's\": 1,\n",
       "         'successor': 1,\n",
       "         '1.680': 1,\n",
       "         'week': 1,\n",
       "         'e.g.,': 3,\n",
       "         'Thing': 1,\n",
       "         'Cookbook,': 1,\n",
       "         '\"with': 1,\n",
       "         'usable': 1,\n",
       "         'book\"': 2,\n",
       "         'valid': 2,\n",
       "         'it\".<sup': 1,\n",
       "         'checked': 2,\n",
       "         'lt': 1,\n",
       "         'altering': 1,\n",
       "         'lang=\"sl\"': 1,\n",
       "         '2.74%': 2,\n",
       "         'beyond': 1,\n",
       "         '.pyc,': 1,\n",
       "         '2015,': 1,\n",
       "         'Go:': 1,\n",
       "         'Tools': 1,\n",
       "         'lang=\"ia\"': 1,\n",
       "         '(or': 2,\n",
       "         'b': 2,\n",
       "         'differs.': 1,\n",
       "         'Armenian\"': 1,\n",
       "         '(was': 1,\n",
       "         'fun': 1,\n",
       "         'replace': 1,\n",
       "         'Assamese\"': 1,\n",
       "         'lang=\"ca\"': 1,\n",
       "         'commented': 1,\n",
       "         'community': 4,\n",
       "         '.': 5,\n",
       "         '[q]\"': 1,\n",
       "         '(17': 4,\n",
       "         'width=\"1\"': 1,\n",
       "         'b)//b': 1,\n",
       "         'list': 7,\n",
       "         'entire': 1,\n",
       "         '(software': 3,\n",
       "         'भाषा': 1,\n",
       "         '(blog': 1,\n",
       "         'Runs': 1,\n",
       "         'available': 5,\n",
       "         '2D/3D': 1,\n",
       "         'Western': 1,\n",
       "         'end.': 1,\n",
       "         'Special': 1,\n",
       "         '−1.0.<sup': 1,\n",
       "         'string': 4,\n",
       "         'mentoring': 1,\n",
       "         'Wu': 1,\n",
       "         'Jewett,': 1,\n",
       "         'Google': 2,\n",
       "         'basic': 2,\n",
       "         'covers': 2,\n",
       "         'Albanian\"': 1,\n",
       "         '2.5),': 1,\n",
       "         'addition': 1,\n",
       "         'year,': 1,\n",
       "         'No': 1,\n",
       "         'systems': 1,\n",
       "         'lang=\"uz\"': 1,\n",
       "         'lang=\"lt\"': 1,\n",
       "         'select': 1,\n",
       "         'try': 1,\n",
       "         '2016<sup': 1,\n",
       "         'Thai\"': 1,\n",
       "         'nyelv)': 1,\n",
       "         'van': 15,\n",
       "         'ભાષા)': 1,\n",
       "         'office': 1,\n",
       "         'Java,': 2,\n",
       "         'improper': 1,\n",
       "         'classic': 2,\n",
       "         'lang=\"sq\"': 1,\n",
       "         'Andreas;': 1,\n",
       "         '8.14%': 2,\n",
       "         'IV': 1,\n",
       "         'Jeremy;': 1,\n",
       "         'x': 3,\n",
       "         'string)': 1,\n",
       "         'origin': 2,\n",
       "         'adds': 1,\n",
       "         'Max</a>,': 1,\n",
       "         \"You're\": 1,\n",
       "         'S60</a>,': 1,\n",
       "         'location': 1,\n",
       "         'period': 1,\n",
       "         'implicit': 1,\n",
       "         'Nan)\"': 1,\n",
       "         'it.<sup': 1,\n",
       "         'after': 6,\n",
       "         'beginning': 1,\n",
       "         'division.': 1,\n",
       "         '(Value': 1,\n",
       "         'web\">CCP': 1,\n",
       "         'most)': 1,\n",
       "         '(langage)': 1,\n",
       "         'lang=\"tl\"': 1,\n",
       "         'this': 38,\n",
       "         'lang=\"an\"': 1,\n",
       "         'Basque\"': 1,\n",
       "         'think': 1,\n",
       "         'Book:': 1,\n",
       "         'code,': 4,\n",
       "         'y</code>,': 2,\n",
       "         'allocated': 2,\n",
       "         'exuberant': 1,\n",
       "         'provided': 3,\n",
       "         'Facundo.': 1,\n",
       "         'field,': 1,\n",
       "         '64': 1,\n",
       "         'new-style': 1,\n",
       "         'Central': 1,\n",
       "         'embedded': 2,\n",
       "         'Your': 2,\n",
       "         'course': 1,\n",
       "         '4.0': 1,\n",
       "         'Sugar': 1,\n",
       "         'Linux': 1,\n",
       "         'Cultural': 2,\n",
       "         'Rapid': 1,\n",
       "         '2009).': 4,\n",
       "         '(2nd': 1,\n",
       "         'creator,': 1,\n",
       "         'class,': 1,\n",
       "         'syntactic': 2,\n",
       "         '0px': 2,\n",
       "         'strings': 2,\n",
       "         'specific': 2,\n",
       "         'For': 11,\n",
       "         'bytecode': 1,\n",
       "         'revision': 2,\n",
       "         'Python:': 6,\n",
       "         'returns': 2,\n",
       "         'they': 3,\n",
       "         'the': 262,\n",
       "         'Typing': 1,\n",
       "         'semantics': 1,\n",
       "         'compiled': 1,\n",
       "         'Jason': 1,\n",
       "         'languages': 17,\n",
       "         'before': 3,\n",
       "         'project': 6,\n",
       "         'Qt</i>.': 1,\n",
       "         'Skip;': 1,\n",
       "         'CERN': 1,\n",
       "         'favor': 2,\n",
       "         'analogous': 1,\n",
       "         'took': 1,\n",
       "         'operators': 4,\n",
       "         'Dynamic': 1,\n",
       "         'Marathi\"': 1,\n",
       "         '27': 1,\n",
       "         'revisions': 1,\n",
       "         'probably': 1,\n",
       "         '7': 1,\n",
       "         'former': 1,\n",
       "         'float': 1,\n",
       "         'dynamic': 3,\n",
       "         'raised': 1,\n",
       "         'GUI': 1,\n",
       "         'Functions': 2,\n",
       "         '#aaa': 1,\n",
       "         '0327': 1,\n",
       "         '(but': 1,\n",
       "         'lang=\"ne\"': 1,\n",
       "         'lang=\"tg\"': 1,\n",
       "         'slice': 2,\n",
       "         '2020': 1,\n",
       "         '959.864': 2,\n",
       "         'those': 2,\n",
       "         'Cache': 1,\n",
       "         'releasing': 1,\n",
       "         '[...]': 1,\n",
       "         'capturing': 1,\n",
       "         'for': 102,\n",
       "         '[u]\"': 1,\n",
       "         'width:': 9,\n",
       "         'fifth': 1,\n",
       "         '2011,': 1,\n",
       "         '10': 4,\n",
       "         'styles.': 1,\n",
       "         'Cebuano\"': 1,\n",
       "         'science': 4,\n",
       "         'very': 2,\n",
       "         'Rails': 2,\n",
       "         'say,': 1,\n",
       "         'protocols': 1,\n",
       "         'never': 1,\n",
       "         'implement': 3,\n",
       "         'feedback': 1,\n",
       "         'holder': 1,\n",
       "         'language,': 3,\n",
       "         'jazyk)': 1,\n",
       "         'six': 1,\n",
       "         'multiply': 1,\n",
       "         'suite': 1,\n",
       "         '(Min': 1,\n",
       "         '(linguage': 1,\n",
       "         'tright\"': 1,\n",
       "         'graphics': 1,\n",
       "         'link': 1,\n",
       "         'log': 2,\n",
       "         'market': 1,\n",
       "         'its': 18,\n",
       "         'letting': 1,\n",
       "         '(was:': 1,\n",
       "         '3:': 2,\n",
       "         'ten': 1,\n",
       "         'largely': 2,\n",
       "         'Gujarati\"': 1,\n",
       "         '(keys': 1,\n",
       "         'fan': 1,\n",
       "         'hashable': 1,\n",
       "         'releases.': 1,\n",
       "         'attaches': 1,\n",
       "         'Inc.</a>,': 1,\n",
       "         '600.177': 2,\n",
       "         \"'Times\": 2,\n",
       "         'then': 4,\n",
       "         'including': 9,\n",
       "         'In': 7,\n",
       "         'hinting': 1,\n",
       "         'keys': 4,\n",
       "         'relations': 1,\n",
       "         'material': 1,\n",
       "         'Moshe': 1,\n",
       "         'بولی)': 1,\n",
       "         'copied': 1,\n",
       "         'Labs</a>,': 1,\n",
       "         'effort': 1,\n",
       "         'function,': 1,\n",
       "         'wiki': 1,\n",
       "         'releases': 5,\n",
       "         'workload': 1,\n",
       "         'days': 1,\n",
       "         'C-derived': 1,\n",
       "         'fewer': 3,\n",
       "         'managed': 1,\n",
       "         'round': 1,\n",
       "         'files': 1,\n",
       "         'bitwise': 1,\n",
       "         'vs.': 3,\n",
       "         '[t]\"': 1,\n",
       "         'bound': 1,\n",
       "         'As': 3,\n",
       "         'who': 1,\n",
       "         '\"hobby\"': 1,\n",
       "         '(CWI)': 1,\n",
       "         'compared': 1,\n",
       "         'function.': 1,\n",
       "         'had': 4,\n",
       "         'random': 1,\n",
       "         'create': 3,\n",
       "         'clauses;': 1,\n",
       "         'Italian\"': 1,\n",
       "         '#3:': 1,\n",
       "         '2.4)': 1,\n",
       "         'update\"': 3,\n",
       "         'enters': 1,\n",
       "         'simple': 1,\n",
       "         'Computer': 2,\n",
       "         'whose': 2,\n",
       "         'process': 2,\n",
       "         'Raymond': 2,\n",
       "         'MB': 1,\n",
       "         '19': 3,\n",
       "         'deciding': 1,\n",
       "         'specified': 1,\n",
       "         'positive': 2,\n",
       "         'Web': 3,\n",
       "         'python': 2,\n",
       "         'It': 11,\n",
       "         'Rossum': 4,\n",
       "         'tools,': 2,\n",
       "         'growth': 1,\n",
       "         'values),': 1,\n",
       "         'Improving': 1,\n",
       "         'style': 1,\n",
       "         'wireless': 1,\n",
       "         'focus': 1,\n",
       "         'schedule': 1,\n",
       "         'NLUUG': 1,\n",
       "         'Built-in': 2,\n",
       "         'v2.7.3': 1,\n",
       "         'pairs;': 1,\n",
       "         '7/500': 1,\n",
       "         'Control': 2,\n",
       "         'Slices': 1,\n",
       "         \"Roman',\": 2,\n",
       "         'handling': 1,\n",
       "         'bringing': 1,\n",
       "         'Some': 1,\n",
       "         'ഭാഷ)': 1,\n",
       "         'avoiding': 1,\n",
       "         'FAQ</i>.': 3,\n",
       "         'Riccardo': 1,\n",
       "         'When': 1,\n",
       "         'formats': 1,\n",
       "         'Japanese\"': 1,\n",
       "         '117.465': 2,\n",
       "         'rationale': 1,\n",
       "         '[p]\"': 1,\n",
       "         'playful': 1,\n",
       "         'web\">van': 8,\n",
       "         'lang=\"az\"': 1,\n",
       "         '(2011).': 1,\n",
       "         'option': 1,\n",
       "         '(22': 2,\n",
       "         'Brief': 2,\n",
       "         'Bill': 1,\n",
       "         'name&gt;': 1,\n",
       "         'Jarrod;': 1,\n",
       "         'ninjas,': 1,\n",
       "         'versions': 3,\n",
       "         'Polish\"': 1,\n",
       "         'Rossum,': 14,\n",
       "         '=': 11,\n",
       "         'nationale': 1,\n",
       "         'stack,': 1,\n",
       "         '(EOL,': 1,\n",
       "         'support,': 1,\n",
       "         'it</a>\"': 1,\n",
       "         'support': 9,\n",
       "         'among': 1,\n",
       "         'brief': 1,\n",
       "         '2,': 4,\n",
       "         'limited': 1,\n",
       "         'became': 3,\n",
       "         'IV\"</a>.': 1,\n",
       "         'lang=\"pl\"': 1,\n",
       "         'index': 2,\n",
       "         'links\"': 1,\n",
       "         '16': 1,\n",
       "         '2010.<sup': 1,\n",
       "         'often': 8,\n",
       "         'Public': 5,\n",
       "         'versus': 3,\n",
       "         '#eee;\"><a': 1,\n",
       "         'fix': 1,\n",
       "         'Games': 1,\n",
       "         'official': 3,\n",
       "         'gurus,': 1,\n",
       "         'bugs': 1,\n",
       "         'lang=\"hr\"': 1,\n",
       "         'collapse;': 1,\n",
       "         'condition': 1,\n",
       "         'mix': 1,\n",
       "         'reference': 4,\n",
       "         'Retrieved': 117,\n",
       "         'monitors': 1,\n",
       "         '3.5.<sup': 1,\n",
       "         'Parsed': 1,\n",
       "         'cache': 1,\n",
       "         '2014<span': 1,\n",
       "         'closely': 1,\n",
       "         '2016).': 1,\n",
       "         'syntax': 10,\n",
       "         'article\"': 2,\n",
       "         'his': 2,\n",
       "         'award': 1,\n",
       "         'but': 11,\n",
       "         'elements': 4,\n",
       "         'imaginary': 1,\n",
       "         'Jython': 1,\n",
       "         'lang=\"bs\"': 1,\n",
       "         'German\"': 2,\n",
       "         'Canopy': 1,\n",
       "         '39.536': 2,\n",
       "         'releases,': 2,\n",
       "         '2D': 1,\n",
       "         'choice': 2,\n",
       "         'web\"><a': 79,\n",
       "         'pass': 1,\n",
       "         'well,': 1,\n",
       "         'modeler': 1,\n",
       "         '[f]\"': 1,\n",
       "         'ed.': 1,\n",
       "         '498': 1,\n",
       "         '107,': 2,\n",
       "         'Transfer': 1,\n",
       "         '3.5.1': 1,\n",
       "         '6&#160;–': 1,\n",
       "         'in,': 1,\n",
       "         '3.5),<sup': 1,\n",
       "         'over': 6,\n",
       "         'since': 3,\n",
       "         '(April': 1,\n",
       "         'issue,': 1,\n",
       "         'ships': 1,\n",
       "         'Swedish\"': 1,\n",
       "         'obscure': 1,\n",
       "         'Expensive': 1,\n",
       "         'designed': 3,\n",
       "         'means': 5,\n",
       "         'Android': 1,\n",
       "         'less': 2,\n",
       "         'put': 1,\n",
       "         'Book': 14,\n",
       "         '(2013).': 2,\n",
       "         'Method': 1,\n",
       "         'mutable,': 1,\n",
       "         '2.6': 1,\n",
       "         'Static': 1,\n",
       "         '(commonly': 1,\n",
       "         '3000': 1,\n",
       "         'However': 1,\n",
       "         'M.': 4,\n",
       "         'line': 2,\n",
       "         \"doesn't\": 1,\n",
       "         '0441': 1,\n",
       "         'invented': 2,\n",
       "         'raw': 1,\n",
       "         'added': 2,\n",
       "         'cart': 1,\n",
       "         'why': 1,\n",
       "         'so': 1,\n",
       "         'search': 1,\n",
       "         '31': 1,\n",
       "         'iOS': 1,\n",
       "         'lang=\"ro\"': 1,\n",
       "         'shopping': 1,\n",
       "         'dtstart': 3,\n",
       "         'FAQ': 1,\n",
       "         '2008<sup': 1,\n",
       "         'linked': 1,\n",
       "         '.NET': 1,\n",
       "         'infix': 2,\n",
       "         'earnest': 1,\n",
       "         '(19': 1,\n",
       "         'Fix': 1,\n",
       "         'Python\"': 1,\n",
       "         'fivefold': 1,\n",
       "         'lang=\"it\"': 1,\n",
       "         '\"All': 1,\n",
       "         'develop': 1,\n",
       "         'latter': 2,\n",
       "         'Oracle': 1,\n",
       "         '(as': 1,\n",
       "         'contains': 3,\n",
       "         'are': 56,\n",
       "         'along': 2,\n",
       "         '[..': 1,\n",
       "         'Lombard\"': 1,\n",
       "         'rounding': 1,\n",
       "         '1.5x,': 20,\n",
       "         'bugfixes': 1,\n",
       "         '(1996).': 1,\n",
       "         'empty': 1,\n",
       "         'lập': 1,\n",
       "         'both': 6,\n",
       "         'natural': 1,\n",
       "         'argument.': 1,\n",
       "         'Python)': 1,\n",
       "         '[n]\"': 1,\n",
       "         '2012<span': 5,\n",
       "         'almost': 1,\n",
       "         '...': 3,\n",
       "         'Shop': 2,\n",
       "         'b</code>,': 1,\n",
       "         'EVE': 1,\n",
       "         'lang=\"hi\"': 1,\n",
       "         'negative': 4,\n",
       "         'Knowing': 1,\n",
       "         '[z]\"': 1,\n",
       "         'However,': 5,\n",
       "         '0465': 1,\n",
       "         'expected': 1,\n",
       "         'seen': 1,\n",
       "         'now': 4,\n",
       "         'Anthony': 2,\n",
       "         \"Lattner's\": 2,\n",
       "         'being': 6,\n",
       "         'drawing': 2,\n",
       "         'June': 6,\n",
       "         'String': 1,\n",
       "         'readable': 1,\n",
       "         '2009<span': 4,\n",
       "         '(all': 1,\n",
       "         'Quality': 1,\n",
       "         'bits),': 1,\n",
       "         '(see': 1,\n",
       "         'define': 1,\n",
       "         'Apple;': 1,\n",
       "         '3,': 1,\n",
       "         'MB/50': 1,\n",
       "         'to:': 1,\n",
       "         'lang=\"si\"': 1,\n",
       "         'target': 1,\n",
       "         'Integer': 2,\n",
       "         'UNIX': 1,\n",
       "         '2.6+,': 1,\n",
       "         'nature': 1,\n",
       "         'Apple': 1,\n",
       "         'English': 2,\n",
       "         '3.0,': 1,\n",
       "         'value': 6,\n",
       "         'suites': 1,\n",
       "         'popular': 3,\n",
       "         'number': 10,\n",
       "         '-total\",\"': 1,\n",
       "         'moreover,': 1,\n",
       "         'contained': 1,\n",
       "         'Optional': 1,\n",
       "         'onwards,': 1,\n",
       "         'lock': 1,\n",
       "         'standard': 14,\n",
       "         'needed': 1,\n",
       "         'With': 2,\n",
       "         'changes': 4,\n",
       "         '2017<sup': 2,\n",
       "         'async=\"\"': 1,\n",
       "         'used': 28,\n",
       "         'every': 3,\n",
       "         'C-level': 1,\n",
       "         'news': 1,\n",
       "         'Tamil\"': 1,\n",
       "         'Axel.': 1,\n",
       "         'gives': 1,\n",
       "         'modules': 9,\n",
       "         '.6em;': 2,\n",
       "         'adding': 1,\n",
       "         'enable': 1,\n",
       "         'v2.6.9': 1,\n",
       "         'delimited': 1,\n",
       "         'lines': 3,\n",
       "         'Cain': 1,\n",
       "         'not.': 1,\n",
       "         'into': 11,\n",
       "         'reads': 1,\n",
       "         'example': 3,\n",
       "         '3': 9,\n",
       "         'immutable': 1,\n",
       "         '0.5em': 1,\n",
       "         'terms,': 1,\n",
       "         'video': 2,\n",
       "         '2.6)': 1,\n",
       "         'clean-up': 1,\n",
       "         'PEP': 3,\n",
       "         'date': 2,\n",
       "         'Urdu\"': 1,\n",
       "         'Neil;': 1,\n",
       "         'enables': 2,\n",
       "         'argument': 1,\n",
       "         '?': 1,\n",
       "         'lang=\"pt\"': 1,\n",
       "         'syntax,': 3,\n",
       "         'retrieved': 2,\n",
       "         'key': 2,\n",
       "         'faster': 1,\n",
       "         'by': 52,\n",
       "         'Allen': 1,\n",
       "         'to,': 1,\n",
       "         'mood': 1,\n",
       "         'possible': 1,\n",
       "         'Slice': 1,\n",
       "         'derived': 1,\n",
       "         'offering': 2,\n",
       "         'M.;': 1,\n",
       "         'towards': 3,\n",
       "         'decrease': 1,\n",
       "         'phrase': 1,\n",
       "         ':': 1,\n",
       "         'License': 2,\n",
       "         'massively': 1,\n",
       "         'IDE': 2,\n",
       "         'Erik.': 2,\n",
       "         'than': 24,\n",
       "         'results': 1,\n",
       "         'input': 1,\n",
       "         '2000': 1,\n",
       "         'Upper': 1,\n",
       "         'contexts.': 1,\n",
       "         'Jump': 1,\n",
       "         'List:': 1,\n",
       "         'Naomi': 1,\n",
       "         'separate,': 1,\n",
       "         'Light': 2,\n",
       "         'postponed': 1,\n",
       "         'brings': 1,\n",
       "         'Security': 2,\n",
       "         'marks': 2,\n",
       "         'source': 4,\n",
       "         'Server': 7,\n",
       "         'compare': 1,\n",
       "         'referred': 2,\n",
       "         'any': 1,\n",
       "         'lang=\"is\"': 1,\n",
       "         'on': 44,\n",
       "         'receives': 3,\n",
       "         'requiring': 2,\n",
       "         'need': 2,\n",
       "         '2003).': 7,\n",
       "         'variants': 1,\n",
       "         'it),': 1,\n",
       "         'apply.': 1,\n",
       "         'programs.': 1,\n",
       "         'a%b': 1,\n",
       "         'Authority': 1,\n",
       "         'state': 2,\n",
       "         '3D': 2,\n",
       "         'Moshe;': 2,\n",
       "         '2.3': 1,\n",
       "         'intends': 1,\n",
       "         'Jocelyn,': 1,\n",
       "         'small': 2,\n",
       "         'Data': 6,\n",
       "         '(': 1,\n",
       "         'They': 2,\n",
       "         'desktop': 1,\n",
       "         'General': 2,\n",
       "         'places,': 2,\n",
       "         'ranked': 2,\n",
       "         'simplest': 1,\n",
       "         'equation': 3,\n",
       "         'parts': 2,\n",
       "         'my': 2,\n",
       "         'a': 168,\n",
       "         'it.': 1,\n",
       "         'leid)': 1,\n",
       "         'further': 1,\n",
       "         'Pages': 1,\n",
       "         'v1.0</i>.': 1,\n",
       "         'arbitrary': 4,\n",
       "         'London:': 2,\n",
       "         'Codehaus': 1,\n",
       "         'Evan.': 1,\n",
       "         'hands.': 1,\n",
       "         'twice': 1,\n",
       "         'content:': 1,\n",
       "         'Spanish\"': 1,\n",
       "         '&lt;&lt;': 1,\n",
       "         'lang=\"et\"': 1,\n",
       "         'only': 6,\n",
       "         'however,': 3,\n",
       "         'can': 30,\n",
       "         'Sid': 1,\n",
       "         'will': 2,\n",
       "         'Nature': 1,\n",
       "         'efficient': 1,\n",
       "         'Style': 1,\n",
       "         'given': 4,\n",
       "         'study': 1,\n",
       "         '2.0.2': 1,\n",
       "         'de': 3,\n",
       "         'Flow': 1,\n",
       "         'attached': 3,\n",
       "         'ZIP': 1,\n",
       "         'ltr': 1,\n",
       "         'generated': 1,\n",
       "         'lists,': 1,\n",
       "         'type;': 1,\n",
       "         '§2:': 2,\n",
       "         'lang=\"gl\"': 1,\n",
       "         'language': 34,\n",
       "         'Recursion': 1,\n",
       "         'Python,': 16,\n",
       "         'influence': 1,\n",
       "         'Springer.': 2,\n",
       "         'explicit': 1,\n",
       "         'include': 7,\n",
       "         'numerics': 1,\n",
       "         'change': 1,\n",
       "         'Perl': 2,\n",
       "         'resulting': 1,\n",
       "         'like': 12,\n",
       "         'lang=\"he\"': 1,\n",
       "         'ideal,': 1,\n",
       "         'double': 3,\n",
       "         'a//b': 1,\n",
       "         'make': 2,\n",
       "         'Stack': 1,\n",
       "         'Blog</i>.': 1,\n",
       "         '4D</a>,': 1,\n",
       "         'Network': 1,\n",
       "         'spam': 1,\n",
       "         'system': 3,\n",
       "         'lang=\"as\"': 1,\n",
       "         'October': 3,\n",
       "         'happen': 1,\n",
       "         '3.6.2': 1,\n",
       "         'backslash': 1,\n",
       "         'modern': 1,\n",
       "         'Mission': 1,\n",
       "         'and,': 1,\n",
       "         'inverts': 1,\n",
       "         'reversed.': 1,\n",
       "         'web\">The': 1,\n",
       "         '2014).': 3,\n",
       "         'jezik)': 3,\n",
       "         '(note,': 1,\n",
       "         'recent': 1,\n",
       "         'Per;': 1,\n",
       "         '2015\">Use': 1,\n",
       "         'Kazakh\"': 1,\n",
       "         'created': 6,\n",
       "         'report': 2,\n",
       "         'join': 1,\n",
       "         '124.795': 2,\n",
       "         'compiler': 2,\n",
       "         'lang=\"mr\"': 1,\n",
       "         'Scots\"': 1,\n",
       "         'division': 9,\n",
       "         '$,': 1,\n",
       "         'columns': 1,\n",
       "         'plan': 1,\n",
       "         'where': 6,\n",
       "         'bracket': 1,\n",
       "         '2013': 1,\n",
       "         '3.04%': 2,\n",
       "         'name': 7,\n",
       "         'system;': 1,\n",
       "         '==': 14,\n",
       "         'lang=\"be\"': 1,\n",
       "         '2013)': 1,\n",
       "         'stackless': 1,\n",
       "         'said:': 1,\n",
       "         'Shuttle': 1,\n",
       "         '2010.': 2,\n",
       "         'position:': 1,\n",
       "         'Package': 5,\n",
       "         'Operators': 2,\n",
       "         'needing': 3,\n",
       "         'Speaking': 1,\n",
       "         'Java)': 1,\n",
       "         'Index': 3,\n",
       "         'C3': 1,\n",
       "         'Go': 1,\n",
       "         '(Mailing': 1,\n",
       "         'Jim': 1,\n",
       "         'Own': 1,\n",
       "         'new': 7,\n",
       "         'common': 4,\n",
       "         'lang=\"th\"': 1,\n",
       "         'Nepali\"': 1,\n",
       "         'aid': 1,\n",
       "         'rough': 2,\n",
       "         'plainlist': 2,\n",
       "         'includes': 3,\n",
       "         'caught': 1,\n",
       "         'Turkish\"': 1,\n",
       "         'closed,': 1,\n",
       "         '(web': 13,\n",
       "         '36.788': 2,\n",
       "         'Hat': 2,\n",
       "         'XO,': 1,\n",
       "         'Moore': 1,\n",
       "         '(from': 1,\n",
       "         'have': 12,\n",
       "         'Created': 1,\n",
       "         '–': 90,\n",
       "         '2.7,': 1,\n",
       "         'Uzbek\"': 1,\n",
       "         'aim': 1,\n",
       "         'each': 4,\n",
       "         'same': 3,\n",
       "         '2010)': 1,\n",
       "         'shells,': 1,\n",
       "         '(2015).': 1,\n",
       "         'exploit': 1,\n",
       "         'upon': 1,\n",
       "         'classes:': 1,\n",
       "         'Estonian\"': 1,\n",
       "         '3.5,': 2,\n",
       "         'native': 1,\n",
       "         'come': 1,\n",
       "         'Both': 1,\n",
       "         '2005).': 3,\n",
       "         'format': 1,\n",
       "         'runtime.': 1,\n",
       "         'model,': 1,\n",
       "         'such': 16,\n",
       "         '(1993).': 1,\n",
       "         'block': 8,\n",
       "         'would': 7,\n",
       "         'manager': 1,\n",
       "         'Analysis': 2,\n",
       "         'far': 4,\n",
       "         'Project': 1,\n",
       "         '[x]\"': 1,\n",
       "         'K.': 3,\n",
       "         'around': 2,\n",
       "         'creator': 1,\n",
       "         'seconds': 3,\n",
       "         'numeric': 4,\n",
       "         'an': 28,\n",
       "         'Laptop': 2,\n",
       "         'lang=\"de\"': 1,\n",
       "         'lang=\"cs\"': 1,\n",
       "         '4em\"><a': 4,\n",
       "         'desired': 1,\n",
       "         'executes': 3,\n",
       "         'So': 1,\n",
       "         'fast': 1,\n",
       "         'paradigms': 1,\n",
       "         'conceived': 1,\n",
       "         '2006<span': 2,\n",
       "         'database.': 1,\n",
       "         'mechanism': 2,\n",
       "         'Cached': 1,\n",
       "         'avoid': 1,\n",
       "         'objects': 6,\n",
       "         'important': 3,\n",
       "         '2.0': 2,\n",
       "         'features.': 1,\n",
       "         'lang=\"fr\"': 1,\n",
       "         'limit': 1,\n",
       "         'lang=\"id\"': 1,\n",
       "         \"'string'\": 1,\n",
       "         ...})"
      ]
     },
     "execution_count": 2,
     "metadata": {},
     "output_type": "execute_result"
    }
   ],
   "source": [
    "from collections import Counter\n",
    "import requests\n",
    "import re\n",
    "def getAlltermsFromUrl(url):\n",
    "    res = requests.get(url)\n",
    "    html = res.text\n",
    "    terms = [term for term in html.split() if not re.findall(r'^\\<', term) and not re.findall(r'\\>$', term) and len(term) < 10]\n",
    "    return terms\n",
    "\n",
    "url = \"https://en.wikipedia.org/wiki/Python_(programming_language)\"\n",
    "Counter(getAlltermsFromUrl(url))"
   ]
  },
  {
   "cell_type": "code",
   "execution_count": 144,
   "metadata": {
    "collapsed": false,
    "deletable": true,
    "editable": true
   },
   "outputs": [
    {
     "data": {
      "text/plain": [
       "[('the', 262),\n",
       " ('and', 250),\n",
       " ('of', 244),\n",
       " ('Python', 198),\n",
       " ('text\"', 185),\n",
       " ('to', 170),\n",
       " ('a', 168),\n",
       " ('in', 146),\n",
       " ('is', 142),\n",
       " ('Retrieved', 117),\n",
       " ('for', 102),\n",
       " ('–', 90),\n",
       " ('web\"><a', 79),\n",
       " ('as', 64),\n",
       " ('from', 59),\n",
       " ('with', 59),\n",
       " ('are', 56),\n",
       " ('by', 52),\n",
       " ('Software', 49),\n",
       " ('on', 44)]"
      ]
     },
     "execution_count": 144,
     "metadata": {},
     "output_type": "execute_result"
    }
   ],
   "source": [
    "sorted(dict(Counter(terms)).items(), key=lambda x:x[1], reverse=True)[:20] \n",
    "##dict have no order, so if tou want to order them, you have to transfer them into tuple list"
   ]
  },
  {
   "cell_type": "markdown",
   "metadata": {
    "collapsed": false,
    "deletable": true,
    "editable": true
   },
   "source": [
    "# str"
   ]
  },
  {
   "cell_type": "code",
   "execution_count": 56,
   "metadata": {
    "collapsed": false
   },
   "outputs": [
    {
     "name": "stdout",
     "output_type": "stream",
     "text": [
      "True\n",
      "True\n"
     ]
    }
   ],
   "source": [
    "# startswith, endswith\n",
    "a = \"aaaab\"\n",
    "print(a.startswith('a'))\n",
    "print(a.endswith('b'))"
   ]
  },
  {
   "cell_type": "code",
   "execution_count": 61,
   "metadata": {
    "collapsed": false
   },
   "outputs": [
    {
     "name": "stdout",
     "output_type": "stream",
     "text": [
      "aaaa\n",
      "AAAA\n",
      "False\n",
      "True\n"
     ]
    }
   ],
   "source": [
    "# lower, upper, \n",
    "print(\"AAaa\".lower())\n",
    "print(\"AAaa\".upper())\n",
    "\n",
    "# isapha\n",
    "print('11aa'.isalpha())\n",
    "print('aa'.isalpha())"
   ]
  },
  {
   "cell_type": "code",
   "execution_count": 66,
   "metadata": {
    "collapsed": false
   },
   "outputs": [
    {
     "name": "stdout",
     "output_type": "stream",
     "text": [
      "['aaa', 'aaa']\n",
      "aaa aaa\n",
      "['aaa/aaa']\n"
     ]
    }
   ],
   "source": [
    "# split\n",
    "print(\"aaa aaa\".split())\n",
    "print(\" \".join(\"aaa aaa\".split()))\n",
    "print(\"aaa/aaa\".split())"
   ]
  },
  {
   "cell_type": "code",
   "execution_count": 74,
   "metadata": {
    "collapsed": false
   },
   "outputs": [
    {
     "name": "stdout",
     "output_type": "stream",
     "text": [
      "Matches any character which is not a Unicode decimal digit. This is the opposite of \\d. If the ASCII flag is used this becomes the equivalent of [^0-9] (but the flag affects the entire regular expression, so in such cases using an explicit [^0-9] may be a better choice).\n",
      "Matches any character which is not a Unicode decimal digit. This is the opposite of \\d. If the ASCII flag is used this becomes the equivalent of {^0-9} (but the flag affects the entire regular expression, so in such cases using an explicit {^0-9} may be a better choice).\n"
     ]
    }
   ],
   "source": [
    "# replace\n",
    "testStr = \"Matches any character which is not a Unicode decimal digit. This is the opposite of \\d. If the ASCII flag is used this becomes the equivalent of [^0-9] (but the flag affects the entire regular expression, so in such cases using an explicit [^0-9] may be a better choice).\"\n",
    "print(testStr)\n",
    "print(testStr.replace('[', \"{\").replace(']', \"}\"))"
   ]
  },
  {
   "cell_type": "code",
   "execution_count": 72,
   "metadata": {
    "collapsed": false
   },
   "outputs": [
    {
     "name": "stdout",
     "output_type": "stream",
     "text": [
      "b'\\xe5\\x96\\x86'\n",
      "喆\n",
      "喆\n"
     ]
    },
    {
     "ename": "UnicodeEncodeError",
     "evalue": "'big5' codec can't encode character '\\u5586' in position 0: illegal multibyte sequence",
     "output_type": "error",
     "traceback": [
      "\u001b[1;31m---------------------------------------------------------------------------\u001b[0m",
      "\u001b[1;31mUnicodeEncodeError\u001b[0m                        Traceback (most recent call last)",
      "\u001b[1;32m<ipython-input-72-cd3703fc473c>\u001b[0m in \u001b[0;36m<module>\u001b[1;34m()\u001b[0m\n\u001b[0;32m      4\u001b[0m \u001b[0mprint\u001b[0m\u001b[1;33m(\u001b[0m\u001b[1;34mb'\\xe5\\x96\\x86'\u001b[0m\u001b[1;33m.\u001b[0m\u001b[0mdecode\u001b[0m\u001b[1;33m(\u001b[0m\u001b[1;34m'utf8'\u001b[0m\u001b[1;33m)\u001b[0m\u001b[1;33m)\u001b[0m\u001b[1;33m\u001b[0m\u001b[0m\n\u001b[0;32m      5\u001b[0m \u001b[1;33m\u001b[0m\u001b[0m\n\u001b[1;32m----> 6\u001b[1;33m \u001b[0mprint\u001b[0m\u001b[1;33m(\u001b[0m\u001b[1;34m\"喆\"\u001b[0m\u001b[1;33m.\u001b[0m\u001b[0mencode\u001b[0m\u001b[1;33m(\u001b[0m\u001b[1;34m\"big5\"\u001b[0m\u001b[1;33m)\u001b[0m\u001b[1;33m)\u001b[0m\u001b[1;33m\u001b[0m\u001b[0m\n\u001b[0m\u001b[0;32m      7\u001b[0m \u001b[0mprint\u001b[0m\u001b[1;33m(\u001b[0m\u001b[1;34m\"喆\"\u001b[0m\u001b[1;33m.\u001b[0m\u001b[0mencode\u001b[0m\u001b[1;33m(\u001b[0m\u001b[1;34m\"cp950\"\u001b[0m\u001b[1;33m)\u001b[0m\u001b[1;33m)\u001b[0m\u001b[1;33m\u001b[0m\u001b[0m\n\u001b[0;32m      8\u001b[0m \u001b[1;33m\u001b[0m\u001b[0m\n",
      "\u001b[1;31mUnicodeEncodeError\u001b[0m: 'big5' codec can't encode character '\\u5586' in position 0: illegal multibyte sequence"
     ]
    }
   ],
   "source": [
    "# encode, decode: cp950, utf8, big5\n",
    "print(\"喆\".encode(\"utf8\"))\n",
    "print(\"喆\".encode(\"utf8\").decode('utf8'))\n",
    "print(b'\\xe5\\x96\\x86'.decode('utf8')) #notice b in front of the string\n",
    "\n",
    "print(\"喆\".encode(\"big5\"))\n",
    "print(\"喆\".encode(\"cp950\"))"
   ]
  },
  {
   "cell_type": "code",
   "execution_count": 81,
   "metadata": {
    "collapsed": false
   },
   "outputs": [
    {
     "name": "stdout",
     "output_type": "stream",
     "text": [
      "I am jeremy\n",
      "the score is 3.14\n"
     ]
    }
   ],
   "source": [
    "# format\n",
    "print(\"I am {}\".format('jeremy'))\n",
    "print(\"the score is {:.2f}\".format(3.1415926))\n",
    "\n",
    "\n",
    "# if your version == 3.6, you can direct use {var} to format\n",
    "name = \"jeremy\"\n",
    "# print(f\"I am {name}\")\n"
   ]
  },
  {
   "cell_type": "code",
   "execution_count": 38,
   "metadata": {
    "collapsed": false,
    "deletable": true,
    "editable": true
   },
   "outputs": [
    {
     "name": "stdout",
     "output_type": "stream",
     "text": [
      "True\n",
      "True\n",
      "True\n",
      "True\n",
      "False\n",
      "------------------------\n"
     ]
    }
   ],
   "source": [
    "# re\n",
    "import re\n",
    "\n",
    "## match char\n",
    "# \".\" => any char\n",
    "# \"\\\\\"=> \"\\\"\n",
    "# \"\\t\" => tab click\n",
    "# \"\\n\" => change line\n",
    "# \"\\d\" => number\n",
    "print(bool(re.match(r'.',\"123\")))\n",
    "print(bool(re.match(r'.',\"abcd\")))\n",
    "print(bool(re.match(r'.',\"甲乙丙\")))\n",
    "\n",
    "print(bool(re.match(r'\\d',\"1\")))\n",
    "print(bool(re.match(r'\\d',\"abcd\")))\n",
    "print(\"------------------------\")\n"
   ]
  },
  {
   "cell_type": "code",
   "execution_count": 53,
   "metadata": {
    "collapsed": false,
    "deletable": true,
    "editable": true
   },
   "outputs": [
    {
     "name": "stdout",
     "output_type": "stream",
     "text": [
      "True\n",
      "False\n",
      "------------------------\n",
      "False\n",
      "True\n",
      "------------------------\n",
      "False\n",
      "True\n",
      "True\n"
     ]
    }
   ],
   "source": [
    "# start, end\n",
    "# start from a\n",
    "print(bool(re.match(r'^a',\"aaa\")))\n",
    "print(bool(re.match(r'^a',\"baa\")))\n",
    "print(\"------------------------\")\n",
    "# end with a\n",
    "print(bool(re.match(r'b$',\"aab\")))\n",
    "print(bool(re.findall(r'b$',\"aab\")))\n",
    "print(\"------------------------\")\n",
    "\n",
    "# char numbers: +, {m,n}\n",
    "print(bool(re.match(r'.b$',\"aab\")))\n",
    "print(bool(re.match(r'..b$',\"aab\")))\n",
    "print(bool(re.match(r'.+b$',\"aab\")))"
   ]
  },
  {
   "cell_type": "markdown",
   "metadata": {
    "collapsed": true,
    "deletable": true,
    "editable": true
   },
   "source": [
    "# File Reader(txt, csv, json)"
   ]
  },
  {
   "cell_type": "code",
   "execution_count": null,
   "metadata": {
    "collapsed": true,
    "deletable": true,
    "editable": true
   },
   "outputs": [],
   "source": [
    "file = open('test.txt', 'w', encoding='utf8')"
   ]
  },
  {
   "cell_type": "code",
   "execution_count": null,
   "metadata": {
    "collapsed": true,
    "deletable": true,
    "editable": true
   },
   "outputs": [],
   "source": []
  },
  {
   "cell_type": "code",
   "execution_count": null,
   "metadata": {
    "collapsed": true,
    "deletable": true,
    "editable": true
   },
   "outputs": [],
   "source": []
  },
  {
   "cell_type": "code",
   "execution_count": null,
   "metadata": {
    "collapsed": true,
    "deletable": true,
    "editable": true
   },
   "outputs": [],
   "source": []
  },
  {
   "cell_type": "code",
   "execution_count": null,
   "metadata": {
    "collapsed": true,
    "deletable": true,
    "editable": true
   },
   "outputs": [],
   "source": []
  },
  {
   "cell_type": "code",
   "execution_count": null,
   "metadata": {
    "collapsed": true,
    "deletable": true,
    "editable": true
   },
   "outputs": [],
   "source": []
  }
 ],
 "metadata": {
  "kernelspec": {
   "display_name": "Python 3",
   "language": "python",
   "name": "python3"
  },
  "language_info": {
   "codemirror_mode": {
    "name": "ipython",
    "version": 3
   },
   "file_extension": ".py",
   "mimetype": "text/x-python",
   "name": "python",
   "nbconvert_exporter": "python",
   "pygments_lexer": "ipython3",
   "version": "3.5.3"
  }
 },
 "nbformat": 4,
 "nbformat_minor": 2
}
