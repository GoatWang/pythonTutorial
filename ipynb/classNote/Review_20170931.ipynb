{
 "cells": [
  {
   "cell_type": "markdown",
   "metadata": {
    "deletable": true,
    "editable": true
   },
   "source": [
    "# Operator"
   ]
  },
  {
   "cell_type": "code",
   "execution_count": 4,
   "metadata": {
    "collapsed": false,
    "deletable": true,
    "editable": true
   },
   "outputs": [],
   "source": [
    "# explain all following arithmetic operator: //, %, **\n",
    "# how to make a list with 100 zeros\n",
    "print([0]*100)"
   ]
  },
  {
   "cell_type": "code",
   "execution_count": null,
   "metadata": {
    "collapsed": true,
    "deletable": true,
    "editable": true
   },
   "outputs": [],
   "source": [
    "# imagine the ouput: \n",
    "\"Hello\" * 3\n"
   ]
  },
  {
   "cell_type": "code",
   "execution_count": 9,
   "metadata": {
    "collapsed": false,
    "deletable": true,
    "editable": true
   },
   "outputs": [
    {
     "name": "stdout",
     "output_type": "stream",
     "text": [
      "[5, 2, 3]\n",
      "[5, 2, 3]\n",
      "True\n",
      "True\n",
      "[1, 2, 3]\n",
      "[5, 2, 3]\n",
      "False\n",
      "False\n"
     ]
    }
   ],
   "source": [
    "# imagine the ouput, and explain how to solve this problem: \n",
    "a=[1,2,3]\n",
    "b=a\n",
    "b[0]=5\n",
    "print(a)\n",
    "print(b)\n",
    "print(a == b)\n",
    "print(a is b)\n",
    "\n",
    "a=[1,2,3]\n",
    "b=a.copy()\n",
    "b[0]=5\n",
    "print(a)\n",
    "print(b)\n",
    "print(a == b)\n",
    "print(a is b)\n"
   ]
  },
  {
   "cell_type": "code",
   "execution_count": 20,
   "metadata": {
    "collapsed": false,
    "deletable": true,
    "editable": true
   },
   "outputs": [
    {
     "name": "stdout",
     "output_type": "stream",
     "text": [
      "0 in list\n",
      "0 in list\n"
     ]
    }
   ],
   "source": [
    "# how to detect if a list([0, 1, 2, 3]) contains specific object(0)\n",
    "# method1\n",
    "mylist = [0,1,2,3]\n",
    "flag = False\n",
    "for i in mylist:\n",
    "    if i == 0:\n",
    "        flag=True\n",
    "\n",
    "if flag:\n",
    "    print('0 in list')\n",
    "    \n",
    "# method2\n",
    "if (0 in mylist):\n",
    "    print('0 in list')"
   ]
  },
  {
   "cell_type": "code",
   "execution_count": 16,
   "metadata": {
    "collapsed": false
   },
   "outputs": [
    {
     "name": "stdout",
     "output_type": "stream",
     "text": [
      "True\n",
      "3\n"
     ]
    }
   ],
   "source": [
    "a = 3\n",
    "print(a == 3)\n",
    "flag = (a==3)\n",
    "\n",
    "if flag:\n",
    "    print(a)\n",
    "else:\n",
    "    print(4)"
   ]
  },
  {
   "cell_type": "markdown",
   "metadata": {
    "deletable": true,
    "editable": true
   },
   "source": [
    "# Function"
   ]
  },
  {
   "cell_type": "code",
   "execution_count": 4,
   "metadata": {
    "collapsed": false,
    "deletable": true,
    "editable": true
   },
   "outputs": [
    {
     "name": "stdout",
     "output_type": "stream",
     "text": [
      "True\n",
      "True\n",
      "True\n"
     ]
    }
   ],
   "source": [
    "# how to detect if a str contains specific term(also str type) \n",
    "print(\"dog\" in \"I am a dog\")\n",
    "def contains(term, testStr):\n",
    "    if term in testStr:\n",
    "        return True\n",
    "    else:\n",
    "        return False\n",
    "\n",
    "print(contains(\"dog\", \"I am a dog\"))\n",
    "\n",
    "# term = input(\"please input term: \")\n",
    "# testStr = input()\n",
    "# print(contains(term, testStr))\n",
    "\n",
    "# what if you want to add a parameter in this function with default value\n",
    "def contains1(term, testStr, flag=False):\n",
    "    if term in testStr:\n",
    "        flag = True\n",
    "    return flag\n",
    "\n",
    "print(contains1(\"dog\", \"I am a dog\"))\n"
   ]
  },
  {
   "cell_type": "code",
   "execution_count": 6,
   "metadata": {
    "collapsed": false,
    "deletable": true,
    "editable": true
   },
   "outputs": [
    {
     "name": "stdout",
     "output_type": "stream",
     "text": [
      "<class 'collections.Counter'>\n"
     ]
    }
   ],
   "source": [
    "from collections import Counter\n",
    "# how to detect the type of \"terms\"\n",
    "mystr = \"Class that uses the os.urandom() function for generating random numbers from sources provided by the operating system. Not available on all systems. Does not rely on software state, and sequences are not reproducible. Accordingly, the seed() method has no effect and is ignored. The getstate() and setstate() methods raise NotImplementedError if called.\"\n",
    "terms = Counter(mystr.split())\n",
    "print(type(terms))"
   ]
  },
  {
   "cell_type": "markdown",
   "metadata": {
    "deletable": true,
    "editable": true
   },
   "source": [
    "# Statements"
   ]
  },
  {
   "cell_type": "code",
   "execution_count": 8,
   "metadata": {
    "collapsed": false,
    "deletable": true,
    "editable": true
   },
   "outputs": [
    {
     "data": {
      "text/plain": [
       "28"
      ]
     },
     "execution_count": 8,
     "metadata": {},
     "output_type": "execute_result"
    }
   ],
   "source": [
    "# please write a function equals python built-in function sum()\n",
    "def mysum(aaa):\n",
    "    total = 0\n",
    "    for i in aaa:\n",
    "        total += i\n",
    "    return total\n",
    "\n",
    "bbb = [1,2,3,4,5,6,7]\n",
    "mysum(bbb)\n",
    "\n",
    "mysum([1,2,3,4,5,6,7])"
   ]
  },
  {
   "cell_type": "code",
   "execution_count": 10,
   "metadata": {
    "collapsed": false,
    "deletable": true,
    "editable": true
   },
   "outputs": [
    {
     "name": "stdout",
     "output_type": "stream",
     "text": [
      "0\n",
      "1\n",
      "2\n"
     ]
    }
   ],
   "source": [
    "# please explain the difference between \"break\" and \"continue\" in loop\n",
    "for i in range(10):\n",
    "    if i == 3:\n",
    "        continue\n",
    "    print(i)\n",
    "    \n",
    "for i in range(10):\n",
    "    if i == 3:\n",
    "        break\n",
    "    print(i)"
   ]
  },
  {
   "cell_type": "code",
   "execution_count": 23,
   "metadata": {
    "collapsed": false,
    "deletable": true,
    "editable": true
   },
   "outputs": [
    {
     "name": "stdout",
     "output_type": "stream",
     "text": [
      "3\n",
      "True\n",
      "a\n"
     ]
    }
   ],
   "source": [
    "# imagine the output:\n",
    "# x = 3 if 1 else 4 # if True x=3, else x=4\n",
    "x = 3 if True else 4\n",
    "print(x)\n",
    "\n",
    "\n",
    "flag = 3+4 ==7\n",
    "print(flag)\n",
    "if flag:\n",
    "    print('a')"
   ]
  },
  {
   "cell_type": "code",
   "execution_count": 29,
   "metadata": {
    "collapsed": false
   },
   "outputs": [
    {
     "name": "stdout",
     "output_type": "stream",
     "text": [
      "0\n",
      "1\n",
      "2\n",
      "3\n",
      "4\n",
      "5\n",
      "6\n",
      "7\n",
      "8\n",
      "9\n",
      "10\n"
     ]
    }
   ],
   "source": [
    "i =0\n",
    "while True:\n",
    "    print(i)\n",
    "    i += 1\n",
    "    if i >10:\n",
    "        break\n"
   ]
  },
  {
   "cell_type": "code",
   "execution_count": null,
   "metadata": {
    "collapsed": true
   },
   "outputs": [],
   "source": [
    "testStr = \"classroom\"\n",
    "if testStr == \"room\":\n",
    "    print('a')\n",
    "elif testStr == \"class\":\n",
    "    print('b')\n",
    "else:\n",
    "    print('c')"
   ]
  },
  {
   "cell_type": "markdown",
   "metadata": {
    "deletable": true,
    "editable": true
   },
   "source": [
    "# List"
   ]
  },
  {
   "cell_type": "code",
   "execution_count": 31,
   "metadata": {
    "collapsed": false,
    "deletable": true,
    "editable": true
   },
   "outputs": [
    {
     "data": {
      "text/plain": [
       "[1, 2, 3, 4]"
      ]
     },
     "execution_count": 31,
     "metadata": {},
     "output_type": "execute_result"
    }
   ],
   "source": [
    "# how to add new element in a list\n",
    "a = [1,2,3]\n",
    "a.append(4)\n",
    "a"
   ]
  },
  {
   "cell_type": "code",
   "execution_count": 32,
   "metadata": {
    "collapsed": false,
    "deletable": true,
    "editable": true
   },
   "outputs": [
    {
     "name": "stdout",
     "output_type": "stream",
     "text": [
      "[1, 2, 3, [100, 100]]\n",
      "[1, 2, 3, 100, 100]\n"
     ]
    }
   ],
   "source": [
    "# explain the difference between append and extend\n",
    "a = [1,2,3]\n",
    "b =[100,100]\n",
    "a.append(b)\n",
    "print(a)\n",
    "\n",
    "a = [1,2,3]\n",
    "b =[100,100]\n",
    "a.extend(b)\n",
    "print(a)"
   ]
  },
  {
   "cell_type": "code",
   "execution_count": 38,
   "metadata": {
    "collapsed": false,
    "deletable": true,
    "editable": true
   },
   "outputs": [
    {
     "data": {
      "text/plain": [
       "[17, 18, 19]"
      ]
     },
     "execution_count": 38,
     "metadata": {},
     "output_type": "execute_result"
    }
   ],
   "source": [
    "# if how to slice a list starts from index=2 and ends with index=8\n",
    "# 倒數三個\n",
    "mylist = list(range(20))\n",
    "mylist[-3:]"
   ]
  },
  {
   "cell_type": "code",
   "execution_count": 41,
   "metadata": {
    "collapsed": false,
    "deletable": true,
    "editable": true
   },
   "outputs": [
    {
     "data": {
      "text/plain": [
       "[0.9291638879375277,\n",
       " 0.9232214458323778,\n",
       " 0.8627193951172157,\n",
       " 0.6248675262633047,\n",
       " 0.565181823137685,\n",
       " 0.4923411429551774,\n",
       " 0.4443389862605194,\n",
       " 0.38792667348477017,\n",
       " 0.2832019565833934,\n",
       " 0.011303959046482182]"
      ]
     },
     "execution_count": 41,
     "metadata": {},
     "output_type": "execute_result"
    }
   ],
   "source": [
    "# please sort mylist from the highest value to lowest value\n",
    "from random import *\n",
    "mylist = []\n",
    "for i in range(10):\n",
    "    mylist.append(random())\n",
    "sorted(mylist, reverse=True)"
   ]
  },
  {
   "cell_type": "code",
   "execution_count": 42,
   "metadata": {
    "collapsed": false,
    "deletable": true,
    "editable": true
   },
   "outputs": [
    {
     "data": {
      "text/plain": [
       "[0, 1, 2, 3, 4, 5, 6, 7, 8, 9, 100, -99, -1]"
      ]
     },
     "execution_count": 42,
     "metadata": {},
     "output_type": "execute_result"
    }
   ],
   "source": [
    "# please build a list with non duplicate value of the following list\n",
    "mylist = [0, 1, 2, 3, 4, 5, 6, 7, 8, 9, 100, 100, 100, -1, -99]\n",
    "list(set(mylist))"
   ]
  },
  {
   "cell_type": "code",
   "execution_count": 43,
   "metadata": {
    "collapsed": false,
    "deletable": true,
    "editable": true
   },
   "outputs": [
    {
     "name": "stdout",
     "output_type": "stream",
     "text": [
      "0 0\n",
      "1 1\n",
      "2 2\n",
      "3 3\n",
      "4 4\n",
      "5 5\n",
      "6 6\n",
      "7 7\n",
      "8 8\n",
      "9 9\n",
      "10 100\n",
      "11 100\n",
      "12 100\n",
      "13 -1\n",
      "14 -99\n"
     ]
    }
   ],
   "source": [
    "# how to print all elements in a list with its index through loop\n",
    "for num, item in enumerate(mylist):\n",
    "    print(num, item)"
   ]
  },
  {
   "cell_type": "markdown",
   "metadata": {
    "deletable": true,
    "editable": true
   },
   "source": [
    "# Str"
   ]
  },
  {
   "cell_type": "code",
   "execution_count": 44,
   "metadata": {
    "collapsed": false,
    "deletable": true,
    "editable": true
   },
   "outputs": [
    {
     "data": {
      "text/plain": [
       "'SOMETIMES IT IS USEFUL TO BE ABLE TO REPRODUCE THE SEQUENCES GIVEN BY A PSEUDO RANDOM NUMBER GENERATOR'"
      ]
     },
     "execution_count": 44,
     "metadata": {},
     "output_type": "execute_result"
    }
   ],
   "source": [
    "# please transfer the following str to lower and upper type\n",
    "mystr = \"Sometimes it is useful to be able to reproduce the sequences given by a pseudo random number generator\"\n",
    "mystr.lower()\n",
    "mystr.upper()"
   ]
  },
  {
   "cell_type": "code",
   "execution_count": 47,
   "metadata": {
    "collapsed": false,
    "deletable": true,
    "editable": true
   },
   "outputs": [
    {
     "data": {
      "text/plain": [
       "'sometimes it is useful to be able to reproduce the sequences given by a pseudo random number generator'"
      ]
     },
     "execution_count": 47,
     "metadata": {},
     "output_type": "execute_result"
    }
   ],
   "source": [
    "# please transfer the following str to a list with each term in str as elements in the list\n",
    "mystr = \"sometimes it is useful to be able to reproduce the sequences given by a pseudo random number generator\"\n",
    "termLi = (mystr.split())\n",
    "\n",
    "string = \"\"\n",
    "for term in termLi:\n",
    "    string += term + \" \"\n",
    "string\n",
    "\n",
    "\" \".join(termLi)"
   ]
  },
  {
   "cell_type": "code",
   "execution_count": null,
   "metadata": {
    "collapsed": true,
    "deletable": true,
    "editable": true
   },
   "outputs": [],
   "source": [
    "# please build a sectence with all the elements in the following list seperated by space\n",
    "mylist = ['sometimes', 'it', 'is', 'useful', 'to', 'be', 'able', 'to', \n",
    "          'reproduce', 'the', 'sequences', 'given', 'by', 'a', 'pseudo', 'random', 'number', 'generator']"
   ]
  },
  {
   "cell_type": "code",
   "execution_count": 48,
   "metadata": {
    "collapsed": false,
    "deletable": true,
    "editable": true
   },
   "outputs": [
    {
     "data": {
      "text/plain": [
       "'sometimesitisusefultobeabletoreproducethesequencesgivenbyapseudorandomnumbergenerator'"
      ]
     },
     "execution_count": 48,
     "metadata": {},
     "output_type": "execute_result"
    }
   ],
   "source": [
    "# please remove all the space in mystr\n",
    "mystr = \"sometimes it is useful to be able to reproduce the sequences given by a pseudo random number generator\"\n",
    "mystr.replace(\" \", \"\")"
   ]
  },
  {
   "cell_type": "code",
   "execution_count": null,
   "metadata": {
    "collapsed": true,
    "deletable": true,
    "editable": true
   },
   "outputs": [],
   "source": [
    "# please wirte down the most popular encoding in the world\n",
    "\"utf8\"\n",
    "# In some Chinese websites built earlier, there are two encoding system were usully used. please write down them. \n",
    "\"cp950\"\n",
    "\"big5\""
   ]
  },
  {
   "cell_type": "code",
   "execution_count": null,
   "metadata": {
    "collapsed": true,
    "deletable": true,
    "editable": true
   },
   "outputs": [],
   "source": []
  },
  {
   "cell_type": "code",
   "execution_count": null,
   "metadata": {
    "collapsed": true,
    "deletable": true,
    "editable": true
   },
   "outputs": [],
   "source": []
  },
  {
   "cell_type": "code",
   "execution_count": null,
   "metadata": {
    "collapsed": true,
    "deletable": true,
    "editable": true
   },
   "outputs": [],
   "source": []
  },
  {
   "cell_type": "code",
   "execution_count": null,
   "metadata": {
    "collapsed": true,
    "deletable": true,
    "editable": true
   },
   "outputs": [],
   "source": []
  },
  {
   "cell_type": "code",
   "execution_count": null,
   "metadata": {
    "collapsed": true,
    "deletable": true,
    "editable": true
   },
   "outputs": [],
   "source": []
  },
  {
   "cell_type": "code",
   "execution_count": null,
   "metadata": {
    "collapsed": true,
    "deletable": true,
    "editable": true
   },
   "outputs": [],
   "source": []
  },
  {
   "cell_type": "code",
   "execution_count": null,
   "metadata": {
    "collapsed": true,
    "deletable": true,
    "editable": true
   },
   "outputs": [],
   "source": []
  },
  {
   "cell_type": "code",
   "execution_count": null,
   "metadata": {
    "collapsed": true,
    "deletable": true,
    "editable": true
   },
   "outputs": [],
   "source": []
  },
  {
   "cell_type": "code",
   "execution_count": null,
   "metadata": {
    "collapsed": true,
    "deletable": true,
    "editable": true
   },
   "outputs": [],
   "source": []
  },
  {
   "cell_type": "code",
   "execution_count": null,
   "metadata": {
    "collapsed": true,
    "deletable": true,
    "editable": true
   },
   "outputs": [],
   "source": []
  }
 ],
 "metadata": {
  "kernelspec": {
   "display_name": "Python 3",
   "language": "python",
   "name": "python3"
  },
  "language_info": {
   "codemirror_mode": {
    "name": "ipython",
    "version": 3
   },
   "file_extension": ".py",
   "mimetype": "text/x-python",
   "name": "python",
   "nbconvert_exporter": "python",
   "pygments_lexer": "ipython3",
   "version": "3.5.3"
  }
 },
 "nbformat": 4,
 "nbformat_minor": 2
}
