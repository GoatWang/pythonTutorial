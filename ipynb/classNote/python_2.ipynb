{
 "cells": [
  {
   "cell_type": "markdown",
   "metadata": {
    "deletable": true,
    "editable": true
   },
   "source": [
    "# int"
   ]
  },
  {
   "cell_type": "code",
   "execution_count": 2,
   "metadata": {
    "collapsed": false,
    "deletable": true,
    "editable": true
   },
   "outputs": [
    {
     "name": "stdout",
     "output_type": "stream",
     "text": [
      "0b1100100\n",
      "0x64\n",
      "3\n",
      "<class 'float'>\n",
      "3\n"
     ]
    }
   ],
   "source": [
    "print(bin(100))  ##二進位(binary)\n",
    "print(hex(100))  ##十六進位(hexadecimal) \n",
    "print(int(3.14))  ##float 是一種class(type)\n",
    "print(type(3.14))\n",
    "print(int(3.88))  ##自動捨去法"
   ]
  },
  {
   "cell_type": "markdown",
   "metadata": {
    "deletable": true,
    "editable": true
   },
   "source": [
    "# bool"
   ]
  },
  {
   "cell_type": "code",
   "execution_count": 6,
   "metadata": {
    "collapsed": false,
    "deletable": true,
    "editable": true
   },
   "outputs": [
    {
     "name": "stdout",
     "output_type": "stream",
     "text": [
      "False\n",
      "False\n",
      "[1, 2, 3]\n",
      "[100, 2, 3]\n"
     ]
    },
    {
     "data": {
      "text/plain": [
       "False"
      ]
     },
     "execution_count": 6,
     "metadata": {},
     "output_type": "execute_result"
    }
   ],
   "source": [
    "print(True is 1)\n",
    "print(False is 0)\n",
    "\n",
    "# class 杯子():\n",
    "#     attribute: 長、寬、高 \n",
    "#     function: 拿()、喝()\n",
    "# class list():\n",
    "#     function: append()=>增加新的元素, \n",
    "# a = [1,2,3] 就是list class\n",
    "# a.function()\n",
    "\n",
    "    \n",
    "a = [1,2,3]\n",
    "b = a.copy()\n",
    "b[0] = 100\n",
    "print(a)\n",
    "print(b)\n",
    "a is b"
   ]
  },
  {
   "cell_type": "code",
   "execution_count": 9,
   "metadata": {
    "collapsed": false,
    "deletable": true,
    "editable": true
   },
   "outputs": [
    {
     "name": "stdout",
     "output_type": "stream",
     "text": [
      "True\n",
      "True\n"
     ]
    }
   ],
   "source": [
    "print(True == 1)\n",
    "print(False == 0)"
   ]
  },
  {
   "cell_type": "markdown",
   "metadata": {
    "deletable": true,
    "editable": true
   },
   "source": [
    "# 條件運算式"
   ]
  },
  {
   "cell_type": "code",
   "execution_count": 11,
   "metadata": {
    "collapsed": false,
    "deletable": true,
    "editable": true
   },
   "outputs": [
    {
     "name": "stdout",
     "output_type": "stream",
     "text": [
      "3\n",
      "3\n",
      "3\n",
      "4\n",
      "4\n"
     ]
    }
   ],
   "source": [
    "if True:\n",
    "    x=3\n",
    "else:\n",
    "    x=4\n",
    "print(x)\n",
    "\n",
    "#三元運算子\n",
    "x =3 if 1 else 4\n",
    "print(x)\n",
    "x =3 if True else 4\n",
    "print(x)\n",
    "x =3 if 0 else 4\n",
    "print(x)\n",
    "x =3 if False else 4\n",
    "print(x)"
   ]
  },
  {
   "cell_type": "markdown",
   "metadata": {
    "deletable": true,
    "editable": true
   },
   "source": [
    "# Fraction"
   ]
  },
  {
   "cell_type": "code",
   "execution_count": 32,
   "metadata": {
    "collapsed": false,
    "deletable": true,
    "editable": true
   },
   "outputs": [
    {
     "name": "stdout",
     "output_type": "stream",
     "text": [
      "1/2\n",
      "3537118815677477/1125899906842624\n",
      "6368089873101881/4503599627370496\n"
     ]
    }
   ],
   "source": [
    "from fractions import *\n",
    "F = Fraction\n",
    "print(F(1,2))\n",
    "print(F(3.1415926))\n",
    "print(F(1.414))"
   ]
  },
  {
   "cell_type": "markdown",
   "metadata": {
    "deletable": true,
    "editable": true
   },
   "source": [
    "# List"
   ]
  },
  {
   "cell_type": "code",
   "execution_count": 29,
   "metadata": {
    "collapsed": false,
    "deletable": true,
    "editable": true
   },
   "outputs": [
    {
     "name": "stdout",
     "output_type": "stream",
     "text": [
      "[1, 'aa', 3, 1, [1, 2], 2, 3, 0, 1, 2, 3, 4, 5, 6, 7, 8, 9]\n"
     ]
    }
   ],
   "source": [
    "# list announcement, append, pop\n",
    "mylist = [1,3.14, 'aa',3]\n",
    "mylist.append(1) #integer\n",
    "mylist.append([1,2]) #integer\n",
    "mylist.append(2)\n",
    "mylist.append(3)\n",
    "for i in range(10):\n",
    "    mylist.append(i)\n",
    "\n",
    "mylist.pop(1)  ## drop obj in the index = pop(<index>)\n",
    "print(mylist)"
   ]
  },
  {
   "cell_type": "code",
   "execution_count": 25,
   "metadata": {
    "collapsed": false,
    "deletable": true,
    "editable": true
   },
   "outputs": [
    {
     "name": "stdout",
     "output_type": "stream",
     "text": [
      "[0, 1, 2, 3, 4, 5, 6, 7, 8, 9]\n",
      "[0, 1]\n",
      "[2, 3, 4, 5, 6, 7, 8, 9]\n",
      "[7, 8, 9]\n",
      "[0, 1, 2, 3, 4, 5, 6, 7]\n"
     ]
    }
   ],
   "source": [
    "## index slicing\n",
    "mylist = list(range(10))\n",
    "print(mylist)\n",
    "print(mylist[:2]) #\":\" = 到\n",
    "print(mylist[2:]) # 從2開始到最後\n",
    "print(mylist[-3:])\n",
    "print(mylist[:-2])"
   ]
  },
  {
   "cell_type": "code",
   "execution_count": 33,
   "metadata": {
    "collapsed": false,
    "deletable": true,
    "editable": true
   },
   "outputs": [
    {
     "name": "stdout",
     "output_type": "stream",
     "text": [
      "[0, 1, 2, 3, 4, 5, 6, 7, 8, 9, [100, 100, 100, -1, -99]]\n",
      "[100, 100, 100, -1, -99]\n",
      "-------------------\n",
      "[0, 1, 2, 3, 4, 5, 6, 7, 8, 9, 100, 100, 100, -1, -99]\n",
      "-------------------\n",
      "[0, 1, 2, 3, 4, 5, 6, 7, 8, 9, 100, 100, 100, -1, -99]\n",
      "-------------------\n",
      "[0, 0, 0, 0, 0, 0, 0, 0, 0, 0, 0, 0, 0, 0, 0, 0, 0, 0, 0, 0, 0, 0, 0, 0, 0, 0, 0, 0, 0, 0, 0, 0, 0, 0, 0, 0, 0, 0, 0, 0, 0, 0, 0, 0, 0, 0, 0, 0, 0, 0, 0, 0, 0, 0, 0, 0, 0, 0, 0, 0, 0, 0, 0, 0, 0, 0, 0, 0, 0, 0, 0, 0, 0, 0, 0, 0, 0, 0, 0, 0, 0, 0, 0, 0, 0, 0, 0, 0, 0, 0, 0, 0, 0, 0, 0, 0, 0, 0, 0, 0]\n",
      "-------------------\n"
     ]
    },
    {
     "data": {
      "text/plain": [
       "[0,\n",
       " 0,\n",
       " 0,\n",
       " 0,\n",
       " 0,\n",
       " 0,\n",
       " 0,\n",
       " 0,\n",
       " 0,\n",
       " 0,\n",
       " 0,\n",
       " 0,\n",
       " 0,\n",
       " 0,\n",
       " 0,\n",
       " 0,\n",
       " 0,\n",
       " 0,\n",
       " 0,\n",
       " 0,\n",
       " 0,\n",
       " 0,\n",
       " 0,\n",
       " 0,\n",
       " 0,\n",
       " 0,\n",
       " 0,\n",
       " 0,\n",
       " 0,\n",
       " 0,\n",
       " 0,\n",
       " 0,\n",
       " 0,\n",
       " 0,\n",
       " 0,\n",
       " 0,\n",
       " 96,\n",
       " 0,\n",
       " 0,\n",
       " 0,\n",
       " 0,\n",
       " 0,\n",
       " 0,\n",
       " 0,\n",
       " 0,\n",
       " 0,\n",
       " 0,\n",
       " 0,\n",
       " 0,\n",
       " 0,\n",
       " 0,\n",
       " 0,\n",
       " 2,\n",
       " 2,\n",
       " 2,\n",
       " 2,\n",
       " 2,\n",
       " 2,\n",
       " 2,\n",
       " 2,\n",
       " 2,\n",
       " 2,\n",
       " 2,\n",
       " 2,\n",
       " 2,\n",
       " 2,\n",
       " 2,\n",
       " 2,\n",
       " 2,\n",
       " 2,\n",
       " 2,\n",
       " 2,\n",
       " 2,\n",
       " 2,\n",
       " 2,\n",
       " 2,\n",
       " 2,\n",
       " 2,\n",
       " 2,\n",
       " 2,\n",
       " 2,\n",
       " 2,\n",
       " 2,\n",
       " 2,\n",
       " 2,\n",
       " 2,\n",
       " 2,\n",
       " 2,\n",
       " 2,\n",
       " 2,\n",
       " 2,\n",
       " 2,\n",
       " 2,\n",
       " 2,\n",
       " 2,\n",
       " 2,\n",
       " 2,\n",
       " 2,\n",
       " 2,\n",
       " 2]"
      ]
     },
     "execution_count": 33,
     "metadata": {},
     "output_type": "execute_result"
    }
   ],
   "source": [
    "# append, extend\n",
    "mylist = list(range(10))\n",
    "mylist.append([100, 100, 100, -1, -99]) #加入新物件\n",
    "print(mylist)\n",
    "print(mylist[10])\n",
    "print(\"-------------------\")\n",
    "\n",
    "mylist = list(range(10))\n",
    "mylist.extend([100, 100, 100, -1, -99]) #延長\n",
    "print(mylist)\n",
    "print(\"-------------------\")\n",
    "\n",
    "mylist = list(range(10))\n",
    "mylist = mylist + [100, 100, 100, -1, -99]\n",
    "print(mylist)\n",
    "print(\"-------------------\")\n",
    "\n",
    "mylist = [0] * 100\n",
    "print(mylist)\n",
    "print(\"-------------------\")\n",
    "\n",
    "for i in range(100):\n",
    "    if i >50 and i <99:\n",
    "        mylist[36] += 2\n",
    "        mylist[i + 1] += 2\n",
    "mylist"
   ]
  },
  {
   "cell_type": "code",
   "execution_count": 35,
   "metadata": {
    "collapsed": false,
    "deletable": true,
    "editable": true
   },
   "outputs": [
    {
     "name": "stdout",
     "output_type": "stream",
     "text": [
      "[-99, -1, 0, 1, 2, 3, 4, 5, 6, 7, 8, 9, 100, 100, 100]\n",
      "[100, 100, 100, 9, 8, 7, 6, 5, 4, 3, 2, 1, 0, -1, -99]\n",
      "---------------\n",
      "[0, 1, 2, 3, 4, 5, 6, 7, 8, 9, 100, 100, 100, -1, -99]\n",
      "3\n",
      "10\n"
     ]
    }
   ],
   "source": [
    "# sort, count, min, max, len, inedx\n",
    "mylist = list(range(10))\n",
    "mylist = mylist + [100, 100, 100, -1, -99]\n",
    "print(sorted(mylist))\n",
    "print(sorted(mylist, reverse = True))\n",
    "print(\"---------------\")\n",
    "\n",
    "print(mylist)\n",
    "print(mylist.count(100))  #有幾個100(值，非index)\n",
    "print(mylist.index(100))  # 第一次出現的索引值"
   ]
  },
  {
   "cell_type": "code",
   "execution_count": 41,
   "metadata": {
    "collapsed": false,
    "deletable": true,
    "editable": true
   },
   "outputs": [
    {
     "name": "stdout",
     "output_type": "stream",
     "text": [
      "[0, 1, 2, 3, 4, 5, 6, 7, 8, 9, 100, 100, 100, -1, -99]\n",
      "[0, 1, 2, 3, 4, 5, 6, 7, 8, 9, 100, -99, -1]\n"
     ]
    }
   ],
   "source": [
    "# set\n",
    "# newlist = []\n",
    "# for i in mylist:\n",
    "#     if i not in newlist:\n",
    "#         newlist.append(i) \n",
    "# print(newlist)\n",
    "print(mylist)\n",
    "print(list(set(mylist)))  ##去掉重複值"
   ]
  },
  {
   "cell_type": "code",
   "execution_count": 44,
   "metadata": {
    "collapsed": false,
    "deletable": true,
    "editable": true
   },
   "outputs": [
    {
     "data": {
      "text/plain": [
       "'0 1 2 3 4 5 6 7 8 9'"
      ]
     },
     "execution_count": 44,
     "metadata": {},
     "output_type": "execute_result"
    }
   ],
   "source": [
    "# join\n",
    "mylist = list(range(10))\n",
    "newlist = [str(i) for i in mylist]\n",
    "# newlist = []\n",
    "# for i in mylist:\n",
    "#     newlist.append(str(i))\n",
    "    \n",
    "\" \".join(newlist)"
   ]
  },
  {
   "cell_type": "code",
   "execution_count": 65,
   "metadata": {
    "collapsed": false,
    "deletable": true,
    "editable": true
   },
   "outputs": [
    {
     "name": "stdout",
     "output_type": "stream",
     "text": [
      "False\n",
      "True\n",
      "False\n",
      "False\n"
     ]
    }
   ],
   "source": [
    "# copy\n",
    "mylist = list(range(10))\n",
    "mycopy = mylist.copy()\n",
    "print(mycopy is mylist)\n",
    "print(mycopy == mylist)\n",
    "\n",
    "\n",
    "mycopy[0] = -100\n",
    "print(mycopy is mylist)\n",
    "print(mycopy == mylist)\n"
   ]
  },
  {
   "cell_type": "code",
   "execution_count": 47,
   "metadata": {
    "collapsed": false,
    "deletable": true,
    "editable": true,
    "scrolled": true
   },
   "outputs": [
    {
     "name": "stdout",
     "output_type": "stream",
     "text": [
      "['2017年01月01日至2017年06月30日', nan, nan, '309336', '309336', nan, nan, '36661', '4745', '-15525', '14001', '17236', '-9674', '-11760', '-52771', '508', '0', '-4550', '60', '5000', '0', '45', '0', '48844', '-48191', '-7541', '-22912', nan, nan, '-8230', '52863', '99976', '805565', '-58842', '-134', '-21197', '-4950', '865051', nan, '0', '7251', '-302181', '-1519513', '-36567', '-663', '-2465', '-1854138', '-989087', '-1011999', '-702663', '12874', '12967', '-10777', '-57075', '-744674', nan, '0', '10517', '-465878', '494467', '-104000', '2470', '0', '-15168', '8457', '-682', '44323', '33747', '-500', '9388', '0', '225130', '-15753', '226518', nan, '310000', '-1488', '190', '0', '0', '-109870', '198832', '47228', '-272096', '2876766', '2604670', '2604670']\n",
      "-------------\n",
      "<class 'float'>\n",
      "<class 'float'>\n",
      "<class 'float'>\n",
      "<class 'float'>\n",
      "<class 'float'>\n",
      "<class 'float'>\n",
      "<class 'float'>\n",
      "<class 'float'>\n",
      "<class 'float'>\n",
      "-------------\n",
      "['309336', '309336', '36661', '33747', '310000']\n"
     ]
    }
   ],
   "source": [
    "# iteration\n",
    "import pandas as pd\n",
    "import math\n",
    "import re\n",
    "df = pd.read_html(\"http://mops.twse.com.tw/server-java/t164sb01?step=1&CO_ID=4104&SYEAR=2017&SSEASON=2&REPORT_ID=C\")[3]\n",
    "mylist = list(df[1])\n",
    "print(mylist)\n",
    "print(\"-------------\")\n",
    "\n",
    "[print(type(item)) for item in mylist if type(item) != str]\n",
    "print(\"-------------\")\n",
    "\n",
    "notNoneList = [item for item in mylist if type(item) == str and re.findall(r'^3', item)]\n",
    "print(notNoneList)\n"
   ]
  },
  {
   "cell_type": "code",
   "execution_count": 52,
   "metadata": {
    "collapsed": false,
    "deletable": true,
    "editable": true
   },
   "outputs": [
    {
     "name": "stdout",
     "output_type": "stream",
     "text": [
      "['2017年01月01日至2017年06月30日', None, None, '309336', '309336', None, None, '36661', '4745', '-15525', '14001', '17236', '-9674', '-11760', '-52771', '508', '0', '-4550', '60', '5000', '0', '45', '0', '48844', '-48191', '-7541', '-22912', None, None, '-8230', '52863', '99976', '805565', '-58842', '-134', '-21197', '-4950', '865051', None, '0', '7251', '-302181', '-1519513', '-36567', '-663', '-2465', '-1854138', '-989087', '-1011999', '-702663', '12874', '12967', '-10777', '-57075', '-744674', None, '0', '10517', '-465878', '494467', '-104000', '2470', '0', '-15168', '8457', '-682', '44323', '33747', '-500', '9388', '0', '225130', '-15753', '226518', None, '310000', '-1488', '190', '0', '0', '-109870', '198832', '47228', '-272096', '2876766', '2604670', '2604670']\n"
     ]
    }
   ],
   "source": [
    "mylist = ['2017年01月01日至2017年06月30日', None, None, '309336', '309336', None, None, '36661', '4745', '-15525', '14001', '17236', '-9674', '-11760', '-52771', '508', '0', '-4550', '60', '5000', '0', '45', '0', '48844', '-48191', '-7541', '-22912', None, None, '-8230', '52863', '99976', '805565', '-58842', '-134', '-21197', '-4950', '865051', None, '0', '7251', '-302181', '-1519513', '-36567', '-663', '-2465', '-1854138', '-989087', '-1011999', '-702663', '12874', '12967', '-10777', '-57075', '-744674', None, '0', '10517', '-465878', '494467', '-104000', '2470', '0', '-15168', '8457', '-682', '44323', '33747', '-500', '9388', '0', '225130', '-15753', '226518', None, '310000', '-1488', '190', '0', '0', '-109870', '198832', '47228', '-272096', '2876766', '2604670', '2604670']\n",
    "\n",
    "for i in range(len(mylist)):\n",
    "    if type(mylist[i]) == str and mylist[i] == None:\n",
    "        mylist.pop(i)  #index\n",
    "print(mylist)"
   ]
  },
  {
   "cell_type": "code",
   "execution_count": 55,
   "metadata": {
    "collapsed": false,
    "deletable": true,
    "editable": true
   },
   "outputs": [
    {
     "name": "stdout",
     "output_type": "stream",
     "text": [
      "0\n",
      "2017年01月01日至2017年06月30日\n",
      "1\n",
      "None\n",
      "2\n",
      "None\n",
      "3\n",
      "309336\n",
      "4\n",
      "309336\n",
      "5\n",
      "None\n",
      "6\n",
      "None\n",
      "7\n",
      "36661\n",
      "8\n",
      "4745\n",
      "9\n",
      "-15525\n"
     ]
    }
   ],
   "source": [
    "# enumerate\n",
    "for num, item in enumerate(mylist):\n",
    "    if num < 10:\n",
    "        print(num)\n",
    "        print(item)"
   ]
  },
  {
   "cell_type": "markdown",
   "metadata": {
    "deletable": true,
    "editable": true
   },
   "source": [
    "# Dict"
   ]
  },
  {
   "cell_type": "code",
   "execution_count": 4,
   "metadata": {
    "collapsed": false,
    "deletable": true,
    "editable": true
   },
   "outputs": [
    {
     "name": "stdout",
     "output_type": "stream",
     "text": [
      "<class 'dict'>\n",
      "<class 'set'>\n",
      "{'nickname': 'GoatWang', 'age': 23, 'name': 'jeremy'}\n",
      "{'nickname': 'GoatWang', 'age': 23, 'name': 'jeremy', 'tall': 175}\n"
     ]
    }
   ],
   "source": [
    "# dict announcement\n",
    "a = {}\n",
    "print(type(a))\n",
    "b = {1,}\n",
    "print(type(b))\n",
    "\n",
    "mydict = {\"name\":\"jeremy\", \"age\":23, \"nickname\":\"GoatWang\"}\n",
    "print(mydict)\n",
    "mydict['tall'] = 175\n",
    "print(mydict)  ##沒有順序"
   ]
  },
  {
   "cell_type": "code",
   "execution_count": 5,
   "metadata": {
    "collapsed": false,
    "deletable": true,
    "editable": true
   },
   "outputs": [
    {
     "name": "stdout",
     "output_type": "stream",
     "text": [
      "dict_keys(['nickname', 'age', 'name', 'tall'])\n",
      "dict_values(['GoatWang', 23, 'jeremy', 175])\n",
      "jeremy\n",
      "None\n",
      "70\n",
      "'e' not in mydict.keys()\n"
     ]
    }
   ],
   "source": [
    "# dict call\n",
    "print(mydict.keys())\n",
    "print(mydict.values())\n",
    "\n",
    "print(mydict['name'])\n",
    "print(mydict.get('weight'))\n",
    "print(mydict.get('weight', 70))\n",
    "\n",
    "try:\n",
    "    print(mydict['e'])\n",
    "except:\n",
    "    print(\"'e' not in mydict.keys()\")\n",
    "# exceptions: https://docs.python.org/3/library/exceptions.html#bltin-exceptions\n",
    "\n"
   ]
  },
  {
   "cell_type": "code",
   "execution_count": 177,
   "metadata": {
    "collapsed": false,
    "deletable": true,
    "editable": true
   },
   "outputs": [
    {
     "name": "stdout",
     "output_type": "stream",
     "text": [
      "{'c': 3, 'a': 1, 'b': 2}\n",
      "None\n",
      "{'c': 3, 'a': 1, 'b': 2}\n"
     ]
    },
    {
     "ename": "KeyError",
     "evalue": "'100'",
     "output_type": "error",
     "traceback": [
      "\u001b[1;31m---------------------------------------------------------------------------\u001b[0m",
      "\u001b[1;31mKeyError\u001b[0m                                  Traceback (most recent call last)",
      "\u001b[1;32m<ipython-input-177-b8a305011ba8>\u001b[0m in \u001b[0;36m<module>\u001b[1;34m()\u001b[0m\n\u001b[0;32m      6\u001b[0m \u001b[0mprint\u001b[0m\u001b[1;33m(\u001b[0m\u001b[0mres\u001b[0m\u001b[1;33m)\u001b[0m\u001b[1;33m\u001b[0m\u001b[0m\n\u001b[0;32m      7\u001b[0m \u001b[0mprint\u001b[0m\u001b[1;33m(\u001b[0m\u001b[0mmydict\u001b[0m\u001b[1;33m)\u001b[0m\u001b[1;33m\u001b[0m\u001b[0m\n\u001b[1;32m----> 8\u001b[1;33m \u001b[0mmydict\u001b[0m\u001b[1;33m.\u001b[0m\u001b[0mpop\u001b[0m\u001b[1;33m(\u001b[0m\u001b[1;34m'100'\u001b[0m\u001b[1;33m)\u001b[0m\u001b[1;33m\u001b[0m\u001b[0m\n\u001b[0m",
      "\u001b[1;31mKeyError\u001b[0m: '100'"
     ]
    }
   ],
   "source": [
    "# pop\n",
    "mydict = {'d': 4, 'c': 3, 'b': 2, 'a': 1}\n",
    "mydict.pop('d')\n",
    "print(mydict)\n",
    "res = mydict.pop('100', None)\n",
    "print(res)\n",
    "print(mydict)\n",
    "mydict.pop('100')"
   ]
  },
  {
   "cell_type": "code",
   "execution_count": 149,
   "metadata": {
    "collapsed": false,
    "deletable": true,
    "editable": true
   },
   "outputs": [
    {
     "name": "stdout",
     "output_type": "stream",
     "text": [
      "d 4\n",
      "c 3\n",
      "b 2\n",
      "a 1\n"
     ]
    }
   ],
   "source": [
    "# iteration\n",
    "for key, value in mydict.items():\n",
    "    print(key, value)"
   ]
  },
  {
   "cell_type": "code",
   "execution_count": 150,
   "metadata": {
    "collapsed": false,
    "deletable": true,
    "editable": true
   },
   "outputs": [
    {
     "data": {
      "text/plain": [
       "[('a', 1), ('b', 2), ('c', 3), ('d', 4)]"
      ]
     },
     "execution_count": 150,
     "metadata": {},
     "output_type": "execute_result"
    }
   ],
   "source": [
    "# sort\n",
    "sorted(mydict.items(), key=lambda x:x[1])"
   ]
  },
  {
   "cell_type": "code",
   "execution_count": 8,
   "metadata": {
    "collapsed": false,
    "deletable": true,
    "editable": true
   },
   "outputs": [
    {
     "name": "stdout",
     "output_type": "stream",
     "text": [
      "Counter({'the': 273, 'of': 250, 'and': 248, 'Python': 199, 'text\"': 186, 'to': 175, 'a': 170, 'in': 148, 'is': 145, 'Retrieved': 118, 'for': 103, '–': 90, 'web\"><a': 80, 'as': 66, 'with': 65, 'from': 62, 'are': 58, 'by': 51, 'Software': 49, 'on': 46, 'be': 43, 'that': 42, 'which': 40, 'has': 38, 'this': 35, 'or': 35, 'language': 34, 'The': 31, 'an': 29, 'software': 28, 'used': 28, 'can': 28, 'it': 27, 'was': 26, 'than': 24, 'code': 24, 'also': 24, 'use': 22, '(computer': 22, '1.5x,': 21, '2x\"': 21, 'free': 21, 'not': 20, 'its': 19, 'articles': 18, 'languages': 17, 'other': 17, 'using': 17, \"Python's\": 16, 'such': 16, 'Python,': 16, 'many': 16, 'van': 15, 'January': 14, '==': 14, 'standard': 14, 'Book': 14, 'Standard': 14, 'Rossum,': 14, 'page': 14, 'operator': 14, 'version': 14, 'August': 14, 'at': 14, 'March': 14, '1': 14, 'dated': 13, 'This': 13, 'title=\"C': 13, '-': 13, '(web': 13, 'Guido': 13, 'been': 12, 'written': 12, 'but': 12, 'template\"': 12, 'C': 12, 'Language': 12, 'uses': 12, 'have': 12, 'like': 11, 'more': 11, 'It': 11, 'number': 11, 'into': 11, '=': 11, 'For': 11, 'Java': 10, 'syntax': 10, 'design': 10, 'October': 9, 'width:': 9, 'September': 9, 'division': 9, 'alt=\"\"': 9, 'modules': 9, 'all': 9, 'CPython': 9, 'about': 9, 'most': 9, 'including': 9, 'web': 9, 'A': 9, 'support': 9, '31px;': 8, 'run': 8, '3': 8, 'example,': 8, 'December': 8, 'may': 8, 'large': 8, 'features': 8, 'often': 8, 'library': 8, 'block': 8, 'I': 8, 'does': 8, 'new': 8, 'web\">van': 8, 'list': 7, 'include': 7, 'Server': 7, 'both': 7, 'contain': 7, '--': 7, 'hlist': 7, 'some': 7, 'first': 7, 'title=\"Go': 7, 'release': 7, 'where': 7, 'New': 7, 'if': 7, 'Free': 7, 'In': 7, 'type': 7, 'would': 7, 'Open': 7, 'several': 7, 'allows': 7, 'method': 7, '2003).': 7, 'compiles': 7, 'name': 7, 'Archived': 6, 'created': 6, 'after': 6, 'value': 6, 'each': 6, 'February': 6, 'Data': 6, 'part': 6, 'major': 6, 'e.g.': 6, 'one': 6, 'similar': 6, '2,': 6, 'only': 6, 'Python:': 6, '2': 6, 'three': 6, 'programs': 6, 'objects': 6, 'function': 6, 'scripting': 6, 'Gateway': 6, 'released': 6, 'time': 6, 'project': 6, 'unsourced': 6, 'variable': 6, 'over': 6, '&amp;': 6, 'multiple': 6, 'named': 6, 'being': 6, 'June': 6, 'C++': 5, 'An': 5, '2012<span': 5, 'Package': 5, 'provided': 5, '+': 5, \"'string',\": 5, 'class': 5, 'releases': 5, 'two': 5, 'import': 5, '2000).': 5, 'Community': 5, 'cannot': 5, 'mixed': 5, 'July': 5, 'available': 5, 'Public': 5, 'years': 5, 'Mark': 5, 'better': 5, 'hlist\"': 5, '2001).': 5, 'language)': 5, 'between': 5, '(for': 5, 'optional': 5, '3.0': 5, 'typed': 5, 'means': 5, 'Source': 5, 'object': 5, 'classes': 5, 'their': 5, 'then': 5, 'none;': 5, 'operating': 5, 'ed.).': 5, 'source': 5, 'functions': 5, 'elements': 5, 'rather': 5, 'intended': 5, 'given': 5, 'However,': 5, 'precision': 5, '(5': 5, 'do': 5, 'statement': 5, 'there': 4, 'had': 4, 'negative': 4, 'core': 4, 'user': 4, '(page': 4, 'C,': 4, 'M.': 4, 'writing': 4, 'tuple': 4, 'navbar': 4, 'names': 4, 'while': 4, 'History': 4, 'range': 4, 'main': 4, 'article:': 4, 'third': 4, '(2009).': 4, '2.5,': 4, 'quote': 4, '4em\"><a': 4, 'element': 4, 'termed': 4, 'reference': 4, '0.2em': 4, 'code,': 4, 'content': 4, '/': 4, 'November': 4, 'changes': 4, 'provides': 4, 'supported': 4, 'during': 4, 'operators': 4, 'Flying': 4, 'types,': 4, 'module': 4, 'Rossum': 4, 'kinds': 4, '10': 4, 'arbitrary': 4, 'now': 4, 'speed': 4, 'Wikipedia': 4, 'middle\"': 4, 'Is': 4, 'common': 4, 'Van': 4, 'Python.': 4, 'Chris': 4, '2009).': 4, '4px;': 4, '2.7': 4, 'middle;': 4, 'Dictator': 4, 'keys': 4, 'string': 4, 'same': 4, 'types': 4, 'far': 4, 'border:': 4, 'must': 4, 'science': 4, 'allowing': 4, 'usage:': 4, 'library,': 4, 'supports': 4, 'pages': 4, 'community': 4, '182px;': 4, '2009<span': 4, '2006).': 4, 'numeric': 4, 'versus': 3, 'hosting': 3, 'title=\"A': 3, 'special': 3, 'PyPy': 3, 'needing': 3, 'TIOBE': 3, 'directly': 3, '...': 3, 'curly': 3, 'current': 3, 'document': 3, '(17': 3, 'variant': 3, 'approach': 3, 'dynamic': 3, '&lt;': 3, 'much': 3, 'popular': 3, 'became': 3, 'Web': 3, 'they': 3, 'will': 3, 'FAQ</i>.': 3, 'extensive': 3, 'working': 3, 'seconds': 3, '(<a': 3, 'since': 3, 'up': 3, 'padding:': 3, '\"<a': 3, 'result': 3, '2017).': 3, 'you': 3, 'changed': 3, '(software': 3, 'visual': 3, 'Sharp': 3, '(such': 3, 'Many': 3, '(29': 3, '30em;': 3, 'people': 3, 'program': 3, 'noprint': 3, 'syntax,': 3, '#aaa;': 3, 'good': 3, '20': 3, 'via': 3, 'object,': 3, 'delimit': 3, 'receives': 3, 'data': 3, 'various': 3, 'thus': 3, 'DMOZ': 3, 'bytes': 3, 'memory': 3, 'contains': 3, 'built-in': 3, 'libraries': 3, 'language,': 3, 'because': 3, 'running': 3, 'called': 3, 'example': 3, '(3': 3, 'designed': 3, 'matrix': 3, '2</code>,': 3, 'complex': 3, 'double': 3, 'solid': 3, 'Science': 3, 'towards': 3, '(in': 3, 'create': 3, 'equal': 3, 'e.g.,': 3, 'fewer': 3, 'implement': 3, 'lines': 3, 'terms': 3, 'started': 3, 'important': 3, 'else': 3, 'versions': 3, 'values': 3, '—': 3, 'published': 3, 'count:': 3, 'executes': 3, 'citations': 3, 'out': 3, 'Release': 3, 'K.': 3, 'every': 3, 'storage': 3, 'Cobra': 3, '2005).': 3, 'tools': 3, 'dtstart': 3, 'makes': 3, 'includes': 3, 'described': 3, 'Developer': 3, '2013<span': 3, 'official': 3, 'single': 3, 'release,': 3, 'should': 3, 'equation': 3, 'behavior': 3, '2017<span': 3, '2014).': 3, 'no': 3, 'how': 3, 'jezik)': 3, 'dates': 3, 'GND': 3, 'de': 3, 'feature': 3, 'As': 3, 'general': 3, '(30': 3, 'few': 3, 'vs.': 3, 'through': 3, 'way': 3, 'however,': 3, 'dmy': 3, 'Built-in': 3, 'attached': 3, '19': 3, '(since': 3, 'April': 3, 'LCCN': 3, 'J.': 3, 'update\"': 3, 'asof-tag': 3, 'always': 3, 'PEP': 3, 'API': 3, '15': 3, 'wide': 3, 'system': 3, 'before': 3, 'These': 3, 'x': 3, 'BNF': 3, 'Index': 3, 'long': 3, 'contrast': 3, 'Decimal': 2, '38.956': 2, 'Erik.': 2, 'Rails': 2, 'longer': 2, 'basic': 2, 'here': 2, 'until': 2, 'Rust,': 2, 'manner': 2, 'Into': 2, 'when': 2, '107,': 2, 'slice': 2, 'Charles.': 2, 'largely': 2, 'Brief': 2, 'mechanism': 2, 'final': 2, 'causes': 2, '(14': 2, 'those': 2, '2</code>;': 2, 'small': 2, 'tools,': 2, '4.42%': 2, 'Nokia': 2, '40px;': 2, 'Tim': 2, '0': 2, 'size:': 2, 'latter': 2, 'back': 2, 'compares': 2, 'platform': 2, '(7': 2, 'y</code>,': 2, 'error': 2, 'Laptop': 2, '2004).': 2, 'follows': 2, 'infix': 2, 'rights': 2, '17': 2, 'say': 2, '35.56%': 2, '2006<span': 2, '1:': 2, '10px': 2, 'entirely': 2, 'developed': 2, 'strings,': 2, 'brackets': 2, '54.744': 2, 'these': 2, 'requiring': 2, '24': 2, 'dedicated': 2, 'ranked': 2, 'Computer': 2, '§2:': 2, '15.': 2, 'python': 2, \"Lattner's\": 2, 'end': 2, 'Year': 2, 'syntactic': 2, 'project,': 2, '4.47%': 2, 'though': 2, 'nature': 2, '4.31%': 2, 'enables': 2, 'Click': 2, 'video': 2, 'offers': 2, '(itself': 2, 'May': 2, 'boolean': 2, 'team': 2, 'General': 2, 'Purpose': 2, 'per': 2, 'bold;': 2, 'London:': 2, 'denoted': 2, 'links': 2, '2007).': 2, 'increase': 2, '(2010).': 2, 'Your': 2, 'prefix': 2, 'Guido;': 2, 'made': 2, '{': 2, 'Equality': 2, 'symbolic': 2, 'related': 2, 'text': 2, 'Commons': 2, 'Powerful': 2, 'Control': 2, 'favor': 2, '3.5,': 2, 'compiler': 2, 'form': 2, 'certain': 2, '105,': 2, 'added': 2, 'title': 2, '#B2B7F2;': 2, 'best': 2, 'IP': 2, 'Times,': 2, '2.7.14': 2, 'literal': 2, 'group': 2, 'Hat': 2, 'book\"': 2, 'CLU,': 2, 'found': 2, '3.<sup': 2, 'initially': 2, 'article': 2, 'Haskell,': 2, '(2': 2, 'my': 2, 'right': 2, 'Monty': 2, 'writable': 2, '2.2': 2, 'Operators': 2, 'English': 2, '0px': 2, 'infinity,': 2, 'Phillip': 2, ',': 2, \"O'Reilly\": 2, 'mixture': 2, 'in;': 2, 'state': 2, 'introduce': 2, '(2007).': 2, 'series': 2, '723.514': 2, 'checked': 2, 'Chinese\"': 2, 'internal': 2, 'highly': 2, 'days': 2, 'iterators': 2, 'something': 2, '44.876': 2, 'also:': 2, 'assigned': 2, 'packages': 2, 'places,': 2, 'Timeline': 2, 'Google.': 2, 'Apress.': 2, 'we': 2, 'Baxter,': 2, 'Wiskunde': 2, 'parser': 2, '2007': 2, 'Simple': 2, 'others': 2, \"'Times\": 2, 'were': 2, 'and,': 2, 'From': 2, '&lt;=': 2, 'very': 2, 'copy': 2, 'immutable': 2, 'plainlist': 2, 'dir=\"ltr\"': 2, 'section': 2, 'Cathedral': 2, 'expansion': 2, '7.47%': 2, '53.368': 2, '133': 2, 'b': 2, 'Scripting': 2, '92.514': 2, '3,': 2, 'Security': 2, 'Springer.': 2, 'invented': 2, '4': 2, 'Core': 2, 'Division': 2, '2016<span': 2, 'positive': 2, 'Lua': 2, '(20': 2, '(or': 2, 'Java,': 2, 'late': 2, 'revision': 2, \"Roman',\": 2, 'is,': 2, 'instead': 2, 'Swift': 2, 'virtual': 2, 'S.': 2, 'commonly': 2, 'easily': 2, 'Shop': 2, 'too': 2, 'referred': 2, 'retrieved': 2, 'marks': 2, 'value,': 2, 'whether': 2, 'Like': 2, 'Guide': 2, 'borrowed': 2, 'extension': 2, 'Analysis': 2, 'whose': 2, '(a': 2, 'existing': 2, 'hand': 2, 'embedded': 2, 'issues': 2, 'parts': 2, 'work': 2, 'IDE': 2, 'C++,': 2, '20px;': 2, 'strings': 2, 'local': 2, \"Meier's\": 2, 'providing': 2, 'his': 2, 'drawing': 2, 'reflected': 2, 'article\"': 2, 'order': 2, '(2013).': 2, 'address': 2, 'Of': 2, '.6em;': 2, 'With': 2, 'Google': 2, 'examples': 2, 'index': 2, 'shifts': 2, 'key': 2, '(16': 2, 'releases,': 2, 'Perl': 2, 'marks.': 2, 'integer': 2, '2010.': 2, 'empirical': 2, '2.0': 2, '(10': 2, 'language.': 2, 'line': 2, 'Document': 2, 'specific': 2, 'covers': 2, 'along': 2, 'returns': 2, '2017<sup': 2, 'byte': 2, '3.62%': 2, 'App': 2, 'control': 2, 'node': 2, 'operands': 2, 'advantage': 2, 'body': 2, 'instances': 2, 'greatest': 2, '3D': 2, 'rough': 2, '3.5.': 2, 'last': 2, 'systems.': 2, '(22': 2, 'Cultural': 2, 'features,': 2, '1238.429': 2, '.': 2, 'They': 2, 'inspired': 2, 'c': 2, 'classic': 2, 'offering': 2, 'report': 2, 'adopted': 2, 'creating': 2, 'under': 2, 'License': 2, 'Perl,': 2, '3:': 2, '3.6': 2, 'less': 2, 'top;': 2, 'fixed': 2, 'origin': 2, 'choice': 2, 'How': 2, 'methods': 2, '3.15%': 2, 'put': 2, 'write': 2, 'German\"': 2, 'produces': 2, '88.163': 2, '(13': 2, 'color:': 2, 'lang=\"en\"': 2, 'own': 2, '2002).': 2, 'Light': 2, 'serif;': 2, 'rejects': 2, 'allocated': 2, 'article.': 2, 'left': 2, '2017,': 2, 'Basic': 2, 'ideas': 2, 'log': 2, 'need': 2, '(and': 2, 'indexes': 2, '(11': 2, 'measured': 2, 'side': 2, 'C#,': 2, 'edits': 2, 'passed': 2, 'greatly': 2, 'show': 2, 'David': 2, 'Integers': 2, 'cited': 2, '440.325': 2, 'Anthony': 2, '(latest': 2, 'date': 2, 'Since': 2, 'A.': 2, 'Interview': 2, 'evaluates': 2, 'process': 2, 'primary': 2, 'Stackless': 2, 'sign': 2, 'roughly': 2, 'compilers': 2, 'executed': 2, 'Raymond': 2, 'valid': 2, '1.0,': 2, 'belonging': 2, 'Functions': 2, 'integers,': 2, 'page\"': 2, '7.12%': 2, 'Ruby,': 2, '26': 2, 'case': 2, 'comes': 2, 'decided': 2, 'static': 2, '(July': 2, 'make': 2, 'same,': 2, '55.351': 2, 'Moshe;': 2, 'dili)': 2, 'Integer': 2, 'second': 2, 'equality': 2, '58.42%': 2, '(4,': 2, '.pyo': 2, 'describe': 2, 'began': 2, '4</a>,': 1, 'terms,': 1, '\"hobby\"': 1, 'lately:': 1, '\"there': 1, 'caught': 1, 'move': 1, 'wiki': 1, '4,': 1, 'variables': 1, 'systems': 1, 'lang=\"ru\"': 1, 'levels': 1, 'clauses;': 1, 'Sid': 1, 'subset': 1, 'public': 1, 'varying': 1, 'semantics': 1, 'handling': 1, 'nothing': 1, 'leid)': 1, 'it\".<sup': 1, 'inherited': 1, 'ভাষা)': 1, 'thousands': 1, '2011,': 1, 'brief': 1, 'Max\">3ds': 1, '(among': 1, '(': 1, 'Mike.': 1, 'format': 1, 'methods,': 1, 'Armenian\"': 1, 'lang=\"an\"': 1, 'device': 1, 'cache': 1, 'further': 1, 'IDE\">Eric': 1, 'view': 1, 'operator.': 1, 'managed': 1, 'simplest': 1, 'Blog</i>.': 1, 'know,': 1, 'језик)': 1, 'instance,': 1, 'author,': 1, 'lang=\"te\"': 1, 'contrast,': 1, 'rounding': 1, 'indicated': 1, 'bits),': 1, '[x]\"': 1, 'game': 1, 'Labs<span': 1, 'TIP': 1, '(1996).': 1, 'Persian\"': 1, 'lang=\"fr\"': 1, 'title=\"\"': 1, 'lang=\"fa\"': 1, 'Unicode': 1, 'upon': 1, 'thereby': 1, '[ES4': 1, '(2004).': 1, 'value<sup': 1, 'lang=\"tl\"': 1, 'limit': 1, 'Serbian\"': 1, 'bring': 1, 'Long': 1, '2D': 1, 'Qt</i>.': 1, 'braces,': 1, 'Version': 1, 'S60': 1, 'require,': 1, 'different': 1, 'Style': 1, 'ns-0': 1, 'prefixing': 1, 'Notebook': 1, 'links\"': 1, 'suitable': 1, 'Scots\"': 1, 'product': 1, '2008<sup': 1, 'take': 1, 'bytecode': 1, '(commonly': 1, 'sometimes': 1, 'lang=\"la\"': 1, 'lang=\"si\"': 1, 'context': 1, 'recent': 1, '(Dutch': 1, 'lang=\"el\"': 1, '(October': 1, 'Creator': 1, 't': 1, 'Dave.': 1, 'newsgroup': 1, '2010).': 1, '2D/3D': 1, 'lists,': 1, '0441': 1, 'width=\"9\"': 1, 'Cookbook,': 1, 'define': 1, 'variety': 1, 'lang=\"bn\"': 1, 'class.)': 1, 'sparser,': 1, 'role': 1, 'Project': 1, 'Meets': 1, 'refer': 1, 'Michael': 1, 'GUI': 1, 'Force': 1, '(<i>PEP': 1, 'content:': 1, 'stack': 1, 'Benjamin': 1, 'classes,': 1, '(Value': 1, 'stackless': 1, 'closing': 1, 'issue,': 1, 'A:': 1, 'graphics': 1, 'Bill': 1, 'included': 1, 'nationale': 1, 'creator': 1, 'Canopy': 1, 'Making': 1, '1989,': 1, 'address.': 1, 'checker': 1, 'concepts': 1, 'alt=\"Page': 1, 'forming': 1, 'book\"><a': 1, 'agree': 1, 'B.': 1, 'false': 1, 'Riccardo': 1, 'Beginning': 1, '2016<sup': 1, 'number,': 1, 'Highest': 1, 'shift': 1, 'example)': 1, '2000': 1, 'layout,': 1, '&lt;&lt;': 1, 'modders': 1, '2.4)': 1, 'bottom;': 1, 'unlimited': 1, 'fluency': 1, '9.2</i>.': 1, '2017.<sup': 1, 'Skip;': 1, '[y]\"': 1, 'espoused': 1, '4px': 1, 'Static': 1, '2.7,': 1, 'sister': 1, 'performed': 1, '2014<span': 1, 'Urdu\"': 1, 'it:': 1, 'exists\"': 1, 'styles': 1, 'express': 1, 'lang=\"de\"': 1, 'Prentice': 1, 'imaginary': 1, 'model,': 1, '(2005).': 1, 'Documents': 1, 'trademark': 1, '0327': 1, 'Despite': 1, 'framework': 1, 'Max</a>,': 1, 'Python\"': 1, 'IDEs,': 1, '#3:': 1, 'twice': 1, 'Slices': 1, 'lang=\"sr\"': 1, 'String': 1, 'nearly': 1, '(int)': 1, 'cases': 1, 'Numerical': 1, 'eggs': 1, '3.6.3rc1': 1, 'releases.': 1, 'fifth': 1, 'Per;': 1, '[o]\"': 1, 'borrows': 1, 'ભાષા)': 1, 'process.': 1, 'declared': 1, 'lang=\"hu\"': 1, 'Andrew': 1, 'adds': 1, 'Jewett,': 1, 'calling,': 1, 'portal': 1, 'Modern': 1, '(usually': 1, 'lang=\"sq\"': 1, '(3rd': 1, 'aim': 1, '2012.': 1, 'round': 1, '(wikang': 1, '1989<sup': 1, '3.5),<sup': 1, 'share': 1, 'shells': 1, 'any': 1, 'obscure': 1, 'Berkeley:': 1, '466': 1, '(if': 1, \"'string'\": 1, 'health': 1, 'index.': 1, 'forum': 1, 'Stuart': 1, 'Bug': 1, 'addition': 1, 'lang=\"be\"': 1, '(زبان': 1, 'fully': 1, 'Daniel': 1, 'lang=\"fi\"': 1, 'calling': 1, 'never': 1, 'goal': 1, '(was:': 1, 'emulated': 1, 'lang=\"eo\"': 1, 'contact': 1, 'lang=\"ka\"': 1, '2012).': 1, '31': 1, 'conducted': 1, \"'13.<sup\": 1, 'p.': 1, 'Khmer\"': 1, 'ten': 1, 'covered': 1, 'Assamese\"': 1, 'Go': 1, 'removed': 1, 'ഭാഷ)': 1, 'keep': 1, '−1.0.<sup': 1, 'parameter': 1, 'top': 1, 'class;': 1, 'function.': 1, 'lang=\"nl\"': 1, \"'=',\": 1, 'Hall.': 1, 'suffix': 1, 'expected': 1, 'visited': 1, '[j]\"': 1, 'term': 1, '7': 1, 'protocols': 1, 'encloses': 1, 'timestamp': 1, 'NJ:': 1, 'testing': 1, 'literals': 1, 'Saddle': 1, 'rounds': 1, 'phones': 1, 'Norwegian': 1, 'Inc.</a>,': 1, 'system;': 1, 'probably': 1, 'sign).': 1, 'goes': 1, '2.4': 1, 'Italian\"': 1, 'tasks.': 1, 'tuples,': 1, 'etc),': 1, 'time</a>;': 1, 'products': 1, 'hashable': 1, 'multiply': 1, 'plan': 1, '[f]\"': 1, '465': 1, 'title=\"Qt': 1, 'modern': 1, \"2.7's\": 1, 'Catalan\"': 1, 'chained': 1, 'Mailing': 1, 'Other': 1, '0]': 1, 'Anna;': 1, 'rigidly': 1, '$,': 1, 'Space': 1, 'Moshe': 1, 'argument.': 1, 'Odia\"': 1, 'machine': 1, 'check': 1, 'modify': 1, 'Barry': 1, 'C++\"</a>.': 1, '[r]\"': 1, 'cite': 1, 'getting': 1, '0.5em': 1, 'usually': 1, 'avoiding': 1, 'numerical': 1, 'serve': 1, 'develop': 1, 'separate,': 1, 'explicit': 1, 'paper': 1, 'Tamil\"': 1, '?': 1, 'return': 1, 'Travis': 1, '(15': 1, '32': 1, '(8': 1, 'what': 1, 'ენა)': 1, 'Sinhala\"': 1, 'Alex;': 1, 'lang=\"ja\"': 1, 'successor': 1, '498': 1, 'icon\"': 1, 'printer': 1, 'Think': 1, 'Press.': 1, 'occupied': 1, '(زمانی': 1, 'build': 1, '4.0': 1, 'floating': 1, 'Network': 1, '2015,': 1, 'target': 1, 'Al': 1, '2.5': 1, 'јазик)': 1, 'Tuples': 1, 'integer,': 1, 'strive': 1, 'announced': 1, 'Upper': 1, 'id=\"toc\"': 1, '3.3.': 1, 'rebound': 1, 'industry,': 1, 'names,': 1, '(PyPI),': 1, 'Idiomatic': 1, 'Guys,': 1, 'ago,': 1, 'lang=\"mk\"': 1, 'Authority': 1, 'Zen': 1, 'Western': 1, '(4.0,': 1, 'lang=\"pl\"': 1, 'concern': 1, 'workload': 1, 'emphasis': 1, 'EuroSciPy': 1, 'Kurdish\"': 1, 'Escape': 1, 'behavior.': 1, 'Improving': 1, '(issue': 1, 'home': 1, 'ed.': 1, 'garbage': 1, 'serves': 1, \"project's\": 1, 'admirers': 1, 'Croatian\"': 1, 'list.': 1, 'manager': 1, '\"Fans': 1, '2010.<sup': 1, 'Spanish\"': 1, 'Before': 1, 'v2.7.3': 1, 'Indexes': 1, 'Gang': 1, 'Grumpy:': 1, 'Latvian\"': 1, 'playful': 1, 'reviewed': 1, '2.6': 1, 'copied': 1, 'compiled': 1, 'maximum': 1, 'code.<sup': 1, 'letting': 1, '(but': 1, 'time:': 1, 'needed': 1, 'moreover,': 1, 'modeler': 1, '3.0,': 1, '3.5.<sup': 1, 'features.': 1, 'Literal': 1, '(token': 1, 'ngữ': 1, 'yields': 1, 'Java)': 1, 'Darryl': 1, '2020': 1, 'generator': 1, 'Basque\"': 1, 'me': 1, '.pyc,': 1, 'case,': 1, 'set': 1, 'Axel.': 1, 'CPU': 1, 'derived': 1, 'said:': 1, 'default': 1, 'delimited': 1, 'Expert': 1, 'UNIX/C': 1, 'Mission': 1, 'right;': 1, 'appears.': 1, 'central': 1, 'who': 1, '[g]\"': 1, 'support,': 1, 'lang=\"mr\"': 1, 'computer,': 1, 'improving': 1, 'patents': 1, 'lang=\"bs\"': 1, 'meaning': 1, '(мова': 1, 'direction': 1, 'iterates': 1, 'Best': 1, 'input': 1, 'releasing': 1, 'motivated': 1, 'raw': 1, 'alt=\"This': 1, 'untyped': 1, '2003,': 1, 'G.': 1, 'Fellows,': 1, 'Gujarati\"': 1, '2.0.2': 1, '0,': 1, 'office': 1, 'Cebuano\"': 1, 'There': 1, 'Nuitka': 1, 'speeding': 1, 'rebranded': 1, 'pythonic': 1, '(WSGI)': 1, 'script': 1, '8': 1, 'interpret': 1, 'differs.': 1, 'Jump': 1, '\"string': 1, 'XO,': 1, 'Parsed': 1, '380\"</a>.': 1, \"That's\": 1, 'type;': 1, 'Types': 1, 'animation': 1, \"it's\": 1, 'wireless': 1, '(January': 1, 'lang=\"ro\"': 1, 'Slithers': 1, '[...]': 1, 'Between': 1, 'XML': 1, 'lang=\"nn\"': 1, 'contents,': 1, 'will.<sup': 1, 'Cache': 1, 'Inc.': 1, 'unary': 1, 'Thomas': 1, '2nd': 1, '(کمپیوٹر': 1, 'expects': 1, 'lang=\"ar\"': 1, 'lang=\"ta\"': 1, 'List:': 1, 'capturing': 1, 'APIs': 1, 'Both': 1, 'hands.': 1, 'itself': 1, '(August': 1, 'lang=\"ne\"': 1, 'binds': 1, 'depth:': 1, 'terminal.': 1, 'level': 1, 'entire': 1, 'closely': 1, 'begin': 1, 'Reference': 1, 'native': 1, 'UNIX': 1, '(2002).': 1, 'lang=\"hi\"': 1, '(CWI)': 1, 'desktop': 1, 'width=\"1\"': 1, 'associate': 1, '18': 1, 'creator,': 1, 'FAQ': 1, 'contained': 1, 'ensures': 1, 'holy': 1, '2.0\"</a>.': 1, 'APress.': 1, '2\".': 1, 'Typing': 1, 'Georgian\"': 1, 'Research': 1, 'clever': 1, 'Latin\"': 1, 'tuples.': 1, 'powerful': 1, 'a//b': 1, 'lang=\"lv\"': 1, 'Also,': 1, 'See': 1, 'enters': 1, 'a%b': 1, 'Why': 1, 'generic': 1, 'logged': 1, 'Speaking': 1, 'calls': 1, 'Turkish\"': 1, 'Neal': 1, 'Magic': 1, 'reversed.': 1, 'Saved': 1, 'Barry;': 1, 'help': 1, 'debugging': 1, 'lang=\"mn\"': 1, '1)': 1, 'intends': 1, 'paradigms': 1, 'think': 1, 'Nature': 1, 'lang=\"eu\"': 1, 'faster': 1, 'built': 1, 'Games': 1, '(magic': 1, 'reliable': 1, 'textual': 1, 'values),': 1, '(2):': 1, 'types<br': 1, '(EOL,': 1, 'Unlike': 1, 'Mark.': 1, 'pairs;': 1, 'lang=\"sh\"': 1, 'hard-won': 1, 'upstream': 1, 'C-derived': 1, 'Windows': 1, '(all': 1, '\"better': 1, 'Finnish\"': 1, '(1993).': 1, 'beyond': 1, 'title=\"D': 1, 'following': 1, 'Knowing': 1, '[u]\"': 1, '(c': 1, 'C++\".<sup': 1, 'function,': 1, 'fast,': 1, 'Codehaus': 1, 'porkbelly': 1, '(9': 1, 'Method': 1, 'relative': 1, 'ships': 1, 'variants': 1, 'D.;': 1, 'Aivazis,': 1, 'whenever': 1, 'Tcl': 1, 'That’s': 1, 'web\">CCP': 1, 'holder': 1, 'enough': 1, 'formats': 1, 'Transfer': 1, 'Zadka,': 1, 'large)': 1, 'Quality': 1, 'Dynamic': 1, 'common,': 1, 'workloads': 1, 'Thing),': 1, 'nearest': 1, 'tests': 1, 'planned': 1, 'account': 1, '[z]\"': 1, 'closed,': 1, 'Burmese\"': 1, 'Slice': 1, 'life': 1, 'id': 1, '(as': 1, 'sense': 1, 'users': 1, 'usual': 1, 'Slovak\"': 1, '0/1500000': 1, 'package': 1, 'possible': 1, 'based': 1, 'as:<sup': 1, 'it.': 1, '2013': 1, 'monitors': 1, 'programs.': 1, \"object's\": 1, 'Tajik\"': 1, 'position:': 1, 'South': 1, 'Home': 1, '|': 1, 'imaging': 1, 'offer': 1, 'capable': 1, 'pre-3.0': 1, 'within': 1, 'call': 1, 'mobile': 1, '(May': 1, 'presented': 1, 'focus': 1, '1996:<sup': 1, 'b</code>,': 1, 'back,': 1, 'lang=\"ia\"': 1, 'conceived': 1, '3.5.1': 1, 'months.': 1, 'fivefold': 1, '2.5),': 1, '[q]\"': 1, 'zip': 1, 'tuples': 1, 'news': 1, 'results': 1, 'search': 1, 'Enhanced': 1, 'empty': 1, 'Dev': 1, 'Boo': 1, 'place': 1, 'smaller': 1, 'field,': 1, '100.00%': 1, '(2011).': 1, 'Peachpit': 1, 'lie': 1, 'property,': 1, 'even</a>:': 1, 'allow': 1, 'condition': 1, 'validity': 1, '(REPL),': 1, 'add': 1, 'inverts': 1, 'decimal': 1, 'pass': 1, 'seen': 1, 'Central': 1, 'abilities': 1, 'Michele.': 1, 'Cain': 1, 'well,': 1, 'CPython.': 1, 'Unifying': 1, 'v2.7.2': 1, 'involving': 1, 'compare': 1, 'Peters,': 1, 'Lie': 1, 'point': 1, 'variable,': 1, 'Jocelyn,': 1, 'gone': 1, 'promotes': 1, 'name=\"go\"': 1, 'class=\"\"': 1, 'Moore': 1, '(lingua': 1, '[h]\"': 1, 'mistaking': 1, 'patched': 1, 'Asked': 1, 'Real': 1, 'Flow': 1, '(2015).': 1, 'extends': 1, 'bracket': 1, 'signifies': 1, 'hinting': 1, 'Czech\"': 1, '1991.': 1, '(was': 1, 'leads': 1, 'word': 1, 'Danish\"': 1, 'inherit': 1, 'feedback': 1, 'CERN': 1, 'course,': 1, 'Eby,': 1, 'Japanese\"': 1, '(19': 1, 'online': 1, '1.459': 1, 'collector': 1, '20&#160;–': 1, 'French\"': 1, 'option': 1, 'apply.': 1, 'shells,': 1, 'thinking': 1, '(In': 1, 'J.;': 1, 'Naomi': 1, '#aaa': 1, 'happen': 1, 'Just': 1, 'method.)': 1, 'enforced,': 1, '(keys': 1, 'name,': 1, 'Ltd.': 1, 'Nan)\"': 1, 'EVE': 1, 'bound': 1, 'sequence': 1, 'according': 1, 'tright\"': 1, 'lang=\"kk\"': 1, 'included\"': 1, '2.6)': 1, 'adding': 1, 'MB': 1, 'cost': 1, 'PEPs': 1, '(Monty': 1, '3.3,': 1, 'backslash': 1, 'testing.': 1, 'Magnus': 1, 'tutorials': 1, 'Tim;': 1, 'find': 1, 'lang=\"cs\"': 1, '3\".': 1, 'ready.': 1, 'for,': 1, 'assigning': 1, ')': 1, 'location': 1, 'Hindi\"': 1, 'true.': 1, '(amazing)': 1, 'So': 1, 'Life': 1, 'Goodger,': 1, 'opposite': 1, 'making': 1, 'extended': 1, 'EEP': 1, '2.6.x<sup': 1, 'Trading': 1, 'Memory': 1, 'ought': 1, 'meeting': 1, '2015\">Use': 1, 'Hebrew\"': 1, 'Stability': 1, \"id='p-tb'\": 1, '3.2,': 1, 'name&gt;': 1, '[e]\"': 1, '\"I': 1, 'True': 1, 'so': 1, '11,': 1, 'Ziff': 1, 'Generator': 1, 'Schedules': 1, '[n]\"': 1, '9': 1, 'भाषा': 1, 'item': 1, '\"To': 1, 'extending': 1, 'acquiring': 1, 'desired': 1, 'sunset': 1, '(PEP)': 1, 'award': 1, \"Cobra's\": 1, 'it\">there': 1, 'pushed': 1, 'Lojban\"': 1, 'lang=\"ur\"': 1, 'bound.': 1, 'clear': 1, 'Rexx,': 1, 'it.<sup': 1, 'title=\"F': 1, 'Each': 1, 'wanted': 1, 'rational': 1, 'JRuby': 1, 'looking': 1, \"'self'\": 1, 'Lesser': 1, 'conforms': 1, 'emitted': 1, 'By': 1, 'possible;': 1, 'fail,': 1, 'compared': 1, 'Niskanen,': 1, 'exploit': 1, 'try': 1, '(ngôn': 1, 'known': 1, 'be]': 1, 'Buginese\"': 1, 'Apple;': 1, 'Its': 1, '.pyw,': 1, 'columns': 1, 'float': 1, 'Swedish\"': 1, 'Python)': 1, 'Hylton,': 1, 'Own': 1, 'numerics': 1, 'lang=\"it\"': 1, 'routing': 1, 'effects': 1, 'data</a>,': 1, 'Sugar': 1, 'When': 1, 'shopping': 1, 'generated': 1, 'either': 1, 'to:': 1, \"name's\": 1, 'sequences': 1, 'Changing': 1, 'web\">The': 1, 'awarded': 1, 'bitwise': 1, 'lang=\"bg\"': 1, 'etc.': 1, 'automatic': 1, 'defines': 1, 'compile': 1, 'Recursion': 1, '2.6+,': 1, 'iterable': 1, 'grammar.': 1, 'rules': 1, '2.\"': 1, 'Arabic\"': 1, 'evolved': 1, 'Facundo': 1, '[k]\"': 1, 'While': 1, 'Nepali\"': 1, 'Grumpy': 1, 'Tagalog\"': 1, 'Brokers': 1, 'lang=\"vi\"': 1, 'Jeremy;': 1, 'efficient': 1, 'generally': 1, 'ideas.': 1, 'integrate': 1, 'v1.0</i>.': 1, 'Created': 1, '11/500': 1, 'effective': 1, 'Jarrod;': 1, 'meanings': 1, 'mentoring': 1, 'linked': 1, 'about<b': 1, 'spam': 1, '(notably': 1, 'analogous': 1, 'relations': 1, 'Runs': 1, '(C': 1, 'lang=\"az\"': 1, '2.7.x': 1, 'executing': 1, '[p]\"': 1, 'Interface': 1, 'style.': 1, 'lang=\"ca\"': 1, 'silently': 1, 'Go:': 1, 'useful': 1, 'Allen': 1, '6.48': 1, 'lang=\"gu\"': 1, '(prior': 1, 'lang=\"tr\"': 1, 'Blog:': 1, 'earlier': 1, 'Fix': 1, 'onwards,': 1, 'type.': 1, 'namespace': 1, 'it</a>\"': 1, 'social': 1, 'commented': 1, 'Python).': 1, 'runtime.': 1, 'lang=\"lt\"': 1, 'b)//b': 1, 'time:<sup': 1, 'practices': 1, 'Polish\"': 1, 'model.': 1, 'usable': 1, '21/40': 1, 'Book:': 1, '(April': 1, 'Lisp</a>,': 1, 'scale': 1, 'readable': 1, '2010),': 1, 'style': 1, '(note,': 1, '(notation': 1, '-total\",\"': 1, 'link': 1, 'effort': 1, 'date)': 1, 'Andreas;': 1, 'session': 1, '(see': 1, 'lang=\"is\"': 1, 'bringing': 1, 'it),': 1, 'CPython)': 1, 'Adding': 1, 'image': 1, 'jezik': 1, 'limited': 1, 'mood': 1, 'occur': 1, 'left;': 1, 'previews': 1, 'Using': 1, 'interval': 1, 'phrase': 1, '(bahasa': 1, 'core,': 1, 'Expensive': 1, '1900800': 1, 'Thus,': 1, 'lang=\"uz\"': 1, 'slightly': 1, 'formerly': 1, 'week': 1, 'replace': 1, '15.21.1.': 1, 'NLUUG': 1, 'patches': 1, 'Calling': 1, '(at': 1, 'भाषा)': 1, 'mapper': 1, 'from,': 1, 'wrote': 1, 'Russian\"': 1, 'ZIP': 1, 'Low': 1, 'altering': 1, 'paths.': 1, 'simple': 1, 'database.': 1, 'needed.': 1, 'Media,': 1, 'زبان)': 1, 'study': 1, 'shows': 1, 'knowing': 1, 'code</i>.': 1, 'Solving': 1, 'period': 1, 'revisions': 1, 'Wu': 1, 'beta,': 1, 'select': 1, 'exuberant': 1, 'lang=\"no\"': 1, 'lang=\"ko\"': 1, 'Cached': 1, 'Ruby': 1, 'James': 1, 'Romanian\"': 1, 'Ways': 1, 'exact': 1, '373': 1, 'Essential': 1, 'Lutz': 1, 'vevent\"': 1, 'six': 1, 'Old-style': 1, 'Not': 1, 'ltr': 1, '68\">ALGOL': 1, 'party': 1, 'access': 1, '(18': 1, 'growth': 1, 'Malay\"': 1, 'benefited': 1, 'logo': 1, 'to,': 1, 'blocks,': 1, '2.1': 1, 'games);': 1, 'sources.': 1, 'left.<sup': 1, 'Estonian\"': 1, 'Dutch\"': 1, 'However': 1, 'aspects': 1, \"3's\": 1, 'lang=\"ml\"': 1, '(Version': 1, '[c]\"': 1, '.pyz': 1, 'citation': 1, 'most)': 1, 'List': 1, 'connected': 1, 'pretty': 1, 'Who?': 1, '[..': 1, 'Type': 1, 'direct': 1, 'mix': 1, 'scripts': 1, 'suites': 1, 'David.': 1, '2.3': 1, 'sets;': 1, 'birth': 1, 'English\"': 1, 'Projects:': 1, 'stack,': 1, 'site,': 1, \"doesn't\": 1, 'lang=\"tg\"': 1, 'around': 1, 'gives': 1, 'async=\"\"': 1, '-total': 1, 'whole,': 1, 'tilde': 1, 'Chinese': 1, 'new-style': 1, 'fix': 1, 'response': 1, 'keywords.': 1, 'practice': 1, 'integer.': 1, 'operates': 1, 'Uzbek\"': 1, 'desire': 1, 'Evan.': 1, 'Examples': 1, '(Mailing': 1, '(that': 1, 'fun': 1, '7&#160;–': 1, 'scheduled': 1, 'market': 1, 'evaluate': 1, '0.75em;': 1, 'Template': 1, 'Congress': 1, 'keywords': 1, 'lang=\"id\"': 1, 'Design': 1, 'natural': 1, 'marginal': 1, 'widget': 1, 'mw1261': 1, 'appeal': 1, 'Names': 1, 'Optional': 1, '2016).': 1, 'Modules': 1, 'styles.': 1, 'Provider': 1, 'difficult': 1, 'Why?': 1, 'entities': 1, 'GIMP': 1, 'lists': 1, 'Hetland,': 1, 'lang=\"hy\"': 1, 'real': 1, 'Telugu\"': 1, 'reject': 1, 'rather,': 1, 'world': 1, 'random': 1, 'Systems': 1, 'class,': 1, 'Asturian\"': 1, 'IV\"</a>.': 1, 'Special': 1, 'early': 1, 'ଭାଷା)': 1, 'rationale': 1, 'earnest': 1, 'Jython': 1, 'lang=\"sk\"': 1, '.pyd,': 1, '.<sup': 1, 'argument': 1, '(intended': 1, 'C-level': 1, 'Greek\"': 1, 'runtimes': 1, 'almost': 1, 'deciding': 1, 'through,': 1, 'year,': 1, 'Canopy.': 1, 'Lukewarm': 1, 'భాష)': 1, 'IV': 1, 'web\">Eby,': 1, 'Stack': 1, '3.6.3': 1, '(1st': 1, '(langage)': 1, 'objects.': 1, 'gurus,': 1, 'py3k),': 1, 'string)': 1, 'Ascher,': 1, 'Some': 1, 'next': 1, 'moved': 1, 'identical': 1, 'equals': 1, 'omitted,': 1, 'him': 1, 'Bangla\"': 1, 'lock': 1, 'lang=\"th\"': 1, 'resulting': 1, 'Nynorsk\"': 1, 'files': 1, 'suited': 1, 'algorithm': 1, '(2nd': 1, '4D</a>,': 1, 'brings': 1, 'instance': 1, 'lang=\"zh\"': 1, 'Software.': 1, 'lang=\"hr\"': 1, 'quite': 1, 'it,': 1, '333<sup': 1, 'To': 1, 'Rapid': 1, '\"Appendix': 1, 'format\"': 1, 'beginning': 1, '(24': 1, 'might': 1, 'Thing': 1, 'produced': 1, 'attaches': 1, 'specified': 1, 'lang=\"or\"': 1, 'raised': 1, 'Compare': 1, 'New-style': 1, 'problem': 1, 'reads': 1, 'hence': 1, '(blog': 1, '6&#160;–': 1, '0465': 1, 'major,': 1, '2013)': 1, 'C\".<sup': 1, '1px': 1, 'enable': 1, 'Oracle': 1, 'jazyk)': 1, '[t]\"': 1, 'do,': 1, '1,': 1, 'influence': 1, 'Dylan': 1, 'Lombard\"': 1, 'lang=\"af\"': 1, 'problems': 1, 'PEP)': 1, 'schedule': 1, 'big': 1, '3000': 1, 'jQuery,': 1, 'fork': 1, '(linguage': 1, 'normal': 1, 'C3': 1, 'needs': 1, 'change': 1, 'Facundo.': 1, 'Raimo': 1, 'bind': 1, 'used.': 1, 'lang=\"km\"': 1, 'lang=\"my\"': 1, 'use.': 1, 'site': 1, 'standard,': 1, 'trình)': 1, 'syntax.': 1, 'skipped': 1, 'implicit': 1, 'Further,': 1, 'lang=\"ms\"': 1, '2.7\"</a>.': 1, 'doing': 1, 'optimised': 1, 'end.': 1, 'partial': 1, '1.6.6': 1, 'grail': 1, '__add__': 1, 'Thai\"': 1, 'Neil;': 1, '64': 1, 'edit': 1, '1&#160;–': 1, 'Brett.': 1, 'floor': 1, 'start': 1, 'Steve': 1, 'bugfix': 1, 'ninjas,': 1, 'Punjabi\"': 1, 'Davis': 1, 'object.': 1, '20</i>),': 1, '#eee;\"><a': 1, 'Shuttle': 1, 'expiry:': 1, 'append': 1, 'bugs': 1, 'not.': 1, '803738913': 1, 'opening': 1, 'lập': 1, 'End': 1, 'Apple': 1, ':': 1, 'anything': 1, 'MB/50': 1, 'itself),': 1, '2005,': 1, '(from': 1, 'mutable,': 1, '16': 1, 'Exchange.': 1, 'fan': 1, '\"typed': 1, '2.<sup': 1, 'cart': 1, 'past,': 1, 'nyelv)': 1, 'test': 1, 'expected,': 1, 'We': 1, 'iOS': 1, 'requires': 1, 'lang=\"gl\"': 1, 'Although': 1, '.NET': 1, 'Donal': 1, 'Marathi\"': 1, '2011<span': 1, 'experts,': 1, 'Android': 1, 'lang=\"he\"': 1, 'worse': 1, 'chained,': 1, 'handled': 1, 'Help': 1, 'Complete,': 1, 'contents\"': 1, 'Linux': 1, 'Lists': 1, 'lang=\"da\"': 1, 'lang=\"et\"': 1, 'ways': 1, 'chose': 1, 'system.': 1, 'Jason': 1, 'course': 1, '[and]': 1, 'fast': 1, 'Tools': 1, 'avoid': 1, 'Kevin': 1, 'coding': 1, '\"feature\"': 1, '(The': 1, 'A-Z': 1, 'proposing': 1, 'IE': 1, 'Galician\"': 1, '\"L\"': 1, 'Features': 1, 'bugs.': 1, 'lt': 1, '3.5)<sup': 1, 'span': 1, 'S60</a>,': 1, '1.300': 1, 'names.': 1, 'European': 1, 'improper': 1, 'Ned': 1, 'collapse;': 1, 'took': 1, 'bugfixes': 1, 'browsing': 1, 'lang=\"sl\"': 1, 'numbers': 1, 'claim': 1, 'postponed': 1, '15.21.3.': 1, '\"All': 1, 'shell,': 1, 'River,': 1, 'suite': 1, 'LWN.net.': 1, 'v2.6.9': 1, 'FAQ\"</a>.': 1, 'Kazakh\"': 1, 'Pages': 1, 'come': 1, 'Labs</a>,': 1, 'Bosnian\"': 1, 'Institute': 1, 'lang=\"pt\"': 1, 'Albanian\"': 1, 'words': 1, 'scraping,': 1, '\"with': 1, 'iterate': 1, 'Desktop': 1, 'ability': 1, '(\"blah\",': 1, 'division.': 1, 'manually': 1, 'months,': 1, 'Secure': 1, '(5th': 1, 'iterated': 1, 'rich': 1, '&gt;&gt;': 1, '2010)': 1, 'principal': 1, 'Advanced': 1, '*': 1, 'closer': 1, '(Min': 1, 'My': 1, 'switched': 1, 'material': 1, 'say,': 1, 'tireless': 1, 'decisions': 1, 'NewPP': 1, 'decrease': 1, 'Media.': 1, '2008).': 1, 'Jim': 1, \"You're\": 1, 'versions,': 1, 'optional,': 1, '2009': 1, 'required': 1, 'aid': 1, '1991<span': 1, 'lang=\"uk\"': 1, 'Julia': 1, 'edited': 1, 'among': 1, 'Ola': 1, 'kept': 1, 'lang=\"es\"': 1, 'massively': 1, 'refine': 1, 'clean-up': 1, 'former': 1, 'in,': 1, 'lang=\"as\"': 1, 'lang=\"sv\"': 1, 'classes:': 1, '[0,': 1, 'C#': 1, 'one—and': 1, 'ideal,': 1, '(e.g.,': 1, 'Korean\"': 1, 'بولی)': 1, 'IBPy': 1, 'break': 1, 'taking': 1, 'M.;': 1, 'twt': 1, 'discussed': 1, 'rewriting': 1, 'web\">Lin,': 1, 'another': 1, 'why': 1, 'idioms': 1, 'mailing': 1})\n"
     ]
    }
   ],
   "source": [
    "from collections import Counter\n",
    "import requests\n",
    "import re\n",
    "def getAlltermsFromUrl(url):\n",
    "    res = requests.get(url)\n",
    "    html = res.text\n",
    "    terms = [term for term in html.split() if not re.findall(r'^\\<', term) and not re.findall(r'\\>$', term) and len(term) < 10]\n",
    "    return terms\n",
    "\n",
    "url = \"https://en.wikipedia.org/wiki/Python_(programming_language)\"\n",
    "terms = getAlltermsFromUrl(url)\n",
    "counter = Counter(terms)\n",
    "# counter.get('scripting')\n",
    "print(counter)"
   ]
  },
  {
   "cell_type": "code",
   "execution_count": 9,
   "metadata": {
    "collapsed": false,
    "deletable": true,
    "editable": true
   },
   "outputs": [
    {
     "data": {
      "text/plain": [
       "[('the', 273),\n",
       " ('of', 250),\n",
       " ('and', 248),\n",
       " ('Python', 199),\n",
       " ('text\"', 186),\n",
       " ('to', 175),\n",
       " ('a', 170),\n",
       " ('in', 148),\n",
       " ('is', 145),\n",
       " ('Retrieved', 118),\n",
       " ('for', 103),\n",
       " ('–', 90),\n",
       " ('web\"><a', 80),\n",
       " ('as', 66),\n",
       " ('with', 65),\n",
       " ('from', 62),\n",
       " ('are', 58),\n",
       " ('by', 51),\n",
       " ('Software', 49),\n",
       " ('on', 46)]"
      ]
     },
     "execution_count": 9,
     "metadata": {},
     "output_type": "execute_result"
    }
   ],
   "source": [
    "sorted(dict(Counter(terms)).items(), key=lambda x:x[1], reverse=True)[:20] \n",
    "##dict have no order, so if tou want to order them, you have to transfer them into tuple list"
   ]
  },
  {
   "cell_type": "code",
   "execution_count": 15,
   "metadata": {
    "collapsed": false
   },
   "outputs": [
    {
     "data": {
      "text/plain": [
       "'{\"Decimal\": 2, \"\\\\\"hobby\\\\\"\": 1, \"lately:\": 1, \"versus\": 3, \"there\": 4, \"caught\": 1, \"move\": 1, \"list\": 7, \"empirical\": 2, \"Erik.\": 2, \"4,\": 1, \"systems\": 1, \"31px;\": 8, \"clauses;\": 1, \"run\": 8, \"public\": 1, \"varying\": 1, \"Nokia\": 2, \"nothing\": 1, \"special\": 3, \"PyPy\": 3, \"it\\\\\".<sup\": 1, \"rights\": 2, \"had\": 4, \"2.7\\\\\"</a>.\": 1, \"problems\": 1, \"ভাষা)\": 1, \"Max\\\\\">3ds\": 1, \"(among\": 1, \"until\": 2, \"format\": 1, \"b</code>,\": 1, \"further\": 1, \"IDE\\\\\">Eric\": 1, \"[j]\\\\\"\": 1, \"operator.\": 1, \"simplest\": 1, \"језик)\": 1, \"beginning\": 1, \"lang=\\\\\"te\\\\\"\": 1, \"indicated\": 1, \"links\": 2, \"An\": 5, \"Labs<span\": 1, \"TIP\": 1, \"(1996).\": 1, \"dated\": 13, \"Persian\\\\\"\": 1, \"lang=\\\\\"fr\\\\\"\": 1, \"than\": 24, \"Unicode\": 1, \"core\": 4, \"upon\": 1, \"thereby\": 1, \"lang=\\\\\"mr\\\\\"\": 1, \"contents,\": 1, \"value<sup\": 1, \"user\": 4, \"Charles.\": 2, \"line\": 2, \"Brief\": 2, \"(زبان\": 1, \"1.5x,\": 21, \"2D\": 1, \"Version\": 1, \"S60\": 1, \"said:\": 1, \"different\": 1, \"formerly\": 1, \"ns-0\": 1, \"lang=\\\\\"ar\\\\\"\": 1, \"Notebook\": 1, \"3,\": 2, \"code\": 24, \"provided\": 5, \"Scots\\\\\"\": 1, \"product\": 1, \"take\": 1, \"2x\\\\\"\": 21, \"(commonly\": 1, \"lang=\\\\\"la\\\\\"\": 1, \"recent\": 1, \"Pages\": 1, \"(October\": 1, \"t\": 1, \"web\\\\\">CCP\": 1, \"Transfer\": 1, \"small\": 2, \"Computer\": 2, \"2D/3D\": 1, \"lists,\": 1, \"0441\": 1, \"tools,\": 2, \"Cookbook,\": 1, \"define\": 1, \"along\": 2, \"List\": 1, \"sparser,\": 1, \"variant\": 3, \"(کمپیوٹر\": 1, \"Project\": 1, \"Meets\": 1, \"refer\": 1, \"(<i>PEP\": 1, \"including\": 9, \"Benjamin\": 1, \"created\": 6, \"1238.429\": 2, \"the\": 273, \"stackless\": 1, \"values\": 3, \"Free\": 7, \"compares\": 2, \"after\": 6, \"Fix\": 1, \"platform\": 2, \"nationale\": 1, \"As\": 3, \"in\": 148, \"Canopy\": 1, \"columns\": 1, \"Making\": 1, \"1989,\": 1, \"address.\": 1, \"article\\\\\"\": 2, \"concepts\": 1, \"alt=\\\\\"Page\": 1, \"forming\": 1, \"writing\": 4, \"y</code>,\": 2, \"error\": 2, \"book\\\\\"><a\": 1, \"Laptop\": 2, \"number,\": 1, \"title=\\\\\"C\": 13, \"infix\": 2, \"-\": 13, \"Cobra\": 3, \"value\": 6, \"2000\": 1, \"makes\": 3, \"say\": 2, \"bottom;\": 1, \"\\'self\\'\": 1, \"fluency\": 1, \"Highest\": 1, \"[y]\\\\\"\": 1, \"from,\": 1, \"an\": 29, \"1:\": 2, \"popular\": 3, \"Static\": 1, \"G.\": 1, \"Both\": 1, \"it:\": 1, \"developed\": 2, \"altering\": 1, \"imaginary\": 1, \"paths.\": 1, \"trademark\": 1, \"Python\\\\\"\": 1, \"IDEs,\": 1, \"twice\": 1, \"Web\": 3, \"through,\": 1, \"names\": 4, \"(int)\": 1, \"brackets\": 2, \"class\": 5, \"while\": 4, \"eggs\": 1, \"releases.\": 1, \"this\": 35, \"[o]\\\\\"\": 1, \"they\": 3, \"known\": 1, \"two\": 5, \"extensive\": 3, \"Per;\": 1, \"requiring\": 2, \"lang=\\\\\"hu\\\\\"\": 1, \"24\": 2, \"state\": 2, \"working\": 3, \"ranked\": 2, \"adds\": 1, \"Chris\": 4, \"portal\": 1, \"seconds\": 3, \"edited\": 1, \"lang=\\\\\"sq\\\\\"\": 1, \"closely\": 1, \"suite\": 1, \"Lattner\\'s\": 2, \"3.5),<sup\": 1, \"History\": 4, \"each\": 6, \"shells\": 1, \"any\": 1, \"obscure\": 1, \"Berkeley:\": 1, \"466\": 1, \"(if\": 1, \"\\'string\\'\": 1, \"index.\": 1, \"forum\": 1, \"addition\": 1, \"fully\": 1, \"since\": 3, \"syntactic\": 2, \"Daniel\": 1, \"calling\": 1, \"goal\": 1, \"(was:\": 1, \"lang=\\\\\"an\\\\\"\": 1, \"lang=\\\\\"ka\\\\\"\": 1, \"4.47%\": 2, \"conducted\": 1, \"type\": 7, \"though\": 2, \"nature\": 2, \"ten\": 1, \"covered\": 1, \"−1.0.<sup\": 1, \"parameter\": 1, \"top\": 1, \"padding:\": 3, \"class;\": 1, \"\\\\\"<a\": 3, \"\\'=\\',\": 1, \"expected\": 1, \"term\": 1, \"2.7,\": 1, \"protocols\": 1, \"encloses\": 1, \"testing\": 1, \"literals\": 1, \"know,\": 1, \"Click\": 2, \"--\": 7, \"Saddle\": 1, \"video\": 2, \"Python\": 199, \"*\": 1, \"May\": 2, \"goes\": 1, \"Italian\\\\\"\": 1, \"tasks.\": 1, \"associate\": 1, \"changed\": 3, \"time</a>;\": 1, \"(software\": 3, \"Space\": 1, \"multiply\": 1, \"plan\": 1, \"[f]\\\\\"\": 1, \"465\": 1, \"title=\\\\\"Qt\": 1, \"chained\": 1, \"Mailing\": 1, \"Other\": 1, \"Anna;\": 1, \"article:\": 4, \"rigidly\": 1, \"with\": 65, \"third\": 4, \"time:\": 1, \"machine\": 1, \"modify\": 1, \"denoted\": 2, \"getting\": 1, \"Data\": 6, \"hlist\": 7, \"paper\": 1, \"?\": 1, \"return\": 1, \"Travis\": 1, \"(2010).\": 2, \"Magic\": 1, \"32\": 1, \"(8\": 1, \"prefix\": 2, \"That’s\": 1, \"2011<span\": 1, \"and\": 248, \"ენა)\": 1, \"operators\": 4, \"30em;\": 3, \"access\": 1, \"2015,\": 1, \"width:\": 9, \"years\": 5, \"Equality\": 2, \"2.5\": 1, \"Codehaus\": 1, \"people\": 3, \"2000).\": 5, \"integer,\": 1, \"related\": 2, \"announced\": 1, \"Upper\": 1, \"industry,\": 1, \"was\": 26, \"text\": 2, \"ago,\": 1, \"chained,\": 1, \"Catalan\\\\\"\": 1, \"Western\": 1, \"2\\\\\".\": 1, \"Low\": 1, \"program\": 3, \"favor\": 2, \"Danish\\\\\"\": 1, \"EuroSciPy\": 1, \"Kurdish\\\\\"\": 1, \"right;\": 1, \"compiler\": 2, \"major\": 6, \"internal\": 2, \"syntax,\": 3, \"Improving\": 1, \"grammar.\": 1, \"bytes\": 3, \"garbage\": 1, \"certain\": 2, \"apply.\": 1, \"project\\'s\": 1, \"date\": 2, \"XO,\": 1, \"list.\": 1, \"manager\": 1, \"2010.<sup\": 1, \"Spanish\\\\\"\": 1, \"web\\\\\"><a\": 80, \"Indexes\": 1, \"Grumpy:\": 1, \"#aaa;\": 3, \"playful\": 1, \"unsourced\": 6, \"copied\": 1, \"4em\\\\\"><a\": 4, \"compiled\": 1, \"lang=\\\\\"eo\\\\\"\": 1, \"code.<sup\": 1, \"(but\": 1, \"version\": 14, \"modeler\": 1, \"element\": 4, \"3.0,\": 1, \"3.5.<sup\": 1, \"723.514\": 2, \"e.g.\": 6, \"best\": 2, \"(token\": 1, \"ngữ\": 1, \"January\": 14, \"2020\": 1, \"input\": 1, \".pyc,\": 1, \"Times,\": 2, \"Hetland,\": 1, \"set\": 1, \"Axel.\": 1, \"similar\": 6, \"CPU\": 1, \"derived\": 1, \"default\": 1, \"other\": 17, \"Ascher,\": 1, \"UNIX/C\": 1, \"Mission\": 1, \"sources.\": 1, \"(13\": 2, \"central\": 1, \"computer,\": 1, \"lang=\\\\\"ru\\\\\"\": 1, \"Go\": 1, \"improving\": 1, \"patents\": 1, \"lang=\\\\\"bs\\\\\"\": 1, \"meaning\": 1, \"Punjabi\\\\\"\": 1, \"found\": 2, \"changes\": 4, \"0.2em\": 4, \"title=\\\\\"Go\": 7, \"This\": 13, \"motivated\": 1, \"3.<sup\": 2, \"initially\": 2, \"raw\": 1, \"3.5.\": 2, \"2003,\": 1, \"__add__\": 1, \"0,\": 1, \"office\": 1, \"code,\": 4, \"article\": 2, \"speeding\": 1, \"pythonic\": 1, \"Haskell,\": 2, \"8\": 1, \"interpret\": 1, \"(2\": 2, \"Assamese\\\\\"\": 1, \"my\": 2, \"==\": 14, \"a%b\": 1, \"via\": 3, \"semantics\": 1, \"mixed\": 5, \"Monty\": 2, \"object,\": 3, \"contrast,\": 1, \"[...]\": 1, \"Speaking\": 1, \"lang=\\\\\"nn\\\\\"\": 1, \"TIOBE\": 3, \"Operators\": 2, \"English\": 2, \"December\": 8, \"unary\": 1, \"Thomas\": 1, \"(22\": 2, \"approach\": 3, \"List:\": 1, \"content\": 4, \"expiry:\": 1, \"Phillip\": 2, \"available\": 5, \"Odia\\\\\"\": 1, \"capturing\": 1, \"2006<span\": 2, \"lang=\\\\\"de\\\\\"\": 1, \"Python:\": 6, \"syntax\": 10, \"various\": 3, \"thus\": 3, \"dedicated\": 2, \"terminal.\": 1, \"level\": 1, \"equality\": 2, \"(wikang\": 1, \"most)\": 1, \"UNIX\": 1, \"Khmer\\\\\"\": 1, \"PEP)\": 1, \"introduce\": 2, \"(CWI)\": 1, \"(9\": 1, \"width=\\\\\"1\\\\\"\": 1, \"November\": 4, \"A:\": 1, \"series\": 2, \"creator,\": 1, \"FAQ\": 1, \"2.0\\\\\"</a>.\": 1, \"Powerful\": 2, \"Typing\": 1, \"2.5,\": 4, \"home\": 1, \"Georgian\\\\\"\": 1, \"memory\": 3, \"highly\": 2, \"days\": 2, \"Latin\\\\\"\": 1, \"a//b\": 1, \"CLU,\": 2, \"for,\": 1, \"See\": 1, \"something\": 2, \"earnest\": 1, \"right\": 2, \"Why\": 1, \"logged\": 1, \"wireless\": 1, \"packages\": 2, \"modules\": 9, \"places,\": 2, \"may\": 8, \"Timeline\": 2, \"reversed.\": 1, \"help\": 1, \"Lists\": 1, \"Google.\": 2, \".\": 2, \"built\": 1, \"Apress.\": 2, \"Games\": 1, \"textual\": 1, \"values),\": 1, \"(2):\": 1, \"sets;\": 1, \"where\": 7, \"Baxter,\": 2, \"92.514\": 2, \"hard-won\": 1, \"upstream\": 1, \"single\": 3, \"language,\": 3, \"holy\": 1, \"2007\": 2, \"(1993).\": 1, \"beyond\": 1, \"better\": 5, \"\\'Times\": 2, \"were\": 2, \"[u]\\\\\"\": 1, \"because\": 3, \"C++\\\\\".<sup\": 1, \"J.;\": 1, \"Standard\": 14, \"Method\": 1, \"relative\": 1, \"ships\": 1, \"variants\": 1, \"and,\": 2, \"From\": 2, \"whenever\": 1, \"Tcl\": 1, \"award\": 1, \"formats\": 1, \"logo\": 1, \"large)\": 1, \"Quality\": 1, \"supported\": 4, \"Wikipedia\": 4, \"Thing),\": 1, \"nearest\": 1, \"address\": 2, \"release,\": 3, \"6.48\": 1, \"plainlist\": 2, \"such\": 16, \"closed,\": 1, \"dir=\\\\\"ltr\\\\\"\": 2, \"life\": 1, \"has\": 38, \"running\": 3, \"programs\": 6, \"users\": 1, \"Shop\": 2, \"that\": 42, \"possible\": 1, \"it.\": 1, \"designed\": 3, \"monitors\": 1, \"programs.\": 1, \"133\": 2, \"b\": 2, \"(\": 1, \"imaging\": 1, \"2</code>,\": 3, \"capable\": 1, \"Security\": 2, \"articles\": 18, \"natural\": 1, \"within\": 1, \"double\": 3, \"count:\": 3, \"(web\": 13, \"invented\": 2, \"using\": 17, \"2016<span\": 2, \"Science\": 3, \"lang=\\\\\"ia\\\\\"\": 1, \"conceived\": 1, \"3.5.1\": 1, \"months.\": 1, \"positive\": 2, \"(blog\": 1, \"2.5),\": 1, \"[q]\\\\\"\": 1, \"zip\": 1, \"tuples\": 1, \"news\": 1, \"lang=\\\\\"my\\\\\"\": 1, \"Ola\": 1, \"Book\": 14, \"field,\": 1, \"(2011).\": 1, \"Peachpit\": 1, \"creating\": 2, \"(or\": 2, \"lie\": 1, \"property,\": 1, \"allow\": 1, \"validity\": 1, \"inverts\": 1, \"pass\": 1, \"late\": 2, \"lang=\\\\\"bn\\\\\"\": 1, \"Cain\": 1, \"well,\": 1, \"v2.7.2\": 1, \"types,\": 4, \"fewer\": 3, \"involving\": 1, \"bring\": 1, \"Peters,\": 1, \"Rossum\": 4, \"Lie\": 1, \"Julia\": 1, \"[0,\": 1, \"promotes\": 1, \"instead\": 2, \"Moore\": 1, \"implement\": 3, \"(lingua\": 1, \"if\": 7, \"patched\": 1, \"language)\": 5, \"virtual\": 2, \"S.\": 2, \"view\": 1, \"extends\": 1, \"Tagalog\\\\\"\": 1, \"easily\": 2, \"kinds\": 4, \"signifies\": 1, \"graphics\": 1, \"Czech\\\\\"\": 1, \"1991.\": 1, \"printer\": 1, \"Think\": 1, \"word\": 1, \"referred\": 2, \"lock\": 1, \"collector\": 1, \"French\\\\\"\": 1, \"option\": 1, \"shells,\": 1, \"thinking\": 1, \"lang=\\\\\"zh\\\\\"\": 1, \"fast,\": 1, \"method.)\": 1, \"enforced,\": 1, \"Ltd.\": 1, \"bound\": 1, \"sequence\": 1, \"suffix\": 1, \"NJ:\": 1, \"tright\\\\\"\": 1, \"Rossum,\": 14, \"fifth\": 1, \"included\\\\\"\": 1, \"MB\": 1, \"whether\": 2, \"develop\": 1, \"3.3,\": 1, \"backslash\": 1, \"Magnus\": 1, \"build\": 1, \"Tim;\": 1, \"important\": 3, \"2017<span\": 3, \"workload\": 1, \"borrowed\": 2, \"behavior.\": 1, \"ଭାଷା)\": 1, \"Gang\": 1, \"whose\": 2, \"true.\": 1, \"So\": 1, \"IP\": 2, \"Lojban\\\\\"\": 1, \"extended\": 1, \"depth:\": 1, \"Memory\": 1, \"ought\": 1, \"3.2,\": 1, \"\\\\\"feature\\\\\"\": 1, \"features\": 8, \"O\\'Reilly\": 2, \"(for\": 5, \"so\": 1, \"existing\": 2, \"11,\": 1, \"optional\": 5, \"Ziff\": 1, \"iterators\": 2, \"Schedules\": 1, \"[e]\\\\\"\": 1, \"embedded\": 2, \"issues\": 2, \"(all\": 1, \"desired\": 1, \"CPython\": 9, \"(PEP)\": 1, \"keywords\": 1, \"function\": 6, \"function.\": 1, \"typed\": 5, \"title=\\\\\"F\": 1, \"search\": 1, \"place\": 1, \"decimal\": 1, \"Purpose\": 2, \"Lesser\": 1, \"D.;\": 1, \"possible;\": 1, \"fail,\": 1, \"compared\": 1, \"exploit\": 1, \"try\": 1, \"2012).\": 1, \"Software.\": 1, \"speed\": 4, \"be]\": 1, \"Meier\\'s\": 2, \"to\": 175, \"Its\": 1, \"2015\\\\\">Use\": 1, \"his\": 2, \"Basque\\\\\"\": 1, \"Hylton,\": 1, \"Own\": 1, \"object\": 5, \"numerics\": 1, \"does\": 8, \"data</a>,\": 1, \"reflected\": 2, \"shopping\": 1, \"Java\": 10, \"C\": 12, \"often\": 8, \"generated\": 1, \"to:\": 1, \"name\\'s\": 1, \"free\": 21, \"Changing\": 1, \"web\\\\\">The\": 1, \"lang=\\\\\"bg\\\\\"\": 1, \"online\": 1, \"automatic\": 1, \"Is\": 4, \"Recursion\": 1, \"2.6+,\": 1, \"rules\": 1, \"evolved\": 1, \"[k]\\\\\"\": 1, \"used.\": 1, \"scripting\": 6, \"With\": 2, \"2011,\": 1, \"0327\": 1, \"normal\": 1, \"ideas.\": 1, \"integrate\": 1, \"11/500\": 1, \"executes\": 3, \"Language\": 12, \"effective\": 1, \"Jarrod;\": 1, \"meanings\": 1, \"mentoring\": 1, \"linked\": 1, \"Dev\": 1, \"relations\": 1, \"examples\": 2, \"Gateway\": 6, \"Runs\": 1, \"intended\": 5, \"2.7.x\": 1, \"New-style\": 1, \"style.\": 1, \"lang=\\\\\"ca\\\\\"\": 1, \"common\": 4, \"Go:\": 1, \"Allen\": 1, \"uses\": 12, \"(prior\": 1, \"how\": 3, \"River,\": 1, \"type.\": 1, \"namespace\": 1, \"it</a>\\\\\"\": 1, \"In\": 7, \"social\": 1, \"Neil;\": 1, \"value,\": 2, \"principal\": 1, \"far\": 4, \"key\": 2, \"440.325\": 2, \"releases,\": 2, \"operator\": 14, \"usable\": 1, \"none;\": 5, \"Book:\": 1, \"lang=\\\\\"sl\\\\\"\": 1, \"Lisp</a>,\": 1, \"every\": 3, \"scale\": 1, \"readable\": 1, \"block\": 8, \"top;\": 2, \"Bill\": 1, \"about\": 9, \"-total\\\\\",\\\\\"\": 1, \")\": 1, \"session\": 1, \"(see\": 1, \"CPython)\": 1, \"Adding\": 1, \"wiki\": 1, \"limited\": 1, \"occur\": 1, \"usual\": 1, \"intends\": 1, \"(10\": 2, \"Using\": 1, \"title=\\\\\"\\\\\"\": 1, \"(bahasa\": 1, \"limit\": 1, \"(16\": 2, \"1900800\": 1, \"Thus,\": 1, \"Apple;\": 1, \"ed.).\": 5, \"current\": 3, \"Sugar\": 1, \"week\": 1, \"replace\": 1, \"content:\": 1, \"4.31%\": 2, \"Calling\": 1, \"(at\": 1, \"time\": 6, \"tuple\": 4, \"भाषा)\": 1, \"mapper\": 1, \"espoused\": 1, \"wrote\": 1, \"ZIP\": 1, \"(2005).\": 1, \"simple\": 1, \"needed.\": 1, \"Media,\": 1, \"revisions\": 1, \"lang=\\\\\"pl\\\\\"\": 1, \"lang=\\\\\"is\\\\\"\": 1, \"Skip;\": 1, \"slightly\": 1, \"exuberant\": 1, \"byte\": 2, \"James\": 1, \"(itself\": 2, \"functions\": 5, \"Essential\": 1, \"Lutz\": 1, \"cite\": 1, \"node\": 2, \"Not\": 1, \"operands\": 2, \"Sinhala\\\\\"\": 1, \"party\": 1, \"Network\": 1, \"2007).\": 2, \"to,\": 1, \"reviewed\": 1, \"are\": 58, \"games);\": 1, \"text\\\\\"\": 186, \"Estonian\\\\\"\": 1, \"untyped\": 1, \"Dutch\\\\\"\": 1, \"or\": 35, \"Nuitka\": 1, \"aspects\": 1, \"3\\'s\": 1, \"2nd\": 1, \"(Version\": 1, \"Prentice\": 1, \"native\": 1, \"Goodger,\": 1, \"Who?\": 1, \"direct\": 1, \"mix\": 1, \"paradigms\": 1, \"2012.\": 1, \"2.3\": 1, \"=\": 11, \"birth\": 1, \"Projects:\": 1, \"section\": 2, \"doesn\\'t\": 1, \"NLUUG\": 1, \"[z]\\\\\"\": 1, \"matrix\": 3, \"async=\\\\\"\\\\\"\": 1, \"sister\": 1, \"Chinese\": 1, \"complex\": 3, \"(linguage\": 1, \"equation\": 3, \"inspired\": 2, \"fix\": 1, \"response\": 1, \"practice\": 1, \"offer\": 1, \"Java,\": 2, \"dtstart\": 3, \"2.7\": 4, \"variable\": 6, \"image\": 1, \"elements\": 5, \"over\": 6, \"offering\": 2, \"many\": 16, \"rather\": 5, \"report\": 2, \"lang=\\\\\"ro\\\\\"\": 1, \"(Mailing\": 1, \"(that\": 1, \"fun\": 1, \"lang=\\\\\"cs\\\\\"\": 1, \"site,\": 1, \"under\": 2, \"no\": 3, \"support,\": 1, \"can\": 28, \"game\": 1, \"feature\": 3, \"marginal\": 1, \"mw1261\": 1, \"effects\": 1, \"(computer\": 22, \"Names\": 1, \"Optional\": 1, \"Modules\": 1, \"styles.\": 1, \"sunset\": 1, \"efficient\": 1, \"Croatian\\\\\"\": 1, \"difficult\": 1, \"Why?\": 1, \"supports\": 4, \"GIMP\": 1, \"all\": 9, \"middle;\": 4, \"less\": 2, \"link\": 1, \"reject\": 1, \"language.\": 2, \"fixed\": 2, \"world\": 1, \"Systems\": 1, \"class,\": 1, \"Special\": 1, \"Cached\": 1, \"rationale\": 1, \"benefited\": 1, \"Jython\": 1, \"Malay\\\\\"\": 1, \"How\": 2, \"GND\": 3, \"(intended\": 1, \"C-level\": 1, \"runtimes\": 1, \"almost\": 1, \"Canopy.\": 1, \"Lukewarm\": 1, \"భాష)\": 1, \"Template\": 1, \"Design\": 1, \"Stack\": 1, \"(1st\": 1, \"(langage)\": 1, \"3.15%\": 2, \"early\": 1, \"put\": 2, \"August\": 14, \"string)\": 1, \"web\\\\\">Eby,\": 1, \"write\": 2, \"moved\": 1, \"identical\": 1, \"equals\": 1, \"him\": 1, \"produces\": 2, \"general\": 3, \"(30\": 3, \"lang=\\\\\"th\\\\\"\": 1, \"64\": 1, \"4D</a>,\": 1, \"Ruby\": 1, \"0px\": 2, \"lang=\\\\\"hr\\\\\"\": 1, \"quite\": 1, \"it,\": 1, \"experts,\": 1, \"Rapid\": 1, \"\\\\\"Appendix\": 1, \"Stackless\": 2, \"given\": 5, \"lang=\\\\\"or\\\\\"\": 1, \"Compare\": 1, \"problem\": 1, \"reads\": 1, \"0465\": 1, \"lang=\\\\\"ms\\\\\"\": 1, \"1px\": 1, \"enable\": 1, \"Oracle\": 1, \"jazyk)\": 1, \"lang=\\\\\"tg\\\\\"\": 1, \"do,\": 1, \"1,\": 1, \"by\": 51, \"Light\": 2, \"brief\": 1, \"string\": 4, \"rejects\": 2, \"allocated\": 2, \"released\": 6, \"Qt</i>.\": 1, \"Uzbek\\\\\"\": 1, \"3000\": 1, \"fork\": 1, \"types<br\": 1, \"needs\": 1, \"change\": 1, \"Facundo.\": 1, \"Tim\": 2, \"classes,\": 1, \"use.\": 1, \"site\": 1, \"ideas\": 2, \"trình)\": 1, \"373\": 1, \"several\": 7, \"need\": 2, \"Further,\": 1, \"Brokers\": 1, \"indexes\": 2, \"doing\": 1, \"optimised\": 1, \"1.6.6\": 1, \"grail\": 1, \"lang=\\\\\"be\\\\\"\": 1, \"same\": 4, \"floor\": 1, \"declared\": 1, \"Steve\": 1, \"omitted,\": 1, \"Best\": 1, \"side\": 2, \"Mark\": 5, \"20</i>),\": 1, \"For\": 11, \"design\": 10, \"#eee;\\\\\"><a\": 1, \"append\": 1, \"bugs\": 1, \"not.\": 1, \"803738913\": 1, \"opening\": 1, \"types\": 4, \"lập\": 1, \"End\": 1, \"Rexx,\": 1, \"Apple\": 1, \":\": 1, \"letting\": 1, \"Darryl\": 1, \"who\": 1, \"(from\": 1, \"April\": 3, \"LCCN\": 3, \"border:\": 4, \"method\": 7, \"Exchange.\": 1, \"span\": 1, \"2.<sup\": 1, \"Inc.\": 1, \"itself\": 1, \"dili)\": 2, \"(latest\": 2, \"Although\": 1, \"[h]\\\\\"\": 1, \"lang=\\\\\"kk\\\\\"\": 1, \"Since\": 2, \"Android\": 1, \"lang=\\\\\"he\\\\\"\": 1, \"worse\": 1, \"2014<span\": 1, \"Dynamic\": 1, \"contents\\\\\"\": 1, \"hlist\\\\\"\": 5, \"Slice\": 1, \"lang=\\\\\"et\\\\\"\": 1, \"example\": 3, \"However\": 1, \"position:\": 1, \"Jason\": 1, \"course\": 1, \"science\": 4, \"fast\": 1, \"Kevin\": 1, \"empty\": 1, \"[r]\\\\\"\": 1, \"lang=\\\\\"ko\\\\\"\": 1, \"add\": 1, \"IE\": 1, \"allowing\": 4, \"lang=\\\\\"tl\\\\\"\": 1, \"Jocelyn,\": 1, \"9\": 1, \"bugs.\": 1, \"terms\": 3, \"powerful\": 1, \"Like\": 2, \"1&#160;–\": 1, \"improper\": 1, \"Slovak\\\\\"\": 1, \"web\\\\\">van\": 8, \"PEP\": 3, \"produced\": 1, \"hand\": 2, \"Documents\": 1, \"Andreas;\": 1, \"Raymond\": 2, \"support\": 9, \"browsing\": 1, \"numbers\": 1, \"pages\": 4, \"claim\": 1, \"postponed\": 1, \"(2013).\": 2, \"few\": 3, \"belonging\": 2, \"shell,\": 1, \"Functions\": 2, \"LWN.net.\": 1, \"script\": 1, \"lang=\\\\\"lt\\\\\"\": 1, \"page\\\\\"\": 2, \"7.12%\": 2, \"always\": 3, \"template\\\\\"\": 12, \"Swedish\\\\\"\": 1, \"passed\": 2, \"\\\\\"with\": 1, \"iterate\": 1, \"Desktop\": 1, \"ability\": 1, \"manually\": 1, \"months,\": 1, \"connected\": 1, \"Public\": 5, \"advantage\": 2, \"-total\": 1, \"static\": 2, \"&gt;&gt;\": 1, \"market\": 1, \"Congress\": 1, \"Provider\": 1, \"name\": 7, \"(Min\": 1, \"make\": 2, \"Python,\": 16, \"My\": 1, \"material\": 1, \"before\": 3, \"say,\": 1, \"tireless\": 1, \"decisions\": 1, \"Moshe;\": 2, \"NewPP\": 1, \"compare\": 1, \"Media.\": 1, \"Jim\": 1, \"You\\'re\": 1, \"Institute\": 1, \"BNF\": 3, \"2006).\": 4, \"statement\": 5, \"A-Z\": 1, \"required\": 1, \"patches\": 1, \"among\": 1, \"nyelv)\": 1, \"second\": 2, \"clean-up\": 1, \"[and]\": 1, \"Romanian\\\\\"\": 1, \"long\": 3, \"lang=\\\\\"sv\\\\\"\": 1, \"Guido\": 13, \"ideal,\": 1, \"case\": 2, \"Korean\\\\\"\": 1, \"بولی)\": 1, \"Grumpy\": 1, \"IBPy\": 1, \"break\": 1, \"switched\": 1, \"2008).\": 1, \"6&#160;–\": 1, \"began\": 2, \"why\": 1, \"idioms\": 1, \"\\\\\"there\": 1, \"#aaa\": 1, \"hosting\": 3, \"Russian\\\\\"\": 1, \"variables\": 1, \"levels\": 1, \"Hall.\": 1, \"subset\": 1, \"package\": 1, \"longer\": 2, \"handling\": 1, \"Archived\": 6, \"basic\": 2, \"C++\": 5, \"inherited\": 1, \"here\": 2, \"thousands\": 1, \"keys\": 4, \"added\": 2, \"Rust,\": 2, \"Mike.\": 1, \"methods,\": 1, \"manner\": 2, \"negative\": 4, \"Real\": 1, \"managed\": 1, \"rounds\": 1, \"–\": 90, \"lang=\\\\\"km\\\\\"\": 1, \"instance,\": 1, \"author,\": 1, \"rounding\": 1, \"bits),\": 1, \"Into\": 2, \"when\": 2, \"107,\": 2, \"زبان)\": 1, \"2012<span\": 5, \"105,\": 2, \"[ES4\": 1, \"like\": 11, \"(2004).\": 1, \"slice\": 2, \"largely\": 2, \"Serbian\\\\\"\": 1, \"p.\": 1, \"Long\": 1, \"mechanism\": 2, \"braces,\": 1, \"up\": 3, \"big\": 1, \"directly\": 3, \"require,\": 1, \"arbitrary\": 4, \"Cache\": 1, \"prefixing\": 1, \"...\": 3, \"those\": 2, \"entire\": 1, \"(page\": 4, \"18\": 1, \"links\\\\\"\": 1, \"suitable\": 1, \"Max</a>,\": 1, \"bytecode\": 1, \"include\": 7, \"sometimes\": 1, \"stack,\": 1, \"context\": 1, \"it\": 27, \"(Dutch\": 1, \"Creator\": 1, \"focus\": 1, \"C,\": 4, \"2</code>;\": 2, \"curly\": 3, \"Dave.\": 1, \"2010).\": 1, \"M.\": 4, \"Server\": 7, \"from\": 62, \"language\": 34, \"both\": 7, \"2017,\": 2, \"Norwegian\": 1, \"document\": 3, \"variety\": 1, \"54.744\": 2, \"class.)\": 1, \"mistaking\": 1, \"e.g.,\": 3, \"contain\": 7, \"role\": 1, \"Kazakh\\\\\"\": 1, \"its\": 19, \"lang=\\\\\"id\\\\\"\": 1, \"GUI\": 1, \"3\": 8, \"Force\": 1, \"40px;\": 2, \"0\": 2, \"stack\": 1, \"study\": 1, \"size:\": 2, \"latter\": 2, \"back\": 2, \"March\": 14, \"Cathedral\": 2, \"is\": 145, \"closing\": 1, \"issue,\": 1, \"+\": 5, \"included\": 1, \"creator\": 1, \"Niskanen,\": 1, \"&lt;\": 3, \"much\": 3, \"checker\": 1, \"enables\": 2, \"feedback\": 1, \"CERN\": 1, \"2004).\": 2, \"false\": 1, \"Beginning\": 1, \"2016<sup\": 1, \"standard,\": 1, \"which\": 40, \"form\": 2, \"\\'string\\',\": 5, \"shift\": 1, \"example)\": 1, \"17\": 2, \"previews\": 1, \"layout,\": 1, \"&lt;&lt;\": 1, \"modders\": 1, \"2.4)\": 1, \"syntax.\": 1, \"unlimited\": 1, \"Nepali\\\\\"\": 1, \"35.56%\": 2, \"be\": 43, \"4px\": 1, \"10px\": 2, \"Thai\\\\\"\": 1, \"performed\": 1, \"also\": 24, \"entirely\": 2, \"exists\\\\\"\": 1, \"styles\": 1, \"express\": 1, \"Interface\": 1, \"model,\": 1, \"Despite\": 1, \"strings,\": 2, \"became\": 3, \"framework\": 1, \"#3:\": 1, \"Slices\": 1, \"String\": 1, \"It\": 11, \"cases\": 1, \"88.163\": 2, \"releases\": 5, \"3.6.3rc1\": 1, \"end.\": 1, \"left\": 2, \"(In\": 1, \"Galician\\\\\"\": 1, \"will\": 3, \"process.\": 1, \"FAQ</i>.\": 3, \"these\": 2, \"Old-style\": 1, \"\\\\\"typed\": 1, \"§2:\": 2, \"15.\": 2, \"Modern\": 1, \"(usually\": 1, \"(3rd\": 1, \"python\": 2, \"round\": 1, \"1989<sup\": 1, \"share\": 1, \"offers\": 2, \"Year\": 2, \"2010)\": 1, \"(<a\": 3, \"55.351\": 2, \"Stuart\": 1, \"Bug\": 1, \"lang=\\\\\"fa\\\\\"\": 1, \"lang=\\\\\"fi\\\\\"\": 1, \"use\": 22, \"never\": 1, \"project,\": 2, \"emulated\": 1, \"contact\": 1, \"Buginese\\\\\"\": 1, \"31\": 1, \"53.368\": 2, \"\\'13.<sup\": 1, \"Package\": 5, \"sign).\": 1, \"ഭാഷ)\": 1, \"keep\": 1, \"testing.\": 1, \"standard\": 14, \"2.4\": 1, \"start\": 1, \"We\": 1, \"result\": 3, \"Andrew\": 1, \"2017).\": 3, \"end\": 2, \"ninjas,\": 1, \"Inc.</a>,\": 1, \"team\": 2, \"probably\": 1, \"removed\": 1, \"import\": 5, \"visited\": 1, \"system;\": 1, \"you\": 3, \"tuples,\": 1, \"etc),\": 1, \"Moshe\": 1, \"products\": 1, \"4</a>,\": 1, \"modern\": 1, \"2.7\\'s\": 1, \"main\": 4, \"0]\": 1, \"$,\": 1, \"per\": 2, \"argument.\": 1, \"check\": 1, \"been\": 12, \"bold;\": 2, \"(2009).\": 4, \"hashable\": 1, \"Barry\": 1, \"London:\": 2, \"February\": 6, \"visual\": 3, \"Cebuano\\\\\"\": 1, \"Sharp\": 3, \"0.5em\": 1, \"(such\": 3, \"avoiding\": 1, \"increase\": 2, \"numerical\": 1, \"serve\": 1, \"separate,\": 1, \"explicit\": 1, \"Tamil\\\\\"\": 1, \"Turkish\\\\\"\": 1, \"(15\": 1, \"Barry;\": 1, \"Your\": 2, \"Many\": 3, \"Alex;\": 1, \"successor\": 1, \"number\": 11, \"lang=\\\\\"pt\\\\\"\": 1, \"Guido;\": 2, \"holder\": 1, \"October\": 9, \"icon\\\\\"\": 1, \"part\": 6, \"Press.\": 1, \"{\": 2, \"occupied\": 1, \"(29\": 3, \"floating\": 1, \"Complete,\": 1, \"lang=\\\\\"sh\\\\\"\": 1, \"Enhanced\": 1, \"јазик)\": 1, \"symbolic\": 2, \"Tuples\": 1, \"strive\": 1, \"id=\\\\\"toc\\\\\"\": 1, \"3.3.\": 1, \"rebound\": 1, \"software\": 28, \"names,\": 1, \"(PyPI),\": 1, \"Idiomatic\": 1, \"EVE\": 1, \"Authority\": 1, \"Sid\": 1, \"concern\": 1, \"Commons\": 2, \"into\": 11, \"ready.\": 1, \"Community\": 5, \"Control\": 2, \"emphasis\": 1, \"acquiring\": 1, \"noprint\": 3, \"3.5,\": 2, \"Escape\": 1, \"lang=\\\\\"eu\\\\\"\": 1, \"calls\": 1, \"else\": 3, \"quote\": 4, \"(issue\": 1, \"ed.\": 1, \"serves\": 1, \"[g]\\\\\"\": 1, \"admirers\": 1, \"title\": 2, \"v2.7.3\": 1, \"Latvian\\\\\"\": 1, \"show\": 2, \"2.6\": 1, \"maximum\": 1, \"Lombard\\\\\"\": 1, \"itself),\": 1, \"needed\": 1, \"moreover,\": 1, \"#B2B7F2;\": 2, \"left.<sup\": 1, \"features.\": 1, \"Literal\": 1, \"one\": 6, \"yields\": 1, \"Java)\": 1, \"2005,\": 1, \"generator\": 1, \"me\": 1, \"case,\": 1, \"2.7.14\": 2, \"IV\": 1, \"delimited\": 1, \"Davis\": 1, \"(since\": 3, \"South\": 1, \"appears.\": 1, \"name=\\\\\"go\\\\\"\": 1, \"Python\\'s\": 16, \"greatly\": 2, \"David.\": 1, \"Hat\": 2, \"termed\": 4, \"reference\": 4, \"lang=\\\\\"mn\\\\\"\": 1, \"book\\\\\"\": 2, \"direction\": 1, \"mutable,\": 1, \"good\": 3, \"releasing\": 1, \"new\": 8, \"alt=\\\\\"This\": 1, \"Blog:\": 1, \"20\": 3, \"EEP\": 1, \"only\": 6, \"Gujarati\\\\\"\": 1, \"2.0.2\": 1, \"0/1500000\": 1, \"There\": 1, \"others\": 2, \"rebranded\": 1, \"describe\": 2, \"(WSGI)\": 1, \"cannot\": 5, \"C#,\": 2, \"differs.\": 1, \"Jump\": 1, \"\\\\\"string\": 1, \"Parsed\": 1, \"By\": 1, \"release\": 7, \"type;\": 1, \"September\": 9, \"animation\": 1, \"it\\'s\": 1, \"(January\": 1, \"Slithers\": 1, \"writable\": 2, \"van\": 15, \"Basic\": 2, \"between\": 5, \"will.<sup\": 1, \"faster\": 1, \"delimit\": 3, \"4.42%\": 2, \"division\": 9, \"expects\": 1, \"data\": 3, \"lang=\\\\\"lv\\\\\"\": 1, \"lang=\\\\\"ta\\\\\"\": 1, \"infinity,\": 2, \"languages\": 17, \"APIs\": 1, \"Urdu\\\\\"\": 1, \"hands.\": 1, \"test\": 1, \"(August\": 1, \"mixture\": 2, \"Software\": 49, \"ભાષા)\": 1, \"binds\": 1, \"Jewett,\": 1, \"2\": 6, \"begin\": 1, \"XML\": 1, \"Reference\": 1, \"44.876\": 2, \"(2002).\": 1, \"/\": 4, \"DMOZ\": 3, \"desktop\": 1, \"(2007).\": 2, \"boolean\": 2, \"contained\": 1, \"alt=\\\\\"\\\\\"\": 9, \"ensures\": 1, \"checked\": 2, \"Al\": 1, \"APress.\": 1, \"Research\": 1, \"clever\": 1, \"Generator\": 1, \"tuples.\": 1, \"Also,\": 1, \"iterates\": 1, \"enters\": 1, \"three\": 6, \"also:\": 2, \"more\": 11, \"generic\": 1, \"assigned\": 2, \"lang=\\\\\"ne\\\\\"\": 1, \"lang=\\\\\"hi\\\\\"\": 1, \"C#\": 1, \"Neal\": 1, \"Aivazis,\": 1, \"built-in\": 3, \"Saved\": 1, \"1)\": 1, \"Unlike\": 1, \"Mark.\": 1, \"written\": 12, \"Nature\": 1, \"(magic\": 1, \"reliable\": 1, \"function,\": 1, \"we\": 2, \"process\": 2, \"pairs;\": 1, \"Wiskunde\": 2, \"lang=\\\\\"sr\\\\\"\": 1, \"parser\": 2, \"Windows\": 1, \"extending\": 1, \"Flow\": 1, \"Finnish\\\\\"\": 1, \"title=\\\\\"D\": 1, \"following\": 1, \"(2015).\": 1, \"Linux\": 1, \"(c\": 1, \"but\": 12, \"Scripting\": 2, \"C++\\\\\"</a>.\": 1, \"porkbelly\": 1, \"Life\": 1, \"opposite\": 1, \"lang=\\\\\"sk\\\\\"\": 1, \"&lt;=\": 2, \"taking\": 1, \"enough\": 1, \"very\": 2, \"498\": 1, \"common,\": 1, \"workloads\": 1, \"during\": 4, \"copy\": 2, \"immutable\": 2, \"2.\\\\\"\": 1, \"jezik\": 1, \"account\": 1, \"(20\": 2, \"Burmese\\\\\"\": 1, \"lang=\\\\\"az\\\\\"\": 1, \"routing\": 1, \"(as\": 1, \"sense\": 1, \"called\": 3, \"Guys,\": 1, \"(3\": 3, \"based\": 1, \"New\": 7, \"as:<sup\": 1, \"expansion\": 2, \"code</i>.\": 1, \"2013\": 1, \"7.47%\": 2, \"Types\": 1, \"object\\'s\": 1, \"Tajik\\\\\"\": 1, \"Home\": 1, \"clear\": 1, \"dynamic\": 3, \"pre-3.0\": 1, \"Perl,\": 2, \"call\": 1, \"mobile\": 1, \"Springer.\": 2, \"(May\": 1, \"presented\": 1, \"4\": 2, \"1996:<sup\": 1, \"[p]\\\\\"\": 1, \"Core\": 2, \"Some\": 1, \"\\\\\"L\\\\\"\": 1, \"back,\": 1, \"solid\": 3, \"fivefold\": 1, \"towards\": 3, \"Flying\": 4, \"(in\": 3, \"influence\": 1, \"Lua\": 2, \"Boo\": 1, \"page\": 14, \"smaller\": 1, \"(мова\": 1, \"create\": 3, \"even</a>:\": 1, \"condition\": 1, \"(REPL),\": 1, \"usage:\": 4, \"equal\": 3, \"looking\": 1, \"think\": 1, \"2001).\": 5, \"primary\": 2, \"revision\": 2, \"abilities\": 1, \"Michele.\": 1, \"100.00%\": 1, \"CPython.\": 1, \"Roman\\',\": 2, \"contains\": 3, \"module\": 4, \"point\": 1, \"variable,\": 1, \"gone\": 1, \"is,\": 2, \"class=\\\\\"\\\\\"\": 1, \"library,\": 4, \"Swift\": 2, \"calling,\": 1, \"3D\": 2, \"Blog</i>.\": 1, \"bracket\": 1, \"not\": 20, \"commonly\": 2, \"causes\": 2, \"2008<sup\": 1, \"hinting\": 1, \"(was\": 1, \"(17\": 3, \"Unifying\": 1, \"leads\": 1, \"now\": 4, \"(Value\": 1, \"inherit\": 1, \"(7\": 2, \"agree\": 1, \"B.\": 1, \"Eby,\": 1, \"(19\": 1, \"20&#160;–\": 1, \".pyz\": 1, \"Numerical\": 1, \"de\": 3, \"borrows\": 1, \"\\\\\"Fans\": 1, \"Naomi\": 1, \"[x]\\\\\"\": 1, \"happen\": 1, \"Just\": 1, \"aim\": 1, \"retrieved\": 2, \"(keys\": 1, \"name,\": 1, \"Nan)\\\\\"\": 1, \"according\": 1, \"marks\": 2, \"started\": 3, \"Arabic\\\\\"\": 1, \"2.6)\": 1, \"adding\": 1, \"usually\": 1, \"PEPs\": 1, \"interval\": 1, \"(Monty\": 1, \"lang=\\\\\"ja\\\\\"\": 1, \"Donal\": 1, \"Zen\": 1, \"tutorials\": 1, \"Guide\": 2, \"health\": 1, \"find\": 1, \"2016).\": 1, \"(4.0,\": 1, \"assigning\": 1, \"results\": 1, \"versions\": 3, \"location\": 1, \"Hindi\\\\\"\": 1, \"Analysis\": 2, \"(amazing)\": 1, \"Ned\": 1, \"brings\": 1, \"making\": 1, \"2,\": 6, \"bugfix\": 1, \"(a\": 2, \"2.6.x<sup\": 1, \"random\": 1, \"meeting\": 1, \"Hebrew\\\\\"\": 1, \"Stability\": 1, \"id=\\'p-tb\\'\": 1, \"2.2\": 2, \"name&gt;\": 1, \"\\\\\"I\": 1, \"10\": 4, \"a\": 170, \"[n]\\\\\"\": 1, \"debugging\": 1, \"\\\\\"To\": 1, \"Simple\": 2, \"took\": 1, \"4.0\": 1, \"parts\": 2, \"Cobra\\'s\": 1, \"it\\\\\">there\": 1, \"pushed\": 1, \"work\": 2, \"3.0\": 5, \"IDE\": 2, \"bound.\": 1, \"C++,\": 2, \"executed\": 2, \"it.<sup\": 1, \"Python)\": 1, \"20px;\": 2, \"Each\": 1, \"needing\": 3, \"means\": 5, \"wanted\": 1, \"rational\": 1, \"JRuby\": 1, \"July\": 5, \"conforms\": 1, \"emitted\": 1, \"2010.\": 2, \"too\": 2, \"strings\": 2, \"local\": 2, \"—\": 3, \"providing\": 2, \"phones\": 1, \"The\": 31, \"float\": 1, \"Armenian\\\\\"\": 1, \"drawing\": 2, \"4px;\": 4, \"classes\": 5, \"When\": 1, \"middle\\\\\"\": 4, \"either\": 1, \"sequences\": 1, \"lang=\\\\\"gu\\\\\"\": 1, \"awarded\": 1, \"bitwise\": 1, \"etc.\": 1, \"library\": 8, \"भाषा\": 1, \"defines\": 1, \"Of\": 2, \"compile\": 1, \"iterable\": 1, \".6em;\": 2, \"Facundo\": 1, \"While\": 1, \"their\": 5, \"lang=\\\\\"vi\\\\\"\": 1, \"Jeremy;\": 1, \"1.459\": 1, \"whole,\": 1, \"v1.0</i>.\": 1, \"Created\": 1, \"Google\": 2, \"of\": 250, \"then\": 5, \"citations\": 3, \"out\": 3, \"about<b\": 1, \"(notably\": 1, \"lang=\\\\\"it\\\\\"\": 1, \"executing\": 1, \"Release\": 3, \"silently\": 1, \"useful\": 1, \"K.\": 3, \"bind\": 1, \"lang=\\\\\"tr\\\\\"\": 1, \"index\": 2, \"earlier\": 1, \"Japanese\\\\\"\": 1, \"onwards,\": 1, \"edit\": 1, \"shifts\": 2, \"Van\": 4, \"Fellows,\": 1, \"Python).\": 1, \"(زمانی\": 1, \"past,\": 1, \"schedule\": 1, \"b)//b\": 1, \"time:<sup\": 1, \"order\": 2, \"Perl\": 2, \"Polish\\\\\"\": 1, \"model.\": 1, \"marks.\": 2, \"21/40\": 1, \"integer\": 2, \"Python.\": 4, \"Albanian\\\\\"\": 1, \"style\": 1, \"(note,\": 1, \"(notation\": 1, \"effort\": 1, \"date)\": 1, \"storage\": 3, \"bringing\": 1, \"it),\": 1, \"terms,\": 1, \"Rails\": 2, \"mood\": 1, \"2.0\": 2, \"|\": 1, \"left;\": 1, \"2005).\": 3, \"lang=\\\\\"nl\\\\\"\": 1, \"phrase\": 1, \"core,\": 1, \"Document\": 2, \"Expensive\": 1, \"specific\": 2, \"large\": 8, \"covers\": 2, \"tools\": 3, \"lang=\\\\\"uz\\\\\"\": 1, \"practices\": 1, \"15.21.1.\": 1, \"returns\": 2, \"Style\": 1, \"source\": 5, \"course,\": 1, \"Division\": 2, \"9.2</i>.\": 1, \"lang=\\\\\"ur\\\\\"\": 1, \"Trading\": 1, \"database.\": 1, \"Knowing\": 1, \"shows\": 1, \"Solving\": 1, \"period\": 1, \"Wu\": 1, \"scraping,\": 1, \"beta,\": 1, \"includes\": 3, \"select\": 1, \"2017<sup\": 2, \"lang=\\\\\"no\\\\\"\": 1, \"7\": 1, \"timestamp\": 1, \"Chinese\\\\\"\": 2, \"described\": 3, \"Ways\": 1, \"3.62%\": 2, \"App\": 2, \"vevent\\\\\"\": 1, \"six\": 1, \"control\": 2, \"words\": 1, \"ltr\": 1, \"2009).\": 4, \"Riccardo\": 1, \"what\": 1, \"68\\\\\">ALGOL\": 1, \"made\": 2, \"project\": 6, \"(18\": 1, \"Developer\": 3, \"lang=\\\\\"mk\\\\\"\": 1, \"growth\": 1, \"body\": 2, \"instances\": 2, \"I\": 8, \"(April\": 1, \"rough\": 2, \"tests\": 1, \"most\": 9, \"2013<span\": 3, \"blocks,\": 1, \"2.1\": 1, \"group\": 2, \"published\": 3, \"used\": 28, \"greatest\": 2, \"last\": 2, \"systems.\": 2, \"lang=\\\\\"ml\\\\\"\": 1, \",\": 2, \"Cultural\": 2, \"API\": 3, \"citation\": 1, \"pretty\": 1, \"Type\": 1, \"scripts\": 1, \"suites\": 1, \"id\": 1, \"(EOL,\": 1, \"C-derived\": 1, \"English\\\\\"\": 1, \"around\": 1, \"planned\": 1, \"gives\": 1, \"They\": 2, \"tilde\": 1, \"should\": 3, \"for\": 103, \"new-style\": 1, \"c\": 2, \"keywords.\": 1, \"Before\": 1, \"integer.\": 1, \"operates\": 1, \"classic\": 2, \"behavior\": 3, \"desire\": 1, \"Evan.\": 1, \"navbar\": 4, \"lines\": 3, \"Examples\": 1, \"adopted\": 2, \"Asked\": 1, \"device\": 1, \"3\\\\\".\": 1, \"extension\": 2, \"would\": 7, \"2014).\": 3, \"7&#160;–\": 1, \"scheduled\": 1, \"evaluate\": 1, \"(ngôn\": 1, \"Source\": 5, \"widget\": 1, \"License\": 2, \"width=\\\\\"9\\\\\"\": 1, \"literal\": 2, \"appeal\": 1, \"Retrieved\": 118, \"Bangla\\\\\"\": 1, \"entities\": 1, \"(C\": 1, \"3.6\": 2, \"lists\": 1, \"jezik)\": 3, \"web\": 9, \"lang=\\\\\"hy\\\\\"\": 1, \"2010),\": 1, \"real\": 1, \"Telugu\\\\\"\": 1, \"&amp;\": 6, \"rather,\": 1, \"[c]\\\\\"\": 1, \"origin\": 2, \"Asturian\\\\\"\": 1, \"IV\\\\\"</a>.\": 1, \"choice\": 2, \"dates\": 3, \".pyd,\": 1, \".<sup\": 1, \"argument\": 1, \"Open\": 7, \"Greek\\\\\"\": 1, \"deciding\": 1, \"spam\": 1, \"year,\": 1, \"380\\\\\"</a>.\": 1, \"methods\": 2, \"lang=\\\\\"da\\\\\"\": 1, \"analogous\": 1, \"3.6.3\": 1, \"objects.\": 1, \"gurus,\": 1, \"receives\": 3, \"py3k),\": 1, \"cache\": 1, \"next\": 1, \"cost\": 1, \"lang=\\\\\"af\\\\\"\": 1, \"German\\\\\"\": 2, \"in;\": 2, \"resulting\": 1, \"Nynorsk\\\\\"\": 1, \"suited\": 1, \"algorithm\": 1, \"(2nd\": 1, \"collapse;\": 1, \"instance\": 1, \"requires\": 1, \"Thing\": 1, \"333<sup\": 1, \"To\": 1, \"multiple\": 6, \"format\\\\\"\": 1, \"decrease\": 1, \"might\": 1, \"color:\": 2, \"lang=\\\\\"en\\\\\"\": 2, \"Michael\": 1, \"example,\": 8, \"attaches\": 1, \"specified\": 1, \"provides\": 4, \"own\": 2, \"raised\": 1, \"hence\": 1, \"major,\": 1, \"2013)\": 1, \"C\\\\\".<sup\": 1, \"2002).\": 2, \"[t]\\\\\"\": 1, \"38.956\": 2, \"Dylan\": 1, \"Dictator\": 4, \"knowing\": 1, \"serif;\": 2, \"on\": 46, \"article.\": 2, \"vs.\": 3, \"through\": 3, \"final\": 2, \"(14\": 2, \"jQuery,\": 1, \"newsgroup\": 1, \"C3\": 1, \"3:\": 2, \"Raimo\": 1, \"However,\": 5, \"official\": 3, \"named\": 6, \"log\": 2, \"follows\": 2, \"way\": 3, \"2017.<sup\": 1, \"valid\": 2, \"skipped\": 1, \"implicit\": 1, \"(and\": 2, \"(11\": 2, \"nearly\": 1, \"objects\": 6, \"lang=\\\\\"si\\\\\"\": 1, \"partial\": 1, \"however,\": 3, \"measured\": 2, \"lang=\\\\\"el\\\\\"\": 1, \"dmy\": 3, \"Built-in\": 3, \"Brett.\": 1, \"range\": 4, \"object.\": 1, \"attached\": 3, \"Shuttle\": 1, \"19\": 3, \"target\": 1, \"edits\": 2, \"allows\": 7, \"anything\": 1, \"MB/50\": 1, \"True\": 1, \"commented\": 1, \"lang=\\\\\"uk\\\\\"\": 1, \"Expert\": 1, \"A\": 9, \"first\": 7, \"some\": 7, \"16\": 1, \"runtime.\": 1, \"That\\'s\": 1, \"fan\": 1, \"Between\": 1, \"have\": 12, \"Integers\": 2, \"must\": 4, \"cited\": 2, \"General\": 2, \"expected,\": 1, \"operating\": 5, \"Anthony\": 2, \"J.\": 3, \"iOS\": 1, \"lang=\\\\\"gl\\\\\"\": 1, \".NET\": 1, \"libraries\": 3, \"\\\\\"better\": 1, \"A.\": 2, \"Zadka,\": 1, \"Help\": 1, \"0.75em;\": 1, \"item\": 1, \"ways\": 1, \"Interview\": 2, \"evaluates\": 2, \"chose\": 1, \"system.\": 1, \"Tools\": 1, \"avoid\": 1, \"coding\": 1, \"(The\": 1, \"proposing\": 1, \"update\\\\\"\": 3, \"seen\": 1, \"Central\": 1, \"lt\": 1, \"3.5)<sup\": 1, \"asof-tag\": 3, \"being\": 6, \"precision\": 5, \"S60</a>,\": 1, \"June\": 6, \"2003).\": 7, \"names.\": 1, \"sign\": 2, \"European\": 1, \"[..\": 1, \"roughly\": 2, \"v2.6.9\": 1, \"compilers\": 2, \"bugfixes\": 1, \"community\": 4, \"15.21.3.\": 1, \"1.0,\": 2, \"generally\": 1, \".pyw,\": 1, \"integers,\": 2, \"FAQ\\\\\"</a>.\": 1, \"1\": 14, \"come\": 1, \"Ruby,\": 2, \"Labs</a>,\": 1, \"Bosnian\\\\\"\": 1, \"26\": 2, \"(5\": 5, \"leid)\": 1, \"(e.g.,\": 1, \"exact\": 1, \"Marathi\\\\\"\": 1, \"comes\": 2, \"(\\\\\"blah\\\\\",\": 1, \"division.\": 1, \"features,\": 2, \"Secure\": 1, \"title=\\\\\"A\": 3, \"15\": 3, \"(5th\": 1, \"iterated\": 1, \"decided\": 2, \"rich\": 1, \"Features\": 1, \"(July\": 2, \"compiles\": 7, \"Advanced\": 1, \"closer\": 1, \"wide\": 3, \"same,\": 2, \"system\": 3, \"182px;\": 4, \"discussed\": 1, \"at\": 14, \"files\": 1, \"do\": 5, \"(24\": 1, \"2009<span\": 4, \"These\": 3, \"x\": 3, \"versions,\": 1, \"optional,\": 1, \"2009\": 1, \"Integer\": 2, \"Index\": 3, \"aid\": 1, \"1991<span\": 1, \"cart\": 1, \"kept\": 1, \"lang=\\\\\"es\\\\\"\": 1, \"massively\": 1, \"refine\": 1, \"handled\": 1, \"former\": 1, \"in,\": 1, \"58.42%\": 2, \"1.300\": 1, \"lang=\\\\\"as\\\\\"\": 1, \"classes:\": 1, \"as\": 66, \"numeric\": 4, \"one—and\": 1, \"David\": 2, \"contrast\": 3, \"\\\\\"All\": 1, \"M.;\": 1, \"twt\": 1, \"(4,\": 2, \".pyo\": 2, \"rewriting\": 1, \"web\\\\\">Lin,\": 1, \"another\": 1, \"mailing\": 1}'"
      ]
     },
     "execution_count": 15,
     "metadata": {},
     "output_type": "execute_result"
    }
   ],
   "source": [
    "# json\n",
    "aa = dict(Counter(terms))\n",
    "import json\n",
    "json.dumps(aa, ensure_ascii=False)"
   ]
  },
  {
   "cell_type": "markdown",
   "metadata": {
    "collapsed": false,
    "deletable": true,
    "editable": true
   },
   "source": [
    "# str"
   ]
  },
  {
   "cell_type": "code",
   "execution_count": 56,
   "metadata": {
    "collapsed": false,
    "deletable": true,
    "editable": true
   },
   "outputs": [
    {
     "name": "stdout",
     "output_type": "stream",
     "text": [
      "True\n",
      "True\n"
     ]
    }
   ],
   "source": [
    "# startswith, endswith\n",
    "a = \"aaaab\"\n",
    "b = \"ffdfff  ''fajflkdjl   \"\n",
    "c = 'fajfdsjalkknadn  \"fasfjdkasfkla\"  '\n",
    "print(a.startswith('a'))\n",
    "print(a.endswith('b'))"
   ]
  },
  {
   "cell_type": "code",
   "execution_count": 61,
   "metadata": {
    "collapsed": false,
    "deletable": true,
    "editable": true
   },
   "outputs": [
    {
     "name": "stdout",
     "output_type": "stream",
     "text": [
      "aaaa\n",
      "AAAA\n",
      "False\n",
      "True\n"
     ]
    }
   ],
   "source": [
    "# lower, upper, \n",
    "print(\"AAaa\".lower())\n",
    "print(\"AAaa\".upper())\n",
    "\n",
    "# isapha\n",
    "print('11aa'.isalpha())\n",
    "print('aa'.isalpha())"
   ]
  },
  {
   "cell_type": "code",
   "execution_count": 57,
   "metadata": {
    "collapsed": false,
    "deletable": true,
    "editable": true
   },
   "outputs": [
    {
     "name": "stdout",
     "output_type": "stream",
     "text": [
      "['aaa', 'aaa']\n",
      "aaa aaa\n",
      "['aaa', 'aaa']\n"
     ]
    }
   ],
   "source": [
    "# split\n",
    "print(\"aaa aaa\".split())\n",
    "print(\" \".join(\"aaa aaa\".split()))\n",
    "print(\"aaa/aaa\".split('/'))"
   ]
  },
  {
   "cell_type": "code",
   "execution_count": 74,
   "metadata": {
    "collapsed": false,
    "deletable": true,
    "editable": true
   },
   "outputs": [
    {
     "name": "stdout",
     "output_type": "stream",
     "text": [
      "Matches any character which is not a Unicode decimal digit. This is the opposite of \\d. If the ASCII flag is used this becomes the equivalent of [^0-9] (but the flag affects the entire regular expression, so in such cases using an explicit [^0-9] may be a better choice).\n",
      "Matches any character which is not a Unicode decimal digit. This is the opposite of \\d. If the ASCII flag is used this becomes the equivalent of {^0-9} (but the flag affects the entire regular expression, so in such cases using an explicit {^0-9} may be a better choice).\n"
     ]
    }
   ],
   "source": [
    "# replace\n",
    "testStr = \"Matches any character which is not a Unicode decimal digit. This is the opposite of \\d. If the ASCII flag is used this becomes the equivalent of [^0-9] (but the flag affects the entire regular expression, so in such cases using an explicit [^0-9] may be a better choice).\"\n",
    "print(testStr)\n",
    "print(testStr.replace('[', \"{\").replace(']', \"}\")) # 要換掉的, 要換成的"
   ]
  },
  {
   "cell_type": "code",
   "execution_count": 2,
   "metadata": {
    "collapsed": false,
    "deletable": true,
    "editable": true
   },
   "outputs": [
    {
     "name": "stdout",
     "output_type": "stream",
     "text": [
      "b'\\xe5\\x96\\x86'\n",
      "喆\n",
      "喆\n",
      "b'\\xe5\\xa0\\x83'\n"
     ]
    }
   ],
   "source": [
    "# 編碼encode, decode: cp950, utf8, big5\n",
    "print(\"喆\".encode(\"utf8\"))\n",
    "print(\"喆\".encode(\"utf8\").decode('utf8'))\n",
    "print(b'\\xe5\\x96\\x86'.decode('utf8')) #notice b in front of the string\n",
    "\n",
    "# print(\"喆\".encode(\"big5\"))\n",
    "# print(\"喆\".encode(\"cp950\"))\n",
    "# print(\"堃\".encode(\"utf8\"))"
   ]
  },
  {
   "cell_type": "code",
   "execution_count": 81,
   "metadata": {
    "collapsed": false,
    "deletable": true,
    "editable": true
   },
   "outputs": [
    {
     "name": "stdout",
     "output_type": "stream",
     "text": [
      "I am jeremy\n",
      "the score is 3.14\n"
     ]
    }
   ],
   "source": [
    "# format\n",
    "print(\"I am {}\".format('jeremy'))\n",
    "print(\"the score is {:.2f}\".format(3.1415926))\n",
    "\n",
    "\n",
    "# if your version == 3.6, you can direct use {var} to format\n",
    "name = \"jeremy\"\n",
    "# print(f\"I am {name}\")\n"
   ]
  },
  {
   "cell_type": "code",
   "execution_count": 2,
   "metadata": {
    "collapsed": false,
    "deletable": true,
    "editable": true
   },
   "outputs": [
    {
     "name": "stdout",
     "output_type": "stream",
     "text": [
      "True\n",
      "True\n",
      "True\n",
      "True\n",
      "True\n",
      "False\n",
      "True\n",
      "False\n",
      "False\n",
      "True\n",
      "True\n",
      "------------------------\n"
     ]
    }
   ],
   "source": [
    "# re\n",
    "import re\n",
    "# regular expression: 比對字串\n",
    "\n",
    "## match char\n",
    "# \".\" => any char\n",
    "# \"\\\\\"=> \"\\\"\n",
    "# \"\\t\" => tab click\n",
    "# \"\\n\" => change line\n",
    "# \"\\d\" => number\n",
    "# escape char: \\=>\\\\, .=>\\., {+.\\{\n",
    "\n",
    "print(bool(re.match(r'1',\"123\")))\n",
    "\n",
    "\n",
    "print(bool(re.match(r'.',\"123\")))\n",
    "print(bool(re.match(r'.',\"abcd\")))\n",
    "print(bool(re.match(r'.',\"甲乙丙\")))\n",
    "\n",
    "print(bool(re.match(r'\\d',\"1\")))\n",
    "print(bool(re.match(r'\\d',\"abcd\")))\n",
    "\n",
    "print(bool(re.match(r'[a-z, A-Z]',\"abcd\")))\n",
    "print(bool(re.match(r'[a-z]',\"ABCD\")))\n",
    "print(bool(re.match(r'[a-z, A-Z]',\"你好\")))\n",
    "print(bool(re.match(r'[\\u4e00-\\u9fa5]+',\"你好\")))\n",
    "print(bool(re.match(r'.+[\\u4e00-\\u9fa5]',\"abc你\")))\n",
    "\n",
    "print(\"------------------------\")\n"
   ]
  },
  {
   "cell_type": "code",
   "execution_count": 15,
   "metadata": {
    "collapsed": false,
    "deletable": true,
    "editable": true
   },
   "outputs": [
    {
     "name": "stdout",
     "output_type": "stream",
     "text": [
      "True\n",
      "False\n",
      "------------------------\n",
      "False\n",
      "True\n",
      "------------------------\n",
      "False\n",
      "True\n",
      "True\n",
      "------------------------\n",
      "True\n"
     ]
    }
   ],
   "source": [
    "# start, end\n",
    "# start from a\n",
    "print(bool(re.match(r'^a',\"aaa\")))\n",
    "print(bool(re.match(r'^a',\"baa\")))\n",
    "print(\"------------------------\")\n",
    "# end with a\n",
    "print(bool(re.match(r'b$',\"aab\")))\n",
    "print(bool(re.findall(r'b$',\"aab\")))\n",
    "print(\"------------------------\")\n",
    "\n",
    "# char numbers: +, {m,n}\n",
    "print(bool(re.match(r'.b$',\"aab\")))\n",
    "print(bool(re.match(r'..b$',\"aab\")))\n",
    "print(bool(re.match(r'.+b$',\"aab\")))\n",
    "print(\"------------------------\")\n",
    "\n",
    "print(bool(re.match(r'.+[\\u4e00-\\u9fa5]{1,3}',\"abc你你你你你你你你\")))\n"
   ]
  },
  {
   "cell_type": "code",
   "execution_count": 17,
   "metadata": {
    "collapsed": false,
    "deletable": true,
    "editable": true
   },
   "outputs": [
    {
     "name": "stdout",
     "output_type": "stream",
     "text": [
      "Enter string to test: aaaa1111\n",
      "success\n"
     ]
    }
   ],
   "source": [
    "import re\n",
    "password = input(\"Enter string to test: \")\n",
    "if re.match(r'[A-Za-z0-9@#$%^&+=]{8,}', password):\n",
    "    print('success')\n",
    "else:\n",
    "    print(\"fail\")"
   ]
  },
  {
   "cell_type": "code",
   "execution_count": 3,
   "metadata": {
    "collapsed": false
   },
   "outputs": [
    {
     "name": "stdout",
     "output_type": "stream",
     "text": [
      "['drink tea', 'beverage company']\n"
     ]
    }
   ],
   "source": [
    "print(re.findall(r\"\\\"(.+?)\\\"\", '\"drink tea\" \"beverage company\" beverage '))"
   ]
  },
  {
   "cell_type": "markdown",
   "metadata": {
    "collapsed": true,
    "deletable": true,
    "editable": true
   },
   "source": [
    "# File Reader(txt, csv, json)"
   ]
  },
  {
   "cell_type": "code",
   "execution_count": 6,
   "metadata": {
    "collapsed": false,
    "deletable": true,
    "editable": true
   },
   "outputs": [
    {
     "name": "stdout",
     "output_type": "stream",
     "text": [
      "0\n"
     ]
    }
   ],
   "source": [
    "import os\n",
    "# file = open('..\\\\FIleOperation\\\\test.txt', 'w', encoding='utf8')\n",
    "file = open(os.path.join('..','FIleOperation', 'test.txt'), 'r')\n",
    "print(len(file.read()))\n",
    "file.close()\n",
    "# url = \"https://en.wikipedia.org/wiki/Python_(programming_language)\"\n",
    "# file.write(\" \".join(getAlltermsFromUrl(url)))\n",
    "# file.close()"
   ]
  },
  {
   "cell_type": "code",
   "execution_count": 14,
   "metadata": {
    "collapsed": false,
    "deletable": true,
    "editable": true
   },
   "outputs": [
    {
     "name": "stdout",
     "output_type": "stream",
     "text": [
      "['scrapy.log', 'table.csv', 'table.json', 'table1.json', 'test.csv', 'test.json', 'test.txt', 'test1.txt']\n",
      "scrapy.log\n",
      "---------------\n",
      "---------------\n",
      "table.csv\n",
      "會計項目,2017年01月01日至2017年06月30日,2016年01月01日至2016年06月30日\n",
      "現金流量表,,\n",
      "營業活動之現金流量－間接法,,\n",
      "繼續營業單位稅前淨利（淨損）,309336,3\n",
      "---------------\n",
      "---------------\n",
      "table.json\n",
      "{\"1\":{\"會計項目\":\"現金流量表\",\"2017年01月01日至2017年06月30日\":null,\"2016年01月01日至2016年06月30日\":null},\"2\":{\"會計項目\":\"營業活\n",
      "---------------\n",
      "---------------\n",
      "table1.json\n",
      "{\"2016\\u5e7401\\u670801\\u65e5\\u81f32016\\u5e7406\\u670830\\u65e5\": {\"\\u6295\\u8cc7\\u6d3b\\u52d5\\u4e4b\\u6de\n",
      "---------------\n",
      "---------------\n",
      "test.csv\n",
      "A & P Andreou & Paraskevaids Entrprs PCL,\n",
      "A.G. Barr plc,\n",
      "Arca Continental SAB de CV,\n",
      "Booker Group Pl\n",
      "---------------\n",
      "---------------\n",
      "test.json\n",
      "[\n",
      "{\"for_dept\": \"\\u4e2d\\u4e00\\uff21\", \"credits\": 2.0, \"note\": null, \"obligatory_tf\": true, \"title\": \"\n",
      "---------------\n",
      "---------------\n",
      "test.txt\n",
      "American Airlines has airline tickets, cheap flights, vacation packages and American Airlines AAdvan\n",
      "---------------\n",
      "---------------\n",
      "test1.txt\n",
      "Architectural Association School of Architecture's website homepage is the online entrance into the \n",
      "---------------\n",
      "---------------\n"
     ]
    }
   ],
   "source": [
    "import os\n",
    "files = os.listdir(\"..\\\\FileOperation\")\n",
    "print(files)\n",
    "for file in files:\n",
    "    print(file)\n",
    "    try:\n",
    "        readFile = open(\"..\\\\FileOperation\\\\\"+file, 'r')\n",
    "        filetxt = readFile.read()[:100]\n",
    "        print(filetxt)\n",
    "    except:\n",
    "        pass\n",
    "    print(\"---------------\")\n",
    "    print(\"---------------\")"
   ]
  },
  {
   "cell_type": "code",
   "execution_count": 22,
   "metadata": {
    "collapsed": false,
    "deletable": true,
    "editable": true
   },
   "outputs": [],
   "source": [
    "file = open(\"..\\\\FIleOperation\\\\test2.txt\", 'w', encoding='utf8')\n",
    "file.write(\"AAA\")\n",
    "for i in range(10):\n",
    "    file.write(str(i) + '\\n')\n",
    "file.close()"
   ]
  },
  {
   "cell_type": "code",
   "execution_count": 1,
   "metadata": {
    "collapsed": false,
    "deletable": true,
    "editable": true,
    "scrolled": true
   },
   "outputs": [
    {
     "name": "stdout",
     "output_type": "stream",
     "text": [
      "['scrapy.spidermiddlewares.httperror.HttpErrorMiddleware',\n",
      "\n",
      "2017-08-17 08:33:11 [chardet.charsetprober] DEBUG: SHIFT_JIS Japanese prober hit error at byte 894\n",
      "\n",
      "2017-08-17 08:33:11 [chardet.charsetprober] DEBUG: EUC-JP Japanese prober hit error at byte 109\n",
      "\n",
      "2017-08-17 08:33:11 [chardet.charsetprober] DEBUG: EUC-KR Korean prober hit error at byte 109\n",
      "\n",
      "2017-08-17 08:33:11 [chardet.charsetprober] DEBUG: CP949 Korean prober hit error at byte 759\n",
      "\n",
      "2017-08-17 08:33:15 [chardet.charsetprober] DEBUG: SHIFT_JIS Japanese prober hit error at byte 894\n",
      "\n",
      "2017-08-17 08:33:15 [chardet.charsetprober] DEBUG: EUC-JP Japanese prober hit error at byte 109\n",
      "\n",
      "2017-08-17 08:33:15 [chardet.charsetprober] DEBUG: EUC-KR Korean prober hit error at byte 109\n",
      "\n",
      "2017-08-17 08:33:15 [chardet.charsetprober] DEBUG: CP949 Korean prober hit error at byte 759\n",
      "\n",
      "2017-08-17 08:33:19 [chardet.charsetprober] DEBUG: SHIFT_JIS Japanese prober hit error at byte 894\n",
      "\n",
      "2017-08-17 08:33:19 [chardet.charsetprober] DEBUG: EUC-JP Japanese prober hit error at byte 109\n",
      "\n",
      "2017-08-17 08:33:19 [chardet.charsetprober] DEBUG: EUC-KR Korean prober hit error at byte 109\n",
      "\n",
      "2017-08-17 08:33:19 [chardet.charsetprober] DEBUG: CP949 Korean prober hit error at byte 759\n",
      "\n",
      "2017-08-17 08:33:21 [chardet.charsetprober] DEBUG: SHIFT_JIS Japanese prober hit error at byte 894\n",
      "\n",
      "2017-08-17 08:33:21 [chardet.charsetprober] DEBUG: EUC-JP Japanese prober hit error at byte 109\n",
      "\n",
      "2017-08-17 08:33:21 [chardet.charsetprober] DEBUG: EUC-KR Korean prober hit error at byte 109\n",
      "\n",
      "2017-08-17 08:33:21 [chardet.charsetprober] DEBUG: CP949 Korean prober hit error at byte 759\n",
      "\n",
      "2017-08-17 08:33:23 [chardet.charsetprober] DEBUG: SHIFT_JIS Japanese prober hit error at byte 894\n",
      "\n",
      "2017-08-17 08:33:23 [chardet.charsetprober] DEBUG: EUC-JP Japanese prober hit error at byte 109\n",
      "\n",
      "2017-08-17 08:33:23 [chardet.charsetprober] DEBUG: EUC-KR Korean prober hit error at byte 109\n",
      "\n",
      "2017-08-17 08:33:23 [chardet.charsetprober] DEBUG: CP949 Korean prober hit error at byte 759\n",
      "\n",
      "2017-08-17 08:33:28 [chardet.charsetprober] DEBUG: SHIFT_JIS Japanese prober hit error at byte 894\n",
      "\n",
      "2017-08-17 08:33:28 [chardet.charsetprober] DEBUG: EUC-JP Japanese prober hit error at byte 109\n",
      "\n",
      "2017-08-17 08:33:28 [chardet.charsetprober] DEBUG: EUC-KR Korean prober hit error at byte 109\n",
      "\n",
      "2017-08-17 08:33:28 [chardet.charsetprober] DEBUG: CP949 Korean prober hit error at byte 759\n",
      "\n",
      "2017-08-17 08:33:30 [chardet.charsetprober] DEBUG: SHIFT_JIS Japanese prober hit error at byte 894\n",
      "\n",
      "2017-08-17 08:33:30 [chardet.charsetprober] DEBUG: EUC-JP Japanese prober hit error at byte 109\n",
      "\n",
      "2017-08-17 08:33:30 [chardet.charsetprober] DEBUG: EUC-KR Korean prober hit error at byte 109\n",
      "\n",
      "2017-08-17 08:33:30 [chardet.charsetprober] DEBUG: CP949 Korean prober hit error at byte 759\n",
      "\n",
      "2017-08-17 08:33:33 [chardet.charsetprober] DEBUG: SHIFT_JIS Japanese prober hit error at byte 901\n",
      "\n",
      "2017-08-17 08:33:33 [chardet.charsetprober] DEBUG: EUC-JP Japanese prober hit error at byte 109\n",
      "\n",
      "2017-08-17 08:33:34 [chardet.charsetprober] DEBUG: EUC-KR Korean prober hit error at byte 109\n",
      "\n",
      "2017-08-17 08:33:34 [chardet.charsetprober] DEBUG: CP949 Korean prober hit error at byte 759\n",
      "\n",
      " 'downloader/exception_type_count/twisted.internet.error.TimeoutError': 2,\n",
      "\n",
      " 'retry/reason_count/twisted.internet.error.TimeoutError': 2,\n",
      "\n"
     ]
    }
   ],
   "source": [
    "file = open(\"..\\\\FIleOperation\\\\scrapy.log\", 'r', encoding='utf8')\n",
    "\n",
    "for line in file:\n",
    "    if 'error'in line:\n",
    "        print(line)\n",
    "\n",
    "file.close()"
   ]
  },
  {
   "cell_type": "code",
   "execution_count": 2,
   "metadata": {
    "collapsed": false,
    "deletable": true,
    "editable": true,
    "scrolled": true
   },
   "outputs": [
    {
     "data": {
      "text/html": [
       "<div>\n",
       "<style>\n",
       "    .dataframe thead tr:only-child th {\n",
       "        text-align: right;\n",
       "    }\n",
       "\n",
       "    .dataframe thead th {\n",
       "        text-align: left;\n",
       "    }\n",
       "\n",
       "    .dataframe tbody tr th {\n",
       "        vertical-align: top;\n",
       "    }\n",
       "</style>\n",
       "<table border=\"1\" class=\"dataframe\">\n",
       "  <thead>\n",
       "    <tr style=\"text-align: right;\">\n",
       "      <th></th>\n",
       "      <th>0</th>\n",
       "      <th>1</th>\n",
       "      <th>2</th>\n",
       "    </tr>\n",
       "  </thead>\n",
       "  <tbody>\n",
       "    <tr>\n",
       "      <th>0</th>\n",
       "      <td>會計項目</td>\n",
       "      <td>2017年01月01日至2017年06月30日</td>\n",
       "      <td>2016年01月01日至2016年06月30日</td>\n",
       "    </tr>\n",
       "    <tr>\n",
       "      <th>1</th>\n",
       "      <td>現金流量表</td>\n",
       "      <td>NaN</td>\n",
       "      <td>NaN</td>\n",
       "    </tr>\n",
       "    <tr>\n",
       "      <th>2</th>\n",
       "      <td>營業活動之現金流量－間接法</td>\n",
       "      <td>NaN</td>\n",
       "      <td>NaN</td>\n",
       "    </tr>\n",
       "    <tr>\n",
       "      <th>3</th>\n",
       "      <td>繼續營業單位稅前淨利（淨損）</td>\n",
       "      <td>309336</td>\n",
       "      <td>318388</td>\n",
       "    </tr>\n",
       "    <tr>\n",
       "      <th>4</th>\n",
       "      <td>本期稅前淨利（淨損）</td>\n",
       "      <td>309336</td>\n",
       "      <td>318388</td>\n",
       "    </tr>\n",
       "  </tbody>\n",
       "</table>\n",
       "</div>"
      ],
      "text/plain": [
       "                0                        1                        2\n",
       "0            會計項目  2017年01月01日至2017年06月30日  2016年01月01日至2016年06月30日\n",
       "1           現金流量表                      NaN                      NaN\n",
       "2   營業活動之現金流量－間接法                      NaN                      NaN\n",
       "3  繼續營業單位稅前淨利（淨損）                   309336                   318388\n",
       "4      本期稅前淨利（淨損）                   309336                   318388"
      ]
     },
     "execution_count": 2,
     "metadata": {},
     "output_type": "execute_result"
    }
   ],
   "source": [
    "import pandas as pd\n",
    "df = pd.read_html(\"http://mops.twse.com.tw/server-java/t164sb01?step=1&CO_ID=4104&SYEAR=2017&SSEASON=2&REPORT_ID=C\", encoding='big5')[3]\n",
    "df.head()\n",
    "# df.to_csv('FileOperation\\\\table.csv', header=None, index=False)\n",
    "\n",
    "# df.columns = df.xs(0)\n",
    "# df.drop(0, inplace=True)\n",
    "# df.T.to_json(\"FileOperation\\\\table1.json\", force_ascii=None)"
   ]
  },
  {
   "cell_type": "code",
   "execution_count": null,
   "metadata": {
    "collapsed": true,
    "deletable": true,
    "editable": true
   },
   "outputs": [],
   "source": [
    "#json\n",
    "[\n",
    "{\n",
    "    'name':\"jeremy\",\n",
    "    'old':24,\n",
    "    '.....'\n",
    "    'assets':{'house':1,'car':2,'finanacial':{'bonds':10000,'insurance':20000}}\n",
    "},\n",
    "{\n",
    "    'name':\"jeremy\",\n",
    "    'old':24,\n",
    "    '.....'\n",
    "}\n",
    "]\n",
    "#xml\n",
    "<person>\n",
    "    <name>jeremy</name>\n",
    "    <old>24</old>\n",
    "</person>\n",
    "<person>\n",
    "    <name>jeremy</name>\n",
    "    <old>24</old>\n",
    "</person>\n",
    "<person>\n",
    "    <name>jeremy</name>\n",
    "    <old>24</old>\n",
    "</person>"
   ]
  },
  {
   "cell_type": "code",
   "execution_count": 46,
   "metadata": {
    "collapsed": false,
    "deletable": true,
    "editable": true
   },
   "outputs": [],
   "source": [
    "import json\n",
    "# df = pd.read_html(\"http://mops.twse.com.tw/server-java/t164sb01?step=1&CO_ID=4104&SYEAR=2017&SSEASON=2&REPORT_ID=C\", encoding='big5')[3]\n",
    "dist2017 = {}\n",
    "dist2016 = {}\n",
    "\n",
    "for row in df.iterrows():\n",
    "    if pd.notnull(row[1][1]) and row[1][0] != '會計項目':\n",
    "        dist2017[row[1][0]] = row[1][1]\n",
    "        dist2016[row[1][0]] = row[1][2]\n",
    "\n",
    "tableDist = {\n",
    "    '2017年01月01日至2017年06月30日':dist2017,\n",
    "    '2016年01月01日至2016年06月30日':dist2016\n",
    "}\n",
    "\n",
    "with open('FileOperation\\\\table1.json', 'w', encoding='utf8') as f:\n",
    "    json.dump(tableDist, f)"
   ]
  },
  {
   "cell_type": "code",
   "execution_count": 54,
   "metadata": {
    "collapsed": false,
    "deletable": true,
    "editable": true
   },
   "outputs": [
    {
     "name": "stdout",
     "output_type": "stream",
     "text": [
      "2\n",
      "dict_keys(['2017年01月01日至2017年06月30日', '2016年01月01日至2016年06月30日'])\n"
     ]
    }
   ],
   "source": [
    "file = open('FileOperation\\\\table1.json', encoding='utf8')\n",
    "tableJson = json.loads(file.read())\n",
    "print(len(tableJson))\n",
    "print(tableJson.keys())"
   ]
  },
  {
   "cell_type": "code",
   "execution_count": null,
   "metadata": {
    "collapsed": true,
    "deletable": true,
    "editable": true
   },
   "outputs": [],
   "source": []
  }
 ],
 "metadata": {
  "kernelspec": {
   "display_name": "Python 3",
   "language": "python",
   "name": "python3"
  },
  "language_info": {
   "codemirror_mode": {
    "name": "ipython",
    "version": 3
   },
   "file_extension": ".py",
   "mimetype": "text/x-python",
   "name": "python",
   "nbconvert_exporter": "python",
   "pygments_lexer": "ipython3",
   "version": "3.5.3"
  }
 },
 "nbformat": 4,
 "nbformat_minor": 2
}
