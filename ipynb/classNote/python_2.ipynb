{
 "cells": [
  {
   "cell_type": "markdown",
   "metadata": {
    "deletable": true,
    "editable": true
   },
   "source": [
    "# int"
   ]
  },
  {
   "cell_type": "code",
   "execution_count": 2,
   "metadata": {
    "collapsed": false,
    "deletable": true,
    "editable": true
   },
   "outputs": [
    {
     "name": "stdout",
     "output_type": "stream",
     "text": [
      "0b1100100\n",
      "0x64\n",
      "3\n",
      "<class 'float'>\n",
      "3\n"
     ]
    }
   ],
   "source": [
    "print(bin(100))  ##二進位(binary)\n",
    "print(hex(100))  ##十六進位(hexadecimal) \n",
    "print(int(3.14))  ##float 是一種class(type)\n",
    "print(type(3.14))\n",
    "print(int(3.88))  ##自動捨去法"
   ]
  },
  {
   "cell_type": "markdown",
   "metadata": {
    "deletable": true,
    "editable": true
   },
   "source": [
    "# bool"
   ]
  },
  {
   "cell_type": "code",
   "execution_count": 6,
   "metadata": {
    "collapsed": false,
    "deletable": true,
    "editable": true
   },
   "outputs": [
    {
     "name": "stdout",
     "output_type": "stream",
     "text": [
      "False\n",
      "False\n",
      "[1, 2, 3]\n",
      "[100, 2, 3]\n"
     ]
    },
    {
     "data": {
      "text/plain": [
       "False"
      ]
     },
     "execution_count": 6,
     "metadata": {},
     "output_type": "execute_result"
    }
   ],
   "source": [
    "print(True is 1)\n",
    "print(False is 0)\n",
    "\n",
    "# class 杯子():\n",
    "#     attribute: 長、寬、高 \n",
    "#     function: 拿()、喝()\n",
    "# class list():\n",
    "#     function: append()=>增加新的元素, \n",
    "# a = [1,2,3] 就是list class\n",
    "# a.function()\n",
    "\n",
    "    \n",
    "a = [1,2,3]\n",
    "b = a.copy()\n",
    "b[0] = 100\n",
    "print(a)\n",
    "print(b)\n",
    "a is b"
   ]
  },
  {
   "cell_type": "code",
   "execution_count": 9,
   "metadata": {
    "collapsed": false,
    "deletable": true,
    "editable": true
   },
   "outputs": [
    {
     "name": "stdout",
     "output_type": "stream",
     "text": [
      "True\n",
      "True\n"
     ]
    }
   ],
   "source": [
    "print(True == 1)\n",
    "print(False == 0)"
   ]
  },
  {
   "cell_type": "markdown",
   "metadata": {
    "deletable": true,
    "editable": true
   },
   "source": [
    "# 條件運算式"
   ]
  },
  {
   "cell_type": "code",
   "execution_count": 11,
   "metadata": {
    "collapsed": false,
    "deletable": true,
    "editable": true
   },
   "outputs": [
    {
     "name": "stdout",
     "output_type": "stream",
     "text": [
      "3\n",
      "3\n",
      "3\n",
      "4\n",
      "4\n"
     ]
    }
   ],
   "source": [
    "if True:\n",
    "    x=3\n",
    "else:\n",
    "    x=4\n",
    "print(x)\n",
    "\n",
    "#三元運算子\n",
    "x =3 if 1 else 4\n",
    "print(x)\n",
    "x =3 if True else 4\n",
    "print(x)\n",
    "x =3 if 0 else 4\n",
    "print(x)\n",
    "x =3 if False else 4\n",
    "print(x)"
   ]
  },
  {
   "cell_type": "markdown",
   "metadata": {
    "deletable": true,
    "editable": true
   },
   "source": [
    "# Fraction"
   ]
  },
  {
   "cell_type": "code",
   "execution_count": 32,
   "metadata": {
    "collapsed": false,
    "deletable": true,
    "editable": true
   },
   "outputs": [
    {
     "name": "stdout",
     "output_type": "stream",
     "text": [
      "1/2\n",
      "3537118815677477/1125899906842624\n",
      "6368089873101881/4503599627370496\n"
     ]
    }
   ],
   "source": [
    "from fractions import *\n",
    "F = Fraction\n",
    "print(F(1,2))\n",
    "print(F(3.1415926))\n",
    "print(F(1.414))"
   ]
  },
  {
   "cell_type": "markdown",
   "metadata": {
    "deletable": true,
    "editable": true
   },
   "source": [
    "# List"
   ]
  },
  {
   "cell_type": "code",
   "execution_count": 29,
   "metadata": {
    "collapsed": false,
    "deletable": true,
    "editable": true
   },
   "outputs": [
    {
     "name": "stdout",
     "output_type": "stream",
     "text": [
      "[1, 'aa', 3, 1, [1, 2], 2, 3, 0, 1, 2, 3, 4, 5, 6, 7, 8, 9]\n"
     ]
    }
   ],
   "source": [
    "# list announcement, append, pop\n",
    "mylist = [1,3.14, 'aa',3]\n",
    "mylist.append(1) #integer\n",
    "mylist.append([1,2]) #integer\n",
    "mylist.append(2)\n",
    "mylist.append(3)\n",
    "for i in range(10):\n",
    "    mylist.append(i)\n",
    "\n",
    "mylist.pop(1)  ## drop obj in the index = pop(<index>)\n",
    "print(mylist)"
   ]
  },
  {
   "cell_type": "code",
   "execution_count": 25,
   "metadata": {
    "collapsed": false,
    "deletable": true,
    "editable": true
   },
   "outputs": [
    {
     "name": "stdout",
     "output_type": "stream",
     "text": [
      "[0, 1, 2, 3, 4, 5, 6, 7, 8, 9]\n",
      "[0, 1]\n",
      "[2, 3, 4, 5, 6, 7, 8, 9]\n",
      "[7, 8, 9]\n",
      "[0, 1, 2, 3, 4, 5, 6, 7]\n"
     ]
    }
   ],
   "source": [
    "## index slicing\n",
    "mylist = list(range(10))\n",
    "print(mylist)\n",
    "print(mylist[:2]) #\":\" = 到\n",
    "print(mylist[2:]) # 從2開始到最後\n",
    "print(mylist[-3:])\n",
    "print(mylist[:-2])"
   ]
  },
  {
   "cell_type": "code",
   "execution_count": 33,
   "metadata": {
    "collapsed": false,
    "deletable": true,
    "editable": true
   },
   "outputs": [
    {
     "name": "stdout",
     "output_type": "stream",
     "text": [
      "[0, 1, 2, 3, 4, 5, 6, 7, 8, 9, [100, 100, 100, -1, -99]]\n",
      "[100, 100, 100, -1, -99]\n",
      "-------------------\n",
      "[0, 1, 2, 3, 4, 5, 6, 7, 8, 9, 100, 100, 100, -1, -99]\n",
      "-------------------\n",
      "[0, 1, 2, 3, 4, 5, 6, 7, 8, 9, 100, 100, 100, -1, -99]\n",
      "-------------------\n",
      "[0, 0, 0, 0, 0, 0, 0, 0, 0, 0, 0, 0, 0, 0, 0, 0, 0, 0, 0, 0, 0, 0, 0, 0, 0, 0, 0, 0, 0, 0, 0, 0, 0, 0, 0, 0, 0, 0, 0, 0, 0, 0, 0, 0, 0, 0, 0, 0, 0, 0, 0, 0, 0, 0, 0, 0, 0, 0, 0, 0, 0, 0, 0, 0, 0, 0, 0, 0, 0, 0, 0, 0, 0, 0, 0, 0, 0, 0, 0, 0, 0, 0, 0, 0, 0, 0, 0, 0, 0, 0, 0, 0, 0, 0, 0, 0, 0, 0, 0, 0]\n",
      "-------------------\n"
     ]
    },
    {
     "data": {
      "text/plain": [
       "[0,\n",
       " 0,\n",
       " 0,\n",
       " 0,\n",
       " 0,\n",
       " 0,\n",
       " 0,\n",
       " 0,\n",
       " 0,\n",
       " 0,\n",
       " 0,\n",
       " 0,\n",
       " 0,\n",
       " 0,\n",
       " 0,\n",
       " 0,\n",
       " 0,\n",
       " 0,\n",
       " 0,\n",
       " 0,\n",
       " 0,\n",
       " 0,\n",
       " 0,\n",
       " 0,\n",
       " 0,\n",
       " 0,\n",
       " 0,\n",
       " 0,\n",
       " 0,\n",
       " 0,\n",
       " 0,\n",
       " 0,\n",
       " 0,\n",
       " 0,\n",
       " 0,\n",
       " 0,\n",
       " 96,\n",
       " 0,\n",
       " 0,\n",
       " 0,\n",
       " 0,\n",
       " 0,\n",
       " 0,\n",
       " 0,\n",
       " 0,\n",
       " 0,\n",
       " 0,\n",
       " 0,\n",
       " 0,\n",
       " 0,\n",
       " 0,\n",
       " 0,\n",
       " 2,\n",
       " 2,\n",
       " 2,\n",
       " 2,\n",
       " 2,\n",
       " 2,\n",
       " 2,\n",
       " 2,\n",
       " 2,\n",
       " 2,\n",
       " 2,\n",
       " 2,\n",
       " 2,\n",
       " 2,\n",
       " 2,\n",
       " 2,\n",
       " 2,\n",
       " 2,\n",
       " 2,\n",
       " 2,\n",
       " 2,\n",
       " 2,\n",
       " 2,\n",
       " 2,\n",
       " 2,\n",
       " 2,\n",
       " 2,\n",
       " 2,\n",
       " 2,\n",
       " 2,\n",
       " 2,\n",
       " 2,\n",
       " 2,\n",
       " 2,\n",
       " 2,\n",
       " 2,\n",
       " 2,\n",
       " 2,\n",
       " 2,\n",
       " 2,\n",
       " 2,\n",
       " 2,\n",
       " 2,\n",
       " 2,\n",
       " 2,\n",
       " 2,\n",
       " 2,\n",
       " 2]"
      ]
     },
     "execution_count": 33,
     "metadata": {},
     "output_type": "execute_result"
    }
   ],
   "source": [
    "# append, extend\n",
    "mylist = list(range(10))\n",
    "mylist.append([100, 100, 100, -1, -99]) #加入新物件\n",
    "print(mylist)\n",
    "print(mylist[10])\n",
    "print(\"-------------------\")\n",
    "\n",
    "mylist = list(range(10))\n",
    "mylist.extend([100, 100, 100, -1, -99]) #延長\n",
    "print(mylist)\n",
    "print(\"-------------------\")\n",
    "\n",
    "mylist = list(range(10))\n",
    "mylist = mylist + [100, 100, 100, -1, -99]\n",
    "print(mylist)\n",
    "print(\"-------------------\")\n",
    "\n",
    "mylist = [0] * 100\n",
    "print(mylist)\n",
    "print(\"-------------------\")\n",
    "\n",
    "for i in range(100):\n",
    "    if i >50 and i <99:\n",
    "        mylist[36] += 2\n",
    "        mylist[i + 1] += 2\n",
    "mylist"
   ]
  },
  {
   "cell_type": "code",
   "execution_count": 35,
   "metadata": {
    "collapsed": false,
    "deletable": true,
    "editable": true
   },
   "outputs": [
    {
     "name": "stdout",
     "output_type": "stream",
     "text": [
      "[-99, -1, 0, 1, 2, 3, 4, 5, 6, 7, 8, 9, 100, 100, 100]\n",
      "[100, 100, 100, 9, 8, 7, 6, 5, 4, 3, 2, 1, 0, -1, -99]\n",
      "---------------\n",
      "[0, 1, 2, 3, 4, 5, 6, 7, 8, 9, 100, 100, 100, -1, -99]\n",
      "3\n",
      "10\n"
     ]
    }
   ],
   "source": [
    "# sort, count, min, max, len, inedx\n",
    "mylist = list(range(10))\n",
    "mylist = mylist + [100, 100, 100, -1, -99]\n",
    "print(sorted(mylist))\n",
    "print(sorted(mylist, reverse = True))\n",
    "print(\"---------------\")\n",
    "\n",
    "print(mylist)\n",
    "print(mylist.count(100))  #有幾個100(值，非index)\n",
    "print(mylist.index(100))  # 第一次出現的索引值"
   ]
  },
  {
   "cell_type": "code",
   "execution_count": 41,
   "metadata": {
    "collapsed": false,
    "deletable": true,
    "editable": true
   },
   "outputs": [
    {
     "name": "stdout",
     "output_type": "stream",
     "text": [
      "[0, 1, 2, 3, 4, 5, 6, 7, 8, 9, 100, 100, 100, -1, -99]\n",
      "[0, 1, 2, 3, 4, 5, 6, 7, 8, 9, 100, -99, -1]\n"
     ]
    }
   ],
   "source": [
    "# set\n",
    "# newlist = []\n",
    "# for i in mylist:\n",
    "#     if i not in newlist:\n",
    "#         newlist.append(i) \n",
    "# print(newlist)\n",
    "print(mylist)\n",
    "print(list(set(mylist)))  ##去掉重複值"
   ]
  },
  {
   "cell_type": "code",
   "execution_count": 44,
   "metadata": {
    "collapsed": false,
    "deletable": true,
    "editable": true
   },
   "outputs": [
    {
     "data": {
      "text/plain": [
       "'0 1 2 3 4 5 6 7 8 9'"
      ]
     },
     "execution_count": 44,
     "metadata": {},
     "output_type": "execute_result"
    }
   ],
   "source": [
    "# join\n",
    "mylist = list(range(10))\n",
    "newlist = [str(i) for i in mylist]\n",
    "# newlist = []\n",
    "# for i in mylist:\n",
    "#     newlist.append(str(i))\n",
    "    \n",
    "\" \".join(newlist)"
   ]
  },
  {
   "cell_type": "code",
   "execution_count": 65,
   "metadata": {
    "collapsed": false,
    "deletable": true,
    "editable": true
   },
   "outputs": [
    {
     "name": "stdout",
     "output_type": "stream",
     "text": [
      "False\n",
      "True\n",
      "False\n",
      "False\n"
     ]
    }
   ],
   "source": [
    "# copy\n",
    "mylist = list(range(10))\n",
    "mycopy = mylist.copy()\n",
    "print(mycopy is mylist)\n",
    "print(mycopy == mylist)\n",
    "\n",
    "\n",
    "mycopy[0] = -100\n",
    "print(mycopy is mylist)\n",
    "print(mycopy == mylist)\n"
   ]
  },
  {
   "cell_type": "code",
   "execution_count": 47,
   "metadata": {
    "collapsed": false,
    "deletable": true,
    "editable": true,
    "scrolled": true
   },
   "outputs": [
    {
     "name": "stdout",
     "output_type": "stream",
     "text": [
      "['2017年01月01日至2017年06月30日', nan, nan, '309336', '309336', nan, nan, '36661', '4745', '-15525', '14001', '17236', '-9674', '-11760', '-52771', '508', '0', '-4550', '60', '5000', '0', '45', '0', '48844', '-48191', '-7541', '-22912', nan, nan, '-8230', '52863', '99976', '805565', '-58842', '-134', '-21197', '-4950', '865051', nan, '0', '7251', '-302181', '-1519513', '-36567', '-663', '-2465', '-1854138', '-989087', '-1011999', '-702663', '12874', '12967', '-10777', '-57075', '-744674', nan, '0', '10517', '-465878', '494467', '-104000', '2470', '0', '-15168', '8457', '-682', '44323', '33747', '-500', '9388', '0', '225130', '-15753', '226518', nan, '310000', '-1488', '190', '0', '0', '-109870', '198832', '47228', '-272096', '2876766', '2604670', '2604670']\n",
      "-------------\n",
      "<class 'float'>\n",
      "<class 'float'>\n",
      "<class 'float'>\n",
      "<class 'float'>\n",
      "<class 'float'>\n",
      "<class 'float'>\n",
      "<class 'float'>\n",
      "<class 'float'>\n",
      "<class 'float'>\n",
      "-------------\n",
      "['309336', '309336', '36661', '33747', '310000']\n"
     ]
    }
   ],
   "source": [
    "# iteration\n",
    "import pandas as pd\n",
    "import math\n",
    "import re\n",
    "df = pd.read_html(\"http://mops.twse.com.tw/server-java/t164sb01?step=1&CO_ID=4104&SYEAR=2017&SSEASON=2&REPORT_ID=C\")[3]\n",
    "mylist = list(df[1])\n",
    "print(mylist)\n",
    "print(\"-------------\")\n",
    "\n",
    "[print(type(item)) for item in mylist if type(item) != str]\n",
    "print(\"-------------\")\n",
    "\n",
    "notNoneList = [item for item in mylist if type(item) == str and re.findall(r'^3', item)]\n",
    "print(notNoneList)\n"
   ]
  },
  {
   "cell_type": "code",
   "execution_count": 52,
   "metadata": {
    "collapsed": false
   },
   "outputs": [
    {
     "name": "stdout",
     "output_type": "stream",
     "text": [
      "['2017年01月01日至2017年06月30日', None, None, '309336', '309336', None, None, '36661', '4745', '-15525', '14001', '17236', '-9674', '-11760', '-52771', '508', '0', '-4550', '60', '5000', '0', '45', '0', '48844', '-48191', '-7541', '-22912', None, None, '-8230', '52863', '99976', '805565', '-58842', '-134', '-21197', '-4950', '865051', None, '0', '7251', '-302181', '-1519513', '-36567', '-663', '-2465', '-1854138', '-989087', '-1011999', '-702663', '12874', '12967', '-10777', '-57075', '-744674', None, '0', '10517', '-465878', '494467', '-104000', '2470', '0', '-15168', '8457', '-682', '44323', '33747', '-500', '9388', '0', '225130', '-15753', '226518', None, '310000', '-1488', '190', '0', '0', '-109870', '198832', '47228', '-272096', '2876766', '2604670', '2604670']\n"
     ]
    }
   ],
   "source": [
    "mylist = ['2017年01月01日至2017年06月30日', None, None, '309336', '309336', None, None, '36661', '4745', '-15525', '14001', '17236', '-9674', '-11760', '-52771', '508', '0', '-4550', '60', '5000', '0', '45', '0', '48844', '-48191', '-7541', '-22912', None, None, '-8230', '52863', '99976', '805565', '-58842', '-134', '-21197', '-4950', '865051', None, '0', '7251', '-302181', '-1519513', '-36567', '-663', '-2465', '-1854138', '-989087', '-1011999', '-702663', '12874', '12967', '-10777', '-57075', '-744674', None, '0', '10517', '-465878', '494467', '-104000', '2470', '0', '-15168', '8457', '-682', '44323', '33747', '-500', '9388', '0', '225130', '-15753', '226518', None, '310000', '-1488', '190', '0', '0', '-109870', '198832', '47228', '-272096', '2876766', '2604670', '2604670']\n",
    "\n",
    "for i in range(len(mylist)):\n",
    "    if type(mylist[i]) == str and mylist[i] == None:\n",
    "        mylist.pop(i)  #index\n",
    "print(mylist)"
   ]
  },
  {
   "cell_type": "code",
   "execution_count": 55,
   "metadata": {
    "collapsed": false,
    "deletable": true,
    "editable": true
   },
   "outputs": [
    {
     "name": "stdout",
     "output_type": "stream",
     "text": [
      "0\n",
      "2017年01月01日至2017年06月30日\n",
      "1\n",
      "None\n",
      "2\n",
      "None\n",
      "3\n",
      "309336\n",
      "4\n",
      "309336\n",
      "5\n",
      "None\n",
      "6\n",
      "None\n",
      "7\n",
      "36661\n",
      "8\n",
      "4745\n",
      "9\n",
      "-15525\n"
     ]
    }
   ],
   "source": [
    "# enumerate\n",
    "for num, item in enumerate(mylist):\n",
    "    if num < 10:\n",
    "        print(num)\n",
    "        print(item)"
   ]
  },
  {
   "cell_type": "markdown",
   "metadata": {
    "deletable": true,
    "editable": true
   },
   "source": [
    "# Dict"
   ]
  },
  {
   "cell_type": "code",
   "execution_count": 175,
   "metadata": {
    "collapsed": false,
    "deletable": true,
    "editable": true
   },
   "outputs": [
    {
     "name": "stdout",
     "output_type": "stream",
     "text": [
      "<class 'dict'>\n",
      "<class 'set'>\n",
      "{'c': 3, 'b': 2, 'a': 1}\n",
      "{'d': 4, 'c': 3, 'b': 2, 'a': 1}\n"
     ]
    }
   ],
   "source": [
    "# dict announcement\n",
    "a = {}\n",
    "print(type(a))\n",
    "b = {1,}\n",
    "print(type(b))\n",
    "\n",
    "mydict = {\"a\":1, \"b\":2, \"c\":3}\n",
    "print(mydict)\n",
    "mydict['d'] = 4\n",
    "print(mydict)  ##沒有順序"
   ]
  },
  {
   "cell_type": "code",
   "execution_count": 176,
   "metadata": {
    "collapsed": false,
    "deletable": true,
    "editable": true
   },
   "outputs": [
    {
     "name": "stdout",
     "output_type": "stream",
     "text": [
      "dict_keys(['d', 'c', 'b', 'a'])\n",
      "dict_values([4, 3, 2, 1])\n",
      "4\n",
      "None\n",
      "100\n",
      "'e' not in mydict.keys()\n"
     ]
    }
   ],
   "source": [
    "# dict call\n",
    "print(mydict.keys())\n",
    "print(mydict.values())\n",
    "\n",
    "print(mydict['d'])\n",
    "print(mydict.get('e'))\n",
    "print(mydict.get('e', 100))\n",
    "\n",
    "try:\n",
    "    print(mydict['e'])\n",
    "except:\n",
    "    print(\"'e' not in mydict.keys()\")\n",
    "# exceptions: https://docs.python.org/3/library/exceptions.html#bltin-exceptions\n",
    "\n"
   ]
  },
  {
   "cell_type": "code",
   "execution_count": 177,
   "metadata": {
    "collapsed": false,
    "deletable": true,
    "editable": true
   },
   "outputs": [
    {
     "name": "stdout",
     "output_type": "stream",
     "text": [
      "{'c': 3, 'a': 1, 'b': 2}\n",
      "None\n",
      "{'c': 3, 'a': 1, 'b': 2}\n"
     ]
    },
    {
     "ename": "KeyError",
     "evalue": "'100'",
     "output_type": "error",
     "traceback": [
      "\u001b[1;31m---------------------------------------------------------------------------\u001b[0m",
      "\u001b[1;31mKeyError\u001b[0m                                  Traceback (most recent call last)",
      "\u001b[1;32m<ipython-input-177-b8a305011ba8>\u001b[0m in \u001b[0;36m<module>\u001b[1;34m()\u001b[0m\n\u001b[0;32m      6\u001b[0m \u001b[0mprint\u001b[0m\u001b[1;33m(\u001b[0m\u001b[0mres\u001b[0m\u001b[1;33m)\u001b[0m\u001b[1;33m\u001b[0m\u001b[0m\n\u001b[0;32m      7\u001b[0m \u001b[0mprint\u001b[0m\u001b[1;33m(\u001b[0m\u001b[0mmydict\u001b[0m\u001b[1;33m)\u001b[0m\u001b[1;33m\u001b[0m\u001b[0m\n\u001b[1;32m----> 8\u001b[1;33m \u001b[0mmydict\u001b[0m\u001b[1;33m.\u001b[0m\u001b[0mpop\u001b[0m\u001b[1;33m(\u001b[0m\u001b[1;34m'100'\u001b[0m\u001b[1;33m)\u001b[0m\u001b[1;33m\u001b[0m\u001b[0m\n\u001b[0m",
      "\u001b[1;31mKeyError\u001b[0m: '100'"
     ]
    }
   ],
   "source": [
    "# pop\n",
    "mydict = {'d': 4, 'c': 3, 'b': 2, 'a': 1}\n",
    "mydict.pop('d')\n",
    "print(mydict)\n",
    "res = mydict.pop('100', None)\n",
    "print(res)\n",
    "print(mydict)\n",
    "mydict.pop('100')"
   ]
  },
  {
   "cell_type": "code",
   "execution_count": 149,
   "metadata": {
    "collapsed": false,
    "deletable": true,
    "editable": true
   },
   "outputs": [
    {
     "name": "stdout",
     "output_type": "stream",
     "text": [
      "d 4\n",
      "c 3\n",
      "b 2\n",
      "a 1\n"
     ]
    }
   ],
   "source": [
    "# iteration\n",
    "for key, value in mydict.items():\n",
    "    print(key, value)"
   ]
  },
  {
   "cell_type": "code",
   "execution_count": 150,
   "metadata": {
    "collapsed": false,
    "deletable": true,
    "editable": true
   },
   "outputs": [
    {
     "data": {
      "text/plain": [
       "[('a', 1), ('b', 2), ('c', 3), ('d', 4)]"
      ]
     },
     "execution_count": 150,
     "metadata": {},
     "output_type": "execute_result"
    }
   ],
   "source": [
    "# sort\n",
    "sorted(mydict.items(), key=lambda x:x[1])"
   ]
  },
  {
   "cell_type": "code",
   "execution_count": 1,
   "metadata": {
    "collapsed": false,
    "deletable": true,
    "editable": true
   },
   "outputs": [
    {
     "data": {
      "text/plain": [
       "Counter({'3.3,': 1,\n",
       "         'scripting': 6,\n",
       "         'game': 1,\n",
       "         'Many': 3,\n",
       "         'conducted': 1,\n",
       "         'also:': 2,\n",
       "         'double': 3,\n",
       "         'right': 1,\n",
       "         '&amp;': 6,\n",
       "         'the': 262,\n",
       "         'Meets': 1,\n",
       "         '2010.<sup': 1,\n",
       "         '2D/3D': 1,\n",
       "         'styles': 1,\n",
       "         'right;': 1,\n",
       "         '2006).': 4,\n",
       "         '15.': 2,\n",
       "         'browsing': 1,\n",
       "         'platform': 2,\n",
       "         'core,': 1,\n",
       "         'defines': 1,\n",
       "         'terms,': 1,\n",
       "         'As': 3,\n",
       "         'style.': 1,\n",
       "         'Julia': 1,\n",
       "         'ideas.': 1,\n",
       "         'real': 1,\n",
       "         'Light': 2,\n",
       "         'position:': 1,\n",
       "         'mix': 1,\n",
       "         'objects': 6,\n",
       "         '36.788': 2,\n",
       "         'fifth': 1,\n",
       "         'final': 2,\n",
       "         'common,': 1,\n",
       "         'new': 7,\n",
       "         '2001).': 5,\n",
       "         'Why': 1,\n",
       "         'S60</a>,': 1,\n",
       "         'rights': 2,\n",
       "         'hard-won': 1,\n",
       "         'interval': 1,\n",
       "         'never': 1,\n",
       "         'referred': 2,\n",
       "         'Qt</i>.': 1,\n",
       "         'bugfix': 1,\n",
       "         'from,': 1,\n",
       "         'equals': 1,\n",
       "         'variety': 1,\n",
       "         'async=\"\"': 1,\n",
       "         'behavior': 3,\n",
       "         'when': 1,\n",
       "         'Moore': 1,\n",
       "         'move': 1,\n",
       "         'layout,': 1,\n",
       "         'Idiomatic': 1,\n",
       "         'here': 2,\n",
       "         '(note,': 1,\n",
       "         'Alex;': 1,\n",
       "         'ltr': 1,\n",
       "         'thinking': 1,\n",
       "         'implement': 3,\n",
       "         'practices': 1,\n",
       "         'noprint': 3,\n",
       "         'iterators': 2,\n",
       "         'hence': 2,\n",
       "         'readable': 1,\n",
       "         '2004).': 2,\n",
       "         'European': 1,\n",
       "         'makes': 3,\n",
       "         'April': 3,\n",
       "         'hands.': 1,\n",
       "         'division.': 1,\n",
       "         'if': 7,\n",
       "         '{': 2,\n",
       "         'bugs.': 1,\n",
       "         'commonly': 2,\n",
       "         'out': 3,\n",
       "         'language': 34,\n",
       "         'Jython': 1,\n",
       "         'plan': 1,\n",
       "         'C': 12,\n",
       "         'David.': 1,\n",
       "         'parts': 2,\n",
       "         'body': 2,\n",
       "         'social': 1,\n",
       "         '(\"blah\",': 1,\n",
       "         'return': 1,\n",
       "         'wireless': 1,\n",
       "         'abilities': 1,\n",
       "         'lang=\"bg\"': 1,\n",
       "         'packages': 2,\n",
       "         'book\"': 2,\n",
       "         '[k]\"': 1,\n",
       "         'widget': 1,\n",
       "         'TIP': 1,\n",
       "         'course': 1,\n",
       "         'zip': 1,\n",
       "         'Index': 3,\n",
       "         'Notebook': 1,\n",
       "         'nature': 1,\n",
       "         '(The': 1,\n",
       "         'not': 19,\n",
       "         '(7': 2,\n",
       "         'Lie': 1,\n",
       "         'Codehaus': 1,\n",
       "         '2011<span': 1,\n",
       "         'admirers': 1,\n",
       "         '[0,': 1,\n",
       "         '2.7\"</a>.': 1,\n",
       "         'twt': 1,\n",
       "         'though': 2,\n",
       "         'name&gt;': 1,\n",
       "         'avoid': 1,\n",
       "         'with': 59,\n",
       "         '(CWI)': 1,\n",
       "         '1,': 1,\n",
       "         'principal': 1,\n",
       "         'running': 3,\n",
       "         'effort': 1,\n",
       "         'denoted': 2,\n",
       "         'No': 1,\n",
       "         'General': 2,\n",
       "         'derived': 1,\n",
       "         'requiring': 2,\n",
       "         'Cookbook,': 1,\n",
       "         'add': 2,\n",
       "         'entire': 1,\n",
       "         'allows': 7,\n",
       "         'big': 1,\n",
       "         'versions': 3,\n",
       "         '15.21.1.': 1,\n",
       "         'Malay\"': 1,\n",
       "         'Erik.': 2,\n",
       "         '333<sup': 1,\n",
       "         'List': 1,\n",
       "         'discussed': 1,\n",
       "         'field,': 1,\n",
       "         'Literal': 1,\n",
       "         '.pyw,': 1,\n",
       "         'XML': 1,\n",
       "         '(In': 1,\n",
       "         'closely': 1,\n",
       "         'where': 6,\n",
       "         '(13': 2,\n",
       "         'operands': 2,\n",
       "         'Games': 1,\n",
       "         '26': 2,\n",
       "         'account': 1,\n",
       "         'Tamil\"': 1,\n",
       "         \"O'Reilly\": 2,\n",
       "         'and,': 1,\n",
       "         'typed': 5,\n",
       "         'shells,': 1,\n",
       "         'time:': 1,\n",
       "         'Public': 5,\n",
       "         'Into': 2,\n",
       "         'IBPy': 1,\n",
       "         'large)': 1,\n",
       "         'London:': 2,\n",
       "         '(زبان': 1,\n",
       "         'any': 1,\n",
       "         'append': 1,\n",
       "         'block': 8,\n",
       "         '(2010).': 2,\n",
       "         'document': 3,\n",
       "         'compiles': 7,\n",
       "         '(at': 1,\n",
       "         'increase': 2,\n",
       "         'terminal.': 1,\n",
       "         'good': 3,\n",
       "         'Hylton,': 1,\n",
       "         'multiply': 1,\n",
       "         '(see': 1,\n",
       "         '3.5,': 2,\n",
       "         'JRuby': 1,\n",
       "         '\"there': 1,\n",
       "         'directly': 2,\n",
       "         'found': 2,\n",
       "         'FAQ\"</a>.': 1,\n",
       "         'eggs': 1,\n",
       "         'mailing': 1,\n",
       "         'etc.': 1,\n",
       "         'precision': 5,\n",
       "         '6.22': 1,\n",
       "         'Aivazis,': 1,\n",
       "         'end.': 1,\n",
       "         'wrote': 1,\n",
       "         'keywords.': 1,\n",
       "         'keys': 4,\n",
       "         'A': 9,\n",
       "         'Python,': 16,\n",
       "         'brief': 1,\n",
       "         'Mark.': 1,\n",
       "         'schedule': 1,\n",
       "         '2013)': 1,\n",
       "         'dtstart': 3,\n",
       "         '2000).': 5,\n",
       "         '2.5': 1,\n",
       "         'free': 21,\n",
       "         'imaging': 1,\n",
       "         'But': 1,\n",
       "         '2002).': 2,\n",
       "         'asof-tag': 3,\n",
       "         '(5th': 1,\n",
       "         'mobile': 1,\n",
       "         'Donal': 1,\n",
       "         'supported': 5,\n",
       "         'item': 1,\n",
       "         'names.': 1,\n",
       "         'index.': 1,\n",
       "         'trình)': 1,\n",
       "         '(prior': 1,\n",
       "         'provides': 4,\n",
       "         'upstream': 1,\n",
       "         'Michele.': 1,\n",
       "         'Rexx,': 1,\n",
       "         'blocks,': 1,\n",
       "         'point': 1,\n",
       "         'promotes': 1,\n",
       "         'along': 2,\n",
       "         'example)': 1,\n",
       "         'Marathi\"': 1,\n",
       "         'define': 1,\n",
       "         'B.': 1,\n",
       "         'reject': 1,\n",
       "         '4px;': 4,\n",
       "         'While': 1,\n",
       "         'Tajik\"': 1,\n",
       "         'probably': 1,\n",
       "         'James': 1,\n",
       "         '\"with': 1,\n",
       "         'published': 3,\n",
       "         'calls': 1,\n",
       "         'protocols': 1,\n",
       "         'package': 1,\n",
       "         'Uzbek\"': 1,\n",
       "         'Tuples': 2,\n",
       "         'releases,': 2,\n",
       "         'advantage': 2,\n",
       "         'ways': 1,\n",
       "         'lang=\"fi\"': 1,\n",
       "         'GND': 3,\n",
       "         'until': 1,\n",
       "         'e.g.': 6,\n",
       "         'were': 2,\n",
       "         'lang=\"cs\"': 1,\n",
       "         'complex': 3,\n",
       "         'Syntax': 1,\n",
       "         'known': 1,\n",
       "         'Method': 1,\n",
       "         'lang=\"mk\"': 1,\n",
       "         'previews': 1,\n",
       "         'something': 2,\n",
       "         'allowing': 4,\n",
       "         'Bosnian\"': 1,\n",
       "         'receives': 3,\n",
       "         'End': 1,\n",
       "         'access': 1,\n",
       "         'instance,': 1,\n",
       "         '0465': 1,\n",
       "         'inherit': 1,\n",
       "         'alt=\"This': 1,\n",
       "         'marginal': 1,\n",
       "         'process': 2,\n",
       "         'section:': 25,\n",
       "         'content:': 1,\n",
       "         'y</code>,': 2,\n",
       "         '0.5em': 1,\n",
       "         'Serbian\"': 1,\n",
       "         'site': 1,\n",
       "         'intends': 1,\n",
       "         'they': 3,\n",
       "         'When': 1,\n",
       "         '40px;': 2,\n",
       "         'looking': 1,\n",
       "         'Java)': 1,\n",
       "         'script': 1,\n",
       "         '(REPL),': 1,\n",
       "         '2010.': 2,\n",
       "         'Although': 1,\n",
       "         'expected,': 1,\n",
       "         'lt': 1,\n",
       "         'model.': 1,\n",
       "         'Help': 1,\n",
       "         'Free': 7,\n",
       "         'who': 1,\n",
       "         'sequences': 1,\n",
       "         'depth:': 1,\n",
       "         '41.60%': 2,\n",
       "         'swap': 1,\n",
       "         '2016<sup': 1,\n",
       "         '[...]': 1,\n",
       "         'standard': 14,\n",
       "         '3.6.2': 1,\n",
       "         'instances': 2,\n",
       "         'lang=\"af\"': 1,\n",
       "         '2': 5,\n",
       "         'number': 10,\n",
       "         'Life': 1,\n",
       "         'citations': 3,\n",
       "         'clean-up': 1,\n",
       "         '[j]\"': 1,\n",
       "         '0': 2,\n",
       "         'S60': 1,\n",
       "         'chained': 1,\n",
       "         'concern': 1,\n",
       "         'DMOZ': 3,\n",
       "         'Michael': 1,\n",
       "         '132': 2,\n",
       "         'printer': 1,\n",
       "         'him': 1,\n",
       "         '43.931': 2,\n",
       "         'all': 9,\n",
       "         'join': 1,\n",
       "         'integrate': 1,\n",
       "         'place': 1,\n",
       "         'River,': 1,\n",
       "         'compiled': 1,\n",
       "         'equation': 3,\n",
       "         'are': 56,\n",
       "         'products': 1,\n",
       "         'run': 8,\n",
       "         \"id='p-tb'\": 1,\n",
       "         'Your': 2,\n",
       "         'paper': 1,\n",
       "         'within': 1,\n",
       "         'goes': 1,\n",
       "         'might': 1,\n",
       "         'alt=\"\"': 9,\n",
       "         'added': 2,\n",
       "         'language)': 5,\n",
       "         'iterable': 1,\n",
       "         'Cache': 1,\n",
       "         'tutorials': 1,\n",
       "         'From': 2,\n",
       "         '3\".': 1,\n",
       "         'equality': 2,\n",
       "         'Provider': 1,\n",
       "         'Open': 7,\n",
       "         'Guide': 2,\n",
       "         'ought': 1,\n",
       "         '(if': 1,\n",
       "         'about': 9,\n",
       "         'inherited': 1,\n",
       "         'Parsed': 1,\n",
       "         'example,': 8,\n",
       "         '3.5)<sup': 1,\n",
       "         'Axel.': 1,\n",
       "         'Of': 2,\n",
       "         'name=\"go\"': 1,\n",
       "         'NLUUG': 1,\n",
       "         'textual': 1,\n",
       "         'Cathedral': 2,\n",
       "         'problem': 1,\n",
       "         'back,': 1,\n",
       "         'tools,': 2,\n",
       "         'Fix': 1,\n",
       "         'equal': 1,\n",
       "         'Beginning': 1,\n",
       "         'syntax.': 1,\n",
       "         'contexts.': 1,\n",
       "         'pages': 4,\n",
       "         'design': 10,\n",
       "         'stack': 1,\n",
       "         'omitted,': 1,\n",
       "         'support': 9,\n",
       "         '20&#160;–': 1,\n",
       "         'Anna;': 1,\n",
       "         'goal': 1,\n",
       "         'German\"': 2,\n",
       "         'bring': 1,\n",
       "         'itself': 1,\n",
       "         'middle;': 4,\n",
       "         '2nd': 1,\n",
       "         'Android': 1,\n",
       "         'Features': 2,\n",
       "         '1991.': 1,\n",
       "         'Ruby': 1,\n",
       "         'Magnus': 1,\n",
       "         'providing': 2,\n",
       "         ':': 1,\n",
       "         'numbers': 1,\n",
       "         'garbage': 1,\n",
       "         '(Version': 1,\n",
       "         'operators': 4,\n",
       "         'express': 1,\n",
       "         'rich': 1,\n",
       "         'via': 3,\n",
       "         'number,': 1,\n",
       "         'indicated': 1,\n",
       "         'lang=\"sv\"': 1,\n",
       "         'ഭാഷ)': 1,\n",
       "         'comes': 2,\n",
       "         '1.532': 1,\n",
       "         'Kurdish\"': 1,\n",
       "         '–': 90,\n",
       "         '8.65%': 2,\n",
       "         '2014).': 3,\n",
       "         'Gang': 1,\n",
       "         'March': 14,\n",
       "         'gives': 1,\n",
       "         'title=\"F': 1,\n",
       "         '(bahasa': 1,\n",
       "         'Latvian\"': 1,\n",
       "         'however,': 3,\n",
       "         'Nature': 1,\n",
       "         'Created': 1,\n",
       "         'Prentice': 1,\n",
       "         'hinting': 1,\n",
       "         'moved': 1,\n",
       "         '2.<sup': 1,\n",
       "         '498': 1,\n",
       "         'avoiding': 1,\n",
       "         'id=\"toc\"': 1,\n",
       "         'Apress.': 2,\n",
       "         'internal': 2,\n",
       "         'covers': 2,\n",
       "         '8': 1,\n",
       "         'Python.': 4,\n",
       "         'scraping,': 1,\n",
       "         'life': 1,\n",
       "         'Brett.': 1,\n",
       "         'Peachpit': 1,\n",
       "         '16': 1,\n",
       "         'navbar': 4,\n",
       "         'condition': 1,\n",
       "         'versus': 3,\n",
       "         'class': 5,\n",
       "         'lang=\"ml\"': 1,\n",
       "         'next': 1,\n",
       "         'ideas': 2,\n",
       "         'how': 3,\n",
       "         'releases.': 1,\n",
       "         'each': 4,\n",
       "         'decided': 2,\n",
       "         'needed': 1,\n",
       "         'Goodger,': 1,\n",
       "         'had': 4,\n",
       "         'lang=\"bs\"': 1,\n",
       "         'check': 1,\n",
       "         'formerly': 1,\n",
       "         'will.<sup': 1,\n",
       "         'function,': 1,\n",
       "         'Urdu\"': 1,\n",
       "         '10px': 2,\n",
       "         'ed.': 1,\n",
       "         'function': 6,\n",
       "         'manager': 1,\n",
       "         'GIMP': 1,\n",
       "         'bringing': 1,\n",
       "         '3': 9,\n",
       "         '(usually': 1,\n",
       "         'methods,': 1,\n",
       "         '(PyPI),': 1,\n",
       "         'Scots\"': 1,\n",
       "         'PEPs': 1,\n",
       "         'Ascher,': 1,\n",
       "         'included': 1,\n",
       "         'author,': 1,\n",
       "         'contains': 3,\n",
       "         'too': 2,\n",
       "         'C\".<sup': 1,\n",
       "         '68\">ALGOL': 1,\n",
       "         'cost': 1,\n",
       "         '2D': 1,\n",
       "         'Arabic\"': 1,\n",
       "         'links\"': 1,\n",
       "         'left;': 1,\n",
       "         '[z]\"': 1,\n",
       "         'Khmer\"': 1,\n",
       "         'desktop': 1,\n",
       "         '(that': 1,\n",
       "         'CLU,': 2,\n",
       "         'major,': 1,\n",
       "         'Benjamin': 1,\n",
       "         'nearly': 1,\n",
       "         '(linguage': 1,\n",
       "         '(as': 1,\n",
       "         'IV\"</a>.': 1,\n",
       "         'Changing': 1,\n",
       "         '2009': 1,\n",
       "         'template\"': 12,\n",
       "         '(token': 1,\n",
       "         'prefix': 2,\n",
       "         \"name's\": 1,\n",
       "         'find': 1,\n",
       "         'Naomi': 1,\n",
       "         'so': 1,\n",
       "         'passed': 2,\n",
       "         '(WSGI)': 1,\n",
       "         'Dynamic': 1,\n",
       "         'јазик)': 1,\n",
       "         'Systems': 1,\n",
       "         '(langage)': 1,\n",
       "         'value<sup': 1,\n",
       "         'top;': 2,\n",
       "         'Hall.': 1,\n",
       "         'ready.': 1,\n",
       "         'Lisp</a>,': 1,\n",
       "         'rationale': 1,\n",
       "         'Buginese\"': 1,\n",
       "         'Mike.': 1,\n",
       "         'means': 5,\n",
       "         'infix': 2,\n",
       "         'fully': 1,\n",
       "         'Facundo.': 1,\n",
       "         'Shop': 2,\n",
       "         'July': 6,\n",
       "         \"'self'\": 1,\n",
       "         'knowing': 1,\n",
       "         'sets;': 1,\n",
       "         'Boo': 1,\n",
       "         'two': 6,\n",
       "         'lang=\"et\"': 1,\n",
       "         'needing': 3,\n",
       "         'native': 1,\n",
       "         'compared': 1,\n",
       "         'History': 4,\n",
       "         'This': 13,\n",
       "         'office': 1,\n",
       "         'x': 3,\n",
       "         'started': 3,\n",
       "         'official': 3,\n",
       "         'Go': 1,\n",
       "         'useful': 1,\n",
       "         '2.0.2': 1,\n",
       "         '(c': 1,\n",
       "         'most)': 1,\n",
       "         'There': 1,\n",
       "         'title=\"D': 1,\n",
       "         'there': 4,\n",
       "         'lang=\"eu\"': 1,\n",
       "         'process.': 1,\n",
       "         'Advanced': 1,\n",
       "         'agree': 1,\n",
       "         '2.6)': 1,\n",
       "         'meeting': 1,\n",
       "         'Equality': 2,\n",
       "         'lists,': 1,\n",
       "         'Grumpy:': 1,\n",
       "         'systems.': 2,\n",
       "         'Apple': 1,\n",
       "         'y': 1,\n",
       "         'Nepali\"': 1,\n",
       "         '(<a': 3,\n",
       "         'system': 3,\n",
       "         'Community': 5,\n",
       "         'postponed': 1,\n",
       "         'runtimes': 1,\n",
       "         'is': 142,\n",
       "         'required': 1,\n",
       "         '(2015).': 1,\n",
       "         'Interface': 1,\n",
       "         'Book': 14,\n",
       "         'IDE': 2,\n",
       "         'code</i>.': 1,\n",
       "         '$,': 1,\n",
       "         'rough': 2,\n",
       "         'phrase': 1,\n",
       "         'built-in': 3,\n",
       "         'reflected': 2,\n",
       "         'dedicated': 2,\n",
       "         'v2.7.2': 1,\n",
       "         'Optional': 1,\n",
       "         'rules': 1,\n",
       "         'Danish\"': 1,\n",
       "         'CPython.': 1,\n",
       "         'user': 4,\n",
       "         'beyond': 1,\n",
       "         'appear': 1,\n",
       "         'various': 3,\n",
       "         'lang=\"az\"': 1,\n",
       "         'those': 2,\n",
       "         '1989<sup': 1,\n",
       "         'long': 3,\n",
       "         'C,': 4,\n",
       "         'Design': 1,\n",
       "         '(Dutch': 1,\n",
       "         'Using': 1,\n",
       "         'types<br': 1,\n",
       "         'left': 2,\n",
       "         'operates': 1,\n",
       "         'code': 24,\n",
       "         'declared': 1,\n",
       "         'birth': 1,\n",
       "         'inverts': 1,\n",
       "         'value,': 2,\n",
       "         'features,': 2,\n",
       "         'releases': 5,\n",
       "         'van': 15,\n",
       "         'Java,': 2,\n",
       "         'List:': 1,\n",
       "         'that': 39,\n",
       "         '31px;': 8,\n",
       "         'desired': 1,\n",
       "         '1:': 2,\n",
       "         'introduce': 2,\n",
       "         'about<b': 1,\n",
       "         'months': 1,\n",
       "         'Tim': 2,\n",
       "         'easily': 2,\n",
       "         'clauses;': 1,\n",
       "         'EuroSciPy': 1,\n",
       "         'nyelv)': 1,\n",
       "         'Institute': 1,\n",
       "         'dili)': 2,\n",
       "         'Lojban\"': 1,\n",
       "         'serif;': 2,\n",
       "         'Cebuano\"': 1,\n",
       "         'rejects': 2,\n",
       "         'central': 1,\n",
       "         'pass': 1,\n",
       "         'shells': 1,\n",
       "         'edited': 1,\n",
       "         'top': 1,\n",
       "         '20px;': 2,\n",
       "         'statement': 5,\n",
       "         'Own': 1,\n",
       "         'book\"><a': 1,\n",
       "         'lang=\"or\"': 1,\n",
       "         'lang=\"an\"': 1,\n",
       "         'generator': 1,\n",
       "         'Sinhala\"': 1,\n",
       "         'suited': 1,\n",
       "         'Authority': 1,\n",
       "         'instead': 2,\n",
       "         '2.6+,': 1,\n",
       "         'Lists': 1,\n",
       "         'leid)': 1,\n",
       "         'lang=\"de\"': 1,\n",
       "         'C++\"</a>.': 1,\n",
       "         'tilde': 1,\n",
       "         'K.': 3,\n",
       "         'lang=\"vi\"': 1,\n",
       "         '\"string': 1,\n",
       "         'lang=\"lv\"': 1,\n",
       "         'BNF': 3,\n",
       "         '2.4)': 1,\n",
       "         'source': 4,\n",
       "         'width:': 9,\n",
       "         'LCCN': 3,\n",
       "         'chained,': 1,\n",
       "         'relations': 1,\n",
       "         'origin': 2,\n",
       "         'format\"': 1,\n",
       "         'growth': 1,\n",
       "         'lang=\"as\"': 1,\n",
       "         'Latin\"': 1,\n",
       "         '(<i>PEP': 1,\n",
       "         'returns': 2,\n",
       "         '.6em;': 2,\n",
       "         'classes:': 1,\n",
       "         'released': 6,\n",
       "         'They': 2,\n",
       "         'evolved': 1,\n",
       "         'behavior.': 1,\n",
       "         'limit': 1,\n",
       "         'closing': 1,\n",
       "         'by': 52,\n",
       "         'worse': 1,\n",
       "         'instance': 1,\n",
       "         'attached': 3,\n",
       "         'according': 1,\n",
       "         'silently': 1,\n",
       "         \"'=',\": 1,\n",
       "         'External': 1,\n",
       "         'New': 7,\n",
       "         'language.': 2,\n",
       "         'By': 1,\n",
       "         'users': 1,\n",
       "         '(April': 1,\n",
       "         'grammar.': 1,\n",
       "         'people': 3,\n",
       "         'citation': 1,\n",
       "         '(мова': 1,\n",
       "         '2006<span': 2,\n",
       "         'letting': 1,\n",
       "         'software': 28,\n",
       "         'CPython': 9,\n",
       "         '3.04%': 2,\n",
       "         '[q]\"': 1,\n",
       "         'Network': 1,\n",
       "         'focus': 1,\n",
       "         'C-derived': 1,\n",
       "         'have': 12,\n",
       "         'slice': 2,\n",
       "         'word': 1,\n",
       "         'September': 10,\n",
       "         'ভাষা)': 1,\n",
       "         'largely': 2,\n",
       "         'does': 7,\n",
       "         'class=\"\"': 1,\n",
       "         'App': 2,\n",
       "         'scripts': 1,\n",
       "         'String': 1,\n",
       "         '?': 1,\n",
       "         'Travis': 1,\n",
       "         'series': 2,\n",
       "         '(14': 2,\n",
       "         'should': 3,\n",
       "         'arbitrary': 4,\n",
       "         'lines': 3,\n",
       "         'evaluates': 1,\n",
       "         'speed': 4,\n",
       "         'provided': 3,\n",
       "         '3.6': 2,\n",
       "         '(15': 1,\n",
       "         'build': 1,\n",
       "         'difficult': 1,\n",
       "         'ten': 1,\n",
       "         'switched': 1,\n",
       "         'every': 3,\n",
       "         'cache': 1,\n",
       "         'main': 4,\n",
       "         'roughly': 2,\n",
       "         'modders': 1,\n",
       "         '(29': 3,\n",
       "         'article\"': 2,\n",
       "         'jazyk)': 1,\n",
       "         'change': 1,\n",
       "         'second': 2,\n",
       "         'French\"': 1,\n",
       "         'it),': 1,\n",
       "         '(amazing)': 1,\n",
       "         'lang=\"mn\"': 1,\n",
       "         'web\">van': 8,\n",
       "         'follows': 2,\n",
       "         '(2002).': 1,\n",
       "         'allow': 1,\n",
       "         'monitors': 1,\n",
       "         'bytes': 3,\n",
       "         'For': 11,\n",
       "         'days': 1,\n",
       "         'b</code>,': 1,\n",
       "         'contact': 1,\n",
       "         'IDEs,': 1,\n",
       "         'middle\"': 4,\n",
       "         'types,': 4,\n",
       "         'revisions': 1,\n",
       "         'Chinese': 1,\n",
       "         '4px': 1,\n",
       "         'Windows': 1,\n",
       "         'stackless': 1,\n",
       "         'Dutch\"': 1,\n",
       "         'used': 28,\n",
       "         'support,': 1,\n",
       "         'built': 1,\n",
       "         'clever': 1,\n",
       "         'say,': 1,\n",
       "         'Control': 2,\n",
       "         'Romanian\"': 1,\n",
       "         '__add__': 1,\n",
       "         '\"typed': 1,\n",
       "         'quite': 1,\n",
       "         'Data': 6,\n",
       "         'English\"': 1,\n",
       "         'animation': 1,\n",
       "         'width=\"9\"': 1,\n",
       "         'Creator': 1,\n",
       "         'up': 3,\n",
       "         'feature': 3,\n",
       "         'itself),': 1,\n",
       "         'iOS': 1,\n",
       "         'smaller': 1,\n",
       "         'UNIX': 1,\n",
       "         'argument.': 1,\n",
       "         '.pyo': 2,\n",
       "         'Project': 1,\n",
       "         'v2.7.3': 1,\n",
       "         'Stability': 1,\n",
       "         'Basic': 2,\n",
       "         'lang=\"sk\"': 1,\n",
       "         'Jarrod;': 1,\n",
       "         'reviewed': 1,\n",
       "         'Built-in': 2,\n",
       "         'third': 4,\n",
       "         'article:': 4,\n",
       "         'initially': 1,\n",
       "         'curly': 3,\n",
       "         'be': 43,\n",
       "         '(May': 1,\n",
       "         'web\"><a': 79,\n",
       "         '6&#160;–': 1,\n",
       "         'commented': 1,\n",
       "         'their': 4,\n",
       "         'Google': 2,\n",
       "         'sequence': 1,\n",
       "         'Labs</a>,': 1,\n",
       "         'database.': 1,\n",
       "         '32': 1,\n",
       "         'rigidly': 1,\n",
       "         '124.795': 2,\n",
       "         '\"All': 1,\n",
       "         'Jump': 1,\n",
       "         'Further,': 1,\n",
       "         'this': 38,\n",
       "         'termed': 4,\n",
       "         'زبان)': 1,\n",
       "         'also': 24,\n",
       "         'lang=\"my\"': 1,\n",
       "         'around': 2,\n",
       "         'was': 26,\n",
       "         'Server': 7,\n",
       "         'brackets': 2,\n",
       "         'Simple': 2,\n",
       "         'Monty': 2,\n",
       "         'Van': 4,\n",
       "         'making': 1,\n",
       "         'lang=\"el\"': 1,\n",
       "         \"'13.<sup\": 1,\n",
       "         '2.7.x': 1,\n",
       "         'refine': 1,\n",
       "         'bracket': 1,\n",
       "         '8.14%': 2,\n",
       "         'Before': 1,\n",
       "         'dynamic': 3,\n",
       "         'Niskanen,': 1,\n",
       "         'See': 2,\n",
       "         '15': 3,\n",
       "         'virtual': 2,\n",
       "         'study': 1,\n",
       "         'Why?': 1,\n",
       "         'Wikipedia': 4,\n",
       "         'programs.': 1,\n",
       "         '1.0,': 2,\n",
       "         'Brokers': 1,\n",
       "         ',': 2,\n",
       "         'tuples': 2,\n",
       "         '66.53%': 2,\n",
       "         'lang=\"pt\"': 1,\n",
       "         '(keys': 1,\n",
       "         'Powerful': 2,\n",
       "         'need': 2,\n",
       "         '(for': 5,\n",
       "         'Thing': 1,\n",
       "         '|': 1,\n",
       "         'immutable': 1,\n",
       "         'put': 1,\n",
       "         'lock': 1,\n",
       "         'better': 5,\n",
       "         'Think': 1,\n",
       "         'framework': 1,\n",
       "         'a%b': 1,\n",
       "         'web\">CCP': 1,\n",
       "         'Sharp': 3,\n",
       "         'patches': 1,\n",
       "         'elements': 4,\n",
       "         '2003).': 7,\n",
       "         'lang=\"kk\"': 1,\n",
       "         'faster': 1,\n",
       "         '—': 2,\n",
       "         'market': 1,\n",
       "         'Sid': 1,\n",
       "         'span': 1,\n",
       "         'explicit': 1,\n",
       "         'enters': 1,\n",
       "         'raw': 1,\n",
       "         'Saddle': 1,\n",
       "         'enough': 1,\n",
       "         '2.7.14': 2,\n",
       "         '7&#160;–': 1,\n",
       "         'less': 2,\n",
       "         '1px': 1,\n",
       "         '4': 1,\n",
       "         'workload': 1,\n",
       "         'numeric': 4,\n",
       "         'mood': 1,\n",
       "         'including': 9,\n",
       "         'Languages': 1,\n",
       "         'Enhanced': 1,\n",
       "         'Davis': 1,\n",
       "         'effects': 1,\n",
       "         'jezik)': 3,\n",
       "         'title': 2,\n",
       "         'enforced,': 1,\n",
       "         'color:': 2,\n",
       "         'as:<sup': 1,\n",
       "         'community': 4,\n",
       "         'included\"': 1,\n",
       "         'of': 244,\n",
       "         '4em\"><a': 4,\n",
       "         'manually': 1,\n",
       "         'product': 1,\n",
       "         'Apple;': 1,\n",
       "         '2009).': 4,\n",
       "         'PEP': 3,\n",
       "         'My': 1,\n",
       "         'That’s': 1,\n",
       "         'Jewett,': 1,\n",
       "         'date)': 1,\n",
       "         'intended': 5,\n",
       "         'symbolic': 2,\n",
       "         'project': 6,\n",
       "         '2010),': 1,\n",
       "         'Media.': 1,\n",
       "         'lang=\"ka\"': 1,\n",
       "         'chose': 1,\n",
       "         'lang=\"sl\"': 1,\n",
       "         'reference': 4,\n",
       "         '--': 7,\n",
       "         'forum': 1,\n",
       "         'location': 1,\n",
       "         'thus': 3,\n",
       "         '[u]\"': 1,\n",
       "         'negative': 4,\n",
       "         'home': 1,\n",
       "         'try': 1,\n",
       "         'Rails': 2,\n",
       "         '2000': 1,\n",
       "         'October': 3,\n",
       "         'ideal,': 1,\n",
       "         'mechanism': 2,\n",
       "         'massively': 1,\n",
       "         'variant': 3,\n",
       "         'began': 2,\n",
       "         'between': 5,\n",
       "         'J.': 3,\n",
       "         'local': 2,\n",
       "         'Oracle': 1,\n",
       "         '−1.0.<sup': 1,\n",
       "         'True': 1,\n",
       "         'Labs<span': 1,\n",
       "         'Python)': 1,\n",
       "         'lang=\"tg\"': 1,\n",
       "         'Some': 1,\n",
       "         'Bug': 1,\n",
       "         'start': 1,\n",
       "         'classes,': 1,\n",
       "         'Ways': 1,\n",
       "         'patents': 1,\n",
       "         'PEP)': 1,\n",
       "         'Software': 49,\n",
       "         'py3k),': 1,\n",
       "         'shifts': 2,\n",
       "         'method': 7,\n",
       "         'random': 1,\n",
       "         'test': 1,\n",
       "         '(24': 1,\n",
       "         'Lukewarm': 1,\n",
       "         'ngữ': 1,\n",
       "         'Asturian\"': 1,\n",
       "         'Style': 1,\n",
       "         'page\"': 4,\n",
       "         'rebranded': 1,\n",
       "         '(blog': 1,\n",
       "         'Haskell,': 2,\n",
       "         'Telugu\"': 1,\n",
       "         \"Lattner's\": 2,\n",
       "         'coding': 1,\n",
       "         'list': 7,\n",
       "         'rather,': 1,\n",
       "         'multiple': 5,\n",
       "         'class,': 1,\n",
       "         'core': 4,\n",
       "         'issue,': 1,\n",
       "         'same': 3,\n",
       "         'timestamp': 1,\n",
       "         'Python\"': 1,\n",
       "         'in': 146,\n",
       "         'nearest': 1,\n",
       "         'code,': 4,\n",
       "         'Canopy': 1,\n",
       "         'role': 1,\n",
       "         'others': 2,\n",
       "         '2007).': 2,\n",
       "         'ability': 1,\n",
       "         'calling': 1,\n",
       "         'object,': 3,\n",
       "         'It': 11,\n",
       "         'Standard': 14,\n",
       "         'Expensive': 1,\n",
       "         '(16': 2,\n",
       "         'lang=\"eo\"': 1,\n",
       "         'object.': 1,\n",
       "         'fluency': 1,\n",
       "         'requires': 1,\n",
       "         'possible;': 1,\n",
       "         'use.': 1,\n",
       "         'imaginary': 1,\n",
       "         'classic': 2,\n",
       "         'hashable': 1,\n",
       "         'causes': 2,\n",
       "         'my': 2,\n",
       "         '(page': 4,\n",
       "         'problems': 1,\n",
       "         '\"I': 1,\n",
       "         'paradigms': 1,\n",
       "         'offering': 2,\n",
       "         'Al': 1,\n",
       "         '(e.g.,': 1,\n",
       "         'byte': 2,\n",
       "         'algorithm': 1,\n",
       "         '#aaa': 1,\n",
       "         '(11': 2,\n",
       "         'Times,': 2,\n",
       "         'jezik': 1,\n",
       "         'lang=\"te\"': 1,\n",
       "         'possible': 1,\n",
       "         'device': 1,\n",
       "         ...})"
      ]
     },
     "execution_count": 1,
     "metadata": {},
     "output_type": "execute_result"
    }
   ],
   "source": [
    "from collections import Counter\n",
    "import requests\n",
    "import re\n",
    "def getAlltermsFromUrl(url):\n",
    "    res = requests.get(url)\n",
    "    html = res.text\n",
    "    terms = [term for term in html.split() if not re.findall(r'^\\<', term) and not re.findall(r'\\>$', term) and len(term) < 10]\n",
    "    return terms\n",
    "\n",
    "url = \"https://en.wikipedia.org/wiki/Python_(programming_language)\"\n",
    "Counter(getAlltermsFromUrl(url))"
   ]
  },
  {
   "cell_type": "code",
   "execution_count": 144,
   "metadata": {
    "collapsed": false,
    "deletable": true,
    "editable": true
   },
   "outputs": [
    {
     "data": {
      "text/plain": [
       "[('the', 262),\n",
       " ('and', 250),\n",
       " ('of', 244),\n",
       " ('Python', 198),\n",
       " ('text\"', 185),\n",
       " ('to', 170),\n",
       " ('a', 168),\n",
       " ('in', 146),\n",
       " ('is', 142),\n",
       " ('Retrieved', 117),\n",
       " ('for', 102),\n",
       " ('–', 90),\n",
       " ('web\"><a', 79),\n",
       " ('as', 64),\n",
       " ('from', 59),\n",
       " ('with', 59),\n",
       " ('are', 56),\n",
       " ('by', 52),\n",
       " ('Software', 49),\n",
       " ('on', 44)]"
      ]
     },
     "execution_count": 144,
     "metadata": {},
     "output_type": "execute_result"
    }
   ],
   "source": [
    "sorted(dict(Counter(terms)).items(), key=lambda x:x[1], reverse=True)[:20] \n",
    "##dict have no order, so if tou want to order them, you have to transfer them into tuple list"
   ]
  },
  {
   "cell_type": "markdown",
   "metadata": {
    "collapsed": false,
    "deletable": true,
    "editable": true
   },
   "source": [
    "# str"
   ]
  },
  {
   "cell_type": "code",
   "execution_count": 56,
   "metadata": {
    "collapsed": false,
    "deletable": true,
    "editable": true
   },
   "outputs": [
    {
     "name": "stdout",
     "output_type": "stream",
     "text": [
      "True\n",
      "True\n"
     ]
    }
   ],
   "source": [
    "# startswith, endswith\n",
    "a = \"aaaab\"\n",
    "b = \"ffdfff  ''fajflkdjl   \"\n",
    "c = 'fajfdsjalkknadn  \"fasfjdkasfkla\"  '\n",
    "print(a.startswith('a'))\n",
    "print(a.endswith('b'))"
   ]
  },
  {
   "cell_type": "code",
   "execution_count": 61,
   "metadata": {
    "collapsed": false,
    "deletable": true,
    "editable": true
   },
   "outputs": [
    {
     "name": "stdout",
     "output_type": "stream",
     "text": [
      "aaaa\n",
      "AAAA\n",
      "False\n",
      "True\n"
     ]
    }
   ],
   "source": [
    "# lower, upper, \n",
    "print(\"AAaa\".lower())\n",
    "print(\"AAaa\".upper())\n",
    "\n",
    "# isapha\n",
    "print('11aa'.isalpha())\n",
    "print('aa'.isalpha())"
   ]
  },
  {
   "cell_type": "code",
   "execution_count": 57,
   "metadata": {
    "collapsed": false,
    "deletable": true,
    "editable": true
   },
   "outputs": [
    {
     "name": "stdout",
     "output_type": "stream",
     "text": [
      "['aaa', 'aaa']\n",
      "aaa aaa\n",
      "['aaa', 'aaa']\n"
     ]
    }
   ],
   "source": [
    "# split\n",
    "print(\"aaa aaa\".split())\n",
    "print(\" \".join(\"aaa aaa\".split()))\n",
    "print(\"aaa/aaa\".split('/'))"
   ]
  },
  {
   "cell_type": "code",
   "execution_count": 74,
   "metadata": {
    "collapsed": false,
    "deletable": true,
    "editable": true
   },
   "outputs": [
    {
     "name": "stdout",
     "output_type": "stream",
     "text": [
      "Matches any character which is not a Unicode decimal digit. This is the opposite of \\d. If the ASCII flag is used this becomes the equivalent of [^0-9] (but the flag affects the entire regular expression, so in such cases using an explicit [^0-9] may be a better choice).\n",
      "Matches any character which is not a Unicode decimal digit. This is the opposite of \\d. If the ASCII flag is used this becomes the equivalent of {^0-9} (but the flag affects the entire regular expression, so in such cases using an explicit {^0-9} may be a better choice).\n"
     ]
    }
   ],
   "source": [
    "# replace\n",
    "testStr = \"Matches any character which is not a Unicode decimal digit. This is the opposite of \\d. If the ASCII flag is used this becomes the equivalent of [^0-9] (but the flag affects the entire regular expression, so in such cases using an explicit [^0-9] may be a better choice).\"\n",
    "print(testStr)\n",
    "print(testStr.replace('[', \"{\").replace(']', \"}\")) # 要換掉的, 要換成的"
   ]
  },
  {
   "cell_type": "code",
   "execution_count": 72,
   "metadata": {
    "collapsed": false,
    "deletable": true,
    "editable": true
   },
   "outputs": [
    {
     "name": "stdout",
     "output_type": "stream",
     "text": [
      "b'\\xe5\\x96\\x86'\n",
      "喆\n",
      "喆\n"
     ]
    },
    {
     "ename": "UnicodeEncodeError",
     "evalue": "'big5' codec can't encode character '\\u5586' in position 0: illegal multibyte sequence",
     "output_type": "error",
     "traceback": [
      "\u001b[1;31m---------------------------------------------------------------------------\u001b[0m",
      "\u001b[1;31mUnicodeEncodeError\u001b[0m                        Traceback (most recent call last)",
      "\u001b[1;32m<ipython-input-72-cd3703fc473c>\u001b[0m in \u001b[0;36m<module>\u001b[1;34m()\u001b[0m\n\u001b[0;32m      4\u001b[0m \u001b[0mprint\u001b[0m\u001b[1;33m(\u001b[0m\u001b[1;34mb'\\xe5\\x96\\x86'\u001b[0m\u001b[1;33m.\u001b[0m\u001b[0mdecode\u001b[0m\u001b[1;33m(\u001b[0m\u001b[1;34m'utf8'\u001b[0m\u001b[1;33m)\u001b[0m\u001b[1;33m)\u001b[0m\u001b[1;33m\u001b[0m\u001b[0m\n\u001b[0;32m      5\u001b[0m \u001b[1;33m\u001b[0m\u001b[0m\n\u001b[1;32m----> 6\u001b[1;33m \u001b[0mprint\u001b[0m\u001b[1;33m(\u001b[0m\u001b[1;34m\"喆\"\u001b[0m\u001b[1;33m.\u001b[0m\u001b[0mencode\u001b[0m\u001b[1;33m(\u001b[0m\u001b[1;34m\"big5\"\u001b[0m\u001b[1;33m)\u001b[0m\u001b[1;33m)\u001b[0m\u001b[1;33m\u001b[0m\u001b[0m\n\u001b[0m\u001b[0;32m      7\u001b[0m \u001b[0mprint\u001b[0m\u001b[1;33m(\u001b[0m\u001b[1;34m\"喆\"\u001b[0m\u001b[1;33m.\u001b[0m\u001b[0mencode\u001b[0m\u001b[1;33m(\u001b[0m\u001b[1;34m\"cp950\"\u001b[0m\u001b[1;33m)\u001b[0m\u001b[1;33m)\u001b[0m\u001b[1;33m\u001b[0m\u001b[0m\n\u001b[0;32m      8\u001b[0m \u001b[1;33m\u001b[0m\u001b[0m\n",
      "\u001b[1;31mUnicodeEncodeError\u001b[0m: 'big5' codec can't encode character '\\u5586' in position 0: illegal multibyte sequence"
     ]
    }
   ],
   "source": [
    "# 編碼encode, decode: cp950, utf8, big5\n",
    "print(\"喆\".encode(\"utf8\"))\n",
    "print(\"喆\".encode(\"utf8\").decode('utf8'))\n",
    "print(b'\\xe5\\x96\\x86'.decode('utf8')) #notice b in front of the string\n",
    "\n",
    "print(\"喆\".encode(\"big5\"))\n",
    "print(\"喆\".encode(\"cp950\"))"
   ]
  },
  {
   "cell_type": "code",
   "execution_count": 81,
   "metadata": {
    "collapsed": false,
    "deletable": true,
    "editable": true
   },
   "outputs": [
    {
     "name": "stdout",
     "output_type": "stream",
     "text": [
      "I am jeremy\n",
      "the score is 3.14\n"
     ]
    }
   ],
   "source": [
    "# format\n",
    "print(\"I am {}\".format('jeremy'))\n",
    "print(\"the score is {:.2f}\".format(3.1415926))\n",
    "\n",
    "\n",
    "# if your version == 3.6, you can direct use {var} to format\n",
    "name = \"jeremy\"\n",
    "# print(f\"I am {name}\")\n"
   ]
  },
  {
   "cell_type": "code",
   "execution_count": 38,
   "metadata": {
    "collapsed": false,
    "deletable": true,
    "editable": true
   },
   "outputs": [
    {
     "name": "stdout",
     "output_type": "stream",
     "text": [
      "True\n",
      "True\n",
      "True\n",
      "True\n",
      "False\n",
      "------------------------\n"
     ]
    }
   ],
   "source": [
    "# re\n",
    "import re\n",
    "\n",
    "## match char\n",
    "# \".\" => any char\n",
    "# \"\\\\\"=> \"\\\"\n",
    "# \"\\t\" => tab click\n",
    "# \"\\n\" => change line\n",
    "# \"\\d\" => number\n",
    "print(bool(re.match(r'.',\"123\")))\n",
    "print(bool(re.match(r'.',\"abcd\")))\n",
    "print(bool(re.match(r'.',\"甲乙丙\")))\n",
    "\n",
    "print(bool(re.match(r'\\d',\"1\")))\n",
    "print(bool(re.match(r'\\d',\"abcd\")))\n",
    "print(\"------------------------\")\n"
   ]
  },
  {
   "cell_type": "code",
   "execution_count": 53,
   "metadata": {
    "collapsed": false,
    "deletable": true,
    "editable": true
   },
   "outputs": [
    {
     "name": "stdout",
     "output_type": "stream",
     "text": [
      "True\n",
      "False\n",
      "------------------------\n",
      "False\n",
      "True\n",
      "------------------------\n",
      "False\n",
      "True\n",
      "True\n"
     ]
    }
   ],
   "source": [
    "# start, end\n",
    "# start from a\n",
    "print(bool(re.match(r'^a',\"aaa\")))\n",
    "print(bool(re.match(r'^a',\"baa\")))\n",
    "print(\"------------------------\")\n",
    "# end with a\n",
    "print(bool(re.match(r'b$',\"aab\")))\n",
    "print(bool(re.findall(r'b$',\"aab\")))\n",
    "print(\"------------------------\")\n",
    "\n",
    "# char numbers: +, {m,n}\n",
    "print(bool(re.match(r'.b$',\"aab\")))\n",
    "print(bool(re.match(r'..b$',\"aab\")))\n",
    "print(bool(re.match(r'.+b$',\"aab\")))"
   ]
  },
  {
   "cell_type": "markdown",
   "metadata": {
    "collapsed": true,
    "deletable": true,
    "editable": true
   },
   "source": [
    "# File Reader(txt, csv, json)"
   ]
  },
  {
   "cell_type": "code",
   "execution_count": 3,
   "metadata": {
    "collapsed": true,
    "deletable": true,
    "editable": true
   },
   "outputs": [],
   "source": [
    "file = open('FIleOperation\\\\test.txt', 'w', encoding='utf8')\n",
    "url = \"https://en.wikipedia.org/wiki/Python_(programming_language)\"\n",
    "file.write(\" \".join(getAlltermsFromUrl(url)))\n",
    "file.close()"
   ]
  },
  {
   "cell_type": "code",
   "execution_count": 6,
   "metadata": {
    "collapsed": false,
    "deletable": true,
    "editable": true
   },
   "outputs": [
    {
     "name": "stdout",
     "output_type": "stream",
     "text": [
      "44787\n"
     ]
    }
   ],
   "source": [
    "file = open(\"FIleOperation\\\\test.txt\", 'r', encoding='utf8')\n",
    "fullText = file.read()\n",
    "print(len(fullText))\n",
    "file.close()"
   ]
  },
  {
   "cell_type": "code",
   "execution_count": 10,
   "metadata": {
    "collapsed": false,
    "deletable": true,
    "editable": true,
    "scrolled": true
   },
   "outputs": [
    {
     "name": "stdout",
     "output_type": "stream",
     "text": [
      "['scrapy.spidermiddlewares.httperror.HttpErrorMiddleware',\n",
      "\n",
      "2017-08-17 08:33:11 [chardet.charsetprober] DEBUG: SHIFT_JIS Japanese prober hit error at byte 894\n",
      "\n",
      "2017-08-17 08:33:11 [chardet.charsetprober] DEBUG: EUC-JP Japanese prober hit error at byte 109\n",
      "\n",
      "2017-08-17 08:33:11 [chardet.charsetprober] DEBUG: EUC-KR Korean prober hit error at byte 109\n",
      "\n",
      "2017-08-17 08:33:11 [chardet.charsetprober] DEBUG: CP949 Korean prober hit error at byte 759\n",
      "\n",
      "2017-08-17 08:33:15 [chardet.charsetprober] DEBUG: SHIFT_JIS Japanese prober hit error at byte 894\n",
      "\n",
      "2017-08-17 08:33:15 [chardet.charsetprober] DEBUG: EUC-JP Japanese prober hit error at byte 109\n",
      "\n",
      "2017-08-17 08:33:15 [chardet.charsetprober] DEBUG: EUC-KR Korean prober hit error at byte 109\n",
      "\n",
      "2017-08-17 08:33:15 [chardet.charsetprober] DEBUG: CP949 Korean prober hit error at byte 759\n",
      "\n",
      "2017-08-17 08:33:19 [chardet.charsetprober] DEBUG: SHIFT_JIS Japanese prober hit error at byte 894\n",
      "\n",
      "2017-08-17 08:33:19 [chardet.charsetprober] DEBUG: EUC-JP Japanese prober hit error at byte 109\n",
      "\n",
      "2017-08-17 08:33:19 [chardet.charsetprober] DEBUG: EUC-KR Korean prober hit error at byte 109\n",
      "\n",
      "2017-08-17 08:33:19 [chardet.charsetprober] DEBUG: CP949 Korean prober hit error at byte 759\n",
      "\n",
      "2017-08-17 08:33:21 [chardet.charsetprober] DEBUG: SHIFT_JIS Japanese prober hit error at byte 894\n",
      "\n",
      "2017-08-17 08:33:21 [chardet.charsetprober] DEBUG: EUC-JP Japanese prober hit error at byte 109\n",
      "\n",
      "2017-08-17 08:33:21 [chardet.charsetprober] DEBUG: EUC-KR Korean prober hit error at byte 109\n",
      "\n",
      "2017-08-17 08:33:21 [chardet.charsetprober] DEBUG: CP949 Korean prober hit error at byte 759\n",
      "\n",
      "2017-08-17 08:33:23 [chardet.charsetprober] DEBUG: SHIFT_JIS Japanese prober hit error at byte 894\n",
      "\n",
      "2017-08-17 08:33:23 [chardet.charsetprober] DEBUG: EUC-JP Japanese prober hit error at byte 109\n",
      "\n",
      "2017-08-17 08:33:23 [chardet.charsetprober] DEBUG: EUC-KR Korean prober hit error at byte 109\n",
      "\n",
      "2017-08-17 08:33:23 [chardet.charsetprober] DEBUG: CP949 Korean prober hit error at byte 759\n",
      "\n",
      "2017-08-17 08:33:28 [chardet.charsetprober] DEBUG: SHIFT_JIS Japanese prober hit error at byte 894\n",
      "\n",
      "2017-08-17 08:33:28 [chardet.charsetprober] DEBUG: EUC-JP Japanese prober hit error at byte 109\n",
      "\n",
      "2017-08-17 08:33:28 [chardet.charsetprober] DEBUG: EUC-KR Korean prober hit error at byte 109\n",
      "\n",
      "2017-08-17 08:33:28 [chardet.charsetprober] DEBUG: CP949 Korean prober hit error at byte 759\n",
      "\n",
      "2017-08-17 08:33:30 [chardet.charsetprober] DEBUG: SHIFT_JIS Japanese prober hit error at byte 894\n",
      "\n",
      "2017-08-17 08:33:30 [chardet.charsetprober] DEBUG: EUC-JP Japanese prober hit error at byte 109\n",
      "\n",
      "2017-08-17 08:33:30 [chardet.charsetprober] DEBUG: EUC-KR Korean prober hit error at byte 109\n",
      "\n",
      "2017-08-17 08:33:30 [chardet.charsetprober] DEBUG: CP949 Korean prober hit error at byte 759\n",
      "\n",
      "2017-08-17 08:33:33 [chardet.charsetprober] DEBUG: SHIFT_JIS Japanese prober hit error at byte 901\n",
      "\n",
      "2017-08-17 08:33:33 [chardet.charsetprober] DEBUG: EUC-JP Japanese prober hit error at byte 109\n",
      "\n",
      "2017-08-17 08:33:34 [chardet.charsetprober] DEBUG: EUC-KR Korean prober hit error at byte 109\n",
      "\n",
      "2017-08-17 08:33:34 [chardet.charsetprober] DEBUG: CP949 Korean prober hit error at byte 759\n",
      "\n",
      " 'downloader/exception_type_count/twisted.internet.error.TimeoutError': 2,\n",
      "\n",
      " 'retry/reason_count/twisted.internet.error.TimeoutError': 2,\n",
      "\n"
     ]
    }
   ],
   "source": [
    "file = open(\"FIleOperation\\\\scrapy.log\", 'r', encoding='utf8')\n",
    "\n",
    "for line in file:\n",
    "    if 'error'in line:\n",
    "        print(line)\n",
    "\n",
    "file.close()"
   ]
  },
  {
   "cell_type": "code",
   "execution_count": 23,
   "metadata": {
    "collapsed": false,
    "deletable": true,
    "editable": true,
    "scrolled": true
   },
   "outputs": [],
   "source": [
    "df = pd.read_html(\"http://mops.twse.com.tw/server-java/t164sb01?step=1&CO_ID=4104&SYEAR=2017&SSEASON=2&REPORT_ID=C\", encoding='big5')[3]\n",
    "# df.to_csv('FileOperation\\\\table.csv', header=None, index=False)\n",
    "\n",
    "df.columns = df.xs(0)\n",
    "df.drop(0, inplace=True)\n",
    "df.T.to_json(\"FileOperation\\\\table1.json\", force_ascii=None)"
   ]
  },
  {
   "cell_type": "code",
   "execution_count": 46,
   "metadata": {
    "collapsed": false,
    "deletable": true,
    "editable": true
   },
   "outputs": [],
   "source": [
    "import json\n",
    "# df = pd.read_html(\"http://mops.twse.com.tw/server-java/t164sb01?step=1&CO_ID=4104&SYEAR=2017&SSEASON=2&REPORT_ID=C\", encoding='big5')[3]\n",
    "dist2017 = {}\n",
    "dist2016 = {}\n",
    "\n",
    "for row in df.iterrows():\n",
    "    if pd.notnull(row[1][1]) and row[1][0] != '會計項目':\n",
    "        dist2017[row[1][0]] = row[1][1]\n",
    "        dist2016[row[1][0]] = row[1][2]\n",
    "\n",
    "tableDist = {\n",
    "    '2017年01月01日至2017年06月30日':dist2017,\n",
    "    '2016年01月01日至2016年06月30日':dist2016\n",
    "}\n",
    "\n",
    "with open('FileOperation\\\\table1.json', 'w', encoding='utf8') as f:\n",
    "    json.dump(tableDist, f)"
   ]
  },
  {
   "cell_type": "code",
   "execution_count": 54,
   "metadata": {
    "collapsed": false,
    "deletable": true,
    "editable": true
   },
   "outputs": [
    {
     "name": "stdout",
     "output_type": "stream",
     "text": [
      "2\n",
      "dict_keys(['2017年01月01日至2017年06月30日', '2016年01月01日至2016年06月30日'])\n"
     ]
    }
   ],
   "source": [
    "file = open('FileOperation\\\\table1.json', encoding='utf8')\n",
    "tableJson = json.loads(file.read())\n",
    "print(len(tableJson))\n",
    "print(tableJson.keys())"
   ]
  },
  {
   "cell_type": "code",
   "execution_count": null,
   "metadata": {
    "collapsed": true,
    "deletable": true,
    "editable": true
   },
   "outputs": [],
   "source": []
  }
 ],
 "metadata": {
  "kernelspec": {
   "display_name": "Python 3",
   "language": "python",
   "name": "python3"
  },
  "language_info": {
   "codemirror_mode": {
    "name": "ipython",
    "version": 3
   },
   "file_extension": ".py",
   "mimetype": "text/x-python",
   "name": "python",
   "nbconvert_exporter": "python",
   "pygments_lexer": "ipython3",
   "version": "3.5.3"
  }
 },
 "nbformat": 4,
 "nbformat_minor": 2
}
