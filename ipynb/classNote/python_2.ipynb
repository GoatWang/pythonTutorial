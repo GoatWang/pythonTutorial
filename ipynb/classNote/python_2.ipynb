{
 "cells": [
  {
   "cell_type": "markdown",
   "metadata": {
    "deletable": true,
    "editable": true
   },
   "source": [
    "# int"
   ]
  },
  {
   "cell_type": "code",
   "execution_count": 2,
   "metadata": {
    "collapsed": false,
    "deletable": true,
    "editable": true
   },
   "outputs": [
    {
     "name": "stdout",
     "output_type": "stream",
     "text": [
      "0b1100100\n",
      "0x64\n",
      "3\n",
      "<class 'float'>\n",
      "3\n"
     ]
    }
   ],
   "source": [
    "print(bin(100))  ##二進位(binary)\n",
    "print(hex(100))  ##十六進位(hexadecimal) \n",
    "print(int(3.14))  ##float 是一種class(type)\n",
    "print(type(3.14))\n",
    "print(int(3.88))  ##自動捨去法"
   ]
  },
  {
   "cell_type": "markdown",
   "metadata": {
    "deletable": true,
    "editable": true
   },
   "source": [
    "# bool"
   ]
  },
  {
   "cell_type": "code",
   "execution_count": 6,
   "metadata": {
    "collapsed": false,
    "deletable": true,
    "editable": true
   },
   "outputs": [
    {
     "name": "stdout",
     "output_type": "stream",
     "text": [
      "False\n",
      "False\n",
      "[1, 2, 3]\n",
      "[100, 2, 3]\n"
     ]
    },
    {
     "data": {
      "text/plain": [
       "False"
      ]
     },
     "execution_count": 6,
     "metadata": {},
     "output_type": "execute_result"
    }
   ],
   "source": [
    "print(True is 1)\n",
    "print(False is 0)\n",
    "\n",
    "# class 杯子():\n",
    "#     attribute: 長、寬、高 \n",
    "#     function: 拿()、喝()\n",
    "# class list():\n",
    "#     function: append()=>增加新的元素, \n",
    "# a = [1,2,3] 就是list class\n",
    "# a.function()\n",
    "\n",
    "    \n",
    "a = [1,2,3]\n",
    "b = a.copy()\n",
    "b[0] = 100\n",
    "print(a)\n",
    "print(b)\n",
    "a is b"
   ]
  },
  {
   "cell_type": "code",
   "execution_count": 9,
   "metadata": {
    "collapsed": false,
    "deletable": true,
    "editable": true
   },
   "outputs": [
    {
     "name": "stdout",
     "output_type": "stream",
     "text": [
      "True\n",
      "True\n"
     ]
    }
   ],
   "source": [
    "print(True == 1)\n",
    "print(False == 0)"
   ]
  },
  {
   "cell_type": "markdown",
   "metadata": {
    "deletable": true,
    "editable": true
   },
   "source": [
    "# 條件運算式"
   ]
  },
  {
   "cell_type": "code",
   "execution_count": 11,
   "metadata": {
    "collapsed": false,
    "deletable": true,
    "editable": true
   },
   "outputs": [
    {
     "name": "stdout",
     "output_type": "stream",
     "text": [
      "3\n",
      "3\n",
      "3\n",
      "4\n",
      "4\n"
     ]
    }
   ],
   "source": [
    "if True:\n",
    "    x=3\n",
    "else:\n",
    "    x=4\n",
    "print(x)\n",
    "\n",
    "#三元運算子\n",
    "x =3 if 1 else 4\n",
    "print(x)\n",
    "x =3 if True else 4\n",
    "print(x)\n",
    "x =3 if 0 else 4\n",
    "print(x)\n",
    "x =3 if False else 4\n",
    "print(x)"
   ]
  },
  {
   "cell_type": "markdown",
   "metadata": {
    "deletable": true,
    "editable": true
   },
   "source": [
    "# Fraction"
   ]
  },
  {
   "cell_type": "code",
   "execution_count": 32,
   "metadata": {
    "collapsed": false,
    "deletable": true,
    "editable": true
   },
   "outputs": [
    {
     "name": "stdout",
     "output_type": "stream",
     "text": [
      "1/2\n",
      "3537118815677477/1125899906842624\n",
      "6368089873101881/4503599627370496\n"
     ]
    }
   ],
   "source": [
    "from fractions import *\n",
    "F = Fraction\n",
    "print(F(1,2))\n",
    "print(F(3.1415926))\n",
    "print(F(1.414))"
   ]
  },
  {
   "cell_type": "markdown",
   "metadata": {
    "deletable": true,
    "editable": true
   },
   "source": [
    "# List"
   ]
  },
  {
   "cell_type": "code",
   "execution_count": 29,
   "metadata": {
    "collapsed": false,
    "deletable": true,
    "editable": true
   },
   "outputs": [
    {
     "name": "stdout",
     "output_type": "stream",
     "text": [
      "[1, 'aa', 3, 1, [1, 2], 2, 3, 0, 1, 2, 3, 4, 5, 6, 7, 8, 9]\n"
     ]
    }
   ],
   "source": [
    "# list announcement, append, pop\n",
    "mylist = [1,3.14, 'aa',3]\n",
    "mylist.append(1) #integer\n",
    "mylist.append([1,2]) #integer\n",
    "mylist.append(2)\n",
    "mylist.append(3)\n",
    "for i in range(10):\n",
    "    mylist.append(i)\n",
    "\n",
    "mylist.pop(1)  ## drop obj in the index = pop(<index>)\n",
    "print(mylist)"
   ]
  },
  {
   "cell_type": "code",
   "execution_count": 25,
   "metadata": {
    "collapsed": false,
    "deletable": true,
    "editable": true
   },
   "outputs": [
    {
     "name": "stdout",
     "output_type": "stream",
     "text": [
      "[0, 1, 2, 3, 4, 5, 6, 7, 8, 9]\n",
      "[0, 1]\n",
      "[2, 3, 4, 5, 6, 7, 8, 9]\n",
      "[7, 8, 9]\n",
      "[0, 1, 2, 3, 4, 5, 6, 7]\n"
     ]
    }
   ],
   "source": [
    "## index slicing\n",
    "mylist = list(range(10))\n",
    "print(mylist)\n",
    "print(mylist[:2]) #\":\" = 到\n",
    "print(mylist[2:]) # 從2開始到最後\n",
    "print(mylist[-3:])\n",
    "print(mylist[:-2])"
   ]
  },
  {
   "cell_type": "code",
   "execution_count": 33,
   "metadata": {
    "collapsed": false,
    "deletable": true,
    "editable": true
   },
   "outputs": [
    {
     "name": "stdout",
     "output_type": "stream",
     "text": [
      "[0, 1, 2, 3, 4, 5, 6, 7, 8, 9, [100, 100, 100, -1, -99]]\n",
      "[100, 100, 100, -1, -99]\n",
      "-------------------\n",
      "[0, 1, 2, 3, 4, 5, 6, 7, 8, 9, 100, 100, 100, -1, -99]\n",
      "-------------------\n",
      "[0, 1, 2, 3, 4, 5, 6, 7, 8, 9, 100, 100, 100, -1, -99]\n",
      "-------------------\n",
      "[0, 0, 0, 0, 0, 0, 0, 0, 0, 0, 0, 0, 0, 0, 0, 0, 0, 0, 0, 0, 0, 0, 0, 0, 0, 0, 0, 0, 0, 0, 0, 0, 0, 0, 0, 0, 0, 0, 0, 0, 0, 0, 0, 0, 0, 0, 0, 0, 0, 0, 0, 0, 0, 0, 0, 0, 0, 0, 0, 0, 0, 0, 0, 0, 0, 0, 0, 0, 0, 0, 0, 0, 0, 0, 0, 0, 0, 0, 0, 0, 0, 0, 0, 0, 0, 0, 0, 0, 0, 0, 0, 0, 0, 0, 0, 0, 0, 0, 0, 0]\n",
      "-------------------\n"
     ]
    },
    {
     "data": {
      "text/plain": [
       "[0,\n",
       " 0,\n",
       " 0,\n",
       " 0,\n",
       " 0,\n",
       " 0,\n",
       " 0,\n",
       " 0,\n",
       " 0,\n",
       " 0,\n",
       " 0,\n",
       " 0,\n",
       " 0,\n",
       " 0,\n",
       " 0,\n",
       " 0,\n",
       " 0,\n",
       " 0,\n",
       " 0,\n",
       " 0,\n",
       " 0,\n",
       " 0,\n",
       " 0,\n",
       " 0,\n",
       " 0,\n",
       " 0,\n",
       " 0,\n",
       " 0,\n",
       " 0,\n",
       " 0,\n",
       " 0,\n",
       " 0,\n",
       " 0,\n",
       " 0,\n",
       " 0,\n",
       " 0,\n",
       " 96,\n",
       " 0,\n",
       " 0,\n",
       " 0,\n",
       " 0,\n",
       " 0,\n",
       " 0,\n",
       " 0,\n",
       " 0,\n",
       " 0,\n",
       " 0,\n",
       " 0,\n",
       " 0,\n",
       " 0,\n",
       " 0,\n",
       " 0,\n",
       " 2,\n",
       " 2,\n",
       " 2,\n",
       " 2,\n",
       " 2,\n",
       " 2,\n",
       " 2,\n",
       " 2,\n",
       " 2,\n",
       " 2,\n",
       " 2,\n",
       " 2,\n",
       " 2,\n",
       " 2,\n",
       " 2,\n",
       " 2,\n",
       " 2,\n",
       " 2,\n",
       " 2,\n",
       " 2,\n",
       " 2,\n",
       " 2,\n",
       " 2,\n",
       " 2,\n",
       " 2,\n",
       " 2,\n",
       " 2,\n",
       " 2,\n",
       " 2,\n",
       " 2,\n",
       " 2,\n",
       " 2,\n",
       " 2,\n",
       " 2,\n",
       " 2,\n",
       " 2,\n",
       " 2,\n",
       " 2,\n",
       " 2,\n",
       " 2,\n",
       " 2,\n",
       " 2,\n",
       " 2,\n",
       " 2,\n",
       " 2,\n",
       " 2,\n",
       " 2,\n",
       " 2]"
      ]
     },
     "execution_count": 33,
     "metadata": {},
     "output_type": "execute_result"
    }
   ],
   "source": [
    "# append, extend\n",
    "mylist = list(range(10))\n",
    "mylist.append([100, 100, 100, -1, -99]) #加入新物件\n",
    "print(mylist)\n",
    "print(mylist[10])\n",
    "print(\"-------------------\")\n",
    "\n",
    "mylist = list(range(10))\n",
    "mylist.extend([100, 100, 100, -1, -99]) #延長\n",
    "print(mylist)\n",
    "print(\"-------------------\")\n",
    "\n",
    "mylist = list(range(10))\n",
    "mylist = mylist + [100, 100, 100, -1, -99]\n",
    "print(mylist)\n",
    "print(\"-------------------\")\n",
    "\n",
    "mylist = [0] * 100\n",
    "print(mylist)\n",
    "print(\"-------------------\")\n",
    "\n",
    "for i in range(100):\n",
    "    if i >50 and i <99:\n",
    "        mylist[36] += 2\n",
    "        mylist[i + 1] += 2\n",
    "mylist"
   ]
  },
  {
   "cell_type": "code",
   "execution_count": 35,
   "metadata": {
    "collapsed": false,
    "deletable": true,
    "editable": true
   },
   "outputs": [
    {
     "name": "stdout",
     "output_type": "stream",
     "text": [
      "[-99, -1, 0, 1, 2, 3, 4, 5, 6, 7, 8, 9, 100, 100, 100]\n",
      "[100, 100, 100, 9, 8, 7, 6, 5, 4, 3, 2, 1, 0, -1, -99]\n",
      "---------------\n",
      "[0, 1, 2, 3, 4, 5, 6, 7, 8, 9, 100, 100, 100, -1, -99]\n",
      "3\n",
      "10\n"
     ]
    }
   ],
   "source": [
    "# sort, count, min, max, len, inedx\n",
    "mylist = list(range(10))\n",
    "mylist = mylist + [100, 100, 100, -1, -99]\n",
    "print(sorted(mylist))\n",
    "print(sorted(mylist, reverse = True))\n",
    "print(\"---------------\")\n",
    "\n",
    "print(mylist)\n",
    "print(mylist.count(100))  #有幾個100(值，非index)\n",
    "print(mylist.index(100))  # 第一次出現的索引值"
   ]
  },
  {
   "cell_type": "code",
   "execution_count": 41,
   "metadata": {
    "collapsed": false,
    "deletable": true,
    "editable": true
   },
   "outputs": [
    {
     "name": "stdout",
     "output_type": "stream",
     "text": [
      "[0, 1, 2, 3, 4, 5, 6, 7, 8, 9, 100, 100, 100, -1, -99]\n",
      "[0, 1, 2, 3, 4, 5, 6, 7, 8, 9, 100, -99, -1]\n"
     ]
    }
   ],
   "source": [
    "# set\n",
    "# newlist = []\n",
    "# for i in mylist:\n",
    "#     if i not in newlist:\n",
    "#         newlist.append(i) \n",
    "# print(newlist)\n",
    "print(mylist)\n",
    "print(list(set(mylist)))  ##去掉重複值"
   ]
  },
  {
   "cell_type": "code",
   "execution_count": 44,
   "metadata": {
    "collapsed": false,
    "deletable": true,
    "editable": true
   },
   "outputs": [
    {
     "data": {
      "text/plain": [
       "'0 1 2 3 4 5 6 7 8 9'"
      ]
     },
     "execution_count": 44,
     "metadata": {},
     "output_type": "execute_result"
    }
   ],
   "source": [
    "# join\n",
    "mylist = list(range(10))\n",
    "newlist = [str(i) for i in mylist]\n",
    "# newlist = []\n",
    "# for i in mylist:\n",
    "#     newlist.append(str(i))\n",
    "    \n",
    "\" \".join(newlist)"
   ]
  },
  {
   "cell_type": "code",
   "execution_count": 65,
   "metadata": {
    "collapsed": false,
    "deletable": true,
    "editable": true
   },
   "outputs": [
    {
     "name": "stdout",
     "output_type": "stream",
     "text": [
      "False\n",
      "True\n",
      "False\n",
      "False\n"
     ]
    }
   ],
   "source": [
    "# copy\n",
    "mylist = list(range(10))\n",
    "mycopy = mylist.copy()\n",
    "print(mycopy is mylist)\n",
    "print(mycopy == mylist)\n",
    "\n",
    "\n",
    "mycopy[0] = -100\n",
    "print(mycopy is mylist)\n",
    "print(mycopy == mylist)\n"
   ]
  },
  {
   "cell_type": "code",
   "execution_count": 47,
   "metadata": {
    "collapsed": false,
    "deletable": true,
    "editable": true,
    "scrolled": true
   },
   "outputs": [
    {
     "name": "stdout",
     "output_type": "stream",
     "text": [
      "['2017年01月01日至2017年06月30日', nan, nan, '309336', '309336', nan, nan, '36661', '4745', '-15525', '14001', '17236', '-9674', '-11760', '-52771', '508', '0', '-4550', '60', '5000', '0', '45', '0', '48844', '-48191', '-7541', '-22912', nan, nan, '-8230', '52863', '99976', '805565', '-58842', '-134', '-21197', '-4950', '865051', nan, '0', '7251', '-302181', '-1519513', '-36567', '-663', '-2465', '-1854138', '-989087', '-1011999', '-702663', '12874', '12967', '-10777', '-57075', '-744674', nan, '0', '10517', '-465878', '494467', '-104000', '2470', '0', '-15168', '8457', '-682', '44323', '33747', '-500', '9388', '0', '225130', '-15753', '226518', nan, '310000', '-1488', '190', '0', '0', '-109870', '198832', '47228', '-272096', '2876766', '2604670', '2604670']\n",
      "-------------\n",
      "<class 'float'>\n",
      "<class 'float'>\n",
      "<class 'float'>\n",
      "<class 'float'>\n",
      "<class 'float'>\n",
      "<class 'float'>\n",
      "<class 'float'>\n",
      "<class 'float'>\n",
      "<class 'float'>\n",
      "-------------\n",
      "['309336', '309336', '36661', '33747', '310000']\n"
     ]
    }
   ],
   "source": [
    "# iteration\n",
    "import pandas as pd\n",
    "import math\n",
    "import re\n",
    "df = pd.read_html(\"http://mops.twse.com.tw/server-java/t164sb01?step=1&CO_ID=4104&SYEAR=2017&SSEASON=2&REPORT_ID=C\")[3]\n",
    "mylist = list(df[1])\n",
    "print(mylist)\n",
    "print(\"-------------\")\n",
    "\n",
    "[print(type(item)) for item in mylist if type(item) != str]\n",
    "print(\"-------------\")\n",
    "\n",
    "notNoneList = [item for item in mylist if type(item) == str and re.findall(r'^3', item)]\n",
    "print(notNoneList)\n"
   ]
  },
  {
   "cell_type": "code",
   "execution_count": 52,
   "metadata": {
    "collapsed": false,
    "deletable": true,
    "editable": true
   },
   "outputs": [
    {
     "name": "stdout",
     "output_type": "stream",
     "text": [
      "['2017年01月01日至2017年06月30日', None, None, '309336', '309336', None, None, '36661', '4745', '-15525', '14001', '17236', '-9674', '-11760', '-52771', '508', '0', '-4550', '60', '5000', '0', '45', '0', '48844', '-48191', '-7541', '-22912', None, None, '-8230', '52863', '99976', '805565', '-58842', '-134', '-21197', '-4950', '865051', None, '0', '7251', '-302181', '-1519513', '-36567', '-663', '-2465', '-1854138', '-989087', '-1011999', '-702663', '12874', '12967', '-10777', '-57075', '-744674', None, '0', '10517', '-465878', '494467', '-104000', '2470', '0', '-15168', '8457', '-682', '44323', '33747', '-500', '9388', '0', '225130', '-15753', '226518', None, '310000', '-1488', '190', '0', '0', '-109870', '198832', '47228', '-272096', '2876766', '2604670', '2604670']\n"
     ]
    }
   ],
   "source": [
    "mylist = ['2017年01月01日至2017年06月30日', None, None, '309336', '309336', None, None, '36661', '4745', '-15525', '14001', '17236', '-9674', '-11760', '-52771', '508', '0', '-4550', '60', '5000', '0', '45', '0', '48844', '-48191', '-7541', '-22912', None, None, '-8230', '52863', '99976', '805565', '-58842', '-134', '-21197', '-4950', '865051', None, '0', '7251', '-302181', '-1519513', '-36567', '-663', '-2465', '-1854138', '-989087', '-1011999', '-702663', '12874', '12967', '-10777', '-57075', '-744674', None, '0', '10517', '-465878', '494467', '-104000', '2470', '0', '-15168', '8457', '-682', '44323', '33747', '-500', '9388', '0', '225130', '-15753', '226518', None, '310000', '-1488', '190', '0', '0', '-109870', '198832', '47228', '-272096', '2876766', '2604670', '2604670']\n",
    "\n",
    "for i in range(len(mylist)):\n",
    "    if type(mylist[i]) == str and mylist[i] == None:\n",
    "        mylist.pop(i)  #index\n",
    "print(mylist)"
   ]
  },
  {
   "cell_type": "code",
   "execution_count": 55,
   "metadata": {
    "collapsed": false,
    "deletable": true,
    "editable": true
   },
   "outputs": [
    {
     "name": "stdout",
     "output_type": "stream",
     "text": [
      "0\n",
      "2017年01月01日至2017年06月30日\n",
      "1\n",
      "None\n",
      "2\n",
      "None\n",
      "3\n",
      "309336\n",
      "4\n",
      "309336\n",
      "5\n",
      "None\n",
      "6\n",
      "None\n",
      "7\n",
      "36661\n",
      "8\n",
      "4745\n",
      "9\n",
      "-15525\n"
     ]
    }
   ],
   "source": [
    "# enumerate\n",
    "for num, item in enumerate(mylist):\n",
    "    if num < 10:\n",
    "        print(num)\n",
    "        print(item)"
   ]
  },
  {
   "cell_type": "markdown",
   "metadata": {
    "deletable": true,
    "editable": true
   },
   "source": [
    "# Dict"
   ]
  },
  {
   "cell_type": "code",
   "execution_count": 33,
   "metadata": {
    "collapsed": false,
    "deletable": true,
    "editable": true
   },
   "outputs": [
    {
     "name": "stdout",
     "output_type": "stream",
     "text": [
      "<class 'dict'>\n",
      "<class 'set'>\n",
      "中文\n",
      "{'age': 23, 'name': 'jeremy', 'nickname': ['GoatWang', 'aaa']}\n",
      "{'age': 75, 'tall': 175, 'name': 'jeremy', 'nickname': ['GoatWang', 'aaa']}\n"
     ]
    }
   ],
   "source": [
    "# dict announcement\n",
    "a = {}\n",
    "print(type(a))\n",
    "b = {1,}  ##不重複，通常用來去掉list中重複的element\n",
    "mylist = []\n",
    "\n",
    "print(type(b))\n",
    "\n",
    "dictionary = {'Chinese':'中文', 'English':'英文'}\n",
    "print(dictionary['Chinese'])\n",
    "\n",
    "country = {'Germany':'Berlin', 'Taiwan': 'Taipei', 'Japan':'Tokyo'}\n",
    "mydict = {\"name\":\"jeremy\", \"age\":23, \"nickname\":[\"GoatWang\",\"aaa\"]}\n",
    "print(mydict)\n",
    "\n",
    "mydict['tall'] = 175\n",
    "mydict['age'] = 75\n",
    "\n",
    "print(mydict)  ##沒有順序"
   ]
  },
  {
   "cell_type": "code",
   "execution_count": 38,
   "metadata": {
    "collapsed": false,
    "deletable": true,
    "editable": true
   },
   "outputs": [
    {
     "name": "stdout",
     "output_type": "stream",
     "text": [
      "dict_keys(['age', 'tall', 'name', 'nickname'])\n",
      "dict_values([75, 175, 'jeremy', ['GoatWang', 'aaa']])\n",
      "jeremy\n",
      "jeremy\n",
      "None\n",
      "70\n",
      "'e' not in mydict.keys()\n"
     ]
    }
   ],
   "source": [
    "# dict call\n",
    "print(mydict.keys())\n",
    "print(mydict.values())\n",
    "\n",
    "print(mydict['name'])\n",
    "print(mydict.get('name')) \n",
    "print(mydict.get('weight'))  ## if have no this key, return None\n",
    "print(mydict.get('weight', 70))  ## if have no this key, return 70\n",
    "\n",
    "try:\n",
    "    print(mydict['e'])\n",
    "except:\n",
    "    print(\"'e' not in mydict.keys()\")\n",
    "# exceptions: https://docs.python.org/3/library/exceptions.html#bltin-exceptions\n",
    "\n"
   ]
  },
  {
   "cell_type": "code",
   "execution_count": 177,
   "metadata": {
    "collapsed": false,
    "deletable": true,
    "editable": true
   },
   "outputs": [
    {
     "name": "stdout",
     "output_type": "stream",
     "text": [
      "{'c': 3, 'a': 1, 'b': 2}\n",
      "None\n",
      "{'c': 3, 'a': 1, 'b': 2}\n"
     ]
    },
    {
     "ename": "KeyError",
     "evalue": "'100'",
     "output_type": "error",
     "traceback": [
      "\u001b[1;31m---------------------------------------------------------------------------\u001b[0m",
      "\u001b[1;31mKeyError\u001b[0m                                  Traceback (most recent call last)",
      "\u001b[1;32m<ipython-input-177-b8a305011ba8>\u001b[0m in \u001b[0;36m<module>\u001b[1;34m()\u001b[0m\n\u001b[0;32m      6\u001b[0m \u001b[0mprint\u001b[0m\u001b[1;33m(\u001b[0m\u001b[0mres\u001b[0m\u001b[1;33m)\u001b[0m\u001b[1;33m\u001b[0m\u001b[0m\n\u001b[0;32m      7\u001b[0m \u001b[0mprint\u001b[0m\u001b[1;33m(\u001b[0m\u001b[0mmydict\u001b[0m\u001b[1;33m)\u001b[0m\u001b[1;33m\u001b[0m\u001b[0m\n\u001b[1;32m----> 8\u001b[1;33m \u001b[0mmydict\u001b[0m\u001b[1;33m.\u001b[0m\u001b[0mpop\u001b[0m\u001b[1;33m(\u001b[0m\u001b[1;34m'100'\u001b[0m\u001b[1;33m)\u001b[0m\u001b[1;33m\u001b[0m\u001b[0m\n\u001b[0m",
      "\u001b[1;31mKeyError\u001b[0m: '100'"
     ]
    }
   ],
   "source": [
    "# pop\n",
    "# mylist= ['a','b','c']\n",
    "# mylist.pop(0)\n",
    "# print(mylist)\n",
    "\n",
    "mydict = {'d': 4, 'c': 3, 'b': 2, 'a': 1}\n",
    "mydict.pop('d')\n",
    "print(mydict)\n",
    "res = mydict.pop('100', None)\n",
    "print(res)\n",
    "print(mydict)\n",
    "mydict.pop('100')"
   ]
  },
  {
   "cell_type": "code",
   "execution_count": 46,
   "metadata": {
    "collapsed": false,
    "deletable": true,
    "editable": true
   },
   "outputs": [
    {
     "data": {
      "text/plain": [
       "dict_items([('age', 75), ('tall', 175), ('name', 'jeremy'), ('nickname', ['GoatWang', 'aaa'])])"
      ]
     },
     "execution_count": 46,
     "metadata": {},
     "output_type": "execute_result"
    }
   ],
   "source": [
    "# iteration\n",
    "# mydict.items()\n",
    "\n",
    "# for mytuple in mydict.items():\n",
    "#     print(mytuple)\n",
    "# for (a, b) in mydict.items():\n",
    "#     print(a, b)\n",
    "for key, value in mydict.items():\n",
    "    print(key, value)"
   ]
  },
  {
   "cell_type": "code",
   "execution_count": 52,
   "metadata": {
    "collapsed": false,
    "deletable": true,
    "editable": true
   },
   "outputs": [
    {
     "data": {
      "text/plain": [
       "[('d', 4), ('c', 3), ('b', 2), ('a', 1)]"
      ]
     },
     "execution_count": 52,
     "metadata": {},
     "output_type": "execute_result"
    }
   ],
   "source": [
    "# sort\n",
    "a = [1,8,99,20,50]\n",
    "sorted(a, reverse=False)\n",
    "\n",
    "mydict = {'d': 4, 'c': 3, 'b': 2, 'a': 1}\n",
    "sorted(mydict.items(), key=lambda x:x[0], reverse=True)\n"
   ]
  },
  {
   "cell_type": "code",
   "execution_count": 56,
   "metadata": {
    "collapsed": false,
    "deletable": true,
    "editable": true
   },
   "outputs": [
    {
     "name": "stdout",
     "output_type": "stream",
     "text": [
      "Counter({'the': 273, 'of': 250, 'and': 248, 'Python': 199, 'text\"': 186, 'to': 175, 'a': 170, 'in': 148, 'is': 145, 'Retrieved': 118, 'for': 103, '–': 90, 'web\"><a': 80, 'as': 66, 'with': 65, 'from': 62, 'are': 58, 'by': 51, 'Software': 49, 'on': 46, 'be': 43, 'that': 42, 'which': 40, 'has': 38, 'or': 35, 'this': 35, 'language': 34, 'The': 31, 'an': 29, 'software': 28, 'can': 28, 'used': 28, 'it': 27, 'was': 26, 'than': 24, 'code': 24, 'also': 24, 'use': 22, '(computer': 22, 'free': 21, '1.5x,': 21, '2x\"': 21, 'not': 20, 'its': 19, 'articles': 18, 'other': 17, 'using': 17, 'languages': 17, 'many': 16, 'such': 16, 'Python,': 16, \"Python's\": 16, 'van': 15, 'at': 14, 'page': 14, 'August': 14, 'version': 14, 'Book': 14, '1': 14, 'standard': 14, 'January': 14, 'March': 14, 'Standard': 14, 'Rossum,': 14, '==': 14, 'operator': 14, '(web': 13, 'This': 13, 'Guido': 13, 'dated': 13, 'title=\"C': 13, '-': 13, 'C': 12, 'but': 12, 'Language': 12, 'have': 12, 'uses': 12, 'written': 12, 'template\"': 12, 'been': 12, 'more': 11, 'For': 11, 'like': 11, 'number': 11, 'It': 11, 'into': 11, '=': 11, 'design': 10, 'syntax': 10, 'Java': 10, 'about': 9, 'width:': 9, 'CPython': 9, 'all': 9, 'September': 9, 'A': 9, 'web': 9, 'modules': 9, 'support': 9, 'including': 9, 'alt=\"\"': 9, 'division': 9, 'October': 9, 'most': 9, '31px;': 8, 'features': 8, 'large': 8, 'December': 8, 'library': 8, 'new': 8, 'run': 8, '3': 8, 'block': 8, 'may': 8, 'example,': 8, 'often': 8, 'I': 8, 'does': 8, 'web\">van': 8, 'if': 7, 'title=\"Go': 7, 'list': 7, 'compiles': 7, 'method': 7, 'both': 7, 'Open': 7, 'where': 7, 'hlist': 7, '--': 7, 'some': 7, '2003).': 7, 'several': 7, 'would': 7, 'release': 7, 'New': 7, 'In': 7, 'first': 7, 'Free': 7, 'allows': 7, 'name': 7, 'Server': 7, 'type': 7, 'contain': 7, 'include': 7, 'multiple': 6, 'function': 6, 'each': 6, 'one': 6, 'variable': 6, 'unsourced': 6, 'scripting': 6, 'project': 6, 'part': 6, 'June': 6, '2,': 6, 'Gateway': 6, 'only': 6, 'named': 6, 'programs': 6, 'being': 6, 'Python:': 6, 'similar': 6, 'created': 6, '2': 6, 'objects': 6, 'Archived': 6, 'Data': 6, 'major': 6, 'after': 6, 'over': 6, 'released': 6, 'February': 6, 'time': 6, 'e.g.': 6, '&amp;': 6, 'value': 6, 'three': 6, 'precision': 5, 'Community': 5, 'ed.).': 5, 'optional': 5, 'functions': 5, 'between': 5, 'statement': 5, '2012<span': 5, 'object': 5, 'import': 5, 'Public': 5, 'typed': 5, 'then': 5, 'An': 5, 'mixed': 5, 'Mark': 5, '(5': 5, 'given': 5, 'provided': 5, 'their': 5, 'hlist\"': 5, 'none;': 5, '2001).': 5, 'operating': 5, \"'string',\": 5, 'C++': 5, 'classes': 5, 'cannot': 5, '3.0': 5, 'means': 5, 'source': 5, 'Package': 5, 'better': 5, 'do': 5, 'class': 5, 'years': 5, 'language)': 5, 'rather': 5, 'releases': 5, 'July': 5, 'two': 5, 'Source': 5, 'elements': 5, '2000).': 5, '+': 5, '(for': 5, 'However,': 5, 'intended': 5, 'available': 5, 'November': 4, 'during': 4, 'Wikipedia': 4, 'module': 4, 'negative': 4, '2009).': 4, 'same': 4, 'operators': 4, 'while': 4, 'C,': 4, 'far': 4, 'had': 4, 'now': 4, 'usage:': 4, '4px;': 4, 'kinds': 4, 'changes': 4, 'content': 4, 'middle\"': 4, 'common': 4, 'article:': 4, 'middle;': 4, '0.2em': 4, 'Chris': 4, 'navbar': 4, 'arbitrary': 4, 'numeric': 4, '/': 4, 'string': 4, 'reference': 4, 'third': 4, 'Rossum': 4, 'M.': 4, 'names': 4, 'tuple': 4, 'allowing': 4, 'element': 4, 'Python.': 4, 'Van': 4, 'there': 4, 'core': 4, 'Is': 4, 'Flying': 4, 'keys': 4, 'supports': 4, 'Dictator': 4, 'provides': 4, 'border:': 4, 'supported': 4, '10': 4, 'quote': 4, 'community': 4, 'code,': 4, '182px;': 4, 'speed': 4, '(page': 4, '2.5,': 4, '(2009).': 4, '2.7': 4, 'writing': 4, 'science': 4, 'History': 4, '4em\"><a': 4, 'types,': 4, 'must': 4, 'termed': 4, 'range': 4, '2006).': 4, 'main': 4, 'pages': 4, 'user': 4, 'types': 4, 'library,': 4, '2009<span': 4, 'equal': 3, '(<a': 3, 'As': 3, 'should': 3, 'libraries': 3, 'way': 3, 'approach': 3, 'behavior': 3, 'much': 3, 'up': 3, 'PEP': 3, 'contains': 3, 'how': 3, '(17': 3, 'title=\"A': 3, 'Built-in': 3, 'contrast': 3, 'good': 3, 'you': 3, 'started': 3, 'official': 3, 'TIOBE': 3, 'vs.': 3, 'LCCN': 3, 'dates': 3, 'includes': 3, 'count:': 3, 'variant': 3, 'people': 3, 'DMOZ': 3, 'curly': 3, '(29': 3, '&lt;': 3, 'via': 3, 'special': 3, 'important': 3, 'before': 3, 'dynamic': 3, 'create': 3, 'out': 3, 'they': 3, '(since': 3, 'thus': 3, 'syntax,': 3, 'PyPy': 3, 'result': 3, 'update\"': 3, 'general': 3, 'no': 3, 'delimit': 3, 'executes': 3, 'extensive': 3, 'These': 3, 'terms': 3, 'example': 3, 'long': 3, '2014).': 3, '2005).': 3, 'seconds': 3, 'program': 3, 'visual': 3, 'asof-tag': 3, 'double': 3, 'matrix': 3, 'however,': 3, 'fewer': 3, '30em;': 3, 'will': 3, '(software': 3, 'J.': 3, 'always': 3, 'because': 3, 'solid': 3, '#aaa;': 3, '(30': 3, 'few': 3, 'makes': 3, 'system': 3, '\"<a': 3, 'every': 3, 'changed': 3, 'Cobra': 3, '2017).': 3, 'towards': 3, 'FAQ</i>.': 3, 'feature': 3, '...': 3, 'API': 3, '(3': 3, '19': 3, 'storage': 3, '2013<span': 3, 'else': 3, 'de': 3, 'published': 3, 'document': 3, 'language,': 3, 'release,': 3, 'needing': 3, 'e.g.,': 3, 'described': 3, 'implement': 3, '20': 3, 'versions': 3, 'current': 3, 'dmy': 3, 'jezik)': 3, 'complex': 3, 'Many': 3, 'K.': 3, 'bytes': 3, '—': 3, 'various': 3, 'memory': 3, 'receives': 3, 'GND': 3, 'directly': 3, 'dtstart': 3, 'lines': 3, 'Developer': 3, 'versus': 3, 'attached': 3, 'values': 3, '15': 3, 'popular': 3, 'called': 3, 'running': 3, 'tools': 3, 'object,': 3, 'since': 3, '2017<span': 3, 'April': 3, 'BNF': 3, 'x': 3, 'designed': 3, 'Sharp': 3, 'single': 3, 'Web': 3, 'built-in': 3, 'working': 3, '2</code>,': 3, 'equation': 3, 'hosting': 3, 'wide': 3, 'noprint': 3, 'became': 3, 'citations': 3, 'data': 3, 'padding:': 3, 'through': 3, 'Science': 3, 'Release': 3, '(such': 3, '(in': 3, 'Index': 3, 'Perl': 2, 'article.': 2, '3.5,': 2, '(a': 2, '(22': 2, 'boolean': 2, '38.956': 2, 'same,': 2, '(11': 2, 'measured': 2, 'integer': 2, 'need': 2, 'entirely': 2, 'C#,': 2, 'Brief': 2, 'offers': 2, 'section': 2, 'ideas': 2, 'S.': 2, 'Division': 2, 'Integer': 2, 'whose': 2, 'Scripting': 2, 'Document': 2, 'IP': 2, '15.': 2, '17': 2, 'Operators': 2, 'adopted': 2, 'embedded': 2, 'comes': 2, '3:': 2, 'copy': 2, 'hand': 2, 'referred': 2, 'syntactic': 2, 'methods': 2, 'origin': 2, 'small': 2, '#B2B7F2;': 2, '2004).': 2, 'Charles.': 2, 'immutable': 2, 'drawing': 2, 'lang=\"en\"': 2, 'related': 2, 'cited': 2, '440.325': 2, 'highly': 2, 'borrowed': 2, '2016<span': 2, '7.12%': 2, 'Functions': 2, 'positive': 2, '3.15%': 2, 'Equality': 2, 'latter': 2, 'Powerful': 2, 'License': 2, \"O'Reilly\": 2, 'advantage': 2, 'side': 2, 'CLU,': 2, 'error': 2, 'marks': 2, 'With': 2, 'features,': 2, 'Rust,': 2, 'Ruby,': 2, '3.5.': 2, 'dedicated': 2, 'very': 2, '(latest': 2, 'introduce': 2, 'brackets': 2, 'article\"': 2, 'page\"': 2, 'static': 2, '1238.429': 2, '40px;': 2, 'report': 2, 'video': 2, 'tools,': 2, 'index': 2, 'describe': 2, 'basic': 2, 'App': 2, '3.6': 2, 'links': 2, 'executed': 2, 'Anthony': 2, '(July': 2, '2007': 2, '(2': 2, 'Raymond': 2, '(7': 2, 'Since': 2, 'second': 2, 'own': 2, 'compiler': 2, 'literal': 2, 'decided': 2, 'creating': 2, '(10': 2, '{': 2, 'python': 2, 'Perl,': 2, '107,': 2, '2017,': 2, 'Swift': 2, 'per': 2, 'Control': 2, 'text': 2, 'instead': 2, 'back': 2, 'date': 2, 'Computer': 2, 'infix': 2, '4.47%': 2, 'rejects': 2, 'places,': 2, 'classic': 2, 'process': 2, 'Rails': 2, '3,': 2, '2.7.14': 2, '58.42%': 2, 'y</code>,': 2, 'make': 2, 'mixture': 2, 'group': 2, 'Monty': 2, 'Basic': 2, 'best': 2, 'series': 2, 'easily': 2, 'Springer.': 2, 'marks.': 2, \"Meier's\": 2, 'whether': 2, 'these': 2, 'May': 2, 'prefix': 2, 'here': 2, 'virtual': 2, 'log': 2, 'Purpose': 2, '&lt;=': 2, 'commonly': 2, 'Chinese\"': 2, 'is,': 2, 'systems.': 2, 'Core': 2, 'along': 2, '2.2': 2, '(14': 2, '2006<span': 2, 'sign': 2, 'primary': 2, 'b': 2, 'mechanism': 2, 'case': 2, '88.163': 2, 'ranked': 2, 'English': 2, 'in;': 2, 'color:': 2, 'packages': 2, 'compares': 2, 'Apress.': 2, 'Interview': 2, 'infinity,': 2, 'passed': 2, \"Roman',\": 2, 'Google': 2, \"'Times\": 2, 'byte': 2, '.6em;': 2, '2.0': 2, 'belonging': 2, 'Lua': 2, 'longer': 2, 'Cultural': 2, 'London:': 2, 'bold;': 2, 'top;': 2, '2017<sup': 2, 'indexes': 2, 'his': 2, 'dir=\"ltr\"': 2, 'state': 2, 'Light': 2, '105,': 2, '4.42%': 2, 'write': 2, 'David': 2, 'invented': 2, 'certain': 2, 'operands': 2, 'right': 2, '(itself': 2, '3D': 2, '.pyo': 2, 'Tim': 2, 'favor': 2, 'rights': 2, '(or': 2, 'Phillip': 2, 'Into': 2, 'Like': 2, 'work': 2, 'Click': 2, 'evaluates': 2, '92.514': 2, 'c': 2, 'Integers': 2, 'rough': 2, 'until': 2, 'Google.': 2, 'releases,': 2, 'size:': 2, 'largely': 2, 'team': 2, 'article': 2, 'Simple': 2, 'internal': 2, '(2013).': 2, 'causes': 2, 'extension': 2, 'increase': 2, 'show': 2, 'developed': 2, 'writable': 2, 'title': 2, 'How': 2, 'we': 2, 'reflected': 2, 'inspired': 2, 'others': 2, '2002).': 2, '4': 2, \"Lattner's\": 2, '(16': 2, 'those': 2, 'added': 2, 'From': 2, 'Cathedral': 2, 'Baxter,': 2, '3.<sup': 2, 'shifts': 2, 'Erik.': 2, '.': 2, 'control': 2, 'greatest': 2, 'Year': 2, 'Hat': 2, 'also:': 2, 'Analysis': 2, 'my': 2, 'Moshe;': 2, 'Wiskunde': 2, '35.56%': 2, '§2:': 2, 'node': 2, ',': 2, 'issues': 2, 'valid': 2, 'Of': 2, 'local': 2, 'requiring': 2, 'book\"': 2, 'slice': 2, '(20': 2, '(2010).': 2, 'though': 2, 'dili)': 2, '20px;': 2, '44.876': 2, 'Shop': 2, '24': 2, 'They': 2, '2007).': 2, 'strings': 2, 'assigned': 2, 'Laptop': 2, 'days': 2, '0px': 2, '(2007).': 2, 'enables': 2, 'put': 2, 'initially': 2, 'providing': 2, 'Commons': 2, '10px': 2, 'strings,': 2, '723.514': 2, 'edits': 2, 'project,': 2, 'form': 2, 'final': 2, '3.62%': 2, 'Haskell,': 2, 'serif;': 2, 'Guide': 2, 'began': 2, 'produces': 2, 'symbolic': 2, 'Java,': 2, '(4,': 2, 'last': 2, 'returns': 2, '0': 2, 'Stackless': 2, 'follows': 2, '55.351': 2, 'General': 2, 'equality': 2, '(13': 2, 'instances': 2, 'address': 2, 'Timeline': 2, '54.744': 2, 'less': 2, 'order': 2, 'denoted': 2, 'allocated': 2, 'made': 2, 'manner': 2, '26': 2, 'value,': 2, 'Guido;': 2, 'retrieved': 2, 'specific': 2, 'expansion': 2, '1.0,': 2, 'under': 2, 'and,': 2, 'platform': 2, 'IDE': 2, 'choice': 2, 'Your': 2, 'offering': 2, 'German\"': 2, 'covers': 2, 'nature': 2, 'empirical': 2, 'C++,': 2, 'too': 2, 'key': 2, 'examples': 2, '2010.': 2, 'found': 2, 'when': 2, 'Times,': 2, 'Security': 2, 'Nokia': 2, '(and': 2, 'left': 2, 'fixed': 2, '133': 2, 'end': 2, 'body': 2, '7.47%': 2, 'were': 2, 'Decimal': 2, 'line': 2, 'language.': 2, 'integers,': 2, '2</code>;': 2, 'checked': 2, '1:': 2, 'parser': 2, 'greatly': 2, 'compilers': 2, 'parts': 2, '53.368': 2, 'A.': 2, 'roughly': 2, 'say': 2, 'something': 2, 'late': 2, 'existing': 2, 'iterators': 2, '4.31%': 2, 'revision': 2, 'plainlist': 2, 'happen': 1, 'simple': 1, 'Research': 1, 'EVE': 1, 'etc.': 1, 'List': 1, 'v2.7.2': 1, 'past,': 1, 'etc),': 1, 'benefited': 1, '\"Fans': 1, 'Linux': 1, 'game': 1, 'Its': 1, 'delimited': 1, 'exact': 1, 'sets;': 1, 'Ziff': 1, 'versions,': 1, 'interval': 1, 'End': 1, '3.2,': 1, 'Romanian\"': 1, 'lang=\"eo\"': 1, 'covered': 1, 'closer': 1, 'Blog</i>.': 1, 'do,': 1, 'generator': 1, 'Life': 1, 'successor': 1, 'lập': 1, 'Facundo': 1, 'newsgroup': 1, 'Prentice': 1, 'C#': 1, 'lang=\"mk\"': 1, 'lang=\"nn\"': 1, 'Thai\"': 1, '1989,': 1, 'refer': 1, 'marginal': 1, 'fast': 1, 'a%b': 1, 'blocks,': 1, 'multiply': 1, 'partial': 1, 'Khmer\"': 1, 'plan': 1, 'come': 1, '[ES4': 1, 'tutorials': 1, 'Escape': 1, '\"hobby\"': 1, 'name=\"go\"': 1, '(was:': 1, 'lang=\"sr\"': 1, 'classes:': 1, '16': 1, 'checker': 1, '(ngôn': 1, 'Greek\"': 1, 'Ways': 1, '[c]\"': 1, 'bring': 1, '2009': 1, 'specified': 1, 'Python).': 1, 'Jocelyn,': 1, 'Speaking': 1, 'improving': 1, 'require,': 1, 'hashable': 1, 'account': 1, 'why': 1, 'web\">The': 1, '2016<sup': 1, 'ten': 1, '0/1500000': 1, 'computer,': 1, 'lang=\"sl\"': 1, '\"there': 1, 'suites': 1, 'pass': 1, 'scale': 1, 'early': 1, 'visited': 1, '(4.0,': 1, 'id=\"toc\"': 1, 'whole,': 1, 'ensures': 1, 'postponed': 1, '(5th': 1, 'break': 1, 'shows': 1, 'Ruby': 1, 'earnest': 1, 'gurus,': 1, 'APress.': 1, 'rebranded': 1, 'built': 1, 'bitwise': 1, 'Norwegian': 1, 'List:': 1, 'icon\"': 1, 'jezik': 1, '1.6.6': 1, 'lang=\"fi\"': 1, 'mix': 1, 'conceived': 1, 'class.)': 1, '\"feature\"': 1, 'problems': 1, 'Projects:': 1, 'Estonian\"': 1, 'managed': 1, 'Kevin': 1, 'in,': 1, 'chained': 1, 'formerly': 1, 'binds': 1, 'proposing': 1, 'database.': 1, 'Design': 1, 'capable': 1, 'Stuart': 1, 'Benjamin': 1, 'id': 1, '.pyz': 1, '9': 1, 'lang=\"mn\"': 1, 'contents\"': 1, 'compiled': 1, 'lang=\"la\"': 1, '64': 1, \"'13.<sup\": 1, 'pre-3.0': 1, 'Transfer': 1, '3.5.1': 1, 'Latin\"': 1, 'M.;': 1, '466': 1, 'English\"': 1, '(Monty': 1, 'browsing': 1, '[y]\"': 1, '$,': 1, 'stack,': 1, 'so': 1, 'lang=\"ka\"': 1, 'contact': 1, 'Neal': 1, 'health': 1, 'lang=\"kk\"': 1, 'EEP': 1, 'sister': 1, 'tasks.': 1, '|': 1, 'extends': 1, 'South': 1, 'involving': 1, 'lang=\"hi\"': 1, 'lang=\"pl\"': 1, 'moved': 1, 'resulting': 1, '32': 1, 'him': 1, 'Jython': 1, '2015,': 1, 'Scots\"': 1, 'Slovak\"': 1, 'trình)': 1, 'Despite': 1, 'XML': 1, '4</a>,': 1, '0.5em': 1, 'IBPy': 1, 'months.': 1, '2013': 1, 'S60': 1, 'backslash': 1, 'quite': 1, 'CERN': 1, 'јазик)': 1, 'fluency': 1, 'place': 1, 'admirers': 1, 'stack': 1, 'While': 1, 'method.)': 1, '[e]\"': 1, 'tuples.': 1, 'Rapid': 1, 'भाषा)': 1, 'sequences': 1, 'phrase': 1, 'adds': 1, 'logged': 1, 'Lesser': 1, 'entire': 1, 'lists,': 1, 'real': 1, '(18': 1, 'rational': 1, 'lang=\"tr\"': 1, 'PEP)': 1, 'it.<sup': 1, '-total\",\"': 1, 'Expensive': 1, 'thousands': 1, 'Literal': 1, 'rounds': 1, 'direction': 1, 'runtime.': 1, 'IV\"</a>.': 1, 'automatic': 1, 'Turkish\"': 1, 'testing': 1, 'web\">CCP': 1, 'fully': 1, 'compile': 1, 'expected': 1, 'know,': 1, 'earlier': 1, '1996:<sup': 1, 'C-level': 1, 'Buginese\"': 1, \"2.7's\": 1, 'edited': 1, 'simplest': 1, 'Bosnian\"': 1, 'b</code>,': 1, 'planned': 1, 'associate': 1, 'nothing': 1, 'EuroSciPy': 1, 'closing': 1, 'principal': 1, '2D/3D': 1, 'lang=\"as\"': 1, 'Further,': 1, 'rounding': 1, 'author,': 1, 'whenever': 1, 'point': 1, 'required': 1, 'b)//b': 1, 'Thing),': 1, 'bugfixes': 1, 'Aivazis,': 1, 'call': 1, 'Template': 1, 'depth:': 1, 'location': 1, '(': 1, 'بولی)': 1, 'manually': 1, 'about<b': 1, 'C-derived': 1, 'for,': 1, '0,': 1, '2.6+,': 1, '(at': 1, 'NJ:': 1, 'reversed.': 1, 'lang=\"an\"': 1, 'Max</a>,': 1, 'requires': 1, 'creator,': 1, 'Institute': 1, '(19': 1, 'through,': 1, 'Labs<span': 1, 'caught': 1, 'Real': 1, 'function.': 1, 'Modern': 1, 'lang=\"my\"': 1, 'market': 1, 'shell,': 1, 'Korean\"': 1, 'apply.': 1, 'silently': 1, 'Peachpit': 1, 'ships': 1, 'type;': 1, 'Malay\"': 1, '(if': 1, 'share': 1, 'workload': 1, \"That's\": 1, \"id='p-tb'\": 1, '3.5)<sup': 1, 'Python\"': 1, 'Changing': 1, 'think': 1, 'Recursion': 1, 'standard,': 1, 'reject': 1, '7&#160;–': 1, 'Qt</i>.': 1, 'letting': 1, 'features.': 1, 'Improving': 1, '21/40': 1, 'removed': 1, '(blog': 1, 'improper': 1, 'CPU': 1, 'expects': 1, '15.21.1.': 1, '(wikang': 1, 'graphics': 1, 'Secure': 1, 'number,': 1, '(1st': 1, '3.6.3rc1': 1, 'occur': 1, 'Jewett,': 1, 'Authority': 1, 'Mark.': 1, 'Upper': 1, 'links\"': 1, 'formats': 1, 'zip': 1, '9.2</i>.': 1, 'B.': 1, 'PEPs': 1, 'Cain': 1, 'collapse;': 1, 'occupied': 1, 'My': 1, 'limited': 1, 'world': 1, 'nyelv)': 1, 'numbers': 1, 'Memory': 1, 'property,': 1, '2.7\"</a>.': 1, 'iterable': 1, 'ideas.': 1, 'iOS': 1, 'Grumpy:': 1, '0441': 1, 'aim': 1, 'Hetland,': 1, 'check': 1, '(<i>PEP': 1, 'yields': 1, 'lang=\"ur\"': 1, 'Long': 1, 'tright\"': 1, 'Documents': 1, 'title=\"\"': 1, 'kept': 1, 'Albanian\"': 1, 'bugs.': 1, 'James': 1, 'Press.': 1, '\"typed': 1, 'linked': 1, 'lang=\"is\"': 1, 'not.': 1, '[z]\"': 1, 'Media.': 1, 'chained,': 1, '.pyd,': 1, '(زبان': 1, 'UNIX/C': 1, 'recent': 1, 'large)': 1, 'holy': 1, 'MB': 1, 'Bug': 1, \"'string'\": 1, \"it's\": 1, 'Stability': 1, 'spam': 1, 'Anna;': 1, '1.300': 1, 'Lists': 1, '(\"blah\",': 1, '100.00%': 1, 'compare': 1, 'Complete,': 1, 'By': 1, 'lang=\"sh\"': 1, 'Bill': 1, 'Asturian\"': 1, 'New-style': 1, 'holder': 1, 'Tajik\"': 1, 'Telugu\"': 1, 'tuples': 1, 'There': 1, 'implicit': 1, 'width=\"9\"': 1, 'object.': 1, 'address.': 1, '\"All': 1, 'response': 1, 'Tagalog\"': 1, 'Asked': 1, 'revisions': 1, '1991<span': 1, 'Georgian\"': 1, 'smaller': 1, '2010).': 1, 'David.': 1, 'Features': 1, 'view': 1, 'round': 1, 'Raimo': 1, 'Wu': 1, 'lang=\"sq\"': 1, 'Cebuano\"': 1, 'expiry:': 1, 'time:<sup': 1, '(note,': 1, 'scraping,': 1, 'GIMP': 1, '15.21.3.': 1, '2.7.x': 1, 'random': 1, 'algorithm': 1, 'contained': 1, 'option': 1, 'it\">there': 1, 'attaches': 1, '(linguage': 1, 'behavior.': 1, 'practice': 1, 'period': 1, 'Stack': 1, 'systems': 1, 'code</i>.': 1, 'However': 1, 'Why?': 1, '(3rd': 1, 'variants': 1, 'speeding': 1, 'a//b': 1, 'Jarrod;': 1, 'scheduled': 1, '2.6': 1, 'lang=\"es\"': 1, 'seen': 1, 'lang=\"tl\"': 1, 'me': 1, 'system;': 1, 'select': 1, 'try': 1, 'true.': 1, 'begin': 1, 'faster': 1, 'obscure': 1, 'encloses': 1, 'Michele.': 1, '2012.': 1, 'Fix': 1, 'Guys,': 1, 'prefixing': 1, '#aaa': 1, 'Canopy.': 1, 'sometimes': 1, 'limit': 1, 'Gang': 1, 'style': 1, 'lang=\"ta\"': 1, 'stackless': 1, 'agree': 1, 'big': 1, 'beta,': 1, 'native': 1, 'decimal': 1, 'usual': 1, 'Axel.': 1, 'lang=\"no\"': 1, 'py3k),': 1, 'Systems': 1, 'suitable': 1, 'shift': 1, 'party': 1, 'optimised': 1, 'to,': 1, 'Unifying': 1, 'span': 1, 'will.<sup': 1, 'Numerical': 1, 'When': 1, 'Why': 1, 'ought': 1, 'patents': 1, 'rules': 1, 'beyond': 1, 'Galician\"': 1, 'start': 1, 'shopping': 1, 'lang=\"lv\"': 1, 'Nynorsk\"': 1, 'use.': 1, 'lang=\"gl\"': 1, '(9': 1, 'reviewed': 1, 'Generator': 1, 'Zen': 1, 'cases': 1, 'leid)': 1, 'iterate': 1, '20</i>),': 1, 'v2.7.3': 1, '4,': 1, '?': 1, '(EOL,': 1, 'aid': 1, 'emphasis': 1, 'Who?': 1, '&gt;&gt;': 1, '2.\"': 1, '1)': 1, 'indicated': 1, 'espoused': 1, '3.0,': 1, 'releasing': 1, '2.7,': 1, 'within': 1, 'collector': 1, 'Andrew': 1, 'IDE\">Eric': 1, 'central': 1, 'looking': 1, '2011<span': 1, 'fast,': 1, 'async=\"\"': 1, ')': 1, 'variable,': 1, 'date)': 1, 'social': 1, 'conducted': 1, '2.4': 1, 'wireless': 1, 'језик)': 1, 'mistaking': 1, 'site,': 1, 'chose': 1, '(among': 1, '−1.0.<sup': 1, 'who': 1, 'pairs;': 1, 'Odia\"': 1, 'inverts': 1, 'title=\"Qt': 1, '[f]\"': 1, 'manager': 1, '0465': 1, '(int)': 1, '(2015).': 1, 'discussed': 1, 'ભાષા)': 1, 'upon': 1, 'rather,': 1, 'String': 1, 'lie': 1, 'scripts': 1, 'concern': 1, 'numerical': 1, '(was': 1, 'Blog:': 1, '(Dutch': 1, 'conforms': 1, 'imaging': 1, 'suite': 1, 'lang=\"te\"': 1, 'entities': 1, '(keys': 1, 'serve': 1, 'iterates': 1, 'mentoring': 1, '465': 1, 'meeting': 1, 'grammar.': 1, 'say,': 1, 'access': 1, 'said:': 1, 'styles': 1, 'usually': 1, '(bahasa': 1, 'code.<sup': 1, 'optional,': 1, 'common,': 1, \"Cobra's\": 1, 'Brett.': 1, 'Barry': 1, 'parameter': 1, 'function,': 1, 'replace': 1, 'lang=\"hu\"': 1, 'news': 1, 'major,': 1, 'lang=\"et\"': 1, 'compared': 1, 'Adding': 1, '2008).': 1, 'Compare': 1, 'raised': 1, 'Labs</a>,': 1, 'NewPP': 1, '(15': 1, 'protocols': 1, 'Pages': 1, 'Low': 1, '(c': 1, 'difficult': 1, 'lang=\"hy\"': 1, 'influence': 1, 'abilities': 1, 'never': 1, 'ენა)': 1, 'opposite': 1, 'process.': 1, '2015\">Use': 1, 'jazyk)': 1, 'lang=\"gu\"': 1, 'most)': 1, 'Fellows,': 1, 'practices': 1, 'Jim': 1, 'produced': 1, 'left;': 1, 'role': 1, '2012).': 1, 'fan': 1, 'values),': 1, \"object's\": 1, 'item': 1, 'probably': 1, 'Jason': 1, 'nationale': 1, 'Optional': 1, 'mailing': 1, 'MB/50': 1, 'TIP': 1, 'lang=\"or\"': 1, 'list.': 1, 'fivefold': 1, 'C++\"</a>.': 1, 'Flow': 1, 'serves': 1, 'Moshe': 1, 'lang=\"uk\"': 1, 'Urdu\"': 1, 'ltr': 1, 'ago,': 1, 'enough': 1, 'Central': 1, 'included': 1, 'lang=\"bs\"': 1, 'Magic': 1, 'Neil;': 1, 'validity': 1, '\"string': 1, 'lang=\"ru\"': 1, '(Version': 1, 'doing': 1, 'Meets': 1, '6.48': 1, '(lingua': 1, 'pretty': 1, 'leads': 1, 'literals': 1, 'class;': 1, 'Dutch\"': 1, 'title=\"D': 1, 'Dave.': 1, 'braces,': 1, 'decrease': 1, 'Skip;': 1, 'mw1261': 1, 'book\"><a': 1, '2.1': 1, 'evaluate': 1, 'Persian\"': 1, 'runtimes': 1, 'S60</a>,': 1, 'IE': 1, 'patches': 1, 'usable': 1, 'ed.': 1, 'bits),': 1, 'printer': 1, 'Cached': 1, 'integrate': 1, 'enable': 1, 'results': 1, 'Ned': 1, '2013)': 1, 'UNIX': 1, 'edit': 1, 'appeal': 1, 'top': 1, '(all': 1, 'it:': 1, '\"I': 1, 'presented': 1, '2.5),': 1, 'Each': 1, 'announced': 1, 'Other': 1, 'A-Z': 1, '2.3': 1, 'names,': 1, '[x]\"': 1, 'Between': 1, 'Punjabi\"': 1, 'Hall.': 1, 'tuples,': 1, \"3's\": 1, 'cart': 1, 'gone': 1, 'either': 1, 'months,': 1, '2014<span': 1, 'ns-0': 1, 'effort': 1, 'C3': 1, 'lang=\"si\"': 1, 'زبان)': 1, 'append': 1, 'Lutz': 1, 'awarded': 1, 'Armenian\"': 1, 'inherit': 1, 'lists': 1, 'Go:': 1, 'return': 1, 'JRuby': 1, 'public': 1, 'pushed': 1, 'meanings': 1, 'based': 1, 'forming': 1, 'We': 1, 'desired': 1, 'lang=\"ca\"': 1, 'effects': 1, 'lang=\"lt\"': 1, 'lang=\"pt\"': 1, 'Old-style': 1, 'names.': 1, 'Rexx,': 1, 'Types': 1, 'sense': 1, 'instance': 1, 'modern': 1, 'A:': 1, 'it\".<sup': 1, 'Expert': 1, 'closed,': 1, '(magic': 1, 'Jump': 1, 'it.': 1, '[u]\"': 1, 'sparser,': 1, 'sign).': 1, 'getting': 1, 'integer,': 1, '.pyw,': 1, 'possible': 1, 'syntax.': 1, 'ZIP': 1, 'search': 1, 'ideal,': 1, 'Congress': 1, 'Tuples': 1, 'opening': 1, 'Russian\"': 1, 'Typing': 1, 'Latvian\"': 1, \"You're\": 1, 'lang=\"eu\"': 1, '2000': 1, '1px': 1, 'lang=\"bn\"': 1, 'borrows': 1, '(мова': 1, '2.0.2': 1, 'goes': 1, 'lately:': 1, '.NET': 1, 'Thus,': 1, 'Own': 1, 'Alex;': 1, 'Brokers': 1, 'lang=\"sk\"': 1, 'readable': 1, 'Eby,': 1, 'lang=\"el\"': 1, 'extended': 1, '(1996).': 1, 'variety': 1, 'Nepali\"': 1, 'time:': 1, 'Type': 1, '[j]\"': 1, 'extending': 1, 'took': 1, 'grail': 1, 'included\"': 1, '(prior': 1, '20&#160;–': 1, '1,': 1, 'reliable': 1, 'games);': 1, 'express': 1, 'argument.': 1, 'style.': 1, '(e.g.,': 1, 'lang=\"it\"': 1, 'it),': 1, 'develop': 1, '#3:': 1, 'tilde': 1, 'NLUUG': 1, 'Zadka,': 1, 'appears.': 1, 'levels': 1, 'lang=\"fr\"': 1, 'C\".<sup': 1, '(C': 1, 'lang=\"ko\"': 1, 'keywords.': 1, 'Japanese\"': 1, '[...]': 1, '(WSGI)': 1, 'Exchange.': 1, 'Lisp</a>,': 1, 'lang=\"th\"': 1, 'needed': 1, 'itself': 1, 'bugfix': 1, 'Some': 1, 'copied': 1, 'Dynamic': 1, '(from': 1, 'making': 1, 'Dylan': 1, 'layout,': 1, '0327': 1, 'types<br': 1, 'enters': 1, 'Spanish\"': 1, 'format': 1, 'model,': 1, 'adding': 1, 'growth': 1, 'Book:': 1, 'according': 1, 'ninjas,': 1, 'bottom;': 1, 'debugging': 1, 'move': 1, '1900800': 1, 'So': 1, 'feedback': 1, 'aspects': 1, '2\".': 1, 'nearest': 1, 'Nature': 1, 'lang=\"vi\"': 1, 'equals': 1, 'Just': 1, 'float': 1, 'ভাষা)': 1, 'normal': 1, 'Slithers': 1, 'numerics': 1, 'from,': 1, '(notation': 1, 'Oracle': 1, 'Uzbek\"': 1, '(زمانی': 1, '3.6.3': 1, 'vevent\"': 1, 'Schedules': 1, '[n]\"': 1, '(see': 1, 'clear': 1, 'assigning': 1, 'Slice': 1, '[o]\"': 1, '(April': 1, 'testing.': 1, 'core,': 1, 'find': 1, 'title=\"F': 1, 'claim': 1, 'onwards,': 1, '3.3.': 1, 'separate,': 1, 'Ola': 1, 'worse': 1, 'level': 1, 'cite': 1, 'Hylton,': 1, 'goal': 1, 'Arabic\"': 1, 'lang=\"mr\"': 1, 'Croatian\"': 1, 'explicit': 1, 'Creator': 1, 'allow': 1, 'tireless': 1, '[p]\"': 1, 'width=\"1\"': 1, \"project's\": 1, 'v1.0</i>.': 1, 'European': 1, 'Notebook': 1, 'paths.': 1, 'fix': 1, 'monitors': 1, 'lang=\"tg\"': 1, 'Saved': 1, '2020': 1, '(amazing)': 1, 'calling,': 1, 'following': 1, '(1993).': 1, 'emulated': 1, 'Finnish\"': 1, 'lang=\"af\"': 1, 'former': 1, 'Dev': 1, 'Mailing': 1, 'interpret': 1, '(The': 1, '[g]\"': 1, 'rigidly': 1, 'value<sup': 1, 'concepts': 1, '2D': 1, 'lang=\"he\"': 1, 'భాష)': 1, 'among': 1, 'Apple;': 1, 'lang=\"de\"': 1, 'name,': 1, 'brief': 1, 'Python)': 1, 'cache': 1, 'Moore': 1, 'acquiring': 1, 'bytecode': 1, 'declared': 1, 'tests': 1, 'Davis': 1, 'Ltd.': 1, 'massively': 1, '2005,': 1, 'year,': 1, '0]': 1, 'Swedish\"': 1, 'Provider': 1, \"doesn't\": 1, 'v2.6.9': 1, 'lang=\"da\"': 1, '4.0': 1, 'lang=\"zh\"': 1, 'clauses;': 1, 'expected,': 1, 'Marathi\"': 1, '3000': 1, 'Examples': 1, 'anything': 1, 'office': 1, 'fifth': 1, 'lock': 1, 'Android': 1, 'known': 1, 'Tcl': 1, 'raw': 1, '1&#160;–': 1, 'Version': 1, 'twice': 1, 'hinting': 1, 'enforced,': 1, 'Tamil\"': 1, 'Special': 1, 'identical': 1, '(issue': 1, 'framework': 1, 'coding': 1, 'Danish\"': 1, 'index.': 1, 'case,': 1, 'name&gt;': 1, 'keep': 1, 'Steve': 1, 'rich': 1, 'ഭാഷ)': 1, 'deciding': 1, 'Facundo.': 1, 'CPython)': 1, 'unary': 1, 'useful': 1, 'might': 1, 'meaning': 1, 'refine': 1, 'modders': 1, 'another': 1, '.pyc,': 1, 'clever': 1, '2010),': 1, 'brings': 1, 'new-style': 1, 'switched': 1, 'content:': 1, 'Lie': 1, 'exists\"': 1, 'Modules': 1, ':': 1, '2017.<sup': 1, 'terminal.': 1, 'Static': 1, '1991.': 1, 'moreover,': 1, 'to:': 1, 'Burmese\"': 1, 'script': 1, '1.459': 1, 'beginning': 1, 'River,': 1, 'wiki': 1, 'Barry;': 1, 'Max\">3ds': 1, 'mood': 1, '\"Appendix': 1, 'lang=\"uz\"': 1, 'iterated': 1, 'almost': 1, 'patched': 1, '(token': 1, '8': 1, 'Knowing': 1, '2011,': 1, 'change': 1, 'executing': 1, 'handled': 1, 'exuberant': 1, 'idioms': 1, '3.5.<sup': 1, 'pythonic': 1, '&lt;&lt;': 1, 'context': 1, 'Interface': 1, 'words': 1, 'data</a>,': 1, '3\".': 1, 'lang=\"be\"': 1, 'model.': 1, 'shells,': 1, 'Nuitka': 1, 'end.': 1, '(2002).': 1, 'Evan.': 1, 'Daniel': 1, 'IDEs,': 1, 'rebound': 1, 'French\"': 1, 'web\">Lin,': 1, 'Calling': 1, 'course': 1, '(CWI)': 1, 'schedule': 1, '(کمپیوٹر': 1, 'fork': 1, 'Runs': 1, 'ways': 1, '373': 1, 'Thing': 1, 'Boo': 1, 'Help': 1, 'further': 1, 'APIs': 1, 'modify': 1, 'it,': 1, '2.6)': 1, 'Al': 1, 'operates': 1, 'textual': 1, 'right;': 1, 'skipped': 1, 'Shuttle': 1, 'commented': 1, 'life': 1, 'Hindi\"': 1, 'award': 1, '(but': 1, 'Not': 1, 'nearly': 1, 'floor': 1, 'inherited': 1, '(8': 1, 'needed.': 1, 'Tools': 1, '(2011).': 1, 'used.': 1, 'Kurdish\"': 1, '(May': 1, 'Julia': 1, '(2005).': 1, 'relative': 1, '*': 1, 'condition': 1, 'knowing': 1, 'home': 1, 'input': 1, 'direct': 1, 'format\"': 1, 'garbage': 1, 'Inc.': 1, 'Ascher,': 1, 'site': 1, 'Western': 1, 'taking': 1, 'what': 1, 'Naomi': 1, 'needs': 1, 'Names': 1, 'Desktop': 1, 'Essential': 1, 'Both': 1, '11/500': 1, 'contents,': 1, 'creator': 1, 'methods,': 1, 'generally': 1, 'C++\".<sup': 1, 'Bangla\"': 1, 'desire': 1, 'evolved': 1, 'bracket': 1, 'Indexes': 1, 'Before': 1, 'varying': 1, '[and]': 1, '__add__': 1, 'type.': 1, 'objects.': 1, 'Michael': 1, 'Cookbook,': 1, '2.5': 1, 'Sinhala\"': 1, 'jQuery,': 1, 'sources.': 1, 'Inc.</a>,': 1, 'Software.': 1, 'untyped': 1, 'Darryl': 1, 'Chinese': 1, 'lang=\"id\"': 1, 'position:': 1, 'users': 1, 'slightly': 1, 'Niskanen,': 1, 'web\">Eby,': 1, 'forum': 1, \"'=',\": 1, 'Riccardo': 1, 'system.': 1, 'lang=\"ml\"': 1, 'Tim;': 1, 'Saddle': 1, 'closely': 1, 'division.': 1, 'set': 1, '(2004).': 1, 'Mike.': 1, 'logo': 1, 'Using': 1, 'animation': 1, \"'self'\": 1, 'term': 1, 'programs.': 1, 'lang=\"nl\"': 1, 'Lojban\"': 1, 'lang=\"cs\"': 1, 'defines': 1, 'paper': 1, 'generated': 1, '(notably': 1, 'handling': 1, 'birth': 1, '#eee;\"><a': 1, 'Highest': 1, '2.4)': 1, 'Travis': 1, 'argument': 1, '(August': 1, '(PyPI),': 1, 'Best': 1, 'upstream': 1, 'floating': 1, 'altering': 1, '(usually': 1, 'performed': 1, 'Donal': 1, 'Space': 1, 'products': 1, '7': 1, 'week': 1, 'build': 1, 'Serbian\"': 1, 'Gujarati\"': 1, 'paradigms': 1, 'subset': 1, 'gives': 1, 'bound.': 1, 'variables': 1, 'classes,': 1, 'unlimited': 1, 'calls': 1, 'fun': 1, 'help': 1, 'back,': 1, 'Peters,': 1, 'Windows': 1, 'industry,': 1, 'widget': 1, 'any': 1, 'Quality': 1, '3.5),<sup': 1, 'define': 1, 'desktop': 1, 'keywords': 1, 'Per;': 1, 'string)': 1, 'ଭାଷା)': 1, 'Games': 1, 'machine': 1, 'Allen': 1, '(REPL),': 1, '333<sup': 1, \"name's\": 1, 'well,': 1, 'Andreas;': 1, 'default': 1, 'cost': 1, 'shells': 1, '(langage)': 1, 'operator.': 1, 'eggs': 1, 'Java)': 1, 'bringing': 1, 'modeler': 1, '(that': 1, '[h]\"': 1, '[..': 1, 'bound': 1, 'playful': 1, 'rewriting': 1, '498': 1, 'avoid': 1, 'Project': 1, 'six': 1, 'emitted': 1, 'empty': 1, 'lang=\"km\"': 1, 'as:<sup': 1, 'columns': 1, 'ready.': 1, 'Also,': 1, 'Go': 1, '(24': 1, 'lang=\"ja\"': 1, 'lang=\"ar\"': 1, 'intends': 1, 'connected': 1, 'promotes': 1, 'porkbelly': 1, 'Home': 1, 'online': 1, 'clean-up': 1, 'motivated': 1, '2.<sup': 1, 'That’s': 1, 'Method': 1, 'Although': 1, 'contrast,': 1, 'Advanced': 1, 'analogous': 1, '(January': 1, 'Grumpy': 1, '2003,': 1, 'false': 1, 'lang=\"ro\"': 1, 'Czech\"': 1, 'Style': 1, 'citation': 1, 'bind': 1, 'mobile': 1, '2.0\"</a>.': 1, 'exploit': 1, 'image': 1, 'package': 1, 'Codehaus': 1, 'Kazakh\"': 1, 'Beginning': 1, '2010)': 1, 'semantics': 1, 'lang=\"ia\"': 1, 'lang=\"fa\"': 1, 'lang=\"ms\"': 1, '0.75em;': 1, 'Force': 1, '2010.<sup': 1, 'support,': 1, 'lang=\"bg\"': 1, 'routing': 1, 'Canopy': 1, 'Cache': 1, 'Thomas': 1, 'Media,': 1, 'rationale': 1, 'problem': 1, 'reads': 1, 'generic': 1, 'See': 1, 'it</a>\"': 1, 'instance,': 1, 'Making': 1, 'class,': 1, 'around': 1, 'experts,': 1, 'Solving': 1, 'Sugar': 1, 'mutable,': 1, 'decisions': 1, '2008<sup': 1, 'Catalan\"': 1, 'target': 1, 'study': 1, '-total': 1, '[0,': 1, 'derived': 1, '68\">ALGOL': 1, 'FAQ\"</a>.': 1, 'workloads': 1, 'avoiding': 1, 'class=\"\"': 1, '3.3,': 1, 'hard-won': 1, 'device': 1, 'Apple': 1, 'hence': 1, 'LWN.net.': 1, 'course,': 1, 'sunset': 1, '803738913': 1, '(as': 1, 'Slices': 1, 'wrote': 1, 'Think': 1, 'lang=\"sv\"': 1, 'mapper': 1, '[q]\"': 1, 'portal': 1, 'lang=\"az\"': 1, 'possible;': 1, 'next': 1, 'thereby': 1, '4D</a>,': 1, 'product': 1, 'Assamese\"': 1, '4px': 1, '1989<sup': 1, 'To': 1, 'alt=\"Page': 1, '2.6.x<sup': 1, 'releases.': 1, '2nd': 1, 'True': 1, 'powerful': 1, 'भाषा': 1, '[t]\"': 1, 'test': 1, 'Goodger,': 1, 'Italian\"': 1, '6&#160;–': 1, 'one—and': 1, '(2):': 1, 'styles.': 1, 'relations': 1, 'Nan)\"': 1, '(In': 1, '(PEP)': 1, 'maximum': 1, 'be]': 1, 'Sid': 1, 'wanted': 1, 'Mission': 1, 'J.;': 1, 'Unicode': 1, 'Berkeley:': 1, 'focus': 1, '\"with': 1, 'take': 1, 'suffix': 1, '2016).': 1, 'Magnus': 1, 'ability': 1, 'XO,': 1, '18': 1, 'link': 1, 'Created': 1, 'Polish\"': 1, 'ngữ': 1, 'Unlike': 1, 'time</a>;': 1, 'capturing': 1, '[k]\"': 1, '(commonly': 1, 'integer.': 1, 'calling': 1, 'namespace': 1, 'G.': 1, 'files': 1, '11,': 1, 'omitted,': 1, 'terms,': 1, 'lang=\"hr\"': 1, 'phones': 1, 'add': 1, 'FAQ': 1, 'even</a>:': 1, 'Lukewarm': 1, 'timestamp': 1, 'twt': 1, 'fail,': 1, 'Basque\"': 1, 'Trading': 1, 'Enhanced': 1, 'alt=\"This': 1, '31': 1, 'offer': 1, 'signifies': 1, 'session': 1, 'imaginary': 1, 'Reference': 1, 'suited': 1, '380\"</a>.': 1, 't': 1, 'thinking': 1, 'effective': 1, 'bugs': 1, 'hands.': 1, 'Network': 1, 'material': 1, 'addition': 1, 'D.;': 1, 'field,': 1, 'IV': 1, 'CPython.': 1, 'strive': 1, '(intended': 1, 'word': 1, 'different': 1, 'left.<sup': 1, 'lt': 1, 'sequence': 1, 'Parsed': 1, 'differs.': 1, '(Mailing': 1, 'lang=\"ne\"': 1, '.<sup': 1, 'GUI': 1, 'Hebrew\"': 1, '(2nd': 1, '(Min': 1, '\"To': 1, '\"better': 1, 'issue,': 1, 'example)': 1, 'itself),': 1, '(Value': 1, 'Idiomatic': 1, 'previews': 1, 'efficient': 1, '\"L\"': 1, 'p.': 1, 'trademark': 1, '(October': 1, 'natural': 1, 'Jeremy;': 1, 'Lombard\"': 1, '[r]\"': 1})\n"
     ]
    }
   ],
   "source": [
    "from collections import Counter\n",
    "import requests\n",
    "import re\n",
    "def getAlltermsFromUrl(url):\n",
    "    res = requests.get(url)\n",
    "    html = res.text\n",
    "    terms = [term for term in html.split() if not re.findall(r'^\\<', term) and not re.findall(r'\\>$', term) and len(term) < 10]\n",
    "    return terms\n",
    "\n",
    "url = \"https://en.wikipedia.org/wiki/Python_(programming_language)\"\n",
    "terms = getAlltermsFromUrl(url)\n",
    "# len(terms)\n",
    "counter = Counter(terms)\n",
    "counter.get('use')\n",
    "print(counter)"
   ]
  },
  {
   "cell_type": "code",
   "execution_count": 57,
   "metadata": {
    "collapsed": false,
    "deletable": true,
    "editable": true
   },
   "outputs": [
    {
     "data": {
      "text/plain": [
       "[('the', 273),\n",
       " ('of', 250),\n",
       " ('and', 248),\n",
       " ('Python', 199),\n",
       " ('text\"', 186),\n",
       " ('to', 175),\n",
       " ('a', 170),\n",
       " ('in', 148),\n",
       " ('is', 145),\n",
       " ('Retrieved', 118),\n",
       " ('for', 103),\n",
       " ('–', 90),\n",
       " ('web\"><a', 80),\n",
       " ('as', 66),\n",
       " ('with', 65),\n",
       " ('from', 62),\n",
       " ('are', 58),\n",
       " ('by', 51),\n",
       " ('Software', 49),\n",
       " ('on', 46)]"
      ]
     },
     "execution_count": 57,
     "metadata": {},
     "output_type": "execute_result"
    }
   ],
   "source": [
    "sorted(dict(Counter(terms)).items(), key=lambda x:x[1], reverse=True)[:20] \n",
    "##dict have no order, so if tou want to order them, you have to transfer them into tuple list"
   ]
  },
  {
   "cell_type": "code",
   "execution_count": 60,
   "metadata": {
    "collapsed": false,
    "deletable": true,
    "editable": true
   },
   "outputs": [],
   "source": [
    "# json\n",
    "aa = dict(Counter(terms))\n",
    "import json\n",
    "testJson = json.dumps(aa, ensure_ascii=False)\n",
    "# 變成json格式的字串\n",
    "# ascii是encoding\n",
    "file = open('test.json', 'w',encoding='utf8')\n",
    "file.write(testJson)\n",
    "file.close()"
   ]
  },
  {
   "cell_type": "markdown",
   "metadata": {
    "collapsed": false,
    "deletable": true,
    "editable": true
   },
   "source": [
    "# str"
   ]
  },
  {
   "cell_type": "code",
   "execution_count": 56,
   "metadata": {
    "collapsed": false,
    "deletable": true,
    "editable": true
   },
   "outputs": [
    {
     "name": "stdout",
     "output_type": "stream",
     "text": [
      "True\n",
      "True\n"
     ]
    }
   ],
   "source": [
    "# startswith, endswith\n",
    "a = \"aaaab\"\n",
    "b = \"ffdfff  ''fajflkdjl   \"\n",
    "c = 'fajfdsjalkknadn  \"fasfjdkasfkla\"  '\n",
    "print(a.startswith('a'))\n",
    "print(a.endswith('b'))"
   ]
  },
  {
   "cell_type": "code",
   "execution_count": 61,
   "metadata": {
    "collapsed": false,
    "deletable": true,
    "editable": true
   },
   "outputs": [
    {
     "name": "stdout",
     "output_type": "stream",
     "text": [
      "aaaa\n",
      "AAAA\n",
      "False\n",
      "True\n"
     ]
    }
   ],
   "source": [
    "# lower, upper, \n",
    "print(\"AAaa\".lower())\n",
    "print(\"AAaa\".upper())\n",
    "\n",
    "# isapha\n",
    "print('11aa'.isalpha())\n",
    "print('aa'.isalpha())"
   ]
  },
  {
   "cell_type": "code",
   "execution_count": 57,
   "metadata": {
    "collapsed": false,
    "deletable": true,
    "editable": true
   },
   "outputs": [
    {
     "name": "stdout",
     "output_type": "stream",
     "text": [
      "['aaa', 'aaa']\n",
      "aaa aaa\n",
      "['aaa', 'aaa']\n"
     ]
    }
   ],
   "source": [
    "# split\n",
    "print(\"aaa aaa\".split())\n",
    "print(\" \".join(\"aaa aaa\".split()))\n",
    "print(\"aaa/aaa\".split('/'))"
   ]
  },
  {
   "cell_type": "code",
   "execution_count": 74,
   "metadata": {
    "collapsed": false,
    "deletable": true,
    "editable": true
   },
   "outputs": [
    {
     "name": "stdout",
     "output_type": "stream",
     "text": [
      "Matches any character which is not a Unicode decimal digit. This is the opposite of \\d. If the ASCII flag is used this becomes the equivalent of [^0-9] (but the flag affects the entire regular expression, so in such cases using an explicit [^0-9] may be a better choice).\n",
      "Matches any character which is not a Unicode decimal digit. This is the opposite of \\d. If the ASCII flag is used this becomes the equivalent of {^0-9} (but the flag affects the entire regular expression, so in such cases using an explicit {^0-9} may be a better choice).\n"
     ]
    }
   ],
   "source": [
    "# replace\n",
    "testStr = \"Matches any character which is not a Unicode decimal digit. This is the opposite of \\d. If the ASCII flag is used this becomes the equivalent of [^0-9] (but the flag affects the entire regular expression, so in such cases using an explicit [^0-9] may be a better choice).\"\n",
    "print(testStr)\n",
    "print(testStr.replace('[', \"{\").replace(']', \"}\")) # 要換掉的, 要換成的"
   ]
  },
  {
   "cell_type": "code",
   "execution_count": 2,
   "metadata": {
    "collapsed": false,
    "deletable": true,
    "editable": true
   },
   "outputs": [
    {
     "name": "stdout",
     "output_type": "stream",
     "text": [
      "b'\\xe5\\x96\\x86'\n",
      "喆\n",
      "喆\n",
      "b'\\xe5\\xa0\\x83'\n"
     ]
    }
   ],
   "source": [
    "# 編碼encode, decode: cp950, utf8, big5\n",
    "print(\"喆\".encode(\"utf8\"))\n",
    "print(\"喆\".encode(\"utf8\").decode('utf8'))\n",
    "print(b'\\xe5\\x96\\x86'.decode('utf8')) #notice b in front of the string\n",
    "\n",
    "# print(\"喆\".encode(\"big5\"))\n",
    "# print(\"喆\".encode(\"cp950\"))\n",
    "# print(\"堃\".encode(\"utf8\"))"
   ]
  },
  {
   "cell_type": "code",
   "execution_count": 6,
   "metadata": {
    "collapsed": false,
    "deletable": true,
    "editable": true
   },
   "outputs": [
    {
     "name": "stdout",
     "output_type": "stream",
     "text": [
      "I am jeremy.\n",
      "<class 'float'>\n",
      "the score is 3.14\n"
     ]
    },
    {
     "data": {
      "text/plain": [
       "[-1, 1, -1, -1, 1]"
      ]
     },
     "execution_count": 6,
     "metadata": {},
     "output_type": "execute_result"
    }
   ],
   "source": [
    "# format\n",
    "print(\"I am {}.\".format('jeremy'))\n",
    "print(type(3.1415926))\n",
    "print(\"the score is {:.2f}\".format(3.1415926))\n",
    "\n",
    "\n",
    "# if your version == 3.6, you can direct use {var} to format\n",
    "name = \"jeremy\"\n",
    "# print(f\"I am {name}\")\n",
    "\n",
    "from datetime import datetime\n",
    "datetime.now()\n",
    "\n",
    "# bool 布林直 == binary == True(1) or False(0)\n",
    "testli = [0,1,0,0,1]\n",
    "newLi = []\n",
    "for i in testli:\n",
    "    if i == 0:\n",
    "        newLi.append(-1)\n",
    "    else:\n",
    "        newLi.append(i)\n",
    "newLi"
   ]
  },
  {
   "cell_type": "code",
   "execution_count": 7,
   "metadata": {
    "collapsed": false,
    "deletable": true,
    "editable": true
   },
   "outputs": [
    {
     "name": "stdout",
     "output_type": "stream",
     "text": [
      "True\n",
      "True\n",
      "True\n",
      "True\n",
      "True\n",
      "False\n",
      "True\n",
      "False\n",
      "False\n",
      "True\n",
      "True\n",
      "------------------------\n"
     ]
    }
   ],
   "source": [
    "# re\n",
    "import re\n",
    "# regular expression: 比對字串\n",
    "\n",
    "## match char\n",
    "# \".\" => any char\n",
    "# \"\\\\\"=> \"\\\"\n",
    "# \"\\t\" => tab click\n",
    "# \"\\n\" => change line\n",
    "# \"\\d\" => number\n",
    "# escape char: \\=>\\\\, .=>\\., {+.\\{\n",
    "\n",
    "print(bool(re.match(r'1',\"123\")))\n",
    "\n",
    "\n",
    "print(bool(re.match(r'.',\"123\")))\n",
    "print(bool(re.match(r'.',\"abcd\")))\n",
    "print(bool(re.match(r'.',\"甲乙丙\")))\n",
    "\n",
    "print(bool(re.match(r'\\d',\"1\")))\n",
    "print(bool(re.match(r'\\d',\"abcd\")))\n",
    "\n",
    "print(bool(re.match(r'[a-z, A-Z]',\"abcd\")))\n",
    "print(bool(re.match(r'[a-z]',\"ABCD\")))\n",
    "print(bool(re.match(r'[a-z, A-Z]',\"你好\")))\n",
    "print(bool(re.match(r'[\\u4e00-\\u9fa5]+',\"你好\")))\n",
    "print(bool(re.match(r'.+[\\u4e00-\\u9fa5]',\"abc你\")))\n",
    "\n",
    "print(\"------------------------\")\n"
   ]
  },
  {
   "cell_type": "code",
   "execution_count": 15,
   "metadata": {
    "collapsed": false,
    "deletable": true,
    "editable": true
   },
   "outputs": [
    {
     "name": "stdout",
     "output_type": "stream",
     "text": [
      "True\n",
      "False\n",
      "------------------------\n",
      "False\n",
      "True\n",
      "------------------------\n",
      "False\n",
      "True\n",
      "True\n",
      "------------------------\n",
      "True\n"
     ]
    }
   ],
   "source": [
    "# start, end\n",
    "# start from a\n",
    "print(bool(re.match(r'^a',\"aaa\")))\n",
    "print(bool(re.match(r'^a',\"baa\")))\n",
    "print(\"------------------------\")\n",
    "# end with a\n",
    "print(bool(re.match(r'b$',\"aab\")))\n",
    "print(bool(re.findall(r'b$',\"aab\")))\n",
    "print(\"------------------------\")\n",
    "\n",
    "# char numbers: +, {m,n}\n",
    "print(bool(re.match(r'.b$',\"aab\")))\n",
    "print(bool(re.match(r'..b$',\"aab\")))\n",
    "print(bool(re.match(r'.+b$',\"aab\")))\n",
    "print(\"------------------------\")\n",
    "\n",
    "print(bool(re.match(r'.+[\\u4e00-\\u9fa5]{1,3}',\"abc你你你你你你你你\")))\n"
   ]
  },
  {
   "cell_type": "code",
   "execution_count": 17,
   "metadata": {
    "collapsed": false,
    "deletable": true,
    "editable": true
   },
   "outputs": [
    {
     "name": "stdout",
     "output_type": "stream",
     "text": [
      "Enter string to test: aaaa1111\n",
      "success\n"
     ]
    }
   ],
   "source": [
    "import re\n",
    "password = input(\"Enter string to test: \")\n",
    "if re.match(r'[A-Za-z0-9@#$%^&+=]{8,}', password):\n",
    "    print('success')\n",
    "else:\n",
    "    print(\"fail\")"
   ]
  },
  {
   "cell_type": "code",
   "execution_count": 25,
   "metadata": {
    "collapsed": false,
    "deletable": true,
    "editable": true
   },
   "outputs": [
    {
     "name": "stdout",
     "output_type": "stream",
     "text": [
      "['drink tea', 'beverage company']\n",
      "1\n",
      "['drink tea\" \"beverage company']\n",
      "1\n",
      "[' ']\n",
      "['drink tea']\n",
      "42898\n"
     ]
    }
   ],
   "source": [
    "import re #regular expression 正則表達式(regex, regexp, re), 比對字串(取出)\n",
    "print(re.findall(r\"\\\"(.+?)\\\"\", '\"drink tea\" \"beverage company\" beverage '))\n",
    "print(len(re.findall(r'\\{(.+?)\\}', '{drink tea} \"beverage company\" beverage ')))\n",
    "\n",
    "print(re.findall(r\"\\\"(.+)\\\"\", '\"drink tea\" \"beverage company\" beverage '))\n",
    "print(len(re.findall(r\"\\\"(.+)\\\"\", '\"drink tea\" \"beverage company\" beverage ')))\n",
    "\n",
    "print(re.findall(r\"\\\"(.)\\\"\", '\"drink tea\" \"beverage company\" beverage '))\n",
    "\n",
    "# re.search()\n",
    "# re.match()\n",
    "# re.findall()\n",
    "\n",
    "\n",
    "print(re.findall(r'\\{(.+?)\\}', '{drink tea} \"beverage company\" beverage '))\n",
    "\n",
    "file = open(\"..\\\\FileOperation\\\\scrapy.log\", 'r', encoding='utf8')\n",
    "wantedLine = []\n",
    "for line in file:\n",
    "    if re.findall(\"\\[(.+?)\\]\", line):\n",
    "        wantedLine.append(re.findall(\"\\[(.+?)\\]\", line))\n",
    "print(len(wantedLine))"
   ]
  },
  {
   "cell_type": "code",
   "execution_count": 28,
   "metadata": {
    "collapsed": false
   },
   "outputs": [
    {
     "data": {
      "text/plain": [
       "[['urllib3.connectionpool'],\n",
       " ['chardet.charsetprober'],\n",
       " ['chardet.charsetprober'],\n",
       " ['chardet.charsetprober'],\n",
       " ['chardet.charsetprober'],\n",
       " ['chardet.charsetprober'],\n",
       " ['chardet.charsetprober'],\n",
       " ['chardet.charsetprober'],\n",
       " ['chardet.charsetprober'],\n",
       " ['chardet.charsetprober'],\n",
       " ['chardet.charsetprober'],\n",
       " ['chardet.charsetprober'],\n",
       " ['chardet.charsetprober'],\n",
       " ['chardet.charsetprober'],\n",
       " ['chardet.charsetprober'],\n",
       " ['chardet.charsetprober'],\n",
       " ['chardet.charsetprober'],\n",
       " ['chardet.charsetprober'],\n",
       " ['chardet.charsetprober'],\n",
       " ['chardet.charsetprober'],\n",
       " ['chardet.charsetprober'],\n",
       " ['chardet.charsetprober'],\n",
       " ['chardet.charsetprober'],\n",
       " ['chardet.charsetprober'],\n",
       " ['chardet.charsetprober'],\n",
       " ['chardet.charsetprober'],\n",
       " ['chardet.charsetprober'],\n",
       " ['chardet.charsetprober'],\n",
       " ['chardet.charsetprober'],\n",
       " ['chardet.charsetprober'],\n",
       " ['chardet.charsetprober'],\n",
       " ['chardet.charsetprober'],\n",
       " ['chardet.charsetprober'],\n",
       " ['chardet.charsetprober'],\n",
       " ['chardet.charsetprober'],\n",
       " ['chardet.charsetprober'],\n",
       " ['urllib3.connectionpool'],\n",
       " ['urllib3.connectionpool'],\n",
       " ['chardet.charsetprober'],\n",
       " ['chardet.charsetprober'],\n",
       " ['chardet.charsetprober'],\n",
       " ['chardet.charsetprober'],\n",
       " ['chardet.charsetprober'],\n",
       " ['chardet.charsetprober'],\n",
       " ['chardet.charsetprober'],\n",
       " ['chardet.charsetprober'],\n",
       " ['chardet.charsetprober'],\n",
       " ['chardet.charsetprober'],\n",
       " ['chardet.charsetprober'],\n",
       " ['chardet.charsetprober'],\n",
       " ['chardet.charsetprober'],\n",
       " ['chardet.charsetprober'],\n",
       " ['chardet.charsetprober'],\n",
       " ['chardet.charsetprober'],\n",
       " ['chardet.charsetprober'],\n",
       " ['chardet.charsetprober'],\n",
       " ['chardet.charsetprober'],\n",
       " ['chardet.charsetprober'],\n",
       " ['chardet.charsetprober'],\n",
       " ['chardet.charsetprober'],\n",
       " ['chardet.charsetprober'],\n",
       " ['chardet.charsetprober'],\n",
       " ['chardet.charsetprober'],\n",
       " ['chardet.charsetprober'],\n",
       " ['chardet.charsetprober'],\n",
       " ['chardet.charsetprober'],\n",
       " ['chardet.charsetprober'],\n",
       " ['chardet.charsetprober'],\n",
       " ['chardet.charsetprober'],\n",
       " ['chardet.charsetprober'],\n",
       " ['chardet.charsetprober'],\n",
       " ['chardet.charsetprober'],\n",
       " ['chardet.charsetprober'],\n",
       " ['chardet.charsetprober'],\n",
       " ['chardet.charsetprober'],\n",
       " ['chardet.charsetprober'],\n",
       " ['chardet.charsetprober'],\n",
       " ['chardet.charsetprober'],\n",
       " ['chardet.charsetprober'],\n",
       " ['urllib3.connectionpool'],\n",
       " ['urllib3.connectionpool'],\n",
       " ['chardet.charsetprober'],\n",
       " ['chardet.charsetprober'],\n",
       " ['chardet.charsetprober'],\n",
       " ['chardet.charsetprober'],\n",
       " ['chardet.charsetprober'],\n",
       " ['chardet.charsetprober'],\n",
       " ['chardet.charsetprober'],\n",
       " ['chardet.charsetprober'],\n",
       " ['chardet.charsetprober']]"
      ]
     },
     "execution_count": 28,
     "metadata": {},
     "output_type": "execute_result"
    }
   ],
   "source": []
  },
  {
   "cell_type": "code",
   "execution_count": 19,
   "metadata": {
    "collapsed": false
   },
   "outputs": [
    {
     "data": {
      "text/plain": [
       "['aaa', 'bbb']"
      ]
     },
     "execution_count": 19,
     "metadata": {},
     "output_type": "execute_result"
    }
   ],
   "source": [
    "a = '\"drink tea\" \"beverage company\" beverage '\n",
    "# a.split(\"\\\"\")\n",
    "# for i in a:\n",
    "#     print(i)\n",
    "\n",
    "['aaa', \"bbb\"]"
   ]
  },
  {
   "cell_type": "markdown",
   "metadata": {
    "collapsed": true,
    "deletable": true,
    "editable": true
   },
   "source": [
    "# File Reader(txt, csv, json)"
   ]
  },
  {
   "cell_type": "code",
   "execution_count": 6,
   "metadata": {
    "collapsed": false,
    "deletable": true,
    "editable": true
   },
   "outputs": [
    {
     "name": "stdout",
     "output_type": "stream",
     "text": [
      "0\n"
     ]
    }
   ],
   "source": [
    "import os\n",
    "# file = open('..\\\\FIleOperation\\\\test.txt', 'w', encoding='utf8')\n",
    "file = open(os.path.join('..','FIleOperation', 'test.txt'), 'r')\n",
    "print(len(file.read()))\n",
    "file.close()\n",
    "# url = \"https://en.wikipedia.org/wiki/Python_(programming_language)\"\n",
    "# file.write(\" \".join(getAlltermsFromUrl(url)))\n",
    "# file.close()"
   ]
  },
  {
   "cell_type": "code",
   "execution_count": 14,
   "metadata": {
    "collapsed": false,
    "deletable": true,
    "editable": true
   },
   "outputs": [
    {
     "name": "stdout",
     "output_type": "stream",
     "text": [
      "['scrapy.log', 'table.csv', 'table.json', 'table1.json', 'test.csv', 'test.json', 'test.txt', 'test1.txt']\n",
      "scrapy.log\n",
      "---------------\n",
      "---------------\n",
      "table.csv\n",
      "會計項目,2017年01月01日至2017年06月30日,2016年01月01日至2016年06月30日\n",
      "現金流量表,,\n",
      "營業活動之現金流量－間接法,,\n",
      "繼續營業單位稅前淨利（淨損）,309336,3\n",
      "---------------\n",
      "---------------\n",
      "table.json\n",
      "{\"1\":{\"會計項目\":\"現金流量表\",\"2017年01月01日至2017年06月30日\":null,\"2016年01月01日至2016年06月30日\":null},\"2\":{\"會計項目\":\"營業活\n",
      "---------------\n",
      "---------------\n",
      "table1.json\n",
      "{\"2016\\u5e7401\\u670801\\u65e5\\u81f32016\\u5e7406\\u670830\\u65e5\": {\"\\u6295\\u8cc7\\u6d3b\\u52d5\\u4e4b\\u6de\n",
      "---------------\n",
      "---------------\n",
      "test.csv\n",
      "A & P Andreou & Paraskevaids Entrprs PCL,\n",
      "A.G. Barr plc,\n",
      "Arca Continental SAB de CV,\n",
      "Booker Group Pl\n",
      "---------------\n",
      "---------------\n",
      "test.json\n",
      "[\n",
      "{\"for_dept\": \"\\u4e2d\\u4e00\\uff21\", \"credits\": 2.0, \"note\": null, \"obligatory_tf\": true, \"title\": \"\n",
      "---------------\n",
      "---------------\n",
      "test.txt\n",
      "American Airlines has airline tickets, cheap flights, vacation packages and American Airlines AAdvan\n",
      "---------------\n",
      "---------------\n",
      "test1.txt\n",
      "Architectural Association School of Architecture's website homepage is the online entrance into the \n",
      "---------------\n",
      "---------------\n"
     ]
    }
   ],
   "source": [
    "import os\n",
    "files = os.listdir(\"..\\\\FileOperation\")\n",
    "print(files)\n",
    "for file in files:\n",
    "    print(file)\n",
    "    try:\n",
    "        readFile = open(\"..\\\\FileOperation\\\\\"+file, 'r')\n",
    "        filetxt = readFile.read()[:100]\n",
    "        print(filetxt)\n",
    "    except:\n",
    "        pass\n",
    "    print(\"---------------\")\n",
    "    print(\"---------------\")"
   ]
  },
  {
   "cell_type": "code",
   "execution_count": 22,
   "metadata": {
    "collapsed": false,
    "deletable": true,
    "editable": true
   },
   "outputs": [],
   "source": [
    "file = open(\"..\\\\FIleOperation\\\\test2.txt\", 'w', encoding='utf8')\n",
    "file.write(\"AAA\")\n",
    "for i in range(10):\n",
    "    file.write(str(i) + '\\n')\n",
    "file.close()"
   ]
  },
  {
   "cell_type": "code",
   "execution_count": 1,
   "metadata": {
    "collapsed": false,
    "deletable": true,
    "editable": true,
    "scrolled": true
   },
   "outputs": [
    {
     "name": "stdout",
     "output_type": "stream",
     "text": [
      "['scrapy.spidermiddlewares.httperror.HttpErrorMiddleware',\n",
      "\n",
      "2017-08-17 08:33:11 [chardet.charsetprober] DEBUG: SHIFT_JIS Japanese prober hit error at byte 894\n",
      "\n",
      "2017-08-17 08:33:11 [chardet.charsetprober] DEBUG: EUC-JP Japanese prober hit error at byte 109\n",
      "\n",
      "2017-08-17 08:33:11 [chardet.charsetprober] DEBUG: EUC-KR Korean prober hit error at byte 109\n",
      "\n",
      "2017-08-17 08:33:11 [chardet.charsetprober] DEBUG: CP949 Korean prober hit error at byte 759\n",
      "\n",
      "2017-08-17 08:33:15 [chardet.charsetprober] DEBUG: SHIFT_JIS Japanese prober hit error at byte 894\n",
      "\n",
      "2017-08-17 08:33:15 [chardet.charsetprober] DEBUG: EUC-JP Japanese prober hit error at byte 109\n",
      "\n",
      "2017-08-17 08:33:15 [chardet.charsetprober] DEBUG: EUC-KR Korean prober hit error at byte 109\n",
      "\n",
      "2017-08-17 08:33:15 [chardet.charsetprober] DEBUG: CP949 Korean prober hit error at byte 759\n",
      "\n",
      "2017-08-17 08:33:19 [chardet.charsetprober] DEBUG: SHIFT_JIS Japanese prober hit error at byte 894\n",
      "\n",
      "2017-08-17 08:33:19 [chardet.charsetprober] DEBUG: EUC-JP Japanese prober hit error at byte 109\n",
      "\n",
      "2017-08-17 08:33:19 [chardet.charsetprober] DEBUG: EUC-KR Korean prober hit error at byte 109\n",
      "\n",
      "2017-08-17 08:33:19 [chardet.charsetprober] DEBUG: CP949 Korean prober hit error at byte 759\n",
      "\n",
      "2017-08-17 08:33:21 [chardet.charsetprober] DEBUG: SHIFT_JIS Japanese prober hit error at byte 894\n",
      "\n",
      "2017-08-17 08:33:21 [chardet.charsetprober] DEBUG: EUC-JP Japanese prober hit error at byte 109\n",
      "\n",
      "2017-08-17 08:33:21 [chardet.charsetprober] DEBUG: EUC-KR Korean prober hit error at byte 109\n",
      "\n",
      "2017-08-17 08:33:21 [chardet.charsetprober] DEBUG: CP949 Korean prober hit error at byte 759\n",
      "\n",
      "2017-08-17 08:33:23 [chardet.charsetprober] DEBUG: SHIFT_JIS Japanese prober hit error at byte 894\n",
      "\n",
      "2017-08-17 08:33:23 [chardet.charsetprober] DEBUG: EUC-JP Japanese prober hit error at byte 109\n",
      "\n",
      "2017-08-17 08:33:23 [chardet.charsetprober] DEBUG: EUC-KR Korean prober hit error at byte 109\n",
      "\n",
      "2017-08-17 08:33:23 [chardet.charsetprober] DEBUG: CP949 Korean prober hit error at byte 759\n",
      "\n",
      "2017-08-17 08:33:28 [chardet.charsetprober] DEBUG: SHIFT_JIS Japanese prober hit error at byte 894\n",
      "\n",
      "2017-08-17 08:33:28 [chardet.charsetprober] DEBUG: EUC-JP Japanese prober hit error at byte 109\n",
      "\n",
      "2017-08-17 08:33:28 [chardet.charsetprober] DEBUG: EUC-KR Korean prober hit error at byte 109\n",
      "\n",
      "2017-08-17 08:33:28 [chardet.charsetprober] DEBUG: CP949 Korean prober hit error at byte 759\n",
      "\n",
      "2017-08-17 08:33:30 [chardet.charsetprober] DEBUG: SHIFT_JIS Japanese prober hit error at byte 894\n",
      "\n",
      "2017-08-17 08:33:30 [chardet.charsetprober] DEBUG: EUC-JP Japanese prober hit error at byte 109\n",
      "\n",
      "2017-08-17 08:33:30 [chardet.charsetprober] DEBUG: EUC-KR Korean prober hit error at byte 109\n",
      "\n",
      "2017-08-17 08:33:30 [chardet.charsetprober] DEBUG: CP949 Korean prober hit error at byte 759\n",
      "\n",
      "2017-08-17 08:33:33 [chardet.charsetprober] DEBUG: SHIFT_JIS Japanese prober hit error at byte 901\n",
      "\n",
      "2017-08-17 08:33:33 [chardet.charsetprober] DEBUG: EUC-JP Japanese prober hit error at byte 109\n",
      "\n",
      "2017-08-17 08:33:34 [chardet.charsetprober] DEBUG: EUC-KR Korean prober hit error at byte 109\n",
      "\n",
      "2017-08-17 08:33:34 [chardet.charsetprober] DEBUG: CP949 Korean prober hit error at byte 759\n",
      "\n",
      " 'downloader/exception_type_count/twisted.internet.error.TimeoutError': 2,\n",
      "\n",
      " 'retry/reason_count/twisted.internet.error.TimeoutError': 2,\n",
      "\n"
     ]
    }
   ],
   "source": [
    "file = open(\"..\\\\FIleOperation\\\\scrapy.log\", 'r', encoding='utf8')\n",
    "\n",
    "for line in file:\n",
    "    if 'error'in line:\n",
    "        print(line)\n",
    "\n",
    "file.close()"
   ]
  },
  {
   "cell_type": "code",
   "execution_count": 2,
   "metadata": {
    "collapsed": false,
    "deletable": true,
    "editable": true,
    "scrolled": true
   },
   "outputs": [
    {
     "data": {
      "text/html": [
       "<div>\n",
       "<style>\n",
       "    .dataframe thead tr:only-child th {\n",
       "        text-align: right;\n",
       "    }\n",
       "\n",
       "    .dataframe thead th {\n",
       "        text-align: left;\n",
       "    }\n",
       "\n",
       "    .dataframe tbody tr th {\n",
       "        vertical-align: top;\n",
       "    }\n",
       "</style>\n",
       "<table border=\"1\" class=\"dataframe\">\n",
       "  <thead>\n",
       "    <tr style=\"text-align: right;\">\n",
       "      <th></th>\n",
       "      <th>0</th>\n",
       "      <th>1</th>\n",
       "      <th>2</th>\n",
       "    </tr>\n",
       "  </thead>\n",
       "  <tbody>\n",
       "    <tr>\n",
       "      <th>0</th>\n",
       "      <td>會計項目</td>\n",
       "      <td>2017年01月01日至2017年06月30日</td>\n",
       "      <td>2016年01月01日至2016年06月30日</td>\n",
       "    </tr>\n",
       "    <tr>\n",
       "      <th>1</th>\n",
       "      <td>現金流量表</td>\n",
       "      <td>NaN</td>\n",
       "      <td>NaN</td>\n",
       "    </tr>\n",
       "    <tr>\n",
       "      <th>2</th>\n",
       "      <td>營業活動之現金流量－間接法</td>\n",
       "      <td>NaN</td>\n",
       "      <td>NaN</td>\n",
       "    </tr>\n",
       "    <tr>\n",
       "      <th>3</th>\n",
       "      <td>繼續營業單位稅前淨利（淨損）</td>\n",
       "      <td>309336</td>\n",
       "      <td>318388</td>\n",
       "    </tr>\n",
       "    <tr>\n",
       "      <th>4</th>\n",
       "      <td>本期稅前淨利（淨損）</td>\n",
       "      <td>309336</td>\n",
       "      <td>318388</td>\n",
       "    </tr>\n",
       "  </tbody>\n",
       "</table>\n",
       "</div>"
      ],
      "text/plain": [
       "                0                        1                        2\n",
       "0            會計項目  2017年01月01日至2017年06月30日  2016年01月01日至2016年06月30日\n",
       "1           現金流量表                      NaN                      NaN\n",
       "2   營業活動之現金流量－間接法                      NaN                      NaN\n",
       "3  繼續營業單位稅前淨利（淨損）                   309336                   318388\n",
       "4      本期稅前淨利（淨損）                   309336                   318388"
      ]
     },
     "execution_count": 2,
     "metadata": {},
     "output_type": "execute_result"
    }
   ],
   "source": [
    "import pandas as pd\n",
    "df = pd.read_html(\"http://mops.twse.com.tw/server-java/t164sb01?step=1&CO_ID=4104&SYEAR=2017&SSEASON=2&REPORT_ID=C\", encoding='big5')[3]\n",
    "df.head()\n",
    "# df.to_csv('FileOperation\\\\table.csv', header=None, index=False)\n",
    "\n",
    "# df.columns = df.xs(0)\n",
    "# df.drop(0, inplace=True)\n",
    "# df.T.to_json(\"FileOperation\\\\table1.json\", force_ascii=None)"
   ]
  },
  {
   "cell_type": "code",
   "execution_count": null,
   "metadata": {
    "collapsed": true,
    "deletable": true,
    "editable": true
   },
   "outputs": [],
   "source": [
    "#json\n",
    "[\n",
    "{\n",
    "    'name':\"jeremy\",\n",
    "    'old':24,\n",
    "    '.....'\n",
    "    'assets':{'house':1,'car':2,'finanacial':{'bonds':10000,'insurance':20000}}\n",
    "},\n",
    "{\n",
    "    'name':\"jeremy\",\n",
    "    'old':24,\n",
    "    '.....'\n",
    "}\n",
    "]\n",
    "#xml\n",
    "<person>\n",
    "    <name>jeremy</name>\n",
    "    <old>24</old>\n",
    "</person>\n",
    "<person>\n",
    "    <name>jeremy</name>\n",
    "    <old>24</old>\n",
    "</person>\n",
    "<person>\n",
    "    <name>jeremy</name>\n",
    "    <old>24</old>\n",
    "</person>"
   ]
  },
  {
   "cell_type": "code",
   "execution_count": 46,
   "metadata": {
    "collapsed": false,
    "deletable": true,
    "editable": true
   },
   "outputs": [],
   "source": [
    "import json\n",
    "# df = pd.read_html(\"http://mops.twse.com.tw/server-java/t164sb01?step=1&CO_ID=4104&SYEAR=2017&SSEASON=2&REPORT_ID=C\", encoding='big5')[3]\n",
    "dist2017 = {}\n",
    "dist2016 = {}\n",
    "\n",
    "for row in df.iterrows():\n",
    "    if pd.notnull(row[1][1]) and row[1][0] != '會計項目':\n",
    "        dist2017[row[1][0]] = row[1][1]\n",
    "        dist2016[row[1][0]] = row[1][2]\n",
    "\n",
    "tableDist = {\n",
    "    '2017年01月01日至2017年06月30日':dist2017,\n",
    "    '2016年01月01日至2016年06月30日':dist2016\n",
    "}\n",
    "\n",
    "with open('FileOperation\\\\table1.json', 'w', encoding='utf8') as f:\n",
    "    json.dump(tableDist, f)"
   ]
  },
  {
   "cell_type": "code",
   "execution_count": 54,
   "metadata": {
    "collapsed": false,
    "deletable": true,
    "editable": true
   },
   "outputs": [
    {
     "name": "stdout",
     "output_type": "stream",
     "text": [
      "2\n",
      "dict_keys(['2017年01月01日至2017年06月30日', '2016年01月01日至2016年06月30日'])\n"
     ]
    }
   ],
   "source": [
    "file = open('FileOperation\\\\table1.json', encoding='utf8')\n",
    "tableJson = json.loads(file.read())\n",
    "print(len(tableJson))\n",
    "print(tableJson.keys())"
   ]
  },
  {
   "cell_type": "code",
   "execution_count": null,
   "metadata": {
    "collapsed": true,
    "deletable": true,
    "editable": true
   },
   "outputs": [],
   "source": []
  }
 ],
 "metadata": {
  "kernelspec": {
   "display_name": "Python 3",
   "language": "python",
   "name": "python3"
  },
  "language_info": {
   "codemirror_mode": {
    "name": "ipython",
    "version": 3
   },
   "file_extension": ".py",
   "mimetype": "text/x-python",
   "name": "python",
   "nbconvert_exporter": "python",
   "pygments_lexer": "ipython3",
   "version": "3.5.3"
  }
 },
 "nbformat": 4,
 "nbformat_minor": 2
}
