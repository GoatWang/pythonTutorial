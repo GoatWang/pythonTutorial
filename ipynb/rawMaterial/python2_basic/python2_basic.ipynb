{
 "cells": [
  {
   "cell_type": "markdown",
   "metadata": {
    "deletable": true,
    "editable": true
   },
   "source": [
    "# int"
   ]
  },
  {
   "cell_type": "code",
   "execution_count": 1,
   "metadata": {
    "collapsed": false,
    "deletable": true,
    "editable": true
   },
   "outputs": [
    {
     "name": "stdout",
     "output_type": "stream",
     "text": [
      "0b1100100\n",
      "0x64\n",
      "3\n",
      "3\n"
     ]
    }
   ],
   "source": [
    "print(bin(100))  ##二進位(binary)\n",
    "print(hex(100))  ##十六進位(hexadecimal) \n",
    "print(int(3.14))\n",
    "print(int(3.88))  ##自動捨去法"
   ]
  },
  {
   "cell_type": "markdown",
   "metadata": {
    "deletable": true,
    "editable": true
   },
   "source": [
    "# bool"
   ]
  },
  {
   "cell_type": "code",
   "execution_count": 2,
   "metadata": {
    "collapsed": false,
    "deletable": true,
    "editable": true
   },
   "outputs": [
    {
     "name": "stdout",
     "output_type": "stream",
     "text": [
      "False\n",
      "False\n"
     ]
    }
   ],
   "source": [
    "print(True is 1)\n",
    "print(False is 0)"
   ]
  },
  {
   "cell_type": "code",
   "execution_count": 3,
   "metadata": {
    "collapsed": false,
    "deletable": true,
    "editable": true
   },
   "outputs": [
    {
     "name": "stdout",
     "output_type": "stream",
     "text": [
      "True\n",
      "True\n"
     ]
    }
   ],
   "source": [
    "print(True == 1)\n",
    "print(False == 0)"
   ]
  },
  {
   "cell_type": "markdown",
   "metadata": {
    "deletable": true,
    "editable": true
   },
   "source": [
    "# 條件運算式"
   ]
  },
  {
   "cell_type": "code",
   "execution_count": 4,
   "metadata": {
    "collapsed": false,
    "deletable": true,
    "editable": true
   },
   "outputs": [
    {
     "name": "stdout",
     "output_type": "stream",
     "text": [
      "3\n",
      "3\n",
      "4\n",
      "4\n"
     ]
    }
   ],
   "source": [
    "x =3 if 1 else 4\n",
    "print(x)\n",
    "x =3 if True else 4\n",
    "print(x)\n",
    "x =3 if 0 else 4\n",
    "print(x)\n",
    "x =3 if False else 4\n",
    "print(x)"
   ]
  },
  {
   "cell_type": "markdown",
   "metadata": {
    "deletable": true,
    "editable": true
   },
   "source": [
    "# Fraction"
   ]
  },
  {
   "cell_type": "code",
   "execution_count": 5,
   "metadata": {
    "collapsed": false,
    "deletable": true,
    "editable": true
   },
   "outputs": [
    {
     "name": "stdout",
     "output_type": "stream",
     "text": [
      "1/2\n",
      "3537118815677477/1125899906842624\n",
      "6368089873101881/4503599627370496\n"
     ]
    }
   ],
   "source": [
    "from fractions import *\n",
    "F = Fraction\n",
    "print(F(1,2))\n",
    "print(F(3.1415926))\n",
    "print(F(1.414))"
   ]
  },
  {
   "cell_type": "markdown",
   "metadata": {
    "deletable": true,
    "editable": true
   },
   "source": [
    "# List"
   ]
  },
  {
   "cell_type": "code",
   "execution_count": 6,
   "metadata": {
    "collapsed": false,
    "deletable": true,
    "editable": true
   },
   "outputs": [
    {
     "data": {
      "text/plain": [
       "[2, 3]"
      ]
     },
     "execution_count": 6,
     "metadata": {},
     "output_type": "execute_result"
    }
   ],
   "source": [
    "# list announcement, append, pop\n",
    "mylist = []\n",
    "mylist.append(1)\n",
    "mylist.append(2)\n",
    "mylist.append(3)\n",
    "mylist.pop(0)  ## drop obj in the index\n",
    "mylist"
   ]
  },
  {
   "cell_type": "code",
   "execution_count": 7,
   "metadata": {
    "collapsed": false,
    "deletable": true,
    "editable": true
   },
   "outputs": [
    {
     "name": "stdout",
     "output_type": "stream",
     "text": [
      "[0, 1, 2, 3, 4, 5, 6, 7, 8, 9]\n",
      "[0, 1]\n",
      "[2, 3, 4, 5, 6, 7, 8, 9]\n",
      "[7, 8, 9]\n",
      "[0, 1, 2, 3, 4]\n"
     ]
    }
   ],
   "source": [
    "## index slicing\n",
    "mylist = list(range(10))\n",
    "print(mylist)\n",
    "print(mylist[:2])\n",
    "print(mylist[2:])\n",
    "print(mylist[-3:])\n",
    "print(mylist[:-5])"
   ]
  },
  {
   "cell_type": "code",
   "execution_count": 8,
   "metadata": {
    "collapsed": false,
    "deletable": true,
    "editable": true
   },
   "outputs": [
    {
     "name": "stdout",
     "output_type": "stream",
     "text": [
      "[0, 1, 2, 3, 4, 5, 6, 7, 8, 9, [100, 100, 100, -1, -99]]\n",
      "[100, 100, 100, -1, -99]\n",
      "-------------------\n",
      "[0, 1, 2, 3, 4, 5, 6, 7, 8, 9, 100, 100, 100, -1, -99]\n",
      "-------------------\n",
      "[0, 1, 2, 3, 4, 5, 6, 7, 8, 9, 100, 100, 100, -1, -99]\n",
      "-------------------\n",
      "[0, 0, 0, 0, 0, 0, 0, 0, 0, 0, 0, 0, 0, 0, 0, 0, 0, 0, 0, 0, 0, 0, 0, 0, 0, 0, 0, 0, 0, 0, 0, 0, 0, 0, 0, 0, 0, 0, 0, 0, 0, 0, 0, 0, 0, 0, 0, 0, 0, 0, 0, 0, 0, 0, 0, 0, 0, 0, 0, 0, 0, 0, 0, 0, 0, 0, 0, 0, 0, 0, 0, 0, 0, 0, 0, 0, 0, 0, 0, 0, 0, 0, 0, 0, 0, 0, 0, 0, 0, 0, 0, 0, 0, 0, 0, 0, 0, 0, 0, 0]\n",
      "-------------------\n"
     ]
    }
   ],
   "source": [
    "# append extend\n",
    "mylist = list(range(10))\n",
    "mylist.append([100, 100, 100, -1, -99])\n",
    "print(mylist)\n",
    "print(mylist[10])\n",
    "print(\"-------------------\")\n",
    "\n",
    "mylist = list(range(10))\n",
    "mylist.extend([100, 100, 100, -1, -99])\n",
    "print(mylist)\n",
    "print(\"-------------------\")\n",
    "\n",
    "mylist = list(range(10))\n",
    "mylist = mylist + [100, 100, 100, -1, -99]\n",
    "print(mylist)\n",
    "print(\"-------------------\")\n",
    "\n",
    "mylist = [0] * 100\n",
    "print(mylist)\n",
    "print(\"-------------------\")"
   ]
  },
  {
   "cell_type": "code",
   "execution_count": 9,
   "metadata": {
    "collapsed": false,
    "deletable": true,
    "editable": true
   },
   "outputs": [
    {
     "name": "stdout",
     "output_type": "stream",
     "text": [
      "[-99, -1, 0, 1, 2, 3, 4, 5, 6, 7, 8, 9, 100, 100, 100]\n",
      "[100, 100, 100, 9, 8, 7, 6, 5, 4, 3, 2, 1, 0, -1, -99]\n",
      "3\n",
      "10\n"
     ]
    }
   ],
   "source": [
    "# sort, count, min, max, len, inedx\n",
    "mylist = list(range(10))\n",
    "mylist = mylist + [100, 100, 100, -1, -99]\n",
    "print(sorted(mylist))\n",
    "print(sorted(mylist, reverse = True))\n",
    "print(mylist.count(100))  #有幾個100\n",
    "print(mylist.index(100))  # 第一次出現的索引值"
   ]
  },
  {
   "cell_type": "code",
   "execution_count": 10,
   "metadata": {
    "collapsed": false,
    "deletable": true,
    "editable": true
   },
   "outputs": [
    {
     "name": "stdout",
     "output_type": "stream",
     "text": [
      "[0, 1, 2, 3, 4, 5, 6, 7, 8, 9, 100, -1, -99]\n",
      "[0, 1, 2, 3, 4, 5, 6, 7, 8, 9, 100, -99, -1]\n"
     ]
    }
   ],
   "source": [
    "# set\n",
    "newlist = []\n",
    "for i in mylist:\n",
    "    if i not in newlist:\n",
    "        newlist.append(i) \n",
    "print(newlist)\n",
    "print(list(set(mylist)))  ##去掉重複值"
   ]
  },
  {
   "cell_type": "code",
   "execution_count": 11,
   "metadata": {
    "collapsed": false,
    "deletable": true,
    "editable": true
   },
   "outputs": [
    {
     "data": {
      "text/plain": [
       "'0 1 2 3 4 5 6 7 8 9'"
      ]
     },
     "execution_count": 11,
     "metadata": {},
     "output_type": "execute_result"
    }
   ],
   "source": [
    "# join\n",
    "mylist = list(range(10))\n",
    "newlist = [str(i) for i in mylist]\n",
    "\" \".join(newlist)"
   ]
  },
  {
   "cell_type": "code",
   "execution_count": 12,
   "metadata": {
    "collapsed": false,
    "deletable": true,
    "editable": true
   },
   "outputs": [
    {
     "name": "stdout",
     "output_type": "stream",
     "text": [
      "False\n",
      "True\n",
      "False\n",
      "False\n"
     ]
    }
   ],
   "source": [
    "# copy\n",
    "mylist = list(range(10))\n",
    "mycopy = mylist.copy()\n",
    "print(mycopy is mylist)\n",
    "print(mycopy == mylist)\n",
    "\n",
    "\n",
    "mycopy[0] = -100\n",
    "print(mycopy is mylist)\n",
    "print(mycopy == mylist)\n"
   ]
  },
  {
   "cell_type": "code",
   "execution_count": 13,
   "metadata": {
    "collapsed": false,
    "deletable": true,
    "editable": true,
    "scrolled": true
   },
   "outputs": [
    {
     "name": "stdout",
     "output_type": "stream",
     "text": [
      "['2017年01月01日至2017年06月30日', nan, nan, '309336', '309336', nan, nan, '36661', '4745', '-15525', '14001', '17236', '-9674', '-11760', '-52771', '508', '0', '-4550', '60', '5000', '0', '45', '0', '48844', '-48191', '-7541', '-22912', nan, nan, '-8230', '52863', '99976', '805565', '-58842', '-134', '-21197', '-4950', '865051', nan, '0', '7251', '-302181', '-1519513', '-36567', '-663', '-2465', '-1854138', '-989087', '-1011999', '-702663', '12874', '12967', '-10777', '-57075', '-744674', nan, '0', '10517', '-465878', '494467', '-104000', '2470', '0', '-15168', '8457', '-682', '44323', '33747', '-500', '9388', '0', '225130', '-15753', '226518', nan, '310000', '-1488', '190', '0', '0', '-109870', '198832', '47228', '-272096', '2876766', '2604670', '2604670']\n",
      "-------------\n",
      "<class 'float'>\n",
      "<class 'float'>\n",
      "<class 'float'>\n",
      "<class 'float'>\n",
      "<class 'float'>\n",
      "<class 'float'>\n",
      "<class 'float'>\n",
      "<class 'float'>\n",
      "<class 'float'>\n",
      "-------------\n",
      "['309336', '309336', '36661', '33747', '310000']\n"
     ]
    }
   ],
   "source": [
    "# iteration\n",
    "import pandas as pd\n",
    "import math\n",
    "import re\n",
    "df = pd.read_html(\"http://mops.twse.com.tw/server-java/t164sb01?step=1&CO_ID=4104&SYEAR=2017&SSEASON=2&REPORT_ID=C\")[3]\n",
    "mylist = list(df[1])\n",
    "print(mylist)\n",
    "print(\"-------------\")\n",
    "\n",
    "[print(type(item)) for item in mylist if type(item) != str]\n",
    "print(\"-------------\")\n",
    "\n",
    "notNoneList = [item for item in mylist if type(item) == str and re.findall(r'^3', item)]\n",
    "print(notNoneList)"
   ]
  },
  {
   "cell_type": "code",
   "execution_count": 14,
   "metadata": {
    "collapsed": false,
    "deletable": true,
    "editable": true
   },
   "outputs": [
    {
     "name": "stdout",
     "output_type": "stream",
     "text": [
      "0 2017年01月01日至2017年06月30日\n",
      "1 nan\n",
      "2 nan\n",
      "3 309336\n",
      "4 309336\n",
      "5 nan\n",
      "6 nan\n",
      "7 36661\n",
      "8 4745\n",
      "9 -15525\n"
     ]
    }
   ],
   "source": [
    "# enumerate\n",
    "for num, item in enumerate(mylist):\n",
    "    if num < 10:\n",
    "        print(num, item)"
   ]
  },
  {
   "cell_type": "markdown",
   "metadata": {
    "deletable": true,
    "editable": true
   },
   "source": [
    "# Dict"
   ]
  },
  {
   "cell_type": "code",
   "execution_count": 15,
   "metadata": {
    "collapsed": false,
    "deletable": true,
    "editable": true
   },
   "outputs": [
    {
     "name": "stdout",
     "output_type": "stream",
     "text": [
      "<class 'dict'>\n",
      "<class 'set'>\n",
      "{'nickname': 'GoatWang', 'name': 'jeremy', 'age': 23}\n",
      "{'nickname': 'GoatWang', 'name': 'jeremy', 'tall': 175, 'age': 23}\n"
     ]
    }
   ],
   "source": [
    "# dict announcement\n",
    "a = {}\n",
    "print(type(a))\n",
    "b = {1,}\n",
    "print(type(b))\n",
    "\n",
    "mydict = {\"name\":\"jeremy\", \"age\":23, \"nickname\":\"GoatWang\"}\n",
    "print(mydict)\n",
    "mydict['tall'] = 175\n",
    "print(mydict)  ##沒有順序"
   ]
  },
  {
   "cell_type": "code",
   "execution_count": 16,
   "metadata": {
    "collapsed": false,
    "deletable": true,
    "editable": true
   },
   "outputs": [
    {
     "name": "stdout",
     "output_type": "stream",
     "text": [
      "dict_keys(['nickname', 'name', 'tall', 'age'])\n",
      "dict_values(['GoatWang', 'jeremy', 175, 23])\n",
      "jeremy\n",
      "None\n",
      "70\n",
      "'e' not in mydict.keys()\n"
     ]
    }
   ],
   "source": [
    "# dict call\n",
    "print(mydict.keys())\n",
    "print(mydict.values())\n",
    "\n",
    "print(mydict['name'])\n",
    "print(mydict.get('weight'))\n",
    "print(mydict.get('weight', 70))\n",
    "\n",
    "try:\n",
    "    print(mydict['e'])\n",
    "except:\n",
    "    print(\"'e' not in mydict.keys()\")\n",
    "# exceptions: https://docs.python.org/3/library/exceptions.html#bltin-exceptions\n",
    "\n"
   ]
  },
  {
   "cell_type": "code",
   "execution_count": 17,
   "metadata": {
    "collapsed": false,
    "deletable": true,
    "editable": true
   },
   "outputs": [
    {
     "name": "stdout",
     "output_type": "stream",
     "text": [
      "{'c': 3, 'a': 1, 'b': 2}\n",
      "None\n",
      "{'c': 3, 'a': 1, 'b': 2}\n"
     ]
    },
    {
     "ename": "KeyError",
     "evalue": "'100'",
     "output_type": "error",
     "traceback": [
      "\u001b[1;31m---------------------------------------------------------------------------\u001b[0m",
      "\u001b[1;31mKeyError\u001b[0m                                  Traceback (most recent call last)",
      "\u001b[1;32m<ipython-input-17-b8a305011ba8>\u001b[0m in \u001b[0;36m<module>\u001b[1;34m()\u001b[0m\n\u001b[0;32m      6\u001b[0m \u001b[0mprint\u001b[0m\u001b[1;33m(\u001b[0m\u001b[0mres\u001b[0m\u001b[1;33m)\u001b[0m\u001b[1;33m\u001b[0m\u001b[0m\n\u001b[0;32m      7\u001b[0m \u001b[0mprint\u001b[0m\u001b[1;33m(\u001b[0m\u001b[0mmydict\u001b[0m\u001b[1;33m)\u001b[0m\u001b[1;33m\u001b[0m\u001b[0m\n\u001b[1;32m----> 8\u001b[1;33m \u001b[0mmydict\u001b[0m\u001b[1;33m.\u001b[0m\u001b[0mpop\u001b[0m\u001b[1;33m(\u001b[0m\u001b[1;34m'100'\u001b[0m\u001b[1;33m)\u001b[0m\u001b[1;33m\u001b[0m\u001b[0m\n\u001b[0m",
      "\u001b[1;31mKeyError\u001b[0m: '100'"
     ]
    }
   ],
   "source": [
    "# pop\n",
    "mydict = {'d': 4, 'c': 3, 'b': 2, 'a': 1}\n",
    "mydict.pop('d')\n",
    "print(mydict)\n",
    "res = mydict.pop('100', None)\n",
    "print(res)\n",
    "print(mydict)\n",
    "mydict.pop('100')"
   ]
  },
  {
   "cell_type": "code",
   "execution_count": 18,
   "metadata": {
    "collapsed": false,
    "deletable": true,
    "editable": true
   },
   "outputs": [
    {
     "name": "stdout",
     "output_type": "stream",
     "text": [
      "c 3\n",
      "a 1\n",
      "b 2\n"
     ]
    }
   ],
   "source": [
    "# iteration\n",
    "for key, value in mydict.items():\n",
    "    print(key, value)"
   ]
  },
  {
   "cell_type": "code",
   "execution_count": 19,
   "metadata": {
    "collapsed": false,
    "deletable": true,
    "editable": true
   },
   "outputs": [
    {
     "data": {
      "text/plain": [
       "[('a', 1), ('b', 2), ('c', 3)]"
      ]
     },
     "execution_count": 19,
     "metadata": {},
     "output_type": "execute_result"
    }
   ],
   "source": [
    "# sort\n",
    "sorted(mydict.items(), key=lambda x:x[1])"
   ]
  },
  {
   "cell_type": "code",
   "execution_count": 20,
   "metadata": {
    "collapsed": false,
    "deletable": true,
    "editable": true
   },
   "outputs": [
    {
     "data": {
      "text/plain": [
       "Counter({'efficient': 1,\n",
       "         'main': 4,\n",
       "         'bytes': 3,\n",
       "         'ways': 1,\n",
       "         '(that': 1,\n",
       "         '(but': 1,\n",
       "         'expansion': 2,\n",
       "         'content': 4,\n",
       "         'decimal': 1,\n",
       "         'script': 1,\n",
       "         'indicated': 1,\n",
       "         'tright\"': 1,\n",
       "         'seen': 1,\n",
       "         'Scripting': 2,\n",
       "         'XML': 1,\n",
       "         'mechanism': 2,\n",
       "         'name&gt;': 1,\n",
       "         'History': 4,\n",
       "         'obscure': 1,\n",
       "         '.pyc,': 1,\n",
       "         'hinting': 1,\n",
       "         'omitted,': 1,\n",
       "         'search': 1,\n",
       "         'Names': 1,\n",
       "         'Nokia': 2,\n",
       "         'true.': 1,\n",
       "         'kinds': 4,\n",
       "         'so': 1,\n",
       "         'static': 2,\n",
       "         'List:': 1,\n",
       "         'reference': 4,\n",
       "         'literals': 1,\n",
       "         'may': 8,\n",
       "         'account': 1,\n",
       "         'growth': 1,\n",
       "         'Trading': 1,\n",
       "         'lang=\"eo\"': 1,\n",
       "         'lang=\"pl\"': 1,\n",
       "         'closing': 1,\n",
       "         'package': 1,\n",
       "         '(notation': 1,\n",
       "         'Simple': 2,\n",
       "         'prefix': 2,\n",
       "         'checked': 2,\n",
       "         'optimised': 1,\n",
       "         'most)': 1,\n",
       "         'extended': 1,\n",
       "         'b': 2,\n",
       "         '.pyo': 2,\n",
       "         'contents,': 1,\n",
       "         'this': 38,\n",
       "         'Dictator': 4,\n",
       "         'middle;': 4,\n",
       "         'code,': 4,\n",
       "         'visual': 3,\n",
       "         ':': 1,\n",
       "         'library': 8,\n",
       "         'web\"><a': 80,\n",
       "         '[...]': 1,\n",
       "         'lang=\"sv\"': 1,\n",
       "         'Optional': 1,\n",
       "         '(intended': 1,\n",
       "         'systems': 1,\n",
       "         'time</a>;': 1,\n",
       "         '(30': 3,\n",
       "         'module': 4,\n",
       "         'various': 3,\n",
       "         'IDEs,': 1,\n",
       "         'class,': 1,\n",
       "         'Games': 1,\n",
       "         'express': 1,\n",
       "         'iterate': 1,\n",
       "         'fast': 1,\n",
       "         'published': 3,\n",
       "         'functions': 5,\n",
       "         'expects': 1,\n",
       "         'binds': 1,\n",
       "         'shell,': 1,\n",
       "         'nationale': 1,\n",
       "         'Michele.': 1,\n",
       "         'IDE\">Eric': 1,\n",
       "         'e.g.': 6,\n",
       "         'error': 2,\n",
       "         'iterators': 2,\n",
       "         'performed': 1,\n",
       "         'manually': 1,\n",
       "         'will.<sup': 1,\n",
       "         \"'string',\": 5,\n",
       "         '\"hobby\"': 1,\n",
       "         'Scots\"': 1,\n",
       "         'Tcl': 1,\n",
       "         'rigidly': 1,\n",
       "         'written': 12,\n",
       "         'Finnish\"': 1,\n",
       "         'Phillip': 2,\n",
       "         'dmy': 3,\n",
       "         'numerical': 1,\n",
       "         'Anna;': 1,\n",
       "         '1991.': 1,\n",
       "         'under': 2,\n",
       "         'help': 1,\n",
       "         'value<sup': 1,\n",
       "         'approach': 3,\n",
       "         'y</code>,': 2,\n",
       "         'as': 66,\n",
       "         'bitwise': 1,\n",
       "         'Apple': 1,\n",
       "         'untyped': 1,\n",
       "         'shells,': 1,\n",
       "         '4.35%': 2,\n",
       "         'Tagalog\"': 1,\n",
       "         'Commons': 2,\n",
       "         'instance,': 1,\n",
       "         'Not': 1,\n",
       "         'product': 1,\n",
       "         'large)': 1,\n",
       "         '[j]\"': 1,\n",
       "         '2.5),': 1,\n",
       "         'separate,': 1,\n",
       "         'Lutz': 1,\n",
       "         'earnest': 1,\n",
       "         'page': 14,\n",
       "         'results': 1,\n",
       "         'lang=\"ar\"': 1,\n",
       "         'tilde': 1,\n",
       "         'intended': 5,\n",
       "         'German\"': 2,\n",
       "         't': 1,\n",
       "         'Asked': 1,\n",
       "         'Zen': 1,\n",
       "         'real': 1,\n",
       "         'bits),': 1,\n",
       "         'Springer.': 2,\n",
       "         'exuberant': 1,\n",
       "         '(see': 1,\n",
       "         'C++,': 2,\n",
       "         'Jocelyn,': 1,\n",
       "         'GND': 3,\n",
       "         'lang=\"zh\"': 1,\n",
       "         'asof-tag': 3,\n",
       "         'pythonic': 1,\n",
       "         'That’s': 1,\n",
       "         'it,': 1,\n",
       "         'Ziff': 1,\n",
       "         'title=\"A': 3,\n",
       "         'Further,': 1,\n",
       "         'section:': 25,\n",
       "         'call': 1,\n",
       "         'Interface': 1,\n",
       "         'Interview': 2,\n",
       "         'program': 3,\n",
       "         'shift': 1,\n",
       "         'eggs': 1,\n",
       "         'Georgian\"': 1,\n",
       "         'Old-style': 1,\n",
       "         '(<i>PEP': 1,\n",
       "         'source': 4,\n",
       "         'Style': 1,\n",
       "         'Cached': 1,\n",
       "         'Tim': 2,\n",
       "         'NJ:': 1,\n",
       "         'ભાષા)': 1,\n",
       "         '*': 1,\n",
       "         'replace': 1,\n",
       "         '(for': 5,\n",
       "         'differs.': 1,\n",
       "         'Punjabi\"': 1,\n",
       "         'executing': 1,\n",
       "         'property,': 1,\n",
       "         'ninjas,': 1,\n",
       "         'pre-3.0': 1,\n",
       "         'wanted': 1,\n",
       "         'creating': 2,\n",
       "         'promotes': 1,\n",
       "         'Allen': 1,\n",
       "         '(\"blah\",': 1,\n",
       "         'programs.': 1,\n",
       "         'Times,': 2,\n",
       "         'value,': 2,\n",
       "         'dtstart': 3,\n",
       "         '(8': 1,\n",
       "         'Basic': 2,\n",
       "         'Data': 6,\n",
       "         'maximum': 1,\n",
       "         'basic': 2,\n",
       "         'language,': 3,\n",
       "         'append': 1,\n",
       "         '(all': 1,\n",
       "         'Stuart': 1,\n",
       "         '20px;': 2,\n",
       "         'support': 9,\n",
       "         'بولی)': 1,\n",
       "         'sign).': 1,\n",
       "         'schedule': 1,\n",
       "         'Escape': 1,\n",
       "         'far': 4,\n",
       "         'multiply': 1,\n",
       "         'CERN': 1,\n",
       "         'rough': 2,\n",
       "         '0]': 1,\n",
       "         'executes': 3,\n",
       "         'Max</a>,': 1,\n",
       "         'Albanian\"': 1,\n",
       "         'added': 2,\n",
       "         'Science': 3,\n",
       "         '(19': 1,\n",
       "         'Creator': 1,\n",
       "         'bottom;': 1,\n",
       "         'cart': 1,\n",
       "         'links\"': 1,\n",
       "         '[and]': 1,\n",
       "         '2013': 1,\n",
       "         'floating': 1,\n",
       "         'Timeline': 2,\n",
       "         'Built-in': 3,\n",
       "         'visited': 1,\n",
       "         'fork': 1,\n",
       "         'occupied': 1,\n",
       "         '(1993).': 1,\n",
       "         '+': 5,\n",
       "         'precision': 5,\n",
       "         '9.2</i>.': 1,\n",
       "         'other': 18,\n",
       "         '[e]\"': 1,\n",
       "         'method': 7,\n",
       "         'B.': 1,\n",
       "         'plainlist': 2,\n",
       "         'Travis': 1,\n",
       "         '1.5x,': 20,\n",
       "         'packages': 2,\n",
       "         'size:': 2,\n",
       "         '(9': 1,\n",
       "         'index': 2,\n",
       "         'scale': 1,\n",
       "         'change': 1,\n",
       "         'lang=\"hu\"': 1,\n",
       "         'imaginary': 1,\n",
       "         'v1.0</i>.': 1,\n",
       "         'block': 8,\n",
       "         'numeric': 4,\n",
       "         '[u]\"': 1,\n",
       "         'Swift': 2,\n",
       "         'massively': 1,\n",
       "         'world': 1,\n",
       "         'Hat': 2,\n",
       "         'Dave.': 1,\n",
       "         'allocated': 2,\n",
       "         '(2004).': 1,\n",
       "         'True': 1,\n",
       "         'Donal': 1,\n",
       "         'Peachpit': 1,\n",
       "         \"That's\": 1,\n",
       "         'sparser,': 1,\n",
       "         'current': 3,\n",
       "         'methods,': 1,\n",
       "         'through': 3,\n",
       "         'greatly': 2,\n",
       "         'bind': 1,\n",
       "         'alt=\"This': 1,\n",
       "         'end': 2,\n",
       "         '[c]\"': 1,\n",
       "         'changed': 3,\n",
       "         'list.': 1,\n",
       "         \"name's\": 1,\n",
       "         'need': 2,\n",
       "         'Developer': 3,\n",
       "         'For': 11,\n",
       "         'When': 1,\n",
       "         'patents': 1,\n",
       "         'rather,': 1,\n",
       "         'Both': 1,\n",
       "         'practices': 1,\n",
       "         'Darryl': 1,\n",
       "         'calling,': 1,\n",
       "         'using': 17,\n",
       "         'than': 24,\n",
       "         'find': 1,\n",
       "         'versus': 3,\n",
       "         'operating': 5,\n",
       "         '33': 1,\n",
       "         '(commonly': 1,\n",
       "         'according': 1,\n",
       "         '20</i>),': 1,\n",
       "         'standard,': 1,\n",
       "         'ngữ': 1,\n",
       "         '(latest': 2,\n",
       "         'called': 3,\n",
       "         'Project': 1,\n",
       "         'FAQ': 1,\n",
       "         \"Meier's\": 2,\n",
       "         'Core': 2,\n",
       "         'follows': 2,\n",
       "         'feature': 3,\n",
       "         'formats': 1,\n",
       "         'him': 1,\n",
       "         'and,': 2,\n",
       "         'p.': 1,\n",
       "         'primary': 2,\n",
       "         'Windows': 1,\n",
       "         '(4.0,': 1,\n",
       "         'platform': 2,\n",
       "         'major,': 1,\n",
       "         'top': 1,\n",
       "         'twice': 1,\n",
       "         '\"All': 1,\n",
       "         'Estonian\"': 1,\n",
       "         'scripting': 6,\n",
       "         'claim': 1,\n",
       "         'market': 1,\n",
       "         'select': 1,\n",
       "         '3.5),<sup': 1,\n",
       "         'Your': 2,\n",
       "         'log': 2,\n",
       "         'contain': 7,\n",
       "         'serve': 1,\n",
       "         'Prentice': 1,\n",
       "         'faster': 1,\n",
       "         'Hindi\"': 1,\n",
       "         'Java': 10,\n",
       "         'Python,': 16,\n",
       "         'state': 2,\n",
       "         'inherited': 1,\n",
       "         'lang=\"as\"': 1,\n",
       "         'always': 3,\n",
       "         '52.667': 2,\n",
       "         '40.04%': 2,\n",
       "         'Complete,': 1,\n",
       "         'emulated': 1,\n",
       "         'former': 1,\n",
       "         'Runs': 1,\n",
       "         'contents\"': 1,\n",
       "         'Neal': 1,\n",
       "         '4D</a>,': 1,\n",
       "         'you': 3,\n",
       "         '\"typed': 1,\n",
       "         'session': 1,\n",
       "         'idioms': 1,\n",
       "         'support,': 1,\n",
       "         'alt=\"\"': 9,\n",
       "         'adds': 1,\n",
       "         '[f]\"': 1,\n",
       "         'letting': 1,\n",
       "         'lang=\"gl\"': 1,\n",
       "         'trademark': 1,\n",
       "         'bugs': 1,\n",
       "         'lang=\"bs\"': 1,\n",
       "         'powerful': 1,\n",
       "         'speed': 4,\n",
       "         'improving': 1,\n",
       "         'years': 5,\n",
       "         'none;': 5,\n",
       "         'lang=\"eu\"': 1,\n",
       "         'Life': 1,\n",
       "         'Slices': 1,\n",
       "         'integrate': 1,\n",
       "         '4': 3,\n",
       "         'ed.': 1,\n",
       "         'Shop': 2,\n",
       "         'Per;': 1,\n",
       "         'libraries': 3,\n",
       "         'exact': 1,\n",
       "         '3.3,': 1,\n",
       "         'system;': 1,\n",
       "         '2.5,': 4,\n",
       "         '105,': 2,\n",
       "         'something': 2,\n",
       "         '(1996).': 1,\n",
       "         'by': 52,\n",
       "         '2009': 1,\n",
       "         'Korean\"': 1,\n",
       "         'Jewett,': 1,\n",
       "         'public': 1,\n",
       "         '3.5.': 2,\n",
       "         'garbage': 1,\n",
       "         'lang=\"nl\"': 1,\n",
       "         'Indexes': 1,\n",
       "         'contact': 1,\n",
       "         'assigned': 2,\n",
       "         '2.7': 4,\n",
       "         'Telugu\"': 1,\n",
       "         'lately:': 1,\n",
       "         '2014).': 3,\n",
       "         'better': 5,\n",
       "         'means': 5,\n",
       "         'Transfer': 1,\n",
       "         'भाषा': 1,\n",
       "         '1&#160;–': 1,\n",
       "         'news': 1,\n",
       "         ')': 1,\n",
       "         'successor': 1,\n",
       "         'the': 273,\n",
       "         '(7': 2,\n",
       "         'reads': 1,\n",
       "         'sets;': 1,\n",
       "         '3.<sup': 2,\n",
       "         'Go': 1,\n",
       "         'complex': 3,\n",
       "         'playful': 1,\n",
       "         'important': 3,\n",
       "         'lang=\"uz\"': 1,\n",
       "         'includes': 3,\n",
       "         '(itself': 2,\n",
       "         '9': 1,\n",
       "         'IV': 1,\n",
       "         'party': 1,\n",
       "         'Gateway': 6,\n",
       "         'count:': 3,\n",
       "         'Facundo.': 1,\n",
       "         'most': 9,\n",
       "         'ability': 1,\n",
       "         'lang=\"si\"': 1,\n",
       "         'clean-up': 1,\n",
       "         'lines': 3,\n",
       "         '2015\">Use': 1,\n",
       "         '[g]\"': 1,\n",
       "         'increase': 2,\n",
       "         'With': 2,\n",
       "         'Purpose': 2,\n",
       "         'Swedish\"': 1,\n",
       "         'process.': 1,\n",
       "         'thus': 3,\n",
       "         '(29': 3,\n",
       "         'contrast,': 1,\n",
       "         'String': 1,\n",
       "         'reliable': 1,\n",
       "         'lang=\"hr\"': 1,\n",
       "         'LCCN': 3,\n",
       "         '[r]\"': 1,\n",
       "         'iterable': 1,\n",
       "         'lang=\"or\"': 1,\n",
       "         'less': 2,\n",
       "         'during': 4,\n",
       "         '465': 1,\n",
       "         'developed': 2,\n",
       "         'a//b': 1,\n",
       "         'over': 6,\n",
       "         'Romanian\"': 1,\n",
       "         'places,': 2,\n",
       "         'makes': 3,\n",
       "         'string)': 1,\n",
       "         '#aaa': 1,\n",
       "         '2012).': 1,\n",
       "         '(1st': 1,\n",
       "         'released': 6,\n",
       "         'IV\"</a>.': 1,\n",
       "         'seconds': 3,\n",
       "         'not.': 1,\n",
       "         '1px': 1,\n",
       "         'second': 2,\n",
       "         'phones': 1,\n",
       "         '(13': 2,\n",
       "         'native': 1,\n",
       "         '3.0': 5,\n",
       "         '2004).': 2,\n",
       "         'nature': 2,\n",
       "         '2017,': 2,\n",
       "         'Blog:': 1,\n",
       "         'common,': 1,\n",
       "         'suitable': 1,\n",
       "         'had': 4,\n",
       "         'chained': 1,\n",
       "         'quite': 1,\n",
       "         'GUI': 1,\n",
       "         'objects.': 1,\n",
       "         'keep': 1,\n",
       "         '-total\",\"': 1,\n",
       "         'Web': 3,\n",
       "         'special': 3,\n",
       "         'enters': 1,\n",
       "         'lang=\"az\"': 1,\n",
       "         'come': 1,\n",
       "         'its': 18,\n",
       "         'runtime.': 1,\n",
       "         'generally': 1,\n",
       "         '(July': 2,\n",
       "         'products': 1,\n",
       "         'needed.': 1,\n",
       "         'sometimes': 1,\n",
       "         'use.': 1,\n",
       "         '3.6': 2,\n",
       "         'objects': 6,\n",
       "         'template\"': 12,\n",
       "         \"id='p-tb'\": 1,\n",
       "         'semantics': 1,\n",
       "         'List': 1,\n",
       "         'break': 1,\n",
       "         'slice': 2,\n",
       "         '(usually': 1,\n",
       "         'collector': 1,\n",
       "         'paradigms': 1,\n",
       "         \"2.7's\": 1,\n",
       "         'towards': 3,\n",
       "         'commonly': 2,\n",
       "         'adding': 1,\n",
       "         '6&#160;–': 1,\n",
       "         'numerics': 1,\n",
       "         'Shuttle': 1,\n",
       "         'J.;': 1,\n",
       "         'Rossum': 4,\n",
       "         'aim': 1,\n",
       "         '2009).': 4,\n",
       "         '.6em;': 2,\n",
       "         'some': 7,\n",
       "         'compile': 1,\n",
       "         '0': 2,\n",
       "         'meeting': 1,\n",
       "         'names.': 1,\n",
       "         '6.19': 1,\n",
       "         'Systems': 1,\n",
       "         'NLUUG': 1,\n",
       "         'Magnus': 1,\n",
       "         'However': 1,\n",
       "         'what': 1,\n",
       "         'with': 65,\n",
       "         'tests': 1,\n",
       "         '(10': 2,\n",
       "         'style': 1,\n",
       "         'Retrieved': 118,\n",
       "         '(notably': 1,\n",
       "         'add': 1,\n",
       "         \"project's\": 1,\n",
       "         'solid': 3,\n",
       "         'choice': 2,\n",
       "         'extensive': 3,\n",
       "         'Typing': 1,\n",
       "         'indexes': 2,\n",
       "         'directly': 3,\n",
       "         'Notebook': 1,\n",
       "         'Stack': 1,\n",
       "         'rights': 2,\n",
       "         'be]': 1,\n",
       "         'each': 6,\n",
       "         'No': 1,\n",
       "         'empirical': 2,\n",
       "         'left;': 1,\n",
       "         'algorithm': 1,\n",
       "         'their': 5,\n",
       "         'Control': 2,\n",
       "         'dates': 3,\n",
       "         'code</i>.': 1,\n",
       "         'Nan)\"': 1,\n",
       "         '15': 4,\n",
       "         'can': 27,\n",
       "         'type.': 1,\n",
       "         'meanings': 1,\n",
       "         'at': 14,\n",
       "         '(14': 2,\n",
       "         'marks.': 2,\n",
       "         'Tuples': 1,\n",
       "         'kept': 1,\n",
       "         '(bahasa': 1,\n",
       "         'position:': 1,\n",
       "         'Before': 1,\n",
       "         '1900800': 1,\n",
       "         'pass': 1,\n",
       "         'late': 2,\n",
       "         'equality': 2,\n",
       "         'project': 6,\n",
       "         'Mark.': 1,\n",
       "         'integer.': 1,\n",
       "         'lt': 1,\n",
       "         'lang=\"la\"': 1,\n",
       "         '=': 11,\n",
       "         'Bosnian\"': 1,\n",
       "         'From': 2,\n",
       "         'ensures': 1,\n",
       "         'rational': 1,\n",
       "         'Berkeley:': 1,\n",
       "         'paper': 1,\n",
       "         'dedicated': 2,\n",
       "         'Making': 1,\n",
       "         'useful': 1,\n",
       "         'iOS': 1,\n",
       "         '(magic': 1,\n",
       "         'rounds': 1,\n",
       "         'copy': 2,\n",
       "         'thousands': 1,\n",
       "         'create': 3,\n",
       "         'Ned': 1,\n",
       "         'November': 4,\n",
       "         'Why': 1,\n",
       "         'TIP': 1,\n",
       "         '112.257': 2,\n",
       "         'equal': 3,\n",
       "         '2,': 6,\n",
       "         'class.)': 1,\n",
       "         'derived': 1,\n",
       "         'reject': 1,\n",
       "         'whether': 2,\n",
       "         '(web': 14,\n",
       "         '2012<span': 5,\n",
       "         'Sugar': 1,\n",
       "         'Desktop': 1,\n",
       "         'Just': 1,\n",
       "         \"doesn't\": 1,\n",
       "         'title=\"F': 1,\n",
       "         'system.': 1,\n",
       "         'Asturian\"': 1,\n",
       "         'earlier': 1,\n",
       "         'English\"': 1,\n",
       "         'C-derived': 1,\n",
       "         'device': 1,\n",
       "         'slightly': 1,\n",
       "         'wrote': 1,\n",
       "         '(token': 1,\n",
       "         '2011,': 1,\n",
       "         'abilities': 1,\n",
       "         'Many': 3,\n",
       "         'also:': 2,\n",
       "         'delimit': 3,\n",
       "         'following': 1,\n",
       "         'between': 5,\n",
       "         'produced': 1,\n",
       "         'compilers': 2,\n",
       "         'data': 3,\n",
       "         'Is': 4,\n",
       "         'central': 1,\n",
       "         'a': 170,\n",
       "         'included': 1,\n",
       "         'August': 14,\n",
       "         'files': 1,\n",
       "         'method.)': 1,\n",
       "         'text': 2,\n",
       "         'build': 1,\n",
       "         'syntax': 10,\n",
       "         'A:': 1,\n",
       "         '(PyPI),': 1,\n",
       "         'Research': 1,\n",
       "         'M.': 4,\n",
       "         'but': 12,\n",
       "         'Between': 1,\n",
       "         '484.491': 2,\n",
       "         'article\"': 2,\n",
       "         'bound': 1,\n",
       "         'forum': 1,\n",
       "         'bold;': 2,\n",
       "         '==': 14,\n",
       "         'језик)': 1,\n",
       "         'releases.': 1,\n",
       "         'However,': 5,\n",
       "         'So': 1,\n",
       "         'plan': 1,\n",
       "         'modern': 1,\n",
       "         'Lojban\"': 1,\n",
       "         '32': 1,\n",
       "         'possible': 1,\n",
       "         'lang=\"da\"': 1,\n",
       "         'J.': 3,\n",
       "         'matrix': 3,\n",
       "         'routing': 1,\n",
       "         'built': 1,\n",
       "         'lang=\"bn\"': 1,\n",
       "         'middle\"': 4,\n",
       "         'conducted': 1,\n",
       "         'making': 1,\n",
       "         'van': 15,\n",
       "         'cannot': 5,\n",
       "         'class;': 1,\n",
       "         'syntactic': 2,\n",
       "         'another': 1,\n",
       "         'postponed': 1,\n",
       "         'enables': 2,\n",
       "         'it\".<sup': 1,\n",
       "         'Features': 2,\n",
       "         '2\".': 1,\n",
       "         'serves': 1,\n",
       "         'highly': 2,\n",
       "         '(linguage': 1,\n",
       "         'system': 3,\n",
       "         'columns': 1,\n",
       "         '(2005).': 1,\n",
       "         '4</a>,': 1,\n",
       "         'styles.': 1,\n",
       "         'Parsed': 1,\n",
       "         'addition': 1,\n",
       "         'small': 2,\n",
       "         'pretty': 1,\n",
       "         '3.5)<sup': 1,\n",
       "         '(was': 1,\n",
       "         'six': 1,\n",
       "         '[x]\"': 1,\n",
       "         'specific': 2,\n",
       "         'Japanese\"': 1,\n",
       "         'or': 35,\n",
       "         'announced': 1,\n",
       "         'writing': 4,\n",
       "         'portal': 1,\n",
       "         'mistaking': 1,\n",
       "         'lang=\"ka\"': 1,\n",
       "         '8': 1,\n",
       "         'Ways': 1,\n",
       "         'handled': 1,\n",
       "         '43.288': 2,\n",
       "         'methods': 2,\n",
       "         'avoiding': 1,\n",
       "         'scheduled': 1,\n",
       "         'Urdu\"': 1,\n",
       "         'Inc.</a>,': 1,\n",
       "         'web\">Lin,': 1,\n",
       "         '3.2,': 1,\n",
       "         'Erik.': 2,\n",
       "         '1991<span': 1,\n",
       "         'French\"': 1,\n",
       "         'London:': 2,\n",
       "         'delimited': 1,\n",
       "         'زبان)': 1,\n",
       "         'word': 1,\n",
       "         'Low': 1,\n",
       "         '(3': 3,\n",
       "         'period': 1,\n",
       "         'it.<sup': 1,\n",
       "         'appeal': 1,\n",
       "         'well,': 1,\n",
       "         'lang=\"ta\"': 1,\n",
       "         '2.7,': 1,\n",
       "         'ago,': 1,\n",
       "         'deciding': 1,\n",
       "         'raised': 1,\n",
       "         'months.': 1,\n",
       "         'How': 2,\n",
       "         'course': 1,\n",
       "         'advantage': 2,\n",
       "         'game': 1,\n",
       "         'greatest': 2,\n",
       "         '3': 7,\n",
       "         '31px;': 8,\n",
       "         'Upper': 1,\n",
       "         'integer': 2,\n",
       "         'Bill': 1,\n",
       "         'Khmer\"': 1,\n",
       "         'MB/50': 1,\n",
       "         'article:': 4,\n",
       "         'porkbelly': 1,\n",
       "         'Examples': 1,\n",
       "         'ZIP': 1,\n",
       "         'lang=\"lt\"': 1,\n",
       "         'taking': 1,\n",
       "         'Real': 1,\n",
       "         'e.g.,': 3,\n",
       "         'It': 11,\n",
       "         'attaches': 1,\n",
       "         '10': 4,\n",
       "         'Grumpy': 1,\n",
       "         'Ola': 1,\n",
       "         '2</code>,': 3,\n",
       "         'report': 2,\n",
       "         'Anthony': 2,\n",
       "         'generator': 1,\n",
       "         'next': 1,\n",
       "         'PEP': 3,\n",
       "         '(<a': 3,\n",
       "         'workloads': 1,\n",
       "         'styles': 1,\n",
       "         'CPython)': 1,\n",
       "         'Buginese\"': 1,\n",
       "         'Dynamic': 1,\n",
       "         'Western': 1,\n",
       "         'mood': 1,\n",
       "         'never': 1,\n",
       "         '(In': 1,\n",
       "         '2010).': 1,\n",
       "         'Nature': 1,\n",
       "         '2017,<sup': 1,\n",
       "         'Python.': 4,\n",
       "         'Advanced': 1,\n",
       "         'simple': 1,\n",
       "         '3.5,': 2,\n",
       "         'allowing': 4,\n",
       "         'A-Z': 1,\n",
       "         'Sinhala\"': 1,\n",
       "         '3.58%': 2,\n",
       "         'included\"': 1,\n",
       "         'languages': 17,\n",
       "         '9.28%': 2,\n",
       "         '[0,': 1,\n",
       "         'function': 6,\n",
       "         'copied': 1,\n",
       "         'Raimo': 1,\n",
       "         'compared': 1,\n",
       "         'lang=\"my\"': 1,\n",
       "         'feedback': 1,\n",
       "         'Kevin': 1,\n",
       "         'logged': 1,\n",
       "         'end.': 1,\n",
       "         'where': 7,\n",
       "         'entities': 1,\n",
       "         'lang=\"no\"': 1,\n",
       "         '4px;': 4,\n",
       "         'lang=\"sr\"': 1,\n",
       "         '(if': 1,\n",
       "         'values': 3,\n",
       "         '(زبان': 1,\n",
       "         '(January': 1,\n",
       "         'Tajik\"': 1,\n",
       "         '(2015).': 1,\n",
       "         'made': 2,\n",
       "         '\"there': 1,\n",
       "         '2.7.14': 2,\n",
       "         'Congress': 1,\n",
       "         'c': 2,\n",
       "         'Czech\"': 1,\n",
       "         'textual': 1,\n",
       "         'clever': 1,\n",
       "         '805443931': 1,\n",
       "         '64.30%': 2,\n",
       "         'mailing': 1,\n",
       "         'rationale': 1,\n",
       "         'lang=\"el\"': 1,\n",
       "         'rejects': 2,\n",
       "         'new-style': 1,\n",
       "         'types,': 4,\n",
       "         '3\".': 1,\n",
       "         'latter': 2,\n",
       "         'Boo': 1,\n",
       "         'multiple': 6,\n",
       "         'holy': 1,\n",
       "         'Meets': 1,\n",
       "         'UNIX': 1,\n",
       "         'moreover,': 1,\n",
       "         'EVE': 1,\n",
       "         'License': 2,\n",
       "         'Book:': 1,\n",
       "         'chose': 1,\n",
       "         'lang=\"hy\"': 1,\n",
       "         '1210.107': 2,\n",
       "         'beyond': 1,\n",
       "         'Like': 2,\n",
       "         'Bug': 1,\n",
       "         'causes': 2,\n",
       "         'Modules': 1,\n",
       "         'back,': 1,\n",
       "         'about<b': 1,\n",
       "         'CLU,': 2,\n",
       "         'types': 4,\n",
       "         'identical': 1,\n",
       "         'input': 1,\n",
       "         'roughly': 2,\n",
       "         '2002).': 2,\n",
       "         'division': 9,\n",
       "         'Jason': 1,\n",
       "         'on': 46,\n",
       "         'vs.': 3,\n",
       "         'focus': 1,\n",
       "         '(5': 5,\n",
       "         'commented': 1,\n",
       "         'logo': 1,\n",
       "         'names,': 1,\n",
       "         'lang=\"mr\"': 1,\n",
       "         'title=\"Go': 7,\n",
       "         'goal': 1,\n",
       "         'work': 2,\n",
       "         'fan': 1,\n",
       "         'Analysis': 2,\n",
       "         'Division': 2,\n",
       "         'title=\"C': 13,\n",
       "         '[p]\"': 1,\n",
       "         'instead': 2,\n",
       "         '\"feature\"': 1,\n",
       "         'optional': 5,\n",
       "         'FAQ\"</a>.': 1,\n",
       "         'generated': 1,\n",
       "         'Recursion': 1,\n",
       "         'expiry:': 1,\n",
       "         'Static': 1,\n",
       "         '2.6)': 1,\n",
       "         'lang=\"sq\"': 1,\n",
       "         'curly': 3,\n",
       "         'features': 8,\n",
       "         'those': 2,\n",
       "         'week': 1,\n",
       "         'bracket': 1,\n",
       "         'debugging': 1,\n",
       "         'side': 2,\n",
       "         'social': 1,\n",
       "         'Barry': 1,\n",
       "         'Modern': 1,\n",
       "         'rather': 5,\n",
       "         'study': 1,\n",
       "         '(': 1,\n",
       "         'lang=\"pt\"': 1,\n",
       "         'C': 12,\n",
       "         '4px': 1,\n",
       "         'concepts': 1,\n",
       "         'Software.': 1,\n",
       "         'Lisp</a>,': 1,\n",
       "         'only': 6,\n",
       "         'version': 14,\n",
       "         'also': 24,\n",
       "         'involving': 1,\n",
       "         'tuples.': 1,\n",
       "         'New-style': 1,\n",
       "         'doing': 1,\n",
       "         'C\".<sup': 1,\n",
       "         'is,': 2,\n",
       "         'were': 2,\n",
       "         'Fellows,': 1,\n",
       "         'Literal': 1,\n",
       "         'lang=\"fa\"': 1,\n",
       "         'Lua': 2,\n",
       "         'Integer': 2,\n",
       "         'function.': 1,\n",
       "         '10px': 2,\n",
       "         'Linux': 1,\n",
       "         'level': 1,\n",
       "         'lang=\"ca\"': 1,\n",
       "         'in,': 1,\n",
       "         'no': 3,\n",
       "         'last': 2,\n",
       "         'widget': 1,\n",
       "         'infinity,': 2,\n",
       "         'include': 7,\n",
       "         'terms,': 1,\n",
       "         'conforms': 1,\n",
       "         \"Lattner's\": 2,\n",
       "         'contrast': 3,\n",
       "         'part': 6,\n",
       "         'mentoring': 1,\n",
       "         'item': 1,\n",
       "         'it:': 1,\n",
       "         'section': 2,\n",
       "         'even</a>:': 1,\n",
       "         'operator': 14,\n",
       "         'lang=\"en\"': 2,\n",
       "         'capable': 1,\n",
       "         '−1.0.<sup': 1,\n",
       "         'Compare': 1,\n",
       "         '(CWI)': 1,\n",
       "         'etc.': 1,\n",
       "         'user': 4,\n",
       "         'used': 28,\n",
       "         'links': 2,\n",
       "         'v2.7.2': 1,\n",
       "         'Van': 4,\n",
       "         'case': 2,\n",
       "         '2D': 1,\n",
       "         'Lie': 1,\n",
       "         'days': 2,\n",
       "         'context': 1,\n",
       "         'equation': 3,\n",
       "         'element': 4,\n",
       "         'behavior.': 1,\n",
       "         'C#,': 2,\n",
       "         '\"better': 1,\n",
       "         'Russian\"': 1,\n",
       "         'title=\"Qt': 1,\n",
       "         'classes': 5,\n",
       "         '(18': 1,\n",
       "         'skipped': 1,\n",
       "         'Institute': 1,\n",
       "         'out': 3,\n",
       "         'Mission': 1,\n",
       "         'point': 1,\n",
       "         'one': 6,\n",
       "         'say': 2,\n",
       "         'compiles': 7,\n",
       "         '35.997': 2,\n",
       "         'trình)': 1,\n",
       "         'Fix': 1,\n",
       "         '15.21.1.': 1,\n",
       "         'A.': 2,\n",
       "         'more': 11,\n",
       "         '1.284': 1,\n",
       "         'Network': 1,\n",
       "         '2.4)': 1,\n",
       "         'Michael': 1,\n",
       "         'releases,': 2,\n",
       "         '(at': 1,\n",
       "         'local': 2,\n",
       "         'series': 2,\n",
       "         'Latin\"': 1,\n",
       "         'lang=\"be\"': 1,\n",
       "         '(or': 2,\n",
       "         'jQuery,': 1,\n",
       "         '[z]\"': 1,\n",
       "         'Cebuano\"': 1,\n",
       "         'valid': 2,\n",
       "         'Numerical': 1,\n",
       "         'UNIX/C': 1,\n",
       "         '#B2B7F2;': 2,\n",
       "         'Tim;': 1,\n",
       "         'IDE': 2,\n",
       "         '(blog': 1,\n",
       "         'his': 2,\n",
       "         'Force': 1,\n",
       "         'validity': 1,\n",
       "         'Expensive': 1,\n",
       "         'argument': 1,\n",
       "         'bugfixes': 1,\n",
       "         'many': 16,\n",
       "         'own': 2,\n",
       "         '4,': 1,\n",
       "         '(20': 2,\n",
       "         'move': 1,\n",
       "         'altering': 1,\n",
       "         'needs': 1,\n",
       "         'third': 4,\n",
       "         'M.;': 1,\n",
       "         'official': 3,\n",
       "         'new': 8,\n",
       "         'mutable,': 1,\n",
       "         ...})"
      ]
     },
     "execution_count": 20,
     "metadata": {},
     "output_type": "execute_result"
    }
   ],
   "source": [
    "from collections import Counter\n",
    "import requests\n",
    "import re\n",
    "def getAlltermsFromUrl(url):\n",
    "    res = requests.get(url)\n",
    "    html = res.text\n",
    "    terms = [term for term in html.split() if not re.findall(r'^\\<', term) and not re.findall(r'\\>$', term) and len(term) < 10]\n",
    "    return terms\n",
    "\n",
    "url = \"https://en.wikipedia.org/wiki/Python_(programming_language)\"\n",
    "Counter(getAlltermsFromUrl(url))"
   ]
  },
  {
   "cell_type": "code",
   "execution_count": 21,
   "metadata": {
    "collapsed": false,
    "deletable": true,
    "editable": true
   },
   "outputs": [
    {
     "ename": "NameError",
     "evalue": "name 'terms' is not defined",
     "output_type": "error",
     "traceback": [
      "\u001b[1;31m---------------------------------------------------------------------------\u001b[0m",
      "\u001b[1;31mNameError\u001b[0m                                 Traceback (most recent call last)",
      "\u001b[1;32m<ipython-input-21-48282ebe6a22>\u001b[0m in \u001b[0;36m<module>\u001b[1;34m()\u001b[0m\n\u001b[1;32m----> 1\u001b[1;33m \u001b[0msorted\u001b[0m\u001b[1;33m(\u001b[0m\u001b[0mdict\u001b[0m\u001b[1;33m(\u001b[0m\u001b[0mCounter\u001b[0m\u001b[1;33m(\u001b[0m\u001b[0mterms\u001b[0m\u001b[1;33m)\u001b[0m\u001b[1;33m)\u001b[0m\u001b[1;33m.\u001b[0m\u001b[0mitems\u001b[0m\u001b[1;33m(\u001b[0m\u001b[1;33m)\u001b[0m\u001b[1;33m,\u001b[0m \u001b[0mkey\u001b[0m\u001b[1;33m=\u001b[0m\u001b[1;32mlambda\u001b[0m \u001b[0mx\u001b[0m\u001b[1;33m:\u001b[0m\u001b[0mx\u001b[0m\u001b[1;33m[\u001b[0m\u001b[1;36m1\u001b[0m\u001b[1;33m]\u001b[0m\u001b[1;33m,\u001b[0m \u001b[0mreverse\u001b[0m\u001b[1;33m=\u001b[0m\u001b[1;32mTrue\u001b[0m\u001b[1;33m)\u001b[0m\u001b[1;33m[\u001b[0m\u001b[1;33m:\u001b[0m\u001b[1;36m20\u001b[0m\u001b[1;33m]\u001b[0m\u001b[1;33m\u001b[0m\u001b[0m\n\u001b[0m\u001b[0;32m      2\u001b[0m \u001b[1;31m##dict have no order, so if tou want to order them, you have to transfer them into tuple list\u001b[0m\u001b[1;33m\u001b[0m\u001b[1;33m\u001b[0m\u001b[0m\n",
      "\u001b[1;31mNameError\u001b[0m: name 'terms' is not defined"
     ]
    }
   ],
   "source": [
    "sorted(dict(Counter(terms)).items(), key=lambda x:x[1], reverse=True)[:20] \n",
    "##dict have no order, so if tou want to order them, you have to transfer them into tuple list"
   ]
  },
  {
   "cell_type": "markdown",
   "metadata": {
    "collapsed": false,
    "deletable": true,
    "editable": true
   },
   "source": [
    "# str"
   ]
  },
  {
   "cell_type": "code",
   "execution_count": null,
   "metadata": {
    "collapsed": false,
    "deletable": true,
    "editable": true
   },
   "outputs": [],
   "source": [
    "# startswith, endswith\n",
    "a = \"aaaab\"\n",
    "print(a.startswith('a'))\n",
    "print(a.endswith('b'))"
   ]
  },
  {
   "cell_type": "code",
   "execution_count": 22,
   "metadata": {
    "collapsed": false,
    "deletable": true,
    "editable": true
   },
   "outputs": [
    {
     "name": "stdout",
     "output_type": "stream",
     "text": [
      "aaaa\n",
      "AAAA\n",
      "False\n",
      "True\n"
     ]
    }
   ],
   "source": [
    "# lower, upper, \n",
    "print(\"AAaa\".lower())\n",
    "print(\"AAaa\".upper())\n",
    "\n",
    "# isapha\n",
    "print('11aa'.isalpha())\n",
    "print('aa'.isalpha())"
   ]
  },
  {
   "cell_type": "code",
   "execution_count": 23,
   "metadata": {
    "collapsed": false,
    "deletable": true,
    "editable": true
   },
   "outputs": [
    {
     "name": "stdout",
     "output_type": "stream",
     "text": [
      "['aaa', 'aaa']\n",
      "aaa aaa\n",
      "['aaa/aaa']\n"
     ]
    }
   ],
   "source": [
    "# split\n",
    "print(\"aaa aaa\".split())\n",
    "print(\" \".join(\"aaa aaa\".split()))\n",
    "print(\"aaa/aaa\".split())"
   ]
  },
  {
   "cell_type": "code",
   "execution_count": 24,
   "metadata": {
    "collapsed": false,
    "deletable": true,
    "editable": true
   },
   "outputs": [
    {
     "name": "stdout",
     "output_type": "stream",
     "text": [
      "Matches any character which is not a Unicode decimal digit. This is the opposite of \\d. If the ASCII flag is used this becomes the equivalent of [^0-9] (but the flag affects the entire regular expression, so in such cases using an explicit [^0-9] may be a better choice).\n",
      "Matches any character which is not a Unicode decimal digit. This is the opposite of \\d. If the ASCII flag is used this becomes the equivalent of {^0-9} (but the flag affects the entire regular expression, so in such cases using an explicit {^0-9} may be a better choice).\n"
     ]
    }
   ],
   "source": [
    "# replace\n",
    "testStr = \"Matches any character which is not a Unicode decimal digit. This is the opposite of \\d. If the ASCII flag is used this becomes the equivalent of [^0-9] (but the flag affects the entire regular expression, so in such cases using an explicit [^0-9] may be a better choice).\"\n",
    "print(testStr)\n",
    "print(testStr.replace('[', \"{\").replace(']', \"}\"))"
   ]
  },
  {
   "cell_type": "code",
   "execution_count": 25,
   "metadata": {
    "collapsed": false,
    "deletable": true,
    "editable": true
   },
   "outputs": [
    {
     "name": "stdout",
     "output_type": "stream",
     "text": [
      "b'\\xe5\\x96\\x86'\n",
      "喆\n",
      "喆\n"
     ]
    },
    {
     "ename": "UnicodeEncodeError",
     "evalue": "'big5' codec can't encode character '\\u5586' in position 0: illegal multibyte sequence",
     "output_type": "error",
     "traceback": [
      "\u001b[1;31m---------------------------------------------------------------------------\u001b[0m",
      "\u001b[1;31mUnicodeEncodeError\u001b[0m                        Traceback (most recent call last)",
      "\u001b[1;32m<ipython-input-25-419522b8be47>\u001b[0m in \u001b[0;36m<module>\u001b[1;34m()\u001b[0m\n\u001b[0;32m      4\u001b[0m \u001b[0mprint\u001b[0m\u001b[1;33m(\u001b[0m\u001b[1;34mb'\\xe5\\x96\\x86'\u001b[0m\u001b[1;33m.\u001b[0m\u001b[0mdecode\u001b[0m\u001b[1;33m(\u001b[0m\u001b[1;34m'utf8'\u001b[0m\u001b[1;33m)\u001b[0m\u001b[1;33m)\u001b[0m \u001b[1;31m#notice b in front of the string\u001b[0m\u001b[1;33m\u001b[0m\u001b[0m\n\u001b[0;32m      5\u001b[0m \u001b[1;33m\u001b[0m\u001b[0m\n\u001b[1;32m----> 6\u001b[1;33m \u001b[0mprint\u001b[0m\u001b[1;33m(\u001b[0m\u001b[1;34m\"喆\"\u001b[0m\u001b[1;33m.\u001b[0m\u001b[0mencode\u001b[0m\u001b[1;33m(\u001b[0m\u001b[1;34m\"big5\"\u001b[0m\u001b[1;33m)\u001b[0m\u001b[1;33m)\u001b[0m\u001b[1;33m\u001b[0m\u001b[0m\n\u001b[0m\u001b[0;32m      7\u001b[0m \u001b[0mprint\u001b[0m\u001b[1;33m(\u001b[0m\u001b[1;34m\"喆\"\u001b[0m\u001b[1;33m.\u001b[0m\u001b[0mencode\u001b[0m\u001b[1;33m(\u001b[0m\u001b[1;34m\"cp950\"\u001b[0m\u001b[1;33m)\u001b[0m\u001b[1;33m)\u001b[0m\u001b[1;33m\u001b[0m\u001b[0m\n",
      "\u001b[1;31mUnicodeEncodeError\u001b[0m: 'big5' codec can't encode character '\\u5586' in position 0: illegal multibyte sequence"
     ]
    }
   ],
   "source": [
    "# encode, decode: cp950, utf8, big5\n",
    "print(\"喆\".encode(\"utf8\"))\n",
    "print(\"喆\".encode(\"utf8\").decode('utf8'))\n",
    "print(b'\\xe5\\x96\\x86'.decode('utf8')) #notice b in front of the string\n",
    "\n",
    "print(\"喆\".encode(\"big5\"))\n",
    "print(\"喆\".encode(\"cp950\"))"
   ]
  },
  {
   "cell_type": "code",
   "execution_count": 26,
   "metadata": {
    "collapsed": false,
    "deletable": true,
    "editable": true
   },
   "outputs": [
    {
     "name": "stdout",
     "output_type": "stream",
     "text": [
      "I am jeremy\n",
      "the score is 3.14\n"
     ]
    }
   ],
   "source": [
    "# format\n",
    "print(\"I am {}\".format('jeremy'))\n",
    "print(\"the score is {:.2f}\".format(3.1415926))\n",
    "\n",
    "\n",
    "# if your version == 3.6, you can direct use {var} to format\n",
    "name = \"jeremy\"\n",
    "# print(f\"I am {name}\")\n"
   ]
  },
  {
   "cell_type": "code",
   "execution_count": 27,
   "metadata": {
    "collapsed": false,
    "deletable": true,
    "editable": true
   },
   "outputs": [
    {
     "name": "stdout",
     "output_type": "stream",
     "text": [
      "True\n",
      "True\n",
      "True\n",
      "True\n",
      "False\n",
      "------------------------\n"
     ]
    }
   ],
   "source": [
    "# re\n",
    "import re\n",
    "\n",
    "## match char\n",
    "# \".\" => any char\n",
    "# \"\\\\\"=> \"\\\"\n",
    "# \"\\t\" => tab click\n",
    "# \"\\n\" => change line\n",
    "# \"\\d\" => number\n",
    "print(bool(re.match(r'.',\"123\")))\n",
    "print(bool(re.match(r'.',\"abcd\")))\n",
    "print(bool(re.match(r'.',\"甲乙丙\")))\n",
    "\n",
    "print(bool(re.match(r'\\d',\"1\")))\n",
    "print(bool(re.match(r'\\d',\"abcd\")))\n",
    "print(\"------------------------\")\n"
   ]
  },
  {
   "cell_type": "code",
   "execution_count": 28,
   "metadata": {
    "collapsed": false,
    "deletable": true,
    "editable": true
   },
   "outputs": [
    {
     "name": "stdout",
     "output_type": "stream",
     "text": [
      "True\n",
      "False\n",
      "------------------------\n",
      "False\n",
      "True\n",
      "------------------------\n",
      "True\n",
      "True\n",
      "True\n"
     ]
    }
   ],
   "source": [
    "# start, end\n",
    "# start from a\n",
    "print(bool(re.match(r'^a',\"aaa\")))\n",
    "print(bool(re.match(r'^a',\"baa\")))\n",
    "print(\"------------------------\")\n",
    "# end with a\n",
    "print(bool(re.match(r'b$',\"aab\")))\n",
    "print(bool(re.findall(r'b$',\"aab\")))\n",
    "print(\"------------------------\")\n",
    "\n",
    "# char numbers: +, {m,n}\n",
    "print(bool(re.match(r'.+?b$',\"aab\")))\n",
    "print(bool(re.match(r'..b$',\"aab\")))\n",
    "print(bool(re.match(r'.+b$',\"aab\")))"
   ]
  },
  {
   "cell_type": "markdown",
   "metadata": {
    "collapsed": true,
    "deletable": true,
    "editable": true
   },
   "source": [
    "# File Reader(txt, csv, json)"
   ]
  },
  {
   "cell_type": "code",
   "execution_count": 29,
   "metadata": {
    "collapsed": false,
    "deletable": true,
    "editable": true
   },
   "outputs": [],
   "source": [
    "file = open('FIleOperation\\\\test.txt', 'w', encoding='utf8')\n",
    "url = \"https://en.wikipedia.org/wiki/Python_(programming_language)\"\n",
    "file.write(\" \".join(getAlltermsFromUrl(url)))\n",
    "file.close()"
   ]
  },
  {
   "cell_type": "code",
   "execution_count": 30,
   "metadata": {
    "collapsed": false,
    "deletable": true,
    "editable": true
   },
   "outputs": [
    {
     "name": "stdout",
     "output_type": "stream",
     "text": [
      "45646\n"
     ]
    }
   ],
   "source": [
    "file = open(\"FileOperation\\\\test.txt\", 'r', encoding='utf8')\n",
    "fullText = file.read()\n",
    "print(len(fullText))\n",
    "file.close()"
   ]
  },
  {
   "cell_type": "code",
   "execution_count": 31,
   "metadata": {
    "collapsed": false,
    "deletable": true,
    "editable": true,
    "scrolled": true
   },
   "outputs": [
    {
     "name": "stdout",
     "output_type": "stream",
     "text": [
      "['scrapy.spidermiddlewares.httperror.HttpErrorMiddleware',\n",
      "\n",
      "2017-08-17 08:33:11 [chardet.charsetprober] DEBUG: SHIFT_JIS Japanese prober hit error at byte 894\n",
      "\n",
      "2017-08-17 08:33:11 [chardet.charsetprober] DEBUG: EUC-JP Japanese prober hit error at byte 109\n",
      "\n",
      "2017-08-17 08:33:11 [chardet.charsetprober] DEBUG: EUC-KR Korean prober hit error at byte 109\n",
      "\n",
      "2017-08-17 08:33:11 [chardet.charsetprober] DEBUG: CP949 Korean prober hit error at byte 759\n",
      "\n",
      "2017-08-17 08:33:15 [chardet.charsetprober] DEBUG: SHIFT_JIS Japanese prober hit error at byte 894\n",
      "\n",
      "2017-08-17 08:33:15 [chardet.charsetprober] DEBUG: EUC-JP Japanese prober hit error at byte 109\n",
      "\n",
      "2017-08-17 08:33:15 [chardet.charsetprober] DEBUG: EUC-KR Korean prober hit error at byte 109\n",
      "\n",
      "2017-08-17 08:33:15 [chardet.charsetprober] DEBUG: CP949 Korean prober hit error at byte 759\n",
      "\n",
      "2017-08-17 08:33:19 [chardet.charsetprober] DEBUG: SHIFT_JIS Japanese prober hit error at byte 894\n",
      "\n",
      "2017-08-17 08:33:19 [chardet.charsetprober] DEBUG: EUC-JP Japanese prober hit error at byte 109\n",
      "\n",
      "2017-08-17 08:33:19 [chardet.charsetprober] DEBUG: EUC-KR Korean prober hit error at byte 109\n",
      "\n",
      "2017-08-17 08:33:19 [chardet.charsetprober] DEBUG: CP949 Korean prober hit error at byte 759\n",
      "\n",
      "2017-08-17 08:33:21 [chardet.charsetprober] DEBUG: SHIFT_JIS Japanese prober hit error at byte 894\n",
      "\n",
      "2017-08-17 08:33:21 [chardet.charsetprober] DEBUG: EUC-JP Japanese prober hit error at byte 109\n",
      "\n",
      "2017-08-17 08:33:21 [chardet.charsetprober] DEBUG: EUC-KR Korean prober hit error at byte 109\n",
      "\n",
      "2017-08-17 08:33:21 [chardet.charsetprober] DEBUG: CP949 Korean prober hit error at byte 759\n",
      "\n",
      "2017-08-17 08:33:23 [chardet.charsetprober] DEBUG: SHIFT_JIS Japanese prober hit error at byte 894\n",
      "\n",
      "2017-08-17 08:33:23 [chardet.charsetprober] DEBUG: EUC-JP Japanese prober hit error at byte 109\n",
      "\n",
      "2017-08-17 08:33:23 [chardet.charsetprober] DEBUG: EUC-KR Korean prober hit error at byte 109\n",
      "\n",
      "2017-08-17 08:33:23 [chardet.charsetprober] DEBUG: CP949 Korean prober hit error at byte 759\n",
      "\n",
      "2017-08-17 08:33:28 [chardet.charsetprober] DEBUG: SHIFT_JIS Japanese prober hit error at byte 894\n",
      "\n",
      "2017-08-17 08:33:28 [chardet.charsetprober] DEBUG: EUC-JP Japanese prober hit error at byte 109\n",
      "\n",
      "2017-08-17 08:33:28 [chardet.charsetprober] DEBUG: EUC-KR Korean prober hit error at byte 109\n",
      "\n",
      "2017-08-17 08:33:28 [chardet.charsetprober] DEBUG: CP949 Korean prober hit error at byte 759\n",
      "\n",
      "2017-08-17 08:33:30 [chardet.charsetprober] DEBUG: SHIFT_JIS Japanese prober hit error at byte 894\n",
      "\n",
      "2017-08-17 08:33:30 [chardet.charsetprober] DEBUG: EUC-JP Japanese prober hit error at byte 109\n",
      "\n",
      "2017-08-17 08:33:30 [chardet.charsetprober] DEBUG: EUC-KR Korean prober hit error at byte 109\n",
      "\n",
      "2017-08-17 08:33:30 [chardet.charsetprober] DEBUG: CP949 Korean prober hit error at byte 759\n",
      "\n",
      "2017-08-17 08:33:33 [chardet.charsetprober] DEBUG: SHIFT_JIS Japanese prober hit error at byte 901\n",
      "\n",
      "2017-08-17 08:33:33 [chardet.charsetprober] DEBUG: EUC-JP Japanese prober hit error at byte 109\n",
      "\n",
      "2017-08-17 08:33:34 [chardet.charsetprober] DEBUG: EUC-KR Korean prober hit error at byte 109\n",
      "\n",
      "2017-08-17 08:33:34 [chardet.charsetprober] DEBUG: CP949 Korean prober hit error at byte 759\n",
      "\n",
      " 'downloader/exception_type_count/twisted.internet.error.TimeoutError': 2,\n",
      "\n",
      " 'retry/reason_count/twisted.internet.error.TimeoutError': 2,\n",
      "\n"
     ]
    }
   ],
   "source": [
    "file = open(\"FileOperation\\\\scrapy.log\", 'r', encoding='utf8')\n",
    "\n",
    "for line in file:\n",
    "    if 'error'in line:\n",
    "        print(line)\n",
    "\n",
    "file.close()"
   ]
  },
  {
   "cell_type": "code",
   "execution_count": 32,
   "metadata": {
    "collapsed": false,
    "deletable": true,
    "editable": true,
    "scrolled": true
   },
   "outputs": [
    {
     "ename": "URLError",
     "evalue": "<urlopen error [WinError 10061] 無法連線，因為目標電腦拒絕連線。>",
     "output_type": "error",
     "traceback": [
      "\u001b[1;31m---------------------------------------------------------------------------\u001b[0m",
      "\u001b[1;31mConnectionRefusedError\u001b[0m                    Traceback (most recent call last)",
      "\u001b[1;32mc:\\users\\jeremy\\appdata\\local\\programs\\python\\python35\\lib\\urllib\\request.py\u001b[0m in \u001b[0;36mdo_open\u001b[1;34m(self, http_class, req, **http_conn_args)\u001b[0m\n\u001b[0;32m   1253\u001b[0m             \u001b[1;32mtry\u001b[0m\u001b[1;33m:\u001b[0m\u001b[1;33m\u001b[0m\u001b[0m\n\u001b[1;32m-> 1254\u001b[1;33m                 \u001b[0mh\u001b[0m\u001b[1;33m.\u001b[0m\u001b[0mrequest\u001b[0m\u001b[1;33m(\u001b[0m\u001b[0mreq\u001b[0m\u001b[1;33m.\u001b[0m\u001b[0mget_method\u001b[0m\u001b[1;33m(\u001b[0m\u001b[1;33m)\u001b[0m\u001b[1;33m,\u001b[0m \u001b[0mreq\u001b[0m\u001b[1;33m.\u001b[0m\u001b[0mselector\u001b[0m\u001b[1;33m,\u001b[0m \u001b[0mreq\u001b[0m\u001b[1;33m.\u001b[0m\u001b[0mdata\u001b[0m\u001b[1;33m,\u001b[0m \u001b[0mheaders\u001b[0m\u001b[1;33m)\u001b[0m\u001b[1;33m\u001b[0m\u001b[0m\n\u001b[0m\u001b[0;32m   1255\u001b[0m             \u001b[1;32mexcept\u001b[0m \u001b[0mOSError\u001b[0m \u001b[1;32mas\u001b[0m \u001b[0merr\u001b[0m\u001b[1;33m:\u001b[0m \u001b[1;31m# timeout error\u001b[0m\u001b[1;33m\u001b[0m\u001b[0m\n",
      "\u001b[1;32mc:\\users\\jeremy\\appdata\\local\\programs\\python\\python35\\lib\\http\\client.py\u001b[0m in \u001b[0;36mrequest\u001b[1;34m(self, method, url, body, headers)\u001b[0m\n\u001b[0;32m   1106\u001b[0m         \u001b[1;34m\"\"\"Send a complete request to the server.\"\"\"\u001b[0m\u001b[1;33m\u001b[0m\u001b[0m\n\u001b[1;32m-> 1107\u001b[1;33m         \u001b[0mself\u001b[0m\u001b[1;33m.\u001b[0m\u001b[0m_send_request\u001b[0m\u001b[1;33m(\u001b[0m\u001b[0mmethod\u001b[0m\u001b[1;33m,\u001b[0m \u001b[0murl\u001b[0m\u001b[1;33m,\u001b[0m \u001b[0mbody\u001b[0m\u001b[1;33m,\u001b[0m \u001b[0mheaders\u001b[0m\u001b[1;33m)\u001b[0m\u001b[1;33m\u001b[0m\u001b[0m\n\u001b[0m\u001b[0;32m   1108\u001b[0m \u001b[1;33m\u001b[0m\u001b[0m\n",
      "\u001b[1;32mc:\\users\\jeremy\\appdata\\local\\programs\\python\\python35\\lib\\http\\client.py\u001b[0m in \u001b[0;36m_send_request\u001b[1;34m(self, method, url, body, headers)\u001b[0m\n\u001b[0;32m   1151\u001b[0m             \u001b[0mbody\u001b[0m \u001b[1;33m=\u001b[0m \u001b[0m_encode\u001b[0m\u001b[1;33m(\u001b[0m\u001b[0mbody\u001b[0m\u001b[1;33m,\u001b[0m \u001b[1;34m'body'\u001b[0m\u001b[1;33m)\u001b[0m\u001b[1;33m\u001b[0m\u001b[0m\n\u001b[1;32m-> 1152\u001b[1;33m         \u001b[0mself\u001b[0m\u001b[1;33m.\u001b[0m\u001b[0mendheaders\u001b[0m\u001b[1;33m(\u001b[0m\u001b[0mbody\u001b[0m\u001b[1;33m)\u001b[0m\u001b[1;33m\u001b[0m\u001b[0m\n\u001b[0m\u001b[0;32m   1153\u001b[0m \u001b[1;33m\u001b[0m\u001b[0m\n",
      "\u001b[1;32mc:\\users\\jeremy\\appdata\\local\\programs\\python\\python35\\lib\\http\\client.py\u001b[0m in \u001b[0;36mendheaders\u001b[1;34m(self, message_body)\u001b[0m\n\u001b[0;32m   1102\u001b[0m             \u001b[1;32mraise\u001b[0m \u001b[0mCannotSendHeader\u001b[0m\u001b[1;33m(\u001b[0m\u001b[1;33m)\u001b[0m\u001b[1;33m\u001b[0m\u001b[0m\n\u001b[1;32m-> 1103\u001b[1;33m         \u001b[0mself\u001b[0m\u001b[1;33m.\u001b[0m\u001b[0m_send_output\u001b[0m\u001b[1;33m(\u001b[0m\u001b[0mmessage_body\u001b[0m\u001b[1;33m)\u001b[0m\u001b[1;33m\u001b[0m\u001b[0m\n\u001b[0m\u001b[0;32m   1104\u001b[0m \u001b[1;33m\u001b[0m\u001b[0m\n",
      "\u001b[1;32mc:\\users\\jeremy\\appdata\\local\\programs\\python\\python35\\lib\\http\\client.py\u001b[0m in \u001b[0;36m_send_output\u001b[1;34m(self, message_body)\u001b[0m\n\u001b[0;32m    933\u001b[0m \u001b[1;33m\u001b[0m\u001b[0m\n\u001b[1;32m--> 934\u001b[1;33m         \u001b[0mself\u001b[0m\u001b[1;33m.\u001b[0m\u001b[0msend\u001b[0m\u001b[1;33m(\u001b[0m\u001b[0mmsg\u001b[0m\u001b[1;33m)\u001b[0m\u001b[1;33m\u001b[0m\u001b[0m\n\u001b[0m\u001b[0;32m    935\u001b[0m         \u001b[1;32mif\u001b[0m \u001b[0mmessage_body\u001b[0m \u001b[1;32mis\u001b[0m \u001b[1;32mnot\u001b[0m \u001b[1;32mNone\u001b[0m\u001b[1;33m:\u001b[0m\u001b[1;33m\u001b[0m\u001b[0m\n",
      "\u001b[1;32mc:\\users\\jeremy\\appdata\\local\\programs\\python\\python35\\lib\\http\\client.py\u001b[0m in \u001b[0;36msend\u001b[1;34m(self, data)\u001b[0m\n\u001b[0;32m    876\u001b[0m             \u001b[1;32mif\u001b[0m \u001b[0mself\u001b[0m\u001b[1;33m.\u001b[0m\u001b[0mauto_open\u001b[0m\u001b[1;33m:\u001b[0m\u001b[1;33m\u001b[0m\u001b[0m\n\u001b[1;32m--> 877\u001b[1;33m                 \u001b[0mself\u001b[0m\u001b[1;33m.\u001b[0m\u001b[0mconnect\u001b[0m\u001b[1;33m(\u001b[0m\u001b[1;33m)\u001b[0m\u001b[1;33m\u001b[0m\u001b[0m\n\u001b[0m\u001b[0;32m    878\u001b[0m             \u001b[1;32melse\u001b[0m\u001b[1;33m:\u001b[0m\u001b[1;33m\u001b[0m\u001b[0m\n",
      "\u001b[1;32mc:\\users\\jeremy\\appdata\\local\\programs\\python\\python35\\lib\\http\\client.py\u001b[0m in \u001b[0;36mconnect\u001b[1;34m(self)\u001b[0m\n\u001b[0;32m    848\u001b[0m         self.sock = self._create_connection(\n\u001b[1;32m--> 849\u001b[1;33m             (self.host,self.port), self.timeout, self.source_address)\n\u001b[0m\u001b[0;32m    850\u001b[0m         \u001b[0mself\u001b[0m\u001b[1;33m.\u001b[0m\u001b[0msock\u001b[0m\u001b[1;33m.\u001b[0m\u001b[0msetsockopt\u001b[0m\u001b[1;33m(\u001b[0m\u001b[0msocket\u001b[0m\u001b[1;33m.\u001b[0m\u001b[0mIPPROTO_TCP\u001b[0m\u001b[1;33m,\u001b[0m \u001b[0msocket\u001b[0m\u001b[1;33m.\u001b[0m\u001b[0mTCP_NODELAY\u001b[0m\u001b[1;33m,\u001b[0m \u001b[1;36m1\u001b[0m\u001b[1;33m)\u001b[0m\u001b[1;33m\u001b[0m\u001b[0m\n",
      "\u001b[1;32mc:\\users\\jeremy\\appdata\\local\\programs\\python\\python35\\lib\\socket.py\u001b[0m in \u001b[0;36mcreate_connection\u001b[1;34m(address, timeout, source_address)\u001b[0m\n\u001b[0;32m    711\u001b[0m     \u001b[1;32mif\u001b[0m \u001b[0merr\u001b[0m \u001b[1;32mis\u001b[0m \u001b[1;32mnot\u001b[0m \u001b[1;32mNone\u001b[0m\u001b[1;33m:\u001b[0m\u001b[1;33m\u001b[0m\u001b[0m\n\u001b[1;32m--> 712\u001b[1;33m         \u001b[1;32mraise\u001b[0m \u001b[0merr\u001b[0m\u001b[1;33m\u001b[0m\u001b[0m\n\u001b[0m\u001b[0;32m    713\u001b[0m     \u001b[1;32melse\u001b[0m\u001b[1;33m:\u001b[0m\u001b[1;33m\u001b[0m\u001b[0m\n",
      "\u001b[1;32mc:\\users\\jeremy\\appdata\\local\\programs\\python\\python35\\lib\\socket.py\u001b[0m in \u001b[0;36mcreate_connection\u001b[1;34m(address, timeout, source_address)\u001b[0m\n\u001b[0;32m    702\u001b[0m                 \u001b[0msock\u001b[0m\u001b[1;33m.\u001b[0m\u001b[0mbind\u001b[0m\u001b[1;33m(\u001b[0m\u001b[0msource_address\u001b[0m\u001b[1;33m)\u001b[0m\u001b[1;33m\u001b[0m\u001b[0m\n\u001b[1;32m--> 703\u001b[1;33m             \u001b[0msock\u001b[0m\u001b[1;33m.\u001b[0m\u001b[0mconnect\u001b[0m\u001b[1;33m(\u001b[0m\u001b[0msa\u001b[0m\u001b[1;33m)\u001b[0m\u001b[1;33m\u001b[0m\u001b[0m\n\u001b[0m\u001b[0;32m    704\u001b[0m             \u001b[1;32mreturn\u001b[0m \u001b[0msock\u001b[0m\u001b[1;33m\u001b[0m\u001b[0m\n",
      "\u001b[1;31mConnectionRefusedError\u001b[0m: [WinError 10061] 無法連線，因為目標電腦拒絕連線。",
      "\nDuring handling of the above exception, another exception occurred:\n",
      "\u001b[1;31mURLError\u001b[0m                                  Traceback (most recent call last)",
      "\u001b[1;32m<ipython-input-32-edaedc70934d>\u001b[0m in \u001b[0;36m<module>\u001b[1;34m()\u001b[0m\n\u001b[1;32m----> 1\u001b[1;33m \u001b[0mdf\u001b[0m \u001b[1;33m=\u001b[0m \u001b[0mpd\u001b[0m\u001b[1;33m.\u001b[0m\u001b[0mread_html\u001b[0m\u001b[1;33m(\u001b[0m\u001b[1;34m\"http://mops.twse.com.tw/server-java/t164sb01?step=1&CO_ID=4104&SYEAR=2017&SSEASON=2&REPORT_ID=C\"\u001b[0m\u001b[1;33m,\u001b[0m \u001b[0mencoding\u001b[0m\u001b[1;33m=\u001b[0m\u001b[1;34m'big5'\u001b[0m\u001b[1;33m)\u001b[0m\u001b[1;33m[\u001b[0m\u001b[1;36m3\u001b[0m\u001b[1;33m]\u001b[0m\u001b[1;33m\u001b[0m\u001b[0m\n\u001b[0m\u001b[0;32m      2\u001b[0m \u001b[1;31m# df.to_csv('FileOperation\\\\table.csv', header=None, index=False)\u001b[0m\u001b[1;33m\u001b[0m\u001b[1;33m\u001b[0m\u001b[0m\n\u001b[0;32m      3\u001b[0m \u001b[1;33m\u001b[0m\u001b[0m\n\u001b[0;32m      4\u001b[0m \u001b[0mdf\u001b[0m\u001b[1;33m.\u001b[0m\u001b[0mcolumns\u001b[0m \u001b[1;33m=\u001b[0m \u001b[0mdf\u001b[0m\u001b[1;33m.\u001b[0m\u001b[0mxs\u001b[0m\u001b[1;33m(\u001b[0m\u001b[1;36m0\u001b[0m\u001b[1;33m)\u001b[0m\u001b[1;33m\u001b[0m\u001b[0m\n\u001b[0;32m      5\u001b[0m \u001b[0mdf\u001b[0m\u001b[1;33m.\u001b[0m\u001b[0mdrop\u001b[0m\u001b[1;33m(\u001b[0m\u001b[1;36m0\u001b[0m\u001b[1;33m,\u001b[0m \u001b[0minplace\u001b[0m\u001b[1;33m=\u001b[0m\u001b[1;32mTrue\u001b[0m\u001b[1;33m)\u001b[0m\u001b[1;33m\u001b[0m\u001b[0m\n",
      "\u001b[1;32mc:\\users\\jeremy\\appdata\\local\\programs\\python\\python35\\lib\\site-packages\\pandas\\io\\html.py\u001b[0m in \u001b[0;36mread_html\u001b[1;34m(io, match, flavor, header, index_col, skiprows, attrs, parse_dates, tupleize_cols, thousands, encoding, decimal, converters, na_values, keep_default_na)\u001b[0m\n\u001b[0;32m    904\u001b[0m                   \u001b[0mthousands\u001b[0m\u001b[1;33m=\u001b[0m\u001b[0mthousands\u001b[0m\u001b[1;33m,\u001b[0m \u001b[0mattrs\u001b[0m\u001b[1;33m=\u001b[0m\u001b[0mattrs\u001b[0m\u001b[1;33m,\u001b[0m \u001b[0mencoding\u001b[0m\u001b[1;33m=\u001b[0m\u001b[0mencoding\u001b[0m\u001b[1;33m,\u001b[0m\u001b[1;33m\u001b[0m\u001b[0m\n\u001b[0;32m    905\u001b[0m                   \u001b[0mdecimal\u001b[0m\u001b[1;33m=\u001b[0m\u001b[0mdecimal\u001b[0m\u001b[1;33m,\u001b[0m \u001b[0mconverters\u001b[0m\u001b[1;33m=\u001b[0m\u001b[0mconverters\u001b[0m\u001b[1;33m,\u001b[0m \u001b[0mna_values\u001b[0m\u001b[1;33m=\u001b[0m\u001b[0mna_values\u001b[0m\u001b[1;33m,\u001b[0m\u001b[1;33m\u001b[0m\u001b[0m\n\u001b[1;32m--> 906\u001b[1;33m                   keep_default_na=keep_default_na)\n\u001b[0m",
      "\u001b[1;32mc:\\users\\jeremy\\appdata\\local\\programs\\python\\python35\\lib\\site-packages\\pandas\\io\\html.py\u001b[0m in \u001b[0;36m_parse\u001b[1;34m(flavor, io, match, attrs, encoding, **kwargs)\u001b[0m\n\u001b[0;32m    741\u001b[0m             \u001b[1;32mbreak\u001b[0m\u001b[1;33m\u001b[0m\u001b[0m\n\u001b[0;32m    742\u001b[0m     \u001b[1;32melse\u001b[0m\u001b[1;33m:\u001b[0m\u001b[1;33m\u001b[0m\u001b[0m\n\u001b[1;32m--> 743\u001b[1;33m         \u001b[0mraise_with_traceback\u001b[0m\u001b[1;33m(\u001b[0m\u001b[0mretained\u001b[0m\u001b[1;33m)\u001b[0m\u001b[1;33m\u001b[0m\u001b[0m\n\u001b[0m\u001b[0;32m    744\u001b[0m \u001b[1;33m\u001b[0m\u001b[0m\n\u001b[0;32m    745\u001b[0m     \u001b[0mret\u001b[0m \u001b[1;33m=\u001b[0m \u001b[1;33m[\u001b[0m\u001b[1;33m]\u001b[0m\u001b[1;33m\u001b[0m\u001b[0m\n",
      "\u001b[1;32mc:\\users\\jeremy\\appdata\\local\\programs\\python\\python35\\lib\\site-packages\\pandas\\compat\\__init__.py\u001b[0m in \u001b[0;36mraise_with_traceback\u001b[1;34m(exc, traceback)\u001b[0m\n\u001b[0;32m    342\u001b[0m         \u001b[1;32mif\u001b[0m \u001b[0mtraceback\u001b[0m \u001b[1;33m==\u001b[0m \u001b[0mEllipsis\u001b[0m\u001b[1;33m:\u001b[0m\u001b[1;33m\u001b[0m\u001b[0m\n\u001b[0;32m    343\u001b[0m             \u001b[0m_\u001b[0m\u001b[1;33m,\u001b[0m \u001b[0m_\u001b[0m\u001b[1;33m,\u001b[0m \u001b[0mtraceback\u001b[0m \u001b[1;33m=\u001b[0m \u001b[0msys\u001b[0m\u001b[1;33m.\u001b[0m\u001b[0mexc_info\u001b[0m\u001b[1;33m(\u001b[0m\u001b[1;33m)\u001b[0m\u001b[1;33m\u001b[0m\u001b[0m\n\u001b[1;32m--> 344\u001b[1;33m         \u001b[1;32mraise\u001b[0m \u001b[0mexc\u001b[0m\u001b[1;33m.\u001b[0m\u001b[0mwith_traceback\u001b[0m\u001b[1;33m(\u001b[0m\u001b[0mtraceback\u001b[0m\u001b[1;33m)\u001b[0m\u001b[1;33m\u001b[0m\u001b[0m\n\u001b[0m\u001b[0;32m    345\u001b[0m \u001b[1;32melse\u001b[0m\u001b[1;33m:\u001b[0m\u001b[1;33m\u001b[0m\u001b[0m\n\u001b[0;32m    346\u001b[0m     \u001b[1;31m# this version of raise is a syntax error in Python 3\u001b[0m\u001b[1;33m\u001b[0m\u001b[1;33m\u001b[0m\u001b[0m\n",
      "\u001b[1;31mURLError\u001b[0m: <urlopen error [WinError 10061] 無法連線，因為目標電腦拒絕連線。>"
     ]
    }
   ],
   "source": [
    "df = pd.read_html(\"http://mops.twse.com.tw/server-java/t164sb01?step=1&CO_ID=4104&SYEAR=2017&SSEASON=2&REPORT_ID=C\", encoding='big5')[3]\n",
    "# df.to_csv('FileOperation\\\\table.csv', header=None, index=False)\n",
    "\n",
    "df.columns = df.xs(0)\n",
    "df.drop(0, inplace=True)\n",
    "df.T.to_json(\"FileOperation\\\\table1.json\", force_ascii=None)"
   ]
  },
  {
   "cell_type": "code",
   "execution_count": 33,
   "metadata": {
    "collapsed": false,
    "deletable": true,
    "editable": true
   },
   "outputs": [],
   "source": [
    "import json\n",
    "import pandas as pd\n",
    "df = pd.read_html(\"http://mops.twse.com.tw/server-java/t164sb01?step=1&CO_ID=4104&SYEAR=2017&SSEASON=2&REPORT_ID=C\", encoding='big5')[3]\n",
    "dist2017 = {}\n",
    "dist2016 = {}\n",
    "\n",
    "for row in df.iterrows():\n",
    "    if pd.notnull(row[1][1]) and row[1][0] != '會計項目':\n",
    "        dist2017[row[1][0]] = row[1][1]\n",
    "        dist2016[row[1][0]] = row[1][2]\n",
    "\n",
    "tableDist = {\n",
    "    '2017年01月01日至2017年06月30日':dist2017,\n",
    "    '2016年01月01日至2016年06月30日':dist2016\n",
    "}\n",
    "\n",
    "with open('FileOperation\\\\table1.json', 'w', encoding='utf8') as f:\n",
    "    json.dump(tableDist, f)"
   ]
  },
  {
   "cell_type": "code",
   "execution_count": 34,
   "metadata": {
    "collapsed": false,
    "deletable": true,
    "editable": true
   },
   "outputs": [
    {
     "name": "stdout",
     "output_type": "stream",
     "text": [
      "2\n",
      "dict_keys(['2017年01月01日至2017年06月30日', '2016年01月01日至2016年06月30日'])\n"
     ]
    }
   ],
   "source": [
    "file = open('FileOperation\\\\table1.json', encoding='utf8')\n",
    "tableJson = json.loads(file.read())\n",
    "print(len(tableJson))\n",
    "print(tableJson.keys())"
   ]
  },
  {
   "cell_type": "code",
   "execution_count": null,
   "metadata": {
    "collapsed": true,
    "deletable": true,
    "editable": true
   },
   "outputs": [],
   "source": []
  },
  {
   "cell_type": "code",
   "execution_count": null,
   "metadata": {
    "collapsed": true
   },
   "outputs": [],
   "source": []
  },
  {
   "cell_type": "code",
   "execution_count": null,
   "metadata": {
    "collapsed": true
   },
   "outputs": [],
   "source": []
  }
 ],
 "metadata": {
  "kernelspec": {
   "display_name": "Python 3",
   "language": "python",
   "name": "python3"
  },
  "language_info": {
   "codemirror_mode": {
    "name": "ipython",
    "version": 3
   },
   "file_extension": ".py",
   "mimetype": "text/x-python",
   "name": "python",
   "nbconvert_exporter": "python",
   "pygments_lexer": "ipython3",
   "version": "3.5.3"
  }
 },
 "nbformat": 4,
 "nbformat_minor": 2
}
