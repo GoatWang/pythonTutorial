{
 "cells": [
  {
   "cell_type": "code",
   "execution_count": 29,
   "metadata": {
    "collapsed": false,
    "deletable": true,
    "editable": true
   },
   "outputs": [],
   "source": [
    "import math\n",
    "import pandas as pd\n",
    "from sklearn import datasets\n",
    "iris = datasets.load_iris()\n",
    "\n",
    "import matplotlib.pyplot as plt\n",
    "from mpl_toolkits.mplot3d import Axes3D\n",
    "from sklearn.decomposition import PCA"
   ]
  },
  {
   "cell_type": "markdown",
   "metadata": {
    "deletable": true,
    "editable": true
   },
   "source": [
    "# 1. Contents\n",
    "1. Decision Tree\n",
    "2. Naïve Bayes\n",
    "3. Logistic Regression \n",
    "4. K Nearest Neighbor\n",
    "\n",
    "# 2. What is Classfication\n",
    "## (1). Binary Classfication\n",
    "- can you calssify people what will buy the computer and the other?\n",
    "<table>\n",
    "<tr><td>age</td><td>income</td><td>student</td><td>credit_rating</td><td>buys_computer</td></tr>\n",
    "<tr><td><=30</td><td>high</td><td>no</td><td>fair</td><td>no</td></tr>\n",
    "<tr><td><=30</td><td>high</td><td>no</td><td>excellent</td><td>no</td></tr>\n",
    "<tr><td>30…40</td><td>high</td><td>no</td><td>fair</td><td>yes</td></tr>\n",
    "<tr><td>>40</td><td>medium</td><td>no</td><td>fair</td><td>yes</td></tr>\n",
    "<tr><td>>40</td><td>low</td><td>yes</td><td>fair</td><td>yes</td></tr>\n",
    "<tr><td>>40</td><td>low</td><td>yes</td><td>excellent</td><td>no</td></tr>\n",
    "<tr><td>31…40</td><td>low</td><td>yes</td><td>excellent</td><td>yes</td></tr>\n",
    "<tr><td><=30</td><td>medium</td><td>no</td><td>fair</td><td>no</td></tr>\n",
    "<tr><td><=30</td><td>low</td><td>yes</td><td>fair</td><td>yes</td></tr>\n",
    "<tr><td>>40</td><td>medium</td><td>yes</td><td>fair</td><td>yes</td></tr>\n",
    "<tr><td><=30</td><td>medium</td><td>yes</td><td>excellent</td><td>yes</td></tr>\n",
    "<tr><td>31…40</td><td>medium</td><td>no</td><td>excellent</td><td>yes</td></tr>\n",
    "<tr><td>31…40</td><td>high</td><td>yes</td><td>fair</td><td>yes</td></tr>\n",
    "<tr><td>>40</td><td>medium</td><td>no</td><td>excellent</td><td>no</td></tr>\n",
    "</table>\n",
    "<br/>\n",
    "<br/>\n",
    "\n",
    "- can you calssify if two sentences are asking the same questions or not?\n",
    "<table>\n",
    "<tr><td>id</td><td>qid1</td><td>qid2</td><td>question1</td><td>question2</td><td>is_duplicate</td></tr>\n",
    "<tr><td>0</td><td>1</td><td>2</td><td>What is the step by step guide to invest in share market in india?</td><td>What is the step by step guide to invest in share market?</td><td>0</td></tr>\n",
    "<tr><td>1</td><td>3</td><td>4</td><td>What is the story of Kohinoor (Koh-i-Noor) Diamond?</td><td>What would happen if the Indian government stole the Kohinoor (Koh-i-Noor) diamond back?</td><td>0</td></tr>\n",
    "<tr><td>2</td><td>5</td><td>6</td><td>How can I increase the speed of my internet connection while using a VPN?</td><td>How can Internet speed be increased by hacking through DNS?</td><td>0</td></tr>\n",
    "<tr><td>3</td><td>7</td><td>8</td><td>Why am I mentally very lonely? How can I solve it?</td><td>Find the remainder when [math]23^{24}[/math] is divided by 24,23?</td><td>0</td></tr>\n",
    "<tr><td>4</td><td>9</td><td>10</td><td>Which one dissolve in water quikly sugar, salt, methane and carbon di oxide?</td><td>Which fish would survive in salt water?</td><td>0</td></tr>\n",
    "<tr><td>5</td><td>11</td><td>12</td><td>Astrology: I am a Capricorn Sun Cap moon and cap rising...what does that say about me?</td><td>I'm a triple Capricorn (Sun, Moon and ascendant in Capricorn) What does this say about me?</td><td>1</td></tr>\n",
    "<tr><td>6</td><td>13</td><td>14</td><td>Should I buy tiago?</td><td>What keeps childern active and far from phone and video games?</td><td>0</td></tr>\n",
    "<tr><td>7</td><td>15</td><td>16</td><td>How can I be a good geologist?</td><td>What should I do to be a great geologist?</td><td>1</td></tr>\n",
    "<tr><td>8</td><td>17</td><td>18</td><td>When do you use シ instead of し?</td><td>When do you use \"\"&\"\" instead of \"\"and\"\"?</td><td>0</td></tr>\n",
    "<tr><td>9</td><td>19</td><td>20</td><td>Motorola (company): Can I hack my Charter Motorolla DCX3400?</td><td>How do I hack Motorola DCX3400 for free internet?</td><td>0</td></tr>\n",
    "<tr><td>10</td><td>21</td><td>22</td><td>Method to find separation of slits using fresnel biprism?</td><td>What are some of the things technicians can tell about the durability and reliability of Laptops and its components?</td><td>0</td></tr>\n",
    "<tr><td>11</td><td>23</td><td>24</td><td>How do I read and find my YouTube comments?</td><td>How can I see all my Youtube comments?</td><td>1</td></tr>\n",
    "<tr><td>12</td><td>25</td><td>26</td><td>What can make Physics easy to learn?</td><td>How can you make physics easy to learn?</td><td>1</td></tr>\n",
    "</table>\n",
    "<br/>\n",
    "<br/>\n",
    "\n",
    "- classfy if a image is a cat?\n",
    "<img src=\"images/catImgs.JPG\"/>\n",
    "\n",
    "## (1). Multiple Class Classfication\n",
    "- how to classfy news into different category\n",
    "- how to classfy flowers into different type? (if you have height and with of its petals(花瓣) and specals(萼片))"
   ]
  },
  {
   "cell_type": "code",
   "execution_count": 3,
   "metadata": {
    "collapsed": false
   },
   "outputs": [
    {
     "data": {
      "text/html": [
       "<div>\n",
       "<style>\n",
       "    .dataframe thead tr:only-child th {\n",
       "        text-align: right;\n",
       "    }\n",
       "\n",
       "    .dataframe thead th {\n",
       "        text-align: left;\n",
       "    }\n",
       "\n",
       "    .dataframe tbody tr th {\n",
       "        vertical-align: top;\n",
       "    }\n",
       "</style>\n",
       "<table border=\"1\" class=\"dataframe\">\n",
       "  <thead>\n",
       "    <tr style=\"text-align: right;\">\n",
       "      <th></th>\n",
       "      <th>sepal length (cm)</th>\n",
       "      <th>sepal width (cm)</th>\n",
       "      <th>petal length (cm)</th>\n",
       "      <th>petal width (cm)</th>\n",
       "      <th>type</th>\n",
       "    </tr>\n",
       "  </thead>\n",
       "  <tbody>\n",
       "    <tr>\n",
       "      <th>0</th>\n",
       "      <td>5.1</td>\n",
       "      <td>3.5</td>\n",
       "      <td>1.4</td>\n",
       "      <td>0.2</td>\n",
       "      <td>setosa</td>\n",
       "    </tr>\n",
       "    <tr>\n",
       "      <th>1</th>\n",
       "      <td>4.9</td>\n",
       "      <td>3.0</td>\n",
       "      <td>1.4</td>\n",
       "      <td>0.2</td>\n",
       "      <td>setosa</td>\n",
       "    </tr>\n",
       "    <tr>\n",
       "      <th>2</th>\n",
       "      <td>4.7</td>\n",
       "      <td>3.2</td>\n",
       "      <td>1.3</td>\n",
       "      <td>0.2</td>\n",
       "      <td>setosa</td>\n",
       "    </tr>\n",
       "    <tr>\n",
       "      <th>3</th>\n",
       "      <td>4.6</td>\n",
       "      <td>3.1</td>\n",
       "      <td>1.5</td>\n",
       "      <td>0.2</td>\n",
       "      <td>setosa</td>\n",
       "    </tr>\n",
       "    <tr>\n",
       "      <th>4</th>\n",
       "      <td>5.0</td>\n",
       "      <td>3.6</td>\n",
       "      <td>1.4</td>\n",
       "      <td>0.2</td>\n",
       "      <td>setosa</td>\n",
       "    </tr>\n",
       "    <tr>\n",
       "      <th>50</th>\n",
       "      <td>7.0</td>\n",
       "      <td>3.2</td>\n",
       "      <td>4.7</td>\n",
       "      <td>1.4</td>\n",
       "      <td>versicolor</td>\n",
       "    </tr>\n",
       "    <tr>\n",
       "      <th>51</th>\n",
       "      <td>6.4</td>\n",
       "      <td>3.2</td>\n",
       "      <td>4.5</td>\n",
       "      <td>1.5</td>\n",
       "      <td>versicolor</td>\n",
       "    </tr>\n",
       "    <tr>\n",
       "      <th>52</th>\n",
       "      <td>6.9</td>\n",
       "      <td>3.1</td>\n",
       "      <td>4.9</td>\n",
       "      <td>1.5</td>\n",
       "      <td>versicolor</td>\n",
       "    </tr>\n",
       "    <tr>\n",
       "      <th>53</th>\n",
       "      <td>5.5</td>\n",
       "      <td>2.3</td>\n",
       "      <td>4.0</td>\n",
       "      <td>1.3</td>\n",
       "      <td>versicolor</td>\n",
       "    </tr>\n",
       "    <tr>\n",
       "      <th>54</th>\n",
       "      <td>6.5</td>\n",
       "      <td>2.8</td>\n",
       "      <td>4.6</td>\n",
       "      <td>1.5</td>\n",
       "      <td>versicolor</td>\n",
       "    </tr>\n",
       "    <tr>\n",
       "      <th>100</th>\n",
       "      <td>6.3</td>\n",
       "      <td>3.3</td>\n",
       "      <td>6.0</td>\n",
       "      <td>2.5</td>\n",
       "      <td>virginica</td>\n",
       "    </tr>\n",
       "    <tr>\n",
       "      <th>101</th>\n",
       "      <td>5.8</td>\n",
       "      <td>2.7</td>\n",
       "      <td>5.1</td>\n",
       "      <td>1.9</td>\n",
       "      <td>virginica</td>\n",
       "    </tr>\n",
       "    <tr>\n",
       "      <th>102</th>\n",
       "      <td>7.1</td>\n",
       "      <td>3.0</td>\n",
       "      <td>5.9</td>\n",
       "      <td>2.1</td>\n",
       "      <td>virginica</td>\n",
       "    </tr>\n",
       "    <tr>\n",
       "      <th>103</th>\n",
       "      <td>6.3</td>\n",
       "      <td>2.9</td>\n",
       "      <td>5.6</td>\n",
       "      <td>1.8</td>\n",
       "      <td>virginica</td>\n",
       "    </tr>\n",
       "    <tr>\n",
       "      <th>104</th>\n",
       "      <td>6.5</td>\n",
       "      <td>3.0</td>\n",
       "      <td>5.8</td>\n",
       "      <td>2.2</td>\n",
       "      <td>virginica</td>\n",
       "    </tr>\n",
       "  </tbody>\n",
       "</table>\n",
       "</div>"
      ],
      "text/plain": [
       "     sepal length (cm)  sepal width (cm)  petal length (cm)  petal width (cm)  \\\n",
       "0                  5.1               3.5                1.4               0.2   \n",
       "1                  4.9               3.0                1.4               0.2   \n",
       "2                  4.7               3.2                1.3               0.2   \n",
       "3                  4.6               3.1                1.5               0.2   \n",
       "4                  5.0               3.6                1.4               0.2   \n",
       "50                 7.0               3.2                4.7               1.4   \n",
       "51                 6.4               3.2                4.5               1.5   \n",
       "52                 6.9               3.1                4.9               1.5   \n",
       "53                 5.5               2.3                4.0               1.3   \n",
       "54                 6.5               2.8                4.6               1.5   \n",
       "100                6.3               3.3                6.0               2.5   \n",
       "101                5.8               2.7                5.1               1.9   \n",
       "102                7.1               3.0                5.9               2.1   \n",
       "103                6.3               2.9                5.6               1.8   \n",
       "104                6.5               3.0                5.8               2.2   \n",
       "\n",
       "           type  \n",
       "0        setosa  \n",
       "1        setosa  \n",
       "2        setosa  \n",
       "3        setosa  \n",
       "4        setosa  \n",
       "50   versicolor  \n",
       "51   versicolor  \n",
       "52   versicolor  \n",
       "53   versicolor  \n",
       "54   versicolor  \n",
       "100   virginica  \n",
       "101   virginica  \n",
       "102   virginica  \n",
       "103   virginica  \n",
       "104   virginica  "
      ]
     },
     "execution_count": 3,
     "metadata": {},
     "output_type": "execute_result"
    }
   ],
   "source": [
    "df = pd.DataFrame(iris.data)\n",
    "folwer_type = {\n",
    "    0:iris.target_names[0],\n",
    "    1:iris.target_names[1],\n",
    "    2:iris.target_names[2],\n",
    "}\n",
    "df.columns = iris.feature_names\n",
    "\n",
    "\n",
    "df['type'] = [folwer_type.get(i) for i in iris.target]\n",
    "df1 = df[df['type'] == list(folwer_type.values())[0]][:5].copy()\n",
    "df2 = df[df['type'] == list(folwer_type.values())[1]][:5].copy()\n",
    "df3 = df[df['type'] == list(folwer_type.values())[2]][:5].copy()\n",
    "pd.concat([df1, df2, df3])"
   ]
  },
  {
   "cell_type": "markdown",
   "metadata": {
    "collapsed": true,
    "deletable": true,
    "editable": true
   },
   "source": [
    "# 1. Decision Tree\n",
    "## (1). explaination\n",
    "classfy data into multiple classfication rules.\n",
    "For example, thansfer this table\n",
    "<table>\n",
    "<tr><td>age</td><td>income</td><td>student</td><td>credit_rating</td><td>buys_computer</td></tr>\n",
    "<tr><td><=30</td><td>high</td><td>no</td><td>fair</td><td>no</td></tr>\n",
    "<tr><td><=30</td><td>high</td><td>no</td><td>excellent</td><td>no</td></tr>\n",
    "<tr><td>31…40</td><td>high</td><td>no</td><td>fair</td><td>yes</td></tr>\n",
    "<tr><td>>40</td><td>medium</td><td>no</td><td>fair</td><td>yes</td></tr>\n",
    "<tr><td>>40</td><td>low</td><td>yes</td><td>fair</td><td>yes</td></tr>\n",
    "<tr><td>>40</td><td>low</td><td>yes</td><td>excellent</td><td>no</td></tr>\n",
    "<tr><td>31…40</td><td>low</td><td>yes</td><td>excellent</td><td>yes</td></tr>\n",
    "<tr><td><=30</td><td>medium</td><td>no</td><td>fair</td><td>no</td></tr>\n",
    "<tr><td><=30</td><td>low</td><td>yes</td><td>fair</td><td>yes</td></tr>\n",
    "<tr><td>>40</td><td>medium</td><td>yes</td><td>fair</td><td>yes</td></tr>\n",
    "<tr><td><=30</td><td>medium</td><td>yes</td><td>excellent</td><td>yes</td></tr>\n",
    "<tr><td>31…40</td><td>medium</td><td>no</td><td>excellent</td><td>yes</td></tr>\n",
    "<tr><td>31…40</td><td>high</td><td>yes</td><td>fair</td><td>yes</td></tr>\n",
    "<tr><td>>40</td><td>medium</td><td>no</td><td>excellent</td><td>no</td></tr>\n",
    "</table>\n",
    "into ...\n",
    "<img src=\"images/decisionTree.JPG\" width=\"500px\"/>\n",
    "\n"
   ]
  },
  {
   "cell_type": "markdown",
   "metadata": {
    "collapsed": true,
    "deletable": true,
    "editable": true
   },
   "source": [
    "## (2). Which attribute should we use earlier\n",
    "- we see the information gain before and after the classfication.\n",
    "- how to see information quantity? Entropy \n",
    "- Entropy of message M with alphabet {m1, m2, …,mn}\n",
    "$$(M) = - \\sum\\limits_{i=1}^n p(m_{i}) log_{2} p(m_{i})$$\n",
    "\n",
    "where p(mi) is the probability that mi in M will occur\n",
    "- For example\n",
    "<img src=\"images/entropy.JPG\" width=\"700px\"/>\n",
    "<img src=\"images/informationGain.JPG\" width=\"700px\"/>\n",
    "\n",
    "- As a result, information gain can be defined as\n",
    "$$Before(p, n) = -\\frac{p}{p+n} log_{2}(\\frac{p}{p+n}) - \\frac{n}{p+n} log_{2}(\\frac{n}{p+n})$$\n",
    "$$After(A) = \\sum\\limits_{i=1}^v -\\frac{p_{i} + n_{i}}{p+n} I(p_{i}, n_{i})$$\n",
    "$$Information Gain = Before(p, n) - After(A)$$"
   ]
  },
  {
   "cell_type": "markdown",
   "metadata": {
    "deletable": true,
    "editable": true
   },
   "source": [
    "# use age as first rule to classfy "
   ]
  },
  {
   "cell_type": "code",
   "execution_count": 37,
   "metadata": {
    "collapsed": false
   },
   "outputs": [
    {
     "data": {
      "text/html": [
       "<div>\n",
       "<style>\n",
       "    .dataframe thead tr:only-child th {\n",
       "        text-align: right;\n",
       "    }\n",
       "\n",
       "    .dataframe thead th {\n",
       "        text-align: left;\n",
       "    }\n",
       "\n",
       "    .dataframe tbody tr th {\n",
       "        vertical-align: top;\n",
       "    }\n",
       "</style>\n",
       "<table border=\"1\" class=\"dataframe\">\n",
       "  <thead>\n",
       "    <tr style=\"text-align: right;\">\n",
       "      <th></th>\n",
       "      <th></th>\n",
       "      <th>income</th>\n",
       "      <th>student</th>\n",
       "      <th>credit_rating</th>\n",
       "    </tr>\n",
       "    <tr>\n",
       "      <th>age</th>\n",
       "      <th>buys_computer</th>\n",
       "      <th></th>\n",
       "      <th></th>\n",
       "      <th></th>\n",
       "    </tr>\n",
       "  </thead>\n",
       "  <tbody>\n",
       "    <tr>\n",
       "      <th>30…40</th>\n",
       "      <th>yes</th>\n",
       "      <td>4</td>\n",
       "      <td>4</td>\n",
       "      <td>4</td>\n",
       "    </tr>\n",
       "    <tr>\n",
       "      <th rowspan=\"2\" valign=\"top\">&lt;=30</th>\n",
       "      <th>no</th>\n",
       "      <td>3</td>\n",
       "      <td>3</td>\n",
       "      <td>3</td>\n",
       "    </tr>\n",
       "    <tr>\n",
       "      <th>yes</th>\n",
       "      <td>2</td>\n",
       "      <td>2</td>\n",
       "      <td>2</td>\n",
       "    </tr>\n",
       "    <tr>\n",
       "      <th rowspan=\"2\" valign=\"top\">&gt;40</th>\n",
       "      <th>no</th>\n",
       "      <td>2</td>\n",
       "      <td>2</td>\n",
       "      <td>2</td>\n",
       "    </tr>\n",
       "    <tr>\n",
       "      <th>yes</th>\n",
       "      <td>3</td>\n",
       "      <td>3</td>\n",
       "      <td>3</td>\n",
       "    </tr>\n",
       "  </tbody>\n",
       "</table>\n",
       "</div>"
      ],
      "text/plain": [
       "                     income  student  credit_rating\n",
       "age   buys_computer                                \n",
       "30…40 yes                 4        4              4\n",
       "<=30  no                  3        3              3\n",
       "      yes                 2        2              2\n",
       ">40   no                  2        2              2\n",
       "      yes                 3        3              3"
      ]
     },
     "execution_count": 37,
     "metadata": {},
     "output_type": "execute_result"
    }
   ],
   "source": [
    "df = pd.read_csv(\"dataset\\\\buy_computers\")\n",
    "df.groupby(['age','buys_computer']).count()"
   ]
  },
  {
   "cell_type": "markdown",
   "metadata": {},
   "source": [
    "we can sort it out like this\n",
    "<table>\n",
    "<tr>\n",
    "<td>age</td><td>count</td><td>p_count</td><td>n_count</td>\n",
    "</tr>\n",
    "<tr>\n",
    "<td><=30</td><td>4</td><td>2</td><td>3</td>\n",
    "</tr>\n",
    "<tr>\n",
    "<td>30...40</td><td>4</td><td>4</td><td>0</td>\n",
    "</tr>\n",
    "<tr>\n",
    "<td>>40</td><td>4</td><td>5</td><td>2</td>\n",
    "</tr>\n",
    "</table>"
   ]
  },
  {
   "cell_type": "code",
   "execution_count": 66,
   "metadata": {
    "collapsed": false,
    "deletable": true,
    "editable": true
   },
   "outputs": [
    {
     "data": {
      "text/html": [
       "<div>\n",
       "<style>\n",
       "    .dataframe thead tr:only-child th {\n",
       "        text-align: right;\n",
       "    }\n",
       "\n",
       "    .dataframe thead th {\n",
       "        text-align: left;\n",
       "    }\n",
       "\n",
       "    .dataframe tbody tr th {\n",
       "        vertical-align: top;\n",
       "    }\n",
       "</style>\n",
       "<table border=\"1\" class=\"dataframe\">\n",
       "  <thead>\n",
       "    <tr style=\"text-align: right;\">\n",
       "      <th></th>\n",
       "      <th>count</th>\n",
       "      <th>n_count</th>\n",
       "      <th>p_count</th>\n",
       "    </tr>\n",
       "  </thead>\n",
       "  <tbody>\n",
       "    <tr>\n",
       "      <th>0</th>\n",
       "      <td>5</td>\n",
       "      <td>3</td>\n",
       "      <td>2</td>\n",
       "    </tr>\n",
       "    <tr>\n",
       "      <th>1</th>\n",
       "      <td>4</td>\n",
       "      <td>0</td>\n",
       "      <td>4</td>\n",
       "    </tr>\n",
       "    <tr>\n",
       "      <th>2</th>\n",
       "      <td>5</td>\n",
       "      <td>2</td>\n",
       "      <td>3</td>\n",
       "    </tr>\n",
       "  </tbody>\n",
       "</table>\n",
       "</div>"
      ],
      "text/plain": [
       "   count  n_count  p_count\n",
       "0      5        3        2\n",
       "1      4        0        4\n",
       "2      5        2        3"
      ]
     },
     "execution_count": 66,
     "metadata": {},
     "output_type": "execute_result"
    }
   ],
   "source": [
    "def log2(x):\n",
    "    return math.log(x, 2)\n",
    "\n",
    "def entropy(p, n):\n",
    "    pp = p/(p+n)\n",
    "    pn = n/(p+n)\n",
    "    lpp = - (pp * log2(pp)) if pp != 0 else 0\n",
    "    lpn = - (pn * log2(pn)) if pn != 0 else 0\n",
    "    return lpp + lpn  \n",
    "\n",
    "dataLi = []\n",
    "data = {\"count\":5, \"p_count\":2, \"n_count\":3}\n",
    "dataLi.append(data)\n",
    "data = {\"count\":4, \"p_count\":4, \"n_count\":0}\n",
    "dataLi.append(data)\n",
    "data = {\"count\":5, \"p_count\":3, \"n_count\":2}\n",
    "dataLi.append(data)\n",
    "df = pd.DataFrame(dataLi)\n",
    "df"
   ]
  },
  {
   "cell_type": "code",
   "execution_count": 67,
   "metadata": {
    "collapsed": false,
    "deletable": true,
    "editable": true
   },
   "outputs": [
    {
     "name": "stdout",
     "output_type": "stream",
     "text": [
      "   count  n_count  p_count   entropy\n",
      "0    5.0      3.0      2.0  0.970951\n",
      "1    4.0      0.0      4.0  0.000000\n",
      "2    5.0      2.0      3.0  0.970951\n",
      "weighted entropy: 0.693536138896\n",
      "Before: 0.9402859586706309\n",
      "Information Gain: 0.246749819774\n"
     ]
    }
   ],
   "source": [
    "def cal_entropy(row):\n",
    "    row['entropy'] = entropy(row['p_count'], row['n_count'])\n",
    "    return row\n",
    "\n",
    "df = df.apply(cal_entropy, axis=1)\n",
    "print(df)\n",
    "\n",
    "After = 0\n",
    "for row in df.iterrows():\n",
    "    row = row[1]\n",
    "    percentage = row['count']/sum(df['count'])\n",
    "    After += percentage * row['entropy']\n",
    "print(\"weighted entropy:\", After)\n",
    "\n",
    "\n",
    "df = pd.read_csv(\"dataset\\\\buy_computers\")\n",
    "Before = entropy(len(df[df['buys_computer'] == \"yes\"]), len(df[df['buys_computer'] == \"no\"]))\n",
    "print(\"Before:\", Before)\n",
    "print(\"Information Gain:\", Before - After)"
   ]
  },
  {
   "cell_type": "markdown",
   "metadata": {},
   "source": [
    "- Similarly\n",
    "$$Gain(income) = 0.029$$\n",
    "$$Gain(student) = 0.151$$\n",
    "$$Gain(credit\\_rating) = 0.048$$\n",
    "- so we choose age as the first rule"
   ]
  },
  {
   "cell_type": "markdown",
   "metadata": {
    "collapsed": true,
    "deletable": true,
    "editable": true
   },
   "source": [
    "## (3). use decision tree"
   ]
  },
  {
   "cell_type": "code",
   "execution_count": 48,
   "metadata": {
    "collapsed": true
   },
   "outputs": [],
   "source": [
    "from sklearn import tree"
   ]
  },
  {
   "cell_type": "code",
   "execution_count": 24,
   "metadata": {
    "collapsed": false
   },
   "outputs": [
    {
     "data": {
      "text/html": [
       "<div>\n",
       "<style>\n",
       "    .dataframe thead tr:only-child th {\n",
       "        text-align: right;\n",
       "    }\n",
       "\n",
       "    .dataframe thead th {\n",
       "        text-align: left;\n",
       "    }\n",
       "\n",
       "    .dataframe tbody tr th {\n",
       "        vertical-align: top;\n",
       "    }\n",
       "</style>\n",
       "<table border=\"1\" class=\"dataframe\">\n",
       "  <thead>\n",
       "    <tr style=\"text-align: right;\">\n",
       "      <th></th>\n",
       "      <th>sepal length (cm)</th>\n",
       "      <th>sepal width (cm)</th>\n",
       "      <th>petal length (cm)</th>\n",
       "      <th>petal width (cm)</th>\n",
       "      <th>type</th>\n",
       "    </tr>\n",
       "  </thead>\n",
       "  <tbody>\n",
       "    <tr>\n",
       "      <th>0</th>\n",
       "      <td>5.1</td>\n",
       "      <td>3.5</td>\n",
       "      <td>1.4</td>\n",
       "      <td>0.2</td>\n",
       "      <td>setosa</td>\n",
       "    </tr>\n",
       "    <tr>\n",
       "      <th>1</th>\n",
       "      <td>4.9</td>\n",
       "      <td>3.0</td>\n",
       "      <td>1.4</td>\n",
       "      <td>0.2</td>\n",
       "      <td>setosa</td>\n",
       "    </tr>\n",
       "    <tr>\n",
       "      <th>2</th>\n",
       "      <td>4.7</td>\n",
       "      <td>3.2</td>\n",
       "      <td>1.3</td>\n",
       "      <td>0.2</td>\n",
       "      <td>setosa</td>\n",
       "    </tr>\n",
       "    <tr>\n",
       "      <th>3</th>\n",
       "      <td>4.6</td>\n",
       "      <td>3.1</td>\n",
       "      <td>1.5</td>\n",
       "      <td>0.2</td>\n",
       "      <td>setosa</td>\n",
       "    </tr>\n",
       "    <tr>\n",
       "      <th>4</th>\n",
       "      <td>5.0</td>\n",
       "      <td>3.6</td>\n",
       "      <td>1.4</td>\n",
       "      <td>0.2</td>\n",
       "      <td>setosa</td>\n",
       "    </tr>\n",
       "    <tr>\n",
       "      <th>50</th>\n",
       "      <td>7.0</td>\n",
       "      <td>3.2</td>\n",
       "      <td>4.7</td>\n",
       "      <td>1.4</td>\n",
       "      <td>versicolor</td>\n",
       "    </tr>\n",
       "    <tr>\n",
       "      <th>51</th>\n",
       "      <td>6.4</td>\n",
       "      <td>3.2</td>\n",
       "      <td>4.5</td>\n",
       "      <td>1.5</td>\n",
       "      <td>versicolor</td>\n",
       "    </tr>\n",
       "    <tr>\n",
       "      <th>52</th>\n",
       "      <td>6.9</td>\n",
       "      <td>3.1</td>\n",
       "      <td>4.9</td>\n",
       "      <td>1.5</td>\n",
       "      <td>versicolor</td>\n",
       "    </tr>\n",
       "    <tr>\n",
       "      <th>53</th>\n",
       "      <td>5.5</td>\n",
       "      <td>2.3</td>\n",
       "      <td>4.0</td>\n",
       "      <td>1.3</td>\n",
       "      <td>versicolor</td>\n",
       "    </tr>\n",
       "    <tr>\n",
       "      <th>54</th>\n",
       "      <td>6.5</td>\n",
       "      <td>2.8</td>\n",
       "      <td>4.6</td>\n",
       "      <td>1.5</td>\n",
       "      <td>versicolor</td>\n",
       "    </tr>\n",
       "    <tr>\n",
       "      <th>100</th>\n",
       "      <td>6.3</td>\n",
       "      <td>3.3</td>\n",
       "      <td>6.0</td>\n",
       "      <td>2.5</td>\n",
       "      <td>virginica</td>\n",
       "    </tr>\n",
       "    <tr>\n",
       "      <th>101</th>\n",
       "      <td>5.8</td>\n",
       "      <td>2.7</td>\n",
       "      <td>5.1</td>\n",
       "      <td>1.9</td>\n",
       "      <td>virginica</td>\n",
       "    </tr>\n",
       "    <tr>\n",
       "      <th>102</th>\n",
       "      <td>7.1</td>\n",
       "      <td>3.0</td>\n",
       "      <td>5.9</td>\n",
       "      <td>2.1</td>\n",
       "      <td>virginica</td>\n",
       "    </tr>\n",
       "    <tr>\n",
       "      <th>103</th>\n",
       "      <td>6.3</td>\n",
       "      <td>2.9</td>\n",
       "      <td>5.6</td>\n",
       "      <td>1.8</td>\n",
       "      <td>virginica</td>\n",
       "    </tr>\n",
       "    <tr>\n",
       "      <th>104</th>\n",
       "      <td>6.5</td>\n",
       "      <td>3.0</td>\n",
       "      <td>5.8</td>\n",
       "      <td>2.2</td>\n",
       "      <td>virginica</td>\n",
       "    </tr>\n",
       "  </tbody>\n",
       "</table>\n",
       "</div>"
      ],
      "text/plain": [
       "     sepal length (cm)  sepal width (cm)  petal length (cm)  petal width (cm)  \\\n",
       "0                  5.1               3.5                1.4               0.2   \n",
       "1                  4.9               3.0                1.4               0.2   \n",
       "2                  4.7               3.2                1.3               0.2   \n",
       "3                  4.6               3.1                1.5               0.2   \n",
       "4                  5.0               3.6                1.4               0.2   \n",
       "50                 7.0               3.2                4.7               1.4   \n",
       "51                 6.4               3.2                4.5               1.5   \n",
       "52                 6.9               3.1                4.9               1.5   \n",
       "53                 5.5               2.3                4.0               1.3   \n",
       "54                 6.5               2.8                4.6               1.5   \n",
       "100                6.3               3.3                6.0               2.5   \n",
       "101                5.8               2.7                5.1               1.9   \n",
       "102                7.1               3.0                5.9               2.1   \n",
       "103                6.3               2.9                5.6               1.8   \n",
       "104                6.5               3.0                5.8               2.2   \n",
       "\n",
       "           type  \n",
       "0        setosa  \n",
       "1        setosa  \n",
       "2        setosa  \n",
       "3        setosa  \n",
       "4        setosa  \n",
       "50   versicolor  \n",
       "51   versicolor  \n",
       "52   versicolor  \n",
       "53   versicolor  \n",
       "54   versicolor  \n",
       "100   virginica  \n",
       "101   virginica  \n",
       "102   virginica  \n",
       "103   virginica  \n",
       "104   virginica  "
      ]
     },
     "execution_count": 24,
     "metadata": {},
     "output_type": "execute_result"
    }
   ],
   "source": [
    "df = pd.DataFrame(iris.data)\n",
    "folwer_type = {\n",
    "    0:iris.target_names[0],\n",
    "    1:iris.target_names[1],\n",
    "    2:iris.target_names[2],\n",
    "}\n",
    "df.columns = iris.feature_names\n",
    "df['type'] = [folwer_type.get(i) for i in iris.target]\n",
    "\n",
    "df1 = df[df['type'] == list(folwer_type.values())[0]][:5].copy()\n",
    "df2 = df[df['type'] == list(folwer_type.values())[1]][:5].copy()\n",
    "df3 = df[df['type'] == list(folwer_type.values())[2]][:5].copy()\n",
    "pd.concat([df1, df2, df3])"
   ]
  },
  {
   "cell_type": "code",
   "execution_count": 31,
   "metadata": {
    "collapsed": false
   },
   "outputs": [
    {
     "data": {
      "image/png": "[encoded data removed]",
      "text/plain": [
       "<matplotlib.figure.Figure at 0x1e0374385c0>"
      ]
     },
     "metadata": {},
     "output_type": "display_data"
    }
   ],
   "source": [
    "fig = plt.figure(1, figsize=(8, 6))\n",
    "ax = Axes3D(fig, elev=-150, azim=110)\n",
    "\n",
    "X_reduced = PCA(n_components=3).fit_transform(X)\n",
    "ax.scatter(X_reduced[:, 0], X_reduced[:, 1], X_reduced[:, 2], c=Y,\n",
    "           cmap=plt.cm.Set1, edgecolor='k', s=40)\n",
    "ax.set_title(\"First three PCA directions\")\n",
    "ax.set_xlabel(\"1st eigenvector\")\n",
    "ax.w_xaxis.set_ticklabels([])\n",
    "ax.set_ylabel(\"2nd eigenvector\")\n",
    "ax.w_yaxis.set_ticklabels([])\n",
    "ax.set_zlabel(\"3rd eigenvector\")\n",
    "ax.w_zaxis.set_ticklabels([])\n",
    "\n",
    "plt.show()"
   ]
  },
  {
   "cell_type": "code",
   "execution_count": 27,
   "metadata": {
    "collapsed": false
   },
   "outputs": [
    {
     "name": "stdout",
     "output_type": "stream",
     "text": [
      "(150, 4)\n",
      "(150,)\n"
     ]
    }
   ],
   "source": [
    "# data description\n",
    "X = iris.data\n",
    "Y = iris.target\n",
    "print(X.shape)\n",
    "print(Y.shape)"
   ]
  },
  {
   "cell_type": "code",
   "execution_count": 28,
   "metadata": {
    "collapsed": false
   },
   "outputs": [
    {
     "name": "stdout",
     "output_type": "stream",
     "text": [
      "Number of mislabeled points out of a total 150 points : 0\n"
     ]
    }
   ],
   "source": [
    "clf = tree.DecisionTreeClassifier()\n",
    "clf = clf.fit(X, Y)\n",
    "\n",
    "y_pred = clf.predict(iris.data)\n",
    "print(\"Number of mislabeled points out of a total %d points : %d\" % (iris.data.shape[0],(iris.target != y_pred).sum()))"
   ]
  },
  {
   "cell_type": "code",
   "execution_count": 35,
   "metadata": {
    "collapsed": false
   },
   "outputs": [
    {
     "data": {
      "text/plain": [
       "0.3996"
      ]
     },
     "execution_count": 35,
     "metadata": {},
     "output_type": "execute_result"
    }
   ],
   "source": [
    "0.3 * 0.666 *2"
   ]
  },
  {
   "cell_type": "markdown",
   "metadata": {},
   "source": [
    "# 2. Naïve Bayes\n",
    "## (1). Theory \n",
    "- Bayes theorem: \n",
    "    - $P(C|X) = P(X|C)·P(C) / P(X)$\n",
    "    - $P(C): possibility\\ of\\ C$\n",
    "    - $P(C|X): possibility\\ of\\ C\\ under\\ condition X$\n",
    "- Explaiation: \n",
    "    - 10人，3人喜歡看書，5人是女生，是女生且喜歡看書者2人，請問假設已知甲為女生，她喜歡看書的機率是多少?\n",
    "    - P(喜歡看書|女)=P(女|喜歡看書)*P(喜歡看書)/P(女)\n",
    "    - P(女|喜歡看書) = P({女}$\\cap${喜歡看書})/P(喜歡看書) = 2/3\n",
    "    - (2/3) * (3/10) / (5/10) = 0.3996\n",
    "- Data"
   ]
  },
  {
   "cell_type": "code",
   "execution_count": 53,
   "metadata": {
    "collapsed": false
   },
   "outputs": [
    {
     "name": "stdout",
     "output_type": "stream",
     "text": [
      "P(Postive) =  9 / 14\n",
      "P(Negative) =  5 / 14\n",
      "P(Sunny|Postive) =  2 / 9\n",
      "P(Sunny|Negative) =  3 / 5\n"
     ]
    },
    {
     "name": "stderr",
     "output_type": "stream",
     "text": [
      "c:\\users\\jeremy\\appdata\\local\\programs\\python\\python35\\lib\\site-packages\\ipykernel\\__main__.py:4: UserWarning: Boolean Series key will be reindexed to match DataFrame index.\n",
      "c:\\users\\jeremy\\appdata\\local\\programs\\python\\python35\\lib\\site-packages\\ipykernel\\__main__.py:5: UserWarning: Boolean Series key will be reindexed to match DataFrame index.\n"
     ]
    },
    {
     "data": {
      "text/html": [
       "<div>\n",
       "<style>\n",
       "    .dataframe thead tr:only-child th {\n",
       "        text-align: right;\n",
       "    }\n",
       "\n",
       "    .dataframe thead th {\n",
       "        text-align: left;\n",
       "    }\n",
       "\n",
       "    .dataframe tbody tr th {\n",
       "        vertical-align: top;\n",
       "    }\n",
       "</style>\n",
       "<table border=\"1\" class=\"dataframe\">\n",
       "  <thead>\n",
       "    <tr style=\"text-align: right;\">\n",
       "      <th></th>\n",
       "      <th>Outlook</th>\n",
       "      <th>Temperature</th>\n",
       "      <th>Humidity</th>\n",
       "      <th>Windy</th>\n",
       "      <th>play tennis</th>\n",
       "    </tr>\n",
       "  </thead>\n",
       "  <tbody>\n",
       "    <tr>\n",
       "      <th>0</th>\n",
       "      <td>sunny</td>\n",
       "      <td>hot</td>\n",
       "      <td>high</td>\n",
       "      <td>False</td>\n",
       "      <td>N</td>\n",
       "    </tr>\n",
       "    <tr>\n",
       "      <th>1</th>\n",
       "      <td>sunny</td>\n",
       "      <td>hot</td>\n",
       "      <td>high</td>\n",
       "      <td>True</td>\n",
       "      <td>N</td>\n",
       "    </tr>\n",
       "    <tr>\n",
       "      <th>2</th>\n",
       "      <td>overcast</td>\n",
       "      <td>hot</td>\n",
       "      <td>high</td>\n",
       "      <td>False</td>\n",
       "      <td>P</td>\n",
       "    </tr>\n",
       "    <tr>\n",
       "      <th>3</th>\n",
       "      <td>rain</td>\n",
       "      <td>mild</td>\n",
       "      <td>high</td>\n",
       "      <td>False</td>\n",
       "      <td>P</td>\n",
       "    </tr>\n",
       "    <tr>\n",
       "      <th>4</th>\n",
       "      <td>rain</td>\n",
       "      <td>cool</td>\n",
       "      <td>normal</td>\n",
       "      <td>False</td>\n",
       "      <td>P</td>\n",
       "    </tr>\n",
       "    <tr>\n",
       "      <th>5</th>\n",
       "      <td>rain</td>\n",
       "      <td>cool</td>\n",
       "      <td>normal</td>\n",
       "      <td>True</td>\n",
       "      <td>N</td>\n",
       "    </tr>\n",
       "    <tr>\n",
       "      <th>6</th>\n",
       "      <td>overcast</td>\n",
       "      <td>cool</td>\n",
       "      <td>normal</td>\n",
       "      <td>True</td>\n",
       "      <td>P</td>\n",
       "    </tr>\n",
       "    <tr>\n",
       "      <th>7</th>\n",
       "      <td>sunny</td>\n",
       "      <td>mild</td>\n",
       "      <td>high</td>\n",
       "      <td>False</td>\n",
       "      <td>N</td>\n",
       "    </tr>\n",
       "    <tr>\n",
       "      <th>8</th>\n",
       "      <td>sunny</td>\n",
       "      <td>cool</td>\n",
       "      <td>normal</td>\n",
       "      <td>False</td>\n",
       "      <td>P</td>\n",
       "    </tr>\n",
       "    <tr>\n",
       "      <th>9</th>\n",
       "      <td>rain</td>\n",
       "      <td>mild</td>\n",
       "      <td>normal</td>\n",
       "      <td>False</td>\n",
       "      <td>P</td>\n",
       "    </tr>\n",
       "    <tr>\n",
       "      <th>10</th>\n",
       "      <td>sunny</td>\n",
       "      <td>mild</td>\n",
       "      <td>normal</td>\n",
       "      <td>True</td>\n",
       "      <td>P</td>\n",
       "    </tr>\n",
       "    <tr>\n",
       "      <th>11</th>\n",
       "      <td>overcast</td>\n",
       "      <td>mild</td>\n",
       "      <td>high</td>\n",
       "      <td>True</td>\n",
       "      <td>P</td>\n",
       "    </tr>\n",
       "    <tr>\n",
       "      <th>12</th>\n",
       "      <td>overcast</td>\n",
       "      <td>hot</td>\n",
       "      <td>normal</td>\n",
       "      <td>False</td>\n",
       "      <td>P</td>\n",
       "    </tr>\n",
       "    <tr>\n",
       "      <th>13</th>\n",
       "      <td>rain</td>\n",
       "      <td>mild</td>\n",
       "      <td>high</td>\n",
       "      <td>True</td>\n",
       "      <td>N</td>\n",
       "    </tr>\n",
       "  </tbody>\n",
       "</table>\n",
       "</div>"
      ],
      "text/plain": [
       "     Outlook Temperature Humidity  Windy play tennis\n",
       "0      sunny         hot     high  False           N\n",
       "1      sunny         hot     high   True           N\n",
       "2   overcast         hot     high  False           P\n",
       "3       rain        mild     high  False           P\n",
       "4       rain        cool   normal  False           P\n",
       "5       rain        cool   normal   True           N\n",
       "6   overcast        cool   normal   True           P\n",
       "7      sunny        mild     high  False           N\n",
       "8      sunny        cool   normal  False           P\n",
       "9       rain        mild   normal  False           P\n",
       "10     sunny        mild   normal   True           P\n",
       "11  overcast        mild     high   True           P\n",
       "12  overcast         hot   normal  False           P\n",
       "13      rain        mild     high   True           N"
      ]
     },
     "execution_count": 53,
     "metadata": {},
     "output_type": "execute_result"
    }
   ],
   "source": [
    "df = pd.read_csv(\"dataset\\\\playTennis.csv\")\n",
    "print(\"P(Postive) = \", len(df[df['play tennis'] == \"P\"]), \"/\", len(df))\n",
    "print(\"P(Negative) = \", len(df[df['play tennis'] == \"N\"]), \"/\", len(df))\n",
    "print(\"P(Sunny|Postive) = \", len(df[df['play tennis'] == \"P\"][df['Outlook'] == \"sunny\"]), \"/\", len(df[df['play tennis'] == \"P\"]))\n",
    "print(\"P(Sunny|Negative) = \", len(df[df['play tennis'] == \"N\"][df['Outlook'] == \"sunny\"]), \"/\", len(df[df['play tennis'] == \"N\"]))\n",
    "df"
   ]
  },
  {
   "cell_type": "markdown",
   "metadata": {},
   "source": [
    "可以整理成=>\n",
    "<table>\n",
    "<tr><td>Outlook</td><td></td><td></td><td>Tempreature</td><td></td><td></td><td>Humidity</td><td></td><td></td><td>Windy</td><td></td><td></td></tr>\n",
    "<tr><td></td><td>Condition P</td><td>Condition N</td><td></td><td>Condition P</td><td>Condition N</td><td></td><td>Condition P</td><td>Condition N</td><td></td><td>Condition P</td><td>Condition N</td></tr>\n",
    "<tr><td>sunny</td><td>2/9</td><td>3/5</td><td>hot</td><td>2/9</td><td>2/5</td><td>high</td><td>3/9</td><td>4/5</td><td>true</td><td>3/9</td><td>3/5</td></tr>\n",
    "<tr><td>overcast</td><td>4/9</td><td>0</td><td>mild</td><td>4/9</td><td>2/5</td><td>normal</td><td>6/9</td><td>1/5</td><td>false</td><td>6/9</td><td>2/5</td></tr>\n",
    "<tr><td>rain</td><td>3/9</td><td>2/5</td><td>cool</td><td>3/9</td><td>1/5</td><td></td><td></td><td></td><td></td><td></td><td></td></tr>\n",
    "</table>\n"
   ]
  },
  {
   "cell_type": "markdown",
   "metadata": {},
   "source": [
    "$P(p|X), P(n|X), X = rain, hot, high, false$, which is maximum?\n",
    "$$P(p|X)=P(X|p)·P(p)/P(X)$$ \n",
    "$$P(n|X)=P(X|n)·P(n)/P(X)$$\n",
    "$$因為是比較，分母可以忽略$$\n",
    "$$P(X|p)·P(p)=P(rain, hot, high, false|p)·P(p) $$\n",
    "$$\\thickapprox P(rain|p)·P(hot|p)·P(high|p)·P(false|p)·P(p)$$ \n",
    "$$=3/9·2/9·3/9·6/9·9/14=0.010582$$\n",
    "$$P(X|n)·P(n)=P(rain, hot, high, false|n)·P(n) $$\n",
    "$$\\thickapprox P(rain|n)·P(hot|n)·P(high|n)·P(false|n)·P(n) $$\n",
    "$$=2/5·2/5·4/5·2/5·5/14=0.018286$$"
   ]
  },
  {
   "cell_type": "markdown",
   "metadata": {},
   "source": [
    "## (2). use Naïve Bayes"
   ]
  },
  {
   "cell_type": "code",
   "execution_count": 50,
   "metadata": {
    "collapsed": true
   },
   "outputs": [],
   "source": [
    "from sklearn.naive_bayes import GaussianNB\n",
    "gnb = GaussianNB()"
   ]
  },
  {
   "cell_type": "code",
   "execution_count": 51,
   "metadata": {
    "collapsed": false
   },
   "outputs": [
    {
     "name": "stdout",
     "output_type": "stream",
     "text": [
      "Number of mislabeled points out of a total 150 points : 6\n"
     ]
    }
   ],
   "source": [
    "X = iris.data\n",
    "Y = iris.target\n",
    "\n",
    "y_pred = gnb.fit(iris.data, iris.target).predict(X)\n",
    "print(\"Number of mislabeled points out of a total %d points : %d\" % (iris.data.shape[0],(iris.target != y_pred).sum()))"
   ]
  },
  {
   "cell_type": "code",
   "execution_count": 62,
   "metadata": {
    "collapsed": false
   },
   "outputs": [
    {
     "data": {
      "text/html": [
       "<div>\n",
       "<style>\n",
       "    .dataframe thead tr:only-child th {\n",
       "        text-align: right;\n",
       "    }\n",
       "\n",
       "    .dataframe thead th {\n",
       "        text-align: left;\n",
       "    }\n",
       "\n",
       "    .dataframe tbody tr th {\n",
       "        vertical-align: top;\n",
       "    }\n",
       "</style>\n",
       "<table border=\"1\" class=\"dataframe\">\n",
       "  <thead>\n",
       "    <tr style=\"text-align: right;\">\n",
       "      <th></th>\n",
       "      <th>sepal length (cm)</th>\n",
       "      <th>sepal width (cm)</th>\n",
       "      <th>petal length (cm)</th>\n",
       "      <th>petal width (cm)</th>\n",
       "      <th>type_name</th>\n",
       "      <th>type</th>\n",
       "      <th>yhat</th>\n",
       "    </tr>\n",
       "  </thead>\n",
       "  <tbody>\n",
       "    <tr>\n",
       "      <th>52</th>\n",
       "      <td>6.9</td>\n",
       "      <td>3.1</td>\n",
       "      <td>4.9</td>\n",
       "      <td>1.5</td>\n",
       "      <td>versicolor</td>\n",
       "      <td>1</td>\n",
       "      <td>2</td>\n",
       "    </tr>\n",
       "    <tr>\n",
       "      <th>70</th>\n",
       "      <td>5.9</td>\n",
       "      <td>3.2</td>\n",
       "      <td>4.8</td>\n",
       "      <td>1.8</td>\n",
       "      <td>versicolor</td>\n",
       "      <td>1</td>\n",
       "      <td>2</td>\n",
       "    </tr>\n",
       "    <tr>\n",
       "      <th>77</th>\n",
       "      <td>6.7</td>\n",
       "      <td>3.0</td>\n",
       "      <td>5.0</td>\n",
       "      <td>1.7</td>\n",
       "      <td>versicolor</td>\n",
       "      <td>1</td>\n",
       "      <td>2</td>\n",
       "    </tr>\n",
       "    <tr>\n",
       "      <th>106</th>\n",
       "      <td>4.9</td>\n",
       "      <td>2.5</td>\n",
       "      <td>4.5</td>\n",
       "      <td>1.7</td>\n",
       "      <td>virginica</td>\n",
       "      <td>2</td>\n",
       "      <td>1</td>\n",
       "    </tr>\n",
       "    <tr>\n",
       "      <th>119</th>\n",
       "      <td>6.0</td>\n",
       "      <td>2.2</td>\n",
       "      <td>5.0</td>\n",
       "      <td>1.5</td>\n",
       "      <td>virginica</td>\n",
       "      <td>2</td>\n",
       "      <td>1</td>\n",
       "    </tr>\n",
       "    <tr>\n",
       "      <th>133</th>\n",
       "      <td>6.3</td>\n",
       "      <td>2.8</td>\n",
       "      <td>5.1</td>\n",
       "      <td>1.5</td>\n",
       "      <td>virginica</td>\n",
       "      <td>2</td>\n",
       "      <td>1</td>\n",
       "    </tr>\n",
       "  </tbody>\n",
       "</table>\n",
       "</div>"
      ],
      "text/plain": [
       "     sepal length (cm)  sepal width (cm)  petal length (cm)  petal width (cm)  \\\n",
       "52                 6.9               3.1                4.9               1.5   \n",
       "70                 5.9               3.2                4.8               1.8   \n",
       "77                 6.7               3.0                5.0               1.7   \n",
       "106                4.9               2.5                4.5               1.7   \n",
       "119                6.0               2.2                5.0               1.5   \n",
       "133                6.3               2.8                5.1               1.5   \n",
       "\n",
       "      type_name  type  yhat  \n",
       "52   versicolor     1     2  \n",
       "70   versicolor     1     2  \n",
       "77   versicolor     1     2  \n",
       "106   virginica     2     1  \n",
       "119   virginica     2     1  \n",
       "133   virginica     2     1  "
      ]
     },
     "execution_count": 62,
     "metadata": {},
     "output_type": "execute_result"
    }
   ],
   "source": [
    "# indeices = [num for num, value in enumerate(iris.target != y_pred) if value == True]\n",
    "df = pd.DataFrame(iris.data)\n",
    "folwer_type = {\n",
    "    0:iris.target_names[0],\n",
    "    1:iris.target_names[1],\n",
    "    2:iris.target_names[2],\n",
    "}\n",
    "df.columns = iris.feature_names\n",
    "df['type_name'] = [folwer_type.get(i) for i in iris.target]\n",
    "df['type'] = iris.target\n",
    "df['yhat'] = y_pred\n",
    "df[df[\"type\"] != df['yhat']]"
   ]
  },
  {
   "cell_type": "markdown",
   "metadata": {},
   "source": [
    "# 3. logistic regression\n",
    "## (1). Theory \n",
    "- $\\hat{y} = \\alpha x_{1} + \\beta x_{2} + \\gamma x_{3}$\n",
    "- minimize $logloss = - (ylog(\\hat{y}) + (1-y)log(1-\\hat{y}))$\n",
    "\n",
    "<img src=\"images\\Log_vs_neglog.gif\">"
   ]
  },
  {
   "cell_type": "code",
   "execution_count": 117,
   "metadata": {
    "collapsed": false
   },
   "outputs": [
    {
     "name": "stdout",
     "output_type": "stream",
     "text": [
      "0.000100005000333\n",
      "9.21034037198\n",
      "0.000100005000333\n",
      "9.21034037198\n"
     ]
    }
   ],
   "source": [
    "from sklearn.metrics import log_loss\n",
    "import numpy as np\n",
    "print(log_loss([0, 0, 1], [0.0001, 0.0001, 0.9999]))\n",
    "print(log_loss([0, 0, 1], [0.9999, 0.9999, 0.0001]))\n",
    "\n",
    "def logloss(y, yhat):\n",
    "    return -(y)*np.log(yhat)-(1-y)*np.log(1-yhat)\n",
    "print(logloss(1, 0.9999))\n",
    "print(logloss(1, 0.0001))\n"
   ]
  },
  {
   "cell_type": "markdown",
   "metadata": {},
   "source": [
    "##  (2).use logistic regression"
   ]
  },
  {
   "cell_type": "code",
   "execution_count": 78,
   "metadata": {
    "collapsed": false
   },
   "outputs": [],
   "source": [
    "from sklearn.linear_model import LogisticRegressionCV"
   ]
  },
  {
   "cell_type": "code",
   "execution_count": 76,
   "metadata": {
    "collapsed": false
   },
   "outputs": [
    {
     "name": "stdout",
     "output_type": "stream",
     "text": [
      "Number of mislabeled points out of a total 150 points : 5\n"
     ]
    }
   ],
   "source": [
    "X = iris.data\n",
    "Y = iris.target\n",
    "\n",
    "# simple logistic regression\n",
    "clf = LogisticRegressionCV();\n",
    "clf.fit(X, Y);\n",
    "y_pred = clf.predict(X)\n",
    "\n",
    "print(\"Number of mislabeled points out of a total %d points : %d\" % (iris.data.shape[0],(iris.target != y_pred).sum()))"
   ]
  },
  {
   "cell_type": "code",
   "execution_count": 77,
   "metadata": {
    "collapsed": false
   },
   "outputs": [
    {
     "data": {
      "text/html": [
       "<div>\n",
       "<style>\n",
       "    .dataframe thead tr:only-child th {\n",
       "        text-align: right;\n",
       "    }\n",
       "\n",
       "    .dataframe thead th {\n",
       "        text-align: left;\n",
       "    }\n",
       "\n",
       "    .dataframe tbody tr th {\n",
       "        vertical-align: top;\n",
       "    }\n",
       "</style>\n",
       "<table border=\"1\" class=\"dataframe\">\n",
       "  <thead>\n",
       "    <tr style=\"text-align: right;\">\n",
       "      <th></th>\n",
       "      <th>sepal length (cm)</th>\n",
       "      <th>sepal width (cm)</th>\n",
       "      <th>petal length (cm)</th>\n",
       "      <th>petal width (cm)</th>\n",
       "      <th>type_name</th>\n",
       "      <th>type</th>\n",
       "      <th>yhat</th>\n",
       "    </tr>\n",
       "  </thead>\n",
       "  <tbody>\n",
       "    <tr>\n",
       "      <th>70</th>\n",
       "      <td>5.9</td>\n",
       "      <td>3.2</td>\n",
       "      <td>4.8</td>\n",
       "      <td>1.8</td>\n",
       "      <td>versicolor</td>\n",
       "      <td>1</td>\n",
       "      <td>2</td>\n",
       "    </tr>\n",
       "    <tr>\n",
       "      <th>77</th>\n",
       "      <td>6.7</td>\n",
       "      <td>3.0</td>\n",
       "      <td>5.0</td>\n",
       "      <td>1.7</td>\n",
       "      <td>versicolor</td>\n",
       "      <td>1</td>\n",
       "      <td>2</td>\n",
       "    </tr>\n",
       "    <tr>\n",
       "      <th>83</th>\n",
       "      <td>6.0</td>\n",
       "      <td>2.7</td>\n",
       "      <td>5.1</td>\n",
       "      <td>1.6</td>\n",
       "      <td>versicolor</td>\n",
       "      <td>1</td>\n",
       "      <td>2</td>\n",
       "    </tr>\n",
       "    <tr>\n",
       "      <th>119</th>\n",
       "      <td>6.0</td>\n",
       "      <td>2.2</td>\n",
       "      <td>5.0</td>\n",
       "      <td>1.5</td>\n",
       "      <td>virginica</td>\n",
       "      <td>2</td>\n",
       "      <td>1</td>\n",
       "    </tr>\n",
       "    <tr>\n",
       "      <th>133</th>\n",
       "      <td>6.3</td>\n",
       "      <td>2.8</td>\n",
       "      <td>5.1</td>\n",
       "      <td>1.5</td>\n",
       "      <td>virginica</td>\n",
       "      <td>2</td>\n",
       "      <td>1</td>\n",
       "    </tr>\n",
       "  </tbody>\n",
       "</table>\n",
       "</div>"
      ],
      "text/plain": [
       "     sepal length (cm)  sepal width (cm)  petal length (cm)  petal width (cm)  \\\n",
       "70                 5.9               3.2                4.8               1.8   \n",
       "77                 6.7               3.0                5.0               1.7   \n",
       "83                 6.0               2.7                5.1               1.6   \n",
       "119                6.0               2.2                5.0               1.5   \n",
       "133                6.3               2.8                5.1               1.5   \n",
       "\n",
       "      type_name  type  yhat  \n",
       "70   versicolor     1     2  \n",
       "77   versicolor     1     2  \n",
       "83   versicolor     1     2  \n",
       "119   virginica     2     1  \n",
       "133   virginica     2     1  "
      ]
     },
     "execution_count": 77,
     "metadata": {},
     "output_type": "execute_result"
    }
   ],
   "source": [
    "# indeices = [num for num, value in enumerate(iris.target != y_pred) if value == True]\n",
    "df = pd.DataFrame(iris.data)\n",
    "folwer_type = {\n",
    "    0:iris.target_names[0],\n",
    "    1:iris.target_names[1],\n",
    "    2:iris.target_names[2],\n",
    "}\n",
    "df.columns = iris.feature_names\n",
    "df['type_name'] = [folwer_type.get(i) for i in iris.target]\n",
    "df['type'] = iris.target\n",
    "df['yhat'] = y_pred\n",
    "df[df[\"type\"] != df['yhat']]"
   ]
  },
  {
   "cell_type": "markdown",
   "metadata": {},
   "source": [
    "# 4. KNN\n",
    "## (1). Theory\n",
    "<img src=\"images\\KNN.jpg\">"
   ]
  },
  {
   "cell_type": "markdown",
   "metadata": {},
   "source": [
    "## 2.use KNN"
   ]
  },
  {
   "cell_type": "code",
   "execution_count": 118,
   "metadata": {
    "collapsed": true
   },
   "outputs": [],
   "source": [
    "from sklearn.neighbors import KNeighborsClassifier"
   ]
  },
  {
   "cell_type": "code",
   "execution_count": 122,
   "metadata": {
    "collapsed": false
   },
   "outputs": [
    {
     "name": "stdout",
     "output_type": "stream",
     "text": [
      "Number of mislabeled points out of a total 150 points : 6\n"
     ]
    }
   ],
   "source": [
    "# X = [[0], [1], [2], [3]]\n",
    "# y = [0, 0, 1, 1]\n",
    "\n",
    "X = iris.data\n",
    "Y = iris.target\n",
    "\n",
    "neigh = KNeighborsClassifier(n_neighbors=3)\n",
    "neigh.fit(X, Y) \n",
    "y_pred = neigh.predict(X)\n",
    "print(\"Number of mislabeled points out of a total %d points : %d\" % (iris.data.shape[0],(iris.target != y_pred).sum()))"
   ]
  },
  {
   "cell_type": "code",
   "execution_count": 123,
   "metadata": {
    "collapsed": false
   },
   "outputs": [
    {
     "data": {
      "text/html": [
       "<div>\n",
       "<style>\n",
       "    .dataframe thead tr:only-child th {\n",
       "        text-align: right;\n",
       "    }\n",
       "\n",
       "    .dataframe thead th {\n",
       "        text-align: left;\n",
       "    }\n",
       "\n",
       "    .dataframe tbody tr th {\n",
       "        vertical-align: top;\n",
       "    }\n",
       "</style>\n",
       "<table border=\"1\" class=\"dataframe\">\n",
       "  <thead>\n",
       "    <tr style=\"text-align: right;\">\n",
       "      <th></th>\n",
       "      <th>sepal length (cm)</th>\n",
       "      <th>sepal width (cm)</th>\n",
       "      <th>petal length (cm)</th>\n",
       "      <th>petal width (cm)</th>\n",
       "      <th>type_name</th>\n",
       "      <th>type</th>\n",
       "      <th>yhat</th>\n",
       "    </tr>\n",
       "  </thead>\n",
       "  <tbody>\n",
       "    <tr>\n",
       "      <th>70</th>\n",
       "      <td>5.9</td>\n",
       "      <td>3.2</td>\n",
       "      <td>4.8</td>\n",
       "      <td>1.8</td>\n",
       "      <td>versicolor</td>\n",
       "      <td>1</td>\n",
       "      <td>2</td>\n",
       "    </tr>\n",
       "    <tr>\n",
       "      <th>72</th>\n",
       "      <td>6.3</td>\n",
       "      <td>2.5</td>\n",
       "      <td>4.9</td>\n",
       "      <td>1.5</td>\n",
       "      <td>versicolor</td>\n",
       "      <td>1</td>\n",
       "      <td>2</td>\n",
       "    </tr>\n",
       "    <tr>\n",
       "      <th>83</th>\n",
       "      <td>6.0</td>\n",
       "      <td>2.7</td>\n",
       "      <td>5.1</td>\n",
       "      <td>1.6</td>\n",
       "      <td>versicolor</td>\n",
       "      <td>1</td>\n",
       "      <td>2</td>\n",
       "    </tr>\n",
       "    <tr>\n",
       "      <th>106</th>\n",
       "      <td>4.9</td>\n",
       "      <td>2.5</td>\n",
       "      <td>4.5</td>\n",
       "      <td>1.7</td>\n",
       "      <td>virginica</td>\n",
       "      <td>2</td>\n",
       "      <td>1</td>\n",
       "    </tr>\n",
       "    <tr>\n",
       "      <th>119</th>\n",
       "      <td>6.0</td>\n",
       "      <td>2.2</td>\n",
       "      <td>5.0</td>\n",
       "      <td>1.5</td>\n",
       "      <td>virginica</td>\n",
       "      <td>2</td>\n",
       "      <td>1</td>\n",
       "    </tr>\n",
       "    <tr>\n",
       "      <th>133</th>\n",
       "      <td>6.3</td>\n",
       "      <td>2.8</td>\n",
       "      <td>5.1</td>\n",
       "      <td>1.5</td>\n",
       "      <td>virginica</td>\n",
       "      <td>2</td>\n",
       "      <td>1</td>\n",
       "    </tr>\n",
       "  </tbody>\n",
       "</table>\n",
       "</div>"
      ],
      "text/plain": [
       "     sepal length (cm)  sepal width (cm)  petal length (cm)  petal width (cm)  \\\n",
       "70                 5.9               3.2                4.8               1.8   \n",
       "72                 6.3               2.5                4.9               1.5   \n",
       "83                 6.0               2.7                5.1               1.6   \n",
       "106                4.9               2.5                4.5               1.7   \n",
       "119                6.0               2.2                5.0               1.5   \n",
       "133                6.3               2.8                5.1               1.5   \n",
       "\n",
       "      type_name  type  yhat  \n",
       "70   versicolor     1     2  \n",
       "72   versicolor     1     2  \n",
       "83   versicolor     1     2  \n",
       "106   virginica     2     1  \n",
       "119   virginica     2     1  \n",
       "133   virginica     2     1  "
      ]
     },
     "execution_count": 123,
     "metadata": {},
     "output_type": "execute_result"
    }
   ],
   "source": [
    "# indeices = [num for num, value in enumerate(iris.target != y_pred) if value == True]\n",
    "df = pd.DataFrame(iris.data)\n",
    "folwer_type = {\n",
    "    0:iris.target_names[0],\n",
    "    1:iris.target_names[1],\n",
    "    2:iris.target_names[2],\n",
    "}\n",
    "df.columns = iris.feature_names\n",
    "df['type_name'] = [folwer_type.get(i) for i in iris.target]\n",
    "df['type'] = iris.target\n",
    "df['yhat'] = y_pred\n",
    "df[df[\"type\"] != df['yhat']]"
   ]
  },
  {
   "cell_type": "code",
   "execution_count": null,
   "metadata": {
    "collapsed": true
   },
   "outputs": [],
   "source": []
  },
  {
   "cell_type": "code",
   "execution_count": null,
   "metadata": {
    "collapsed": true
   },
   "outputs": [],
   "source": []
  },
  {
   "cell_type": "code",
   "execution_count": null,
   "metadata": {
    "collapsed": true
   },
   "outputs": [],
   "source": []
  },
  {
   "cell_type": "code",
   "execution_count": null,
   "metadata": {
    "collapsed": true
   },
   "outputs": [],
   "source": []
  },
  {
   "cell_type": "code",
   "execution_count": null,
   "metadata": {
    "collapsed": true
   },
   "outputs": [],
   "source": []
  },
  {
   "cell_type": "code",
   "execution_count": null,
   "metadata": {
    "collapsed": true
   },
   "outputs": [],
   "source": []
  },
  {
   "cell_type": "code",
   "execution_count": null,
   "metadata": {
    "collapsed": true
   },
   "outputs": [],
   "source": []
  },
  {
   "cell_type": "code",
   "execution_count": null,
   "metadata": {
    "collapsed": true
   },
   "outputs": [],
   "source": []
  },
  {
   "cell_type": "code",
   "execution_count": null,
   "metadata": {
    "collapsed": true
   },
   "outputs": [],
   "source": []
  }
 ],
 "metadata": {
  "kernelspec": {
   "display_name": "Python 3",
   "language": "python",
   "name": "python3"
  },
  "language_info": {
   "codemirror_mode": {
    "name": "ipython",
    "version": 3
   },
   "file_extension": ".py",
   "mimetype": "text/x-python",
   "name": "python",
   "nbconvert_exporter": "python",
   "pygments_lexer": "ipython3",
   "version": "3.5.3"
  }
 },
 "nbformat": 4,
 "nbformat_minor": 2
}
