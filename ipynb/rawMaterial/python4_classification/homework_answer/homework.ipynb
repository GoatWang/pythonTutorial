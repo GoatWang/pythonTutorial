{
 "cells": [
  {
   "cell_type": "code",
   "execution_count": null,
   "metadata": {
    "collapsed": true
   },
   "outputs": [],
   "source": [
    "from numpy import dot\n",
    "from numpy.linalg import norm\n",
    "import pandas as pd\n",
    "from collections import Counter\n",
    "import re\n",
    "#Problem 1 ( Cosine Similarity )\n",
    "def cosine_similarity(A,B):\n",
    "    ### write your code here ###\n",
    "    result_value = float()\n",
    "    return result_value\n",
    "\n",
    "#Problem 2 ( Grades )\n",
    "def grades(file_path):\n",
    "    dict_grades = dict()\n",
    "    tuple_grades = []\n",
    "        \n",
    "    return dict_grades, tuple_grades\n",
    "\n",
    "#Problem 3 ( The valid of password )\n",
    "def valid_password(passwords):\n",
    "    result_list = list()    \n",
    "    return result_list\n",
    "\n",
    "if __name__ == \"__main__\":\n",
    "    pro_1_value = cosine_similarity([1,2,3],[4,5,6])\n",
    "    pro_2_dict, pro_2_tuple = grades('./example.csv')\n",
    "    pro_3_list = valid_password(['Ab12!','AA1234!?','AbCdEfGh','12345AaBa!', '12Zz!?98Aa#@'])\n",
    "    print (pro_1_value)\n",
    "    print (pro_2_dict)\n",
    "    print (pro_2_tuple)\n",
    "    print (pro_3_list)"
   ]
  },
  {
   "cell_type": "code",
   "execution_count": 2,
   "metadata": {
    "collapsed": false
   },
   "outputs": [
    {
     "name": "stdout",
     "output_type": "stream",
     "text": [
      "Ab12!\n",
      "['A']\n",
      "['b']\n",
      "True\n",
      "['!']\n",
      "True\n",
      "AA1234!?\n",
      "['A', 'A']\n",
      "[]\n",
      "True\n",
      "['!', '?']\n",
      "True\n",
      "AbCdEfGh\n",
      "['A', 'C', 'E', 'G']\n",
      "['b', 'd', 'f', 'h']\n",
      "False\n",
      "[]\n",
      "True\n",
      "12345AaBa!\n",
      "['A', 'B']\n",
      "['a', 'a']\n",
      "True\n",
      "['!']\n",
      "True\n",
      "12Zz!?98Aa#@\n",
      "['Z', 'A']\n",
      "['z', 'a']\n",
      "True\n",
      "['!', '?', '#', '@']\n",
      "False\n",
      "0.9746318461970762\n",
      "{'60~69': 2, '70~79': 1, '90~99': 1, '80~89': 1}\n",
      "[('Bill', 21, 60), ('Joe', 20, 60), ('John', 20, 99), ('Kevin', 25, 70), ('Kevin', 26, 80)]\n",
      "['Ab12!', '12345AaBa!']\n"
     ]
    }
   ],
   "source": [
    "from numpy import dot\n",
    "from numpy.linalg import norm\n",
    "import pandas as pd\n",
    "from collections import Counter\n",
    "import re\n",
    "#Problem 1 ( Cosine Similarity )\n",
    "def cosine_similarity(A,B):\n",
    "    ### write your code here ###\n",
    "    result_value = float(dot(A, B) / (norm(A) * norm(B)))\n",
    "\n",
    "    return result_value\n",
    "\n",
    "#Problem 2 ( Grades )\n",
    "def grades(file_path):\n",
    "    dict_grades = dict()\n",
    "    tuple_grades = []\n",
    "        \n",
    "    persondist = pd.read_csv(\"example.csv\").T.to_dict()\n",
    "\n",
    "    grades = []\n",
    "    for num, person in persondist.items():\n",
    "        # your csv file column headers contain space\n",
    "        newdict = {}\n",
    "        for key in person.keys():\n",
    "            newdict[key.replace(\" \", \"\")] = person[key]\n",
    "\n",
    "        interval = newdict['Score'] // 10 * 10\n",
    "        intervalStr = str(interval) + \"~\" + str(interval+9)\n",
    "        grades.append(intervalStr)\n",
    "    \n",
    "        tuple_grades.append((newdict['Name'], newdict['Age'], newdict['Score']))\n",
    "\n",
    "    dict_grades = dict(Counter(grades))\n",
    "\n",
    "    tuple_grades = sorted(tuple_grades, key=lambda x:(x[0],x[1],x[2]))\n",
    "\n",
    "    with open('output.csv','w') as f:\n",
    "        for item in tuple_grades:\n",
    "            f.write(item[0] + \", \" + str(item[1]) + \", \" + str(item[2]) + \"\\n\")\n",
    "\n",
    "    return dict_grades, tuple_grades\n",
    "\n",
    "#Problem 3 ( The valid of password )\n",
    "def valid_password(passwords):\n",
    "    result_list = list()    \n",
    "    for pwd in passwords:\n",
    "        upperCase = re.findall(r'[A-Z]',pwd)\n",
    "        lowerCasae =  re.findall(r'[a-z]',pwd)\n",
    "        numbers = len(re.findall(r'\\d',pwd)) >= 2\n",
    "        specialChar = re.findall(r'[%!\\?#@$\\*]', pwd)\n",
    "        pwdLength = len(pwd) >= 5 and len(pwd) <=10\n",
    "        print(pwd)\n",
    "        print(upperCase)\n",
    "        print(lowerCasae)\n",
    "        print(numbers)\n",
    "        print(specialChar)\n",
    "        print(pwdLength)\n",
    "        if upperCase and lowerCasae and numbers and specialChar and pwdLength:\n",
    "            result_list.append(pwd)\n",
    "    return result_list\n",
    "\n",
    "if __name__ == \"__main__\":\n",
    "    pro_1_value = cosine_similarity([1,2,3],[4,5,6])\n",
    "    pro_2_dict, pro_2_tuple = grades('./example.csv')\n",
    "    pro_3_list = valid_password(['Ab12!','AA1234!?','AbCdEfGh','12345AaBa!', '12Zz!?98Aa#@'])\n",
    "    print (pro_1_value)\n",
    "    print (pro_2_dict)\n",
    "    print (pro_2_tuple)\n",
    "    print (pro_3_list)"
   ]
  },
  {
   "cell_type": "code",
   "execution_count": null,
   "metadata": {
    "collapsed": true
   },
   "outputs": [],
   "source": []
  },
  {
   "cell_type": "code",
   "execution_count": null,
   "metadata": {
    "collapsed": true
   },
   "outputs": [],
   "source": []
  },
  {
   "cell_type": "code",
   "execution_count": null,
   "metadata": {
    "collapsed": true
   },
   "outputs": [],
   "source": []
  }
 ],
 "metadata": {
  "kernelspec": {
   "display_name": "Python 3",
   "language": "python",
   "name": "python3"
  },
  "language_info": {
   "codemirror_mode": {
    "name": "ipython",
    "version": 3
   },
   "file_extension": ".py",
   "mimetype": "text/x-python",
   "name": "python",
   "nbconvert_exporter": "python",
   "pygments_lexer": "ipython3",
   "version": "3.5.3"
  }
 },
 "nbformat": 4,
 "nbformat_minor": 2
}
