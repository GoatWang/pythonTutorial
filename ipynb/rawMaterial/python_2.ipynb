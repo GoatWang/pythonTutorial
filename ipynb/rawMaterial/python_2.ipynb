{
 "cells": [
  {
   "cell_type": "markdown",
   "metadata": {
    "deletable": true,
    "editable": true
   },
   "source": [
    "# int"
   ]
  },
  {
   "cell_type": "code",
   "execution_count": 11,
   "metadata": {
    "collapsed": false,
    "deletable": true,
    "editable": true
   },
   "outputs": [
    {
     "name": "stdout",
     "output_type": "stream",
     "text": [
      "0b1100100\n",
      "0x64\n",
      "3\n",
      "3\n"
     ]
    }
   ],
   "source": [
    "print(bin(100))  ##二進位(binary)\n",
    "print(hex(100))  ##十六進位(hexadecimal) \n",
    "print(int(3.14))\n",
    "print(int(3.88))  ##自動捨去法"
   ]
  },
  {
   "cell_type": "markdown",
   "metadata": {
    "deletable": true,
    "editable": true
   },
   "source": [
    "# bool"
   ]
  },
  {
   "cell_type": "code",
   "execution_count": 17,
   "metadata": {
    "collapsed": false,
    "deletable": true,
    "editable": true
   },
   "outputs": [
    {
     "name": "stdout",
     "output_type": "stream",
     "text": [
      "False\n",
      "False\n"
     ]
    }
   ],
   "source": [
    "print(True is 1)\n",
    "print(False is 0)"
   ]
  },
  {
   "cell_type": "code",
   "execution_count": 18,
   "metadata": {
    "collapsed": false,
    "deletable": true,
    "editable": true
   },
   "outputs": [
    {
     "name": "stdout",
     "output_type": "stream",
     "text": [
      "True\n",
      "True\n"
     ]
    }
   ],
   "source": [
    "print(True == 1)\n",
    "print(False == 0)"
   ]
  },
  {
   "cell_type": "markdown",
   "metadata": {
    "deletable": true,
    "editable": true
   },
   "source": [
    "# 條件運算式"
   ]
  },
  {
   "cell_type": "code",
   "execution_count": 25,
   "metadata": {
    "collapsed": false,
    "deletable": true,
    "editable": true
   },
   "outputs": [
    {
     "name": "stdout",
     "output_type": "stream",
     "text": [
      "3\n",
      "3\n",
      "4\n",
      "4\n"
     ]
    }
   ],
   "source": [
    "x =3 if 1 else 4\n",
    "print(x)\n",
    "x =3 if True else 4\n",
    "print(x)\n",
    "x =3 if 0 else 4\n",
    "print(x)\n",
    "x =3 if False else 4\n",
    "print(x)"
   ]
  },
  {
   "cell_type": "markdown",
   "metadata": {
    "deletable": true,
    "editable": true
   },
   "source": [
    "# Fraction"
   ]
  },
  {
   "cell_type": "code",
   "execution_count": 32,
   "metadata": {
    "collapsed": false,
    "deletable": true,
    "editable": true
   },
   "outputs": [
    {
     "name": "stdout",
     "output_type": "stream",
     "text": [
      "1/2\n",
      "3537118815677477/1125899906842624\n",
      "6368089873101881/4503599627370496\n"
     ]
    }
   ],
   "source": [
    "from fractions import *\n",
    "F = Fraction\n",
    "print(F(1,2))\n",
    "print(F(3.1415926))\n",
    "print(F(1.414))"
   ]
  },
  {
   "cell_type": "markdown",
   "metadata": {
    "deletable": true,
    "editable": true
   },
   "source": [
    "# List"
   ]
  },
  {
   "cell_type": "code",
   "execution_count": 34,
   "metadata": {
    "collapsed": false,
    "deletable": true,
    "editable": true
   },
   "outputs": [
    {
     "data": {
      "text/plain": [
       "[2, 3]"
      ]
     },
     "execution_count": 34,
     "metadata": {},
     "output_type": "execute_result"
    }
   ],
   "source": [
    "# list announcement, append, pop\n",
    "mylist = []\n",
    "mylist.append(1)\n",
    "mylist.append(2)\n",
    "mylist.append(3)\n",
    "mylist.pop(0)  ## drop obj in the index\n",
    "mylist"
   ]
  },
  {
   "cell_type": "code",
   "execution_count": 41,
   "metadata": {
    "collapsed": false,
    "deletable": true,
    "editable": true
   },
   "outputs": [
    {
     "name": "stdout",
     "output_type": "stream",
     "text": [
      "[0, 1, 2, 3, 4, 5, 6, 7, 8, 9]\n",
      "[0, 1]\n",
      "[2, 3, 4, 5, 6, 7, 8, 9]\n",
      "[7, 8, 9]\n",
      "[0, 1, 2, 3, 4]\n"
     ]
    }
   ],
   "source": [
    "## index slicing\n",
    "mylist = list(range(10))\n",
    "print(mylist)\n",
    "print(mylist[:2])\n",
    "print(mylist[2:])\n",
    "print(mylist[-3:])\n",
    "print(mylist[:-5])"
   ]
  },
  {
   "cell_type": "code",
   "execution_count": 61,
   "metadata": {
    "collapsed": false,
    "deletable": true,
    "editable": true
   },
   "outputs": [
    {
     "name": "stdout",
     "output_type": "stream",
     "text": [
      "[0, 1, 2, 3, 4, 5, 6, 7, 8, 9, [100, 100, 100, -1, -99]]\n",
      "[100, 100, 100, -1, -99]\n",
      "-------------------\n",
      "[0, 1, 2, 3, 4, 5, 6, 7, 8, 9, 100, 100, 100, -1, -99]\n",
      "-------------------\n",
      "[0, 1, 2, 3, 4, 5, 6, 7, 8, 9, 100, 100, 100, -1, -99]\n",
      "-------------------\n",
      "[0, 0, 0, 0, 0, 0, 0, 0, 0, 0, 0, 0, 0, 0, 0, 0, 0, 0, 0, 0, 0, 0, 0, 0, 0, 0, 0, 0, 0, 0, 0, 0, 0, 0, 0, 0, 0, 0, 0, 0, 0, 0, 0, 0, 0, 0, 0, 0, 0, 0, 0, 0, 0, 0, 0, 0, 0, 0, 0, 0, 0, 0, 0, 0, 0, 0, 0, 0, 0, 0, 0, 0, 0, 0, 0, 0, 0, 0, 0, 0, 0, 0, 0, 0, 0, 0, 0, 0, 0, 0, 0, 0, 0, 0, 0, 0, 0, 0, 0, 0]\n",
      "-------------------\n"
     ]
    }
   ],
   "source": [
    "# append extend\n",
    "mylist = list(range(10))\n",
    "mylist.append([100, 100, 100, -1, -99])\n",
    "print(mylist)\n",
    "print(mylist[10])\n",
    "print(\"-------------------\")\n",
    "\n",
    "mylist = list(range(10))\n",
    "mylist.extend([100, 100, 100, -1, -99])\n",
    "print(mylist)\n",
    "print(\"-------------------\")\n",
    "\n",
    "mylist = list(range(10))\n",
    "mylist = mylist + [100, 100, 100, -1, -99]\n",
    "print(mylist)\n",
    "print(\"-------------------\")\n",
    "\n",
    "mylist = [0] * 100\n",
    "print(mylist)\n",
    "print(\"-------------------\")"
   ]
  },
  {
   "cell_type": "code",
   "execution_count": 155,
   "metadata": {
    "collapsed": false,
    "deletable": true,
    "editable": true
   },
   "outputs": [
    {
     "name": "stdout",
     "output_type": "stream",
     "text": [
      "[-99, -1, 0, 1, 2, 3, 4, 5, 6, 7, 8, 9, 100, 100, 100]\n",
      "[100, 100, 100, 9, 8, 7, 6, 5, 4, 3, 2, 1, 0, -1, -99]\n",
      "3\n",
      "10\n",
      "{0, 1, 2, 3, 4, 5, 6, 7, 8, 9, 100, -99, -1}\n"
     ]
    }
   ],
   "source": [
    "# sort, count, min, max, len, inedx\n",
    "mylist = list(range(10))\n",
    "mylist = mylist + [100, 100, 100, -1, -99]\n",
    "print(sorted(mylist))\n",
    "print(sorted(mylist, reverse = True))\n",
    "print(mylist.count(100))  #有幾個100\n",
    "print(mylist.index(100))  # 第一次出現的索引值"
   ]
  },
  {
   "cell_type": "code",
   "execution_count": 157,
   "metadata": {
    "collapsed": false,
    "deletable": true,
    "editable": true
   },
   "outputs": [
    {
     "name": "stdout",
     "output_type": "stream",
     "text": [
      "[0, 1, 2, 3, 4, 5, 6, 7, 8, 9, 100, -1, -99]\n",
      "[0, 1, 2, 3, 4, 5, 6, 7, 8, 9, 100, -99, -1]\n"
     ]
    }
   ],
   "source": [
    "# set\n",
    "newlist = []\n",
    "for i in mylist:\n",
    "    if i not in newlist:\n",
    "        newlist.append(i) \n",
    "print(newlist)\n",
    "print(list(set(mylist)))  ##去掉重複值"
   ]
  },
  {
   "cell_type": "code",
   "execution_count": 65,
   "metadata": {
    "collapsed": false,
    "deletable": true,
    "editable": true
   },
   "outputs": [
    {
     "data": {
      "text/plain": [
       "'0 1 2 3 4 5 6 7 8 9'"
      ]
     },
     "execution_count": 65,
     "metadata": {},
     "output_type": "execute_result"
    }
   ],
   "source": [
    "# join\n",
    "mylist = list(range(10))\n",
    "newlist = [str(i) for i in mylist]\n",
    "\" \".join(newlist)"
   ]
  },
  {
   "cell_type": "code",
   "execution_count": 65,
   "metadata": {
    "collapsed": false,
    "deletable": true,
    "editable": true
   },
   "outputs": [
    {
     "name": "stdout",
     "output_type": "stream",
     "text": [
      "False\n",
      "True\n",
      "False\n",
      "False\n"
     ]
    }
   ],
   "source": [
    "# copy\n",
    "mylist = list(range(10))\n",
    "mycopy = mylist.copy()\n",
    "print(mycopy is mylist)\n",
    "print(mycopy == mylist)\n",
    "\n",
    "\n",
    "mycopy[0] = -100\n",
    "print(mycopy is mylist)\n",
    "print(mycopy == mylist)\n"
   ]
  },
  {
   "cell_type": "code",
   "execution_count": 178,
   "metadata": {
    "collapsed": false,
    "deletable": true,
    "editable": true,
    "scrolled": true
   },
   "outputs": [
    {
     "name": "stdout",
     "output_type": "stream",
     "text": [
      "['2017年01月01日至2017年06月30日', nan, nan, '309336', '309336', nan, nan, '36661', '4745', '-15525', '14001', '17236', '-9674', '-11760', '-52771', '508', '0', '-4550', '60', '5000', '0', '45', '0', '48844', '-48191', '-7541', '-22912', nan, nan, '-8230', '52863', '99976', '805565', '-58842', '-134', '-21197', '-4950', '865051', nan, '0', '7251', '-302181', '-1519513', '-36567', '-663', '-2465', '-1854138', '-989087', '-1011999', '-702663', '12874', '12967', '-10777', '-57075', '-744674', nan, '0', '10517', '-465878', '494467', '-104000', '2470', '0', '-15168', '8457', '-682', '44323', '33747', '-500', '9388', '0', '225130', '-15753', '226518', nan, '310000', '-1488', '190', '0', '0', '-109870', '198832', '47228', '-272096', '2876766', '2604670', '2604670']\n",
      "-------------\n",
      "<class 'float'>\n",
      "<class 'float'>\n",
      "<class 'float'>\n",
      "<class 'float'>\n",
      "<class 'float'>\n",
      "<class 'float'>\n",
      "<class 'float'>\n",
      "<class 'float'>\n",
      "<class 'float'>\n",
      "-------------\n",
      "['309336', '309336', '36661', '33747', '310000']\n"
     ]
    }
   ],
   "source": [
    "# iteration\n",
    "import pandas as pd\n",
    "import math\n",
    "import re\n",
    "df = pd.read_html(\"http://mops.twse.com.tw/server-java/t164sb01?step=1&CO_ID=4104&SYEAR=2017&SSEASON=2&REPORT_ID=C\")[3]\n",
    "mylist = list(df[1])\n",
    "print(mylist)\n",
    "print(\"-------------\")\n",
    "\n",
    "[print(type(item)) for item in mylist if type(item) != str]\n",
    "print(\"-------------\")\n",
    "\n",
    "notNoneList = [item for item in mylist if type(item) == str and re.findall(r'^3', item)]\n",
    "print(notNoneList)"
   ]
  },
  {
   "cell_type": "code",
   "execution_count": 181,
   "metadata": {
    "collapsed": false,
    "deletable": true,
    "editable": true
   },
   "outputs": [
    {
     "name": "stdout",
     "output_type": "stream",
     "text": [
      "0 2017年01月01日至2017年06月30日\n",
      "1 nan\n",
      "2 nan\n",
      "3 309336\n",
      "4 309336\n",
      "5 nan\n",
      "6 nan\n",
      "7 36661\n",
      "8 4745\n",
      "9 -15525\n"
     ]
    }
   ],
   "source": [
    "# enumerate\n",
    "for num, item in enumerate(mylist):\n",
    "    if num < 10:\n",
    "        print(num, item)"
   ]
  },
  {
   "cell_type": "markdown",
   "metadata": {
    "deletable": true,
    "editable": true
   },
   "source": [
    "# Dict"
   ]
  },
  {
   "cell_type": "code",
   "execution_count": 175,
   "metadata": {
    "collapsed": false,
    "deletable": true,
    "editable": true
   },
   "outputs": [
    {
     "name": "stdout",
     "output_type": "stream",
     "text": [
      "<class 'dict'>\n",
      "<class 'set'>\n",
      "{'c': 3, 'b': 2, 'a': 1}\n",
      "{'d': 4, 'c': 3, 'b': 2, 'a': 1}\n"
     ]
    }
   ],
   "source": [
    "# dict announcement\n",
    "a = {}\n",
    "print(type(a))\n",
    "b = {1,}\n",
    "print(type(b))\n",
    "\n",
    "mydict = {\"name\":\"jeremy\", \"age\":23, \"nickname\":\"GoatWang\"}\n",
    "print(mydict)\n",
    "mydict['tall'] = 175\n",
    "print(mydict)  ##沒有順序"
   ]
  },
  {
   "cell_type": "code",
   "execution_count": 14,
   "metadata": {
    "collapsed": false,
    "deletable": true,
    "editable": true
   },
   "outputs": [
    {
     "name": "stdout",
     "output_type": "stream",
     "text": [
      "dict_keys(['age', 'tall', 'name', 'nickname'])\n",
      "dict_values([23, 175, 'jeremy', 'GoatWang'])\n",
      "jeremy\n",
      "None\n",
      "70\n",
      "'e' not in mydict.keys()\n"
     ]
    }
   ],
   "source": [
    "# dict call\n",
    "print(mydict.keys())\n",
    "print(mydict.values())\n",
    "\n",
    "print(mydict['name'])\n",
    "print(mydict.get('weight'))\n",
    "print(mydict.get('weight', 70))\n",
    "\n",
    "try:\n",
    "    print(mydict['e'])\n",
    "except:\n",
    "    print(\"'e' not in mydict.keys()\")\n",
    "# exceptions: https://docs.python.org/3/library/exceptions.html#bltin-exceptions\n",
    "\n"
   ]
  },
  {
   "cell_type": "code",
   "execution_count": 15,
   "metadata": {
    "collapsed": false,
    "deletable": true,
    "editable": true
   },
   "outputs": [
    {
     "name": "stdout",
     "output_type": "stream",
     "text": [
      "{'c': 3, 'b': 2, 'a': 1}\n",
      "None\n",
      "{'c': 3, 'b': 2, 'a': 1}\n"
     ]
    },
    {
     "ename": "KeyError",
     "evalue": "'100'",
     "output_type": "error",
     "traceback": [
      "\u001b[1;31m---------------------------------------------------------------------------\u001b[0m",
      "\u001b[1;31mKeyError\u001b[0m                                  Traceback (most recent call last)",
      "\u001b[1;32m<ipython-input-15-b8a305011ba8>\u001b[0m in \u001b[0;36m<module>\u001b[1;34m()\u001b[0m\n\u001b[0;32m      6\u001b[0m \u001b[0mprint\u001b[0m\u001b[1;33m(\u001b[0m\u001b[0mres\u001b[0m\u001b[1;33m)\u001b[0m\u001b[1;33m\u001b[0m\u001b[0m\n\u001b[0;32m      7\u001b[0m \u001b[0mprint\u001b[0m\u001b[1;33m(\u001b[0m\u001b[0mmydict\u001b[0m\u001b[1;33m)\u001b[0m\u001b[1;33m\u001b[0m\u001b[0m\n\u001b[1;32m----> 8\u001b[1;33m \u001b[0mmydict\u001b[0m\u001b[1;33m.\u001b[0m\u001b[0mpop\u001b[0m\u001b[1;33m(\u001b[0m\u001b[1;34m'100'\u001b[0m\u001b[1;33m)\u001b[0m\u001b[1;33m\u001b[0m\u001b[0m\n\u001b[0m",
      "\u001b[1;31mKeyError\u001b[0m: '100'"
     ]
    }
   ],
   "source": [
    "# pop\n",
    "mydict = {'d': 4, 'c': 3, 'b': 2, 'a': 1}\n",
    "mydict.pop('d')\n",
    "print(mydict)\n",
    "res = mydict.pop('100', None)\n",
    "print(res)\n",
    "print(mydict)\n",
    "mydict.pop('100')"
   ]
  },
  {
   "cell_type": "code",
   "execution_count": 149,
   "metadata": {
    "collapsed": false,
    "deletable": true,
    "editable": true
   },
   "outputs": [
    {
     "name": "stdout",
     "output_type": "stream",
     "text": [
      "d 4\n",
      "c 3\n",
      "b 2\n",
      "a 1\n"
     ]
    }
   ],
   "source": [
    "# iteration\n",
    "for key, value in mydict.items():\n",
    "    print(key, value)"
   ]
  },
  {
   "cell_type": "code",
   "execution_count": 150,
   "metadata": {
    "collapsed": false,
    "deletable": true,
    "editable": true
   },
   "outputs": [
    {
     "data": {
      "text/plain": [
       "[('a', 1), ('b', 2), ('c', 3), ('d', 4)]"
      ]
     },
     "execution_count": 150,
     "metadata": {},
     "output_type": "execute_result"
    }
   ],
   "source": [
    "# sort\n",
    "sorted(mydict.items(), key=lambda x:x[1])"
   ]
  },
  {
   "cell_type": "code",
   "execution_count": 2,
   "metadata": {
    "collapsed": false,
    "deletable": true,
    "editable": true
   },
   "outputs": [
    {
     "data": {
      "text/plain": [
       "Counter({'bracket': 1,\n",
       "         'color:': 2,\n",
       "         'almost': 1,\n",
       "         'Exchange.': 1,\n",
       "         'Free': 7,\n",
       "         \"project's\": 1,\n",
       "         'shifts': 2,\n",
       "         'towards': 3,\n",
       "         'Armenian\"': 1,\n",
       "         'objects': 6,\n",
       "         '3.6': 2,\n",
       "         'mutable,': 1,\n",
       "         'Creator': 1,\n",
       "         'These': 3,\n",
       "         'terminal.': 1,\n",
       "         'was': 26,\n",
       "         'Aivazis,': 1,\n",
       "         '(intended': 1,\n",
       "         'variants': 1,\n",
       "         'date': 2,\n",
       "         '1.5x,': 21,\n",
       "         'natural': 1,\n",
       "         'Inc.</a>,': 1,\n",
       "         'object,': 3,\n",
       "         'visited': 1,\n",
       "         'indexes': 2,\n",
       "         'lang=\"gu\"': 1,\n",
       "         'native': 1,\n",
       "         'Facundo': 1,\n",
       "         'April': 3,\n",
       "         'citation': 1,\n",
       "         'tright\"': 1,\n",
       "         'creator,': 1,\n",
       "         'monitors': 1,\n",
       "         'and,': 1,\n",
       "         'mood': 1,\n",
       "         'web\">The': 1,\n",
       "         'iterators': 2,\n",
       "         'Division': 2,\n",
       "         'twt': 1,\n",
       "         'resulting': 1,\n",
       "         'whenever': 1,\n",
       "         '3000': 1,\n",
       "         'being': 6,\n",
       "         'lang=\"sq\"': 1,\n",
       "         'say': 2,\n",
       "         'language,': 3,\n",
       "         'језик)': 1,\n",
       "         '[z]\"': 1,\n",
       "         'hard-won': 1,\n",
       "         'acquiring': 1,\n",
       "         'Nokia': 2,\n",
       "         'refer': 1,\n",
       "         'C': 12,\n",
       "         'alt=\"Page': 1,\n",
       "         'caught': 1,\n",
       "         'one': 6,\n",
       "         'top': 1,\n",
       "         'data</a>,': 1,\n",
       "         'change': 1,\n",
       "         'Grumpy:': 1,\n",
       "         'meeting': 1,\n",
       "         'positive': 2,\n",
       "         'Stackless': 2,\n",
       "         'measured': 2,\n",
       "         'From': 2,\n",
       "         'How': 2,\n",
       "         'limited': 1,\n",
       "         '2006).': 4,\n",
       "         'moreover,': 1,\n",
       "         'Into': 2,\n",
       "         'modules': 9,\n",
       "         'social': 1,\n",
       "         'Source': 5,\n",
       "         '20px;': 2,\n",
       "         'As': 3,\n",
       "         'link': 1,\n",
       "         'features': 7,\n",
       "         ':': 1,\n",
       "         'J.': 3,\n",
       "         '1991<span': 1,\n",
       "         'Burmese\"': 1,\n",
       "         'designed': 3,\n",
       "         'modders': 1,\n",
       "         '\"feature\"': 1,\n",
       "         '1&#160;–': 1,\n",
       "         'holder': 1,\n",
       "         'executes': 3,\n",
       "         'will.<sup': 1,\n",
       "         'text\"': 185,\n",
       "         'Arabic\"': 1,\n",
       "         'show': 2,\n",
       "         'Changing': 1,\n",
       "         'Document': 2,\n",
       "         '.pyc,': 1,\n",
       "         'fixed': 2,\n",
       "         'UNIX/C': 1,\n",
       "         'shell,': 1,\n",
       "         'Generator': 1,\n",
       "         'changed': 3,\n",
       "         'invented': 2,\n",
       "         'integer,': 1,\n",
       "         'Thing': 1,\n",
       "         'core,': 1,\n",
       "         'run': 8,\n",
       "         'Laptop': 2,\n",
       "         '[c]\"': 1,\n",
       "         'Just': 1,\n",
       "         'PyPy': 3,\n",
       "         '|': 1,\n",
       "         'course,': 1,\n",
       "         'side': 1,\n",
       "         'shows': 1,\n",
       "         'not': 19,\n",
       "         'some': 8,\n",
       "         'lang=\"lv\"': 1,\n",
       "         'within': 1,\n",
       "         'put': 1,\n",
       "         '2013': 1,\n",
       "         'changes': 4,\n",
       "         'wanted': 1,\n",
       "         'exploit': 1,\n",
       "         'keys': 4,\n",
       "         'to': 169,\n",
       "         'various': 3,\n",
       "         'calls': 1,\n",
       "         'enforced,': 1,\n",
       "         'reviewed': 1,\n",
       "         'abilities': 1,\n",
       "         'types,': 4,\n",
       "         'Baxter,': 2,\n",
       "         'classes': 5,\n",
       "         'been': 12,\n",
       "         'type;': 1,\n",
       "         'week': 1,\n",
       "         'lang=\"es\"': 1,\n",
       "         'List:': 1,\n",
       "         '4px;': 4,\n",
       "         'id': 1,\n",
       "         '104.229': 2,\n",
       "         'covered': 1,\n",
       "         'limit': 1,\n",
       "         'numerics': 1,\n",
       "         'fix': 1,\n",
       "         'Literal': 1,\n",
       "         'next': 1,\n",
       "         'faster': 1,\n",
       "         'lang=\"el\"': 1,\n",
       "         'right;': 1,\n",
       "         'Alex;': 1,\n",
       "         'encloses': 1,\n",
       "         'newsgroup': 1,\n",
       "         'Stuart': 1,\n",
       "         'birth': 1,\n",
       "         '-total': 1,\n",
       "         'replace': 1,\n",
       "         'operator.': 1,\n",
       "         'Numerical': 1,\n",
       "         'referred': 2,\n",
       "         'title': 2,\n",
       "         '2.6+,': 1,\n",
       "         'Standard': 14,\n",
       "         'contain': 7,\n",
       "         'Ziff': 1,\n",
       "         'we': 3,\n",
       "         'grammar.': 1,\n",
       "         'python': 2,\n",
       "         'compiles': 7,\n",
       "         'lang=\"eu\"': 1,\n",
       "         'depth:': 1,\n",
       "         'share': 1,\n",
       "         '\"Fans': 1,\n",
       "         'lang=\"as\"': 1,\n",
       "         'running': 3,\n",
       "         'award': 1,\n",
       "         'site,': 1,\n",
       "         'imaginary': 1,\n",
       "         'Unlike': 1,\n",
       "         'curly': 3,\n",
       "         'Ruby': 1,\n",
       "         'explicit': 1,\n",
       "         'versus': 3,\n",
       "         'Lists': 1,\n",
       "         '30em;': 3,\n",
       "         'v1.0</i>.': 1,\n",
       "         'chose': 1,\n",
       "         '(all': 1,\n",
       "         'playful': 1,\n",
       "         '*': 1,\n",
       "         'bytes': 3,\n",
       "         'Donal': 1,\n",
       "         'Although': 1,\n",
       "         'those': 2,\n",
       "         'one—and': 1,\n",
       "         '2017<span': 3,\n",
       "         'јазик)': 1,\n",
       "         'classic': 2,\n",
       "         '0.5em': 1,\n",
       "         'Operators': 2,\n",
       "         'powerful': 1,\n",
       "         'growth': 1,\n",
       "         'syntactic': 2,\n",
       "         'y</code>,': 2,\n",
       "         'emitted': 1,\n",
       "         '(': 1,\n",
       "         'then': 4,\n",
       "         'internal': 2,\n",
       "         'integer': 2,\n",
       "         'keywords.': 1,\n",
       "         'sets;': 1,\n",
       "         'word': 1,\n",
       "         'left': 2,\n",
       "         'group': 2,\n",
       "         'Low': 1,\n",
       "         'virtual': 2,\n",
       "         'top;': 2,\n",
       "         '2007': 2,\n",
       "         'providing': 2,\n",
       "         '(bahasa': 1,\n",
       "         'Not': 1,\n",
       "         'entire': 1,\n",
       "         'period': 1,\n",
       "         '(2015).': 1,\n",
       "         'Security': 2,\n",
       "         'months': 1,\n",
       "         'Romanian\"': 1,\n",
       "         '.pyz': 1,\n",
       "         'Chinese\"': 2,\n",
       "         'argument': 1,\n",
       "         'format': 1,\n",
       "         'ভাষা)': 1,\n",
       "         'Other': 1,\n",
       "         '20&#160;–': 1,\n",
       "         'Go:': 1,\n",
       "         'omitted,': 1,\n",
       "         'web\"><a': 79,\n",
       "         'alt=\"\"': 9,\n",
       "         'Language': 12,\n",
       "         '[y]\"': 1,\n",
       "         'lang=\"mr\"': 1,\n",
       "         'signifies': 1,\n",
       "         'Zen': 1,\n",
       "         'Haskell,': 2,\n",
       "         'retrieved': 2,\n",
       "         'Further,': 1,\n",
       "         'time': 6,\n",
       "         'supports': 4,\n",
       "         '2.6': 1,\n",
       "         'fully': 1,\n",
       "         'deciding': 1,\n",
       "         'Beginning': 1,\n",
       "         '0px': 2,\n",
       "         'upstream': 1,\n",
       "         'Axel.': 1,\n",
       "         'ago,': 1,\n",
       "         'CPython': 9,\n",
       "         'provided': 3,\n",
       "         'operators': 4,\n",
       "         'ensures': 1,\n",
       "         'practice': 1,\n",
       "         'valid': 2,\n",
       "         'Chris': 4,\n",
       "         'dedicated': 2,\n",
       "         'extension': 2,\n",
       "         'printer': 1,\n",
       "         'This': 13,\n",
       "         'garbage': 1,\n",
       "         'closer': 1,\n",
       "         '15.': 2,\n",
       "         'Bill': 1,\n",
       "         'address.': 1,\n",
       "         'title=\"\"': 1,\n",
       "         'raw': 1,\n",
       "         '(زمانی': 1,\n",
       "         'tireless': 1,\n",
       "         'mixture': 2,\n",
       "         'gone': 1,\n",
       "         'name=\"go\"': 1,\n",
       "         '#eee;\"><a': 1,\n",
       "         'until': 2,\n",
       "         'Highest': 1,\n",
       "         'come': 1,\n",
       "         'Boo': 1,\n",
       "         'example,': 8,\n",
       "         'class': 5,\n",
       "         'Lutz': 1,\n",
       "         'middle\"': 4,\n",
       "         'passed': 2,\n",
       "         'attaches': 1,\n",
       "         'Serbian\"': 1,\n",
       "         'option': 1,\n",
       "         'describe': 2,\n",
       "         'values),': 1,\n",
       "         'getting': 1,\n",
       "         'lang=\"pl\"': 1,\n",
       "         \"2.7's\": 1,\n",
       "         '333<sup': 1,\n",
       "         'Naomi': 1,\n",
       "         'direct': 1,\n",
       "         '(as': 1,\n",
       "         '39.335': 2,\n",
       "         'needing': 3,\n",
       "         'Is': 4,\n",
       "         'ranked': 2,\n",
       "         'Modules': 1,\n",
       "         'Developer': 3,\n",
       "         'Qt</i>.': 1,\n",
       "         'Tools': 1,\n",
       "         'Long': 1,\n",
       "         'follows': 2,\n",
       "         'files': 1,\n",
       "         'analogous': 1,\n",
       "         'Each': 1,\n",
       "         '(2007).': 2,\n",
       "         'cache': 1,\n",
       "         'There': 1,\n",
       "         'Lukewarm': 1,\n",
       "         'floor': 1,\n",
       "         'rewriting': 1,\n",
       "         '2D': 1,\n",
       "         'compares': 2,\n",
       "         'effects': 1,\n",
       "         'core': 4,\n",
       "         'lang=\"ru\"': 1,\n",
       "         'tests': 1,\n",
       "         'occur': 1,\n",
       "         '(issue': 1,\n",
       "         'ten': 1,\n",
       "         'variant': 3,\n",
       "         'how': 3,\n",
       "         'So': 1,\n",
       "         'Sinhala\"': 1,\n",
       "         'append': 1,\n",
       "         '1.396': 1,\n",
       "         'IP': 2,\n",
       "         '2.2': 2,\n",
       "         'examples': 2,\n",
       "         'about<b': 1,\n",
       "         'General': 2,\n",
       "         'using': 18,\n",
       "         'Darryl': 1,\n",
       "         'Skip;': 1,\n",
       "         '10/500': 1,\n",
       "         'Space': 1,\n",
       "         'December': 8,\n",
       "         'Light': 2,\n",
       "         'his': 2,\n",
       "         'Basic': 2,\n",
       "         'Mark': 5,\n",
       "         'Reference': 1,\n",
       "         'better': 5,\n",
       "         \"it's\": 1,\n",
       "         'in;': 2,\n",
       "         'generally': 1,\n",
       "         'collapse;': 1,\n",
       "         'releasing': 1,\n",
       "         'dili)': 2,\n",
       "         'equation': 3,\n",
       "         'because': 3,\n",
       "         '==': 14,\n",
       "         'size:': 2,\n",
       "         'twice': 1,\n",
       "         'Dynamic': 1,\n",
       "         '2003).': 7,\n",
       "         '105,': 2,\n",
       "         '9.2</i>.': 1,\n",
       "         'executed': 2,\n",
       "         'Provider': 1,\n",
       "         'lang=\"eo\"': 1,\n",
       "         'EEP': 1,\n",
       "         'implicit': 1,\n",
       "         'Mike.': 1,\n",
       "         '2.0': 2,\n",
       "         'Projects:': 1,\n",
       "         '1989<sup': 1,\n",
       "         'conceived': 1,\n",
       "         'LCCN': 3,\n",
       "         '(мова': 1,\n",
       "         '(Min': 1,\n",
       "         'lang=\"fa\"': 1,\n",
       "         'back,': 1,\n",
       "         '3.<sup': 2,\n",
       "         'rigidly': 1,\n",
       "         'now': 4,\n",
       "         'both': 6,\n",
       "         'Wiskunde': 2,\n",
       "         '(C': 1,\n",
       "         'best': 2,\n",
       "         'phones': 1,\n",
       "         'Indexes': 1,\n",
       "         'choice': 2,\n",
       "         'wiki': 1,\n",
       "         'separate,': 1,\n",
       "         'Schedules': 1,\n",
       "         'tuples': 2,\n",
       "         'App': 2,\n",
       "         'brings': 1,\n",
       "         'results': 1,\n",
       "         'widget': 1,\n",
       "         'Press.': 1,\n",
       "         'beta,': 1,\n",
       "         'contact': 1,\n",
       "         'scripts': 1,\n",
       "         'variables': 1,\n",
       "         'GIMP': 1,\n",
       "         'among': 1,\n",
       "         'image': 1,\n",
       "         'adds': 1,\n",
       "         'set': 1,\n",
       "         '(langage)': 1,\n",
       "         'symbolic': 2,\n",
       "         'Python': 198,\n",
       "         'A-Z': 1,\n",
       "         'inherit': 1,\n",
       "         'Commons': 2,\n",
       "         'empty': 1,\n",
       "         'lang=\"pt\"': 1,\n",
       "         'further': 1,\n",
       "         'Interface': 1,\n",
       "         'Tagalog\"': 1,\n",
       "         'contexts.': 1,\n",
       "         'Nature': 1,\n",
       "         'Scots\"': 1,\n",
       "         'brackets': 2,\n",
       "         'attached': 3,\n",
       "         'intends': 1,\n",
       "         'is,': 2,\n",
       "         'bugfix': 1,\n",
       "         'avoiding': 1,\n",
       "         'Network': 1,\n",
       "         '&lt;=': 2,\n",
       "         'count:': 3,\n",
       "         'search': 1,\n",
       "         'Khmer\"': 1,\n",
       "         'IBPy': 1,\n",
       "         'cost': 1,\n",
       "         'mix': 1,\n",
       "         'rich': 1,\n",
       "         'months.': 1,\n",
       "         '.<sup': 1,\n",
       "         'mixed': 5,\n",
       "         'promotes': 1,\n",
       "         'Cathedral': 2,\n",
       "         '2005,': 1,\n",
       "         \"object's\": 1,\n",
       "         'Thomas': 1,\n",
       "         'Own': 1,\n",
       "         'Jason': 1,\n",
       "         '[j]\"': 1,\n",
       "         '+': 3,\n",
       "         'Jython': 1,\n",
       "         'function': 6,\n",
       "         'often': 8,\n",
       "         'fast,': 1,\n",
       "         'complex': 3,\n",
       "         'usable': 1,\n",
       "         'Integers': 2,\n",
       "         '\"there': 1,\n",
       "         'static': 2,\n",
       "         '2011,': 1,\n",
       "         'in': 146,\n",
       "         'direction': 1,\n",
       "         '2.5': 1,\n",
       "         'fun': 1,\n",
       "         'Kurdish\"': 1,\n",
       "         'lang=\"en\"': 2,\n",
       "         'But': 1,\n",
       "         '\"better': 1,\n",
       "         'de': 3,\n",
       "         'padding:': 3,\n",
       "         'who': 1,\n",
       "         '2017,': 2,\n",
       "         'XO,': 1,\n",
       "         'Quality': 1,\n",
       "         'not.': 1,\n",
       "         'Guys,': 1,\n",
       "         'trademark': 1,\n",
       "         'data': 3,\n",
       "         'problems': 1,\n",
       "         'calling': 1,\n",
       "         'current': 3,\n",
       "         'levels': 1,\n",
       "         'APress.': 1,\n",
       "         'lang=\"ms\"': 1,\n",
       "         'braces,': 1,\n",
       "         '(prior': 1,\n",
       "         'negative': 4,\n",
       "         'find': 1,\n",
       "         '2.6.x<sup': 1,\n",
       "         'Buginese\"': 1,\n",
       "         '0]': 1,\n",
       "         'though': 2,\n",
       "         'single': 3,\n",
       "         'forum': 1,\n",
       "         'document': 3,\n",
       "         'second': 2,\n",
       "         '0.2em': 4,\n",
       "         'numbers': 1,\n",
       "         'shells': 1,\n",
       "         'dynamic': 3,\n",
       "         'intended': 5,\n",
       "         'rough': 2,\n",
       "         '42.47%': 2,\n",
       "         'By': 1,\n",
       "         'lang=\"tr\"': 1,\n",
       "         'book\"><a': 1,\n",
       "         'coding': 1,\n",
       "         '40px;': 2,\n",
       "         'when': 1,\n",
       "         'cite': 1,\n",
       "         'online': 1,\n",
       "         'after': 6,\n",
       "         'large': 8,\n",
       "         '2001).': 5,\n",
       "         'jezik)': 3,\n",
       "         'game': 1,\n",
       "         'infinity,': 2,\n",
       "         'existing': 2,\n",
       "         'parameter': 1,\n",
       "         'pushed': 1,\n",
       "         'former': 1,\n",
       "         'reference': 4,\n",
       "         '182px;': 4,\n",
       "         'vevent\"': 1,\n",
       "         'Apress.': 2,\n",
       "         'should': 3,\n",
       "         '(notation': 1,\n",
       "         'this': 35,\n",
       "         'instance,': 1,\n",
       "         'TIOBE': 3,\n",
       "         'River,': 1,\n",
       "         'enables': 2,\n",
       "         'Like': 2,\n",
       "         'optional,': 1,\n",
       "         'lang=\"kk\"': 1,\n",
       "         '2.0.2': 1,\n",
       "         'Home': 1,\n",
       "         'My': 1,\n",
       "         'same,': 2,\n",
       "         '2.1': 1,\n",
       "         'Peachpit': 1,\n",
       "         'Documents': 1,\n",
       "         '(The': 1,\n",
       "         'Knowing': 1,\n",
       "         'general': 3,\n",
       "         'Max</a>,': 1,\n",
       "         'plan': 1,\n",
       "         'postponed': 1,\n",
       "         'grail': 1,\n",
       "         'compiler': 2,\n",
       "         '0327': 1,\n",
       "         'checker': 1,\n",
       "         'also': 24,\n",
       "         'Cobra': 3,\n",
       "         'hashable': 1,\n",
       "         'ideal,': 1,\n",
       "         'ideas': 2,\n",
       "         'Trading': 1,\n",
       "         'chained,': 1,\n",
       "         'Authority': 1,\n",
       "         'layout,': 1,\n",
       "         'example': 3,\n",
       "         'offers': 2,\n",
       "         'Python\"': 1,\n",
       "         'standard': 14,\n",
       "         'module': 4,\n",
       "         'connected': 1,\n",
       "         'Niskanen,': 1,\n",
       "         'prefixing': 1,\n",
       "         'included\"': 1,\n",
       "         '15.21.1.': 1,\n",
       "         'articles': 15,\n",
       "         '(18': 1,\n",
       "         'allows': 7,\n",
       "         'kept': 1,\n",
       "         'clauses;': 1,\n",
       "         'types<br': 1,\n",
       "         '(software': 3,\n",
       "         'bold;': 2,\n",
       "         'I': 8,\n",
       "         'mailing': 1,\n",
       "         'revision': 2,\n",
       "         'check': 1,\n",
       "         'it\">there': 1,\n",
       "         'Neal': 1,\n",
       "         '0/1500000': 1,\n",
       "         'termed': 4,\n",
       "         'width=\"9\"': 1,\n",
       "         'Names': 1,\n",
       "         'Cebuano\"': 1,\n",
       "         'normal': 1,\n",
       "         'list': 7,\n",
       "         'Python:': 6,\n",
       "         'Improving': 1,\n",
       "         'lang=\"th\"': 1,\n",
       "         'also:': 2,\n",
       "         'stack': 1,\n",
       "         'entirely': 2,\n",
       "         '100.00%': 1,\n",
       "         'Italian\"': 1,\n",
       "         'Essential': 1,\n",
       "         '3.5.<sup': 1,\n",
       "         'massively': 1,\n",
       "         'announced': 1,\n",
       "         'History': 4,\n",
       "         '—': 2,\n",
       "         'Software.': 1,\n",
       "         'Gang': 1,\n",
       "         'quite': 1,\n",
       "         '(if': 1,\n",
       "         'specific': 2,\n",
       "         'covers': 2,\n",
       "         'values': 3,\n",
       "         'experts,': 1,\n",
       "         'past,': 1,\n",
       "         'NJ:': 1,\n",
       "         'Many': 3,\n",
       "         '4</a>,': 1,\n",
       "         'delimit': 3,\n",
       "         'several': 7,\n",
       "         'log': 2,\n",
       "         'Rossum': 4,\n",
       "         'formats': 1,\n",
       "         '1.557': 1,\n",
       "         'lang=\"sh\"': 1,\n",
       "         'they': 3,\n",
       "         '7.63%': 2,\n",
       "         'classes,': 1,\n",
       "         'Latin\"': 1,\n",
       "         '[k]\"': 1,\n",
       "         '.pyd,': 1,\n",
       "         'In': 7,\n",
       "         '15': 3,\n",
       "         '2.6)': 1,\n",
       "         'lang=\"uz\"': 1,\n",
       "         'receives': 3,\n",
       "         'planned': 1,\n",
       "         '2000).': 5,\n",
       "         'D.;': 1,\n",
       "         'system;': 1,\n",
       "         'systems.': 2,\n",
       "         'edited': 1,\n",
       "         'portal': 1,\n",
       "         '2009': 1,\n",
       "         'marks.': 2,\n",
       "         'specified': 1,\n",
       "         'different': 1,\n",
       "         '(was:': 1,\n",
       "         'Shuttle': 1,\n",
       "         'local': 2,\n",
       "         'Typing': 1,\n",
       "         'Labs<span': 1,\n",
       "         'desired': 1,\n",
       "         'enable': 1,\n",
       "         '4': 1,\n",
       "         'Optional': 1,\n",
       "         'expected,': 1,\n",
       "         'Software': 49,\n",
       "         'words': 1,\n",
       "         'Jewett,': 1,\n",
       "         'ngữ': 1,\n",
       "         'Mark.': 1,\n",
       "         'users': 1,\n",
       "         'elements': 4,\n",
       "         'division.': 1,\n",
       "         'approach': 3,\n",
       "         'response': 1,\n",
       "         'runtime.': 1,\n",
       "         'became': 3,\n",
       "         'Rapid': 1,\n",
       "         'aid': 1,\n",
       "         'programs': 6,\n",
       "         'patched': 1,\n",
       "         'Data': 6,\n",
       "         'Tamil\"': 1,\n",
       "         'leid)': 1,\n",
       "         'video': 2,\n",
       "         'needed': 1,\n",
       "         '(lingua': 1,\n",
       "         'strings': 2,\n",
       "         'بولی)': 1,\n",
       "         '#3:': 1,\n",
       "         'it.': 1,\n",
       "         '2014<span': 1,\n",
       "         'largely': 2,\n",
       "         'Created': 1,\n",
       "         'Labs</a>,': 1,\n",
       "         'were': 2,\n",
       "         'avoid': 1,\n",
       "         'visual': 3,\n",
       "         'instance': 1,\n",
       "         'machine': 1,\n",
       "         '(for': 5,\n",
       "         'Python)': 1,\n",
       "         'popular': 3,\n",
       "         '2000': 1,\n",
       "         'Java,': 2,\n",
       "         'write': 2,\n",
       "         'mentoring': 1,\n",
       "         'including': 9,\n",
       "         'use': 22,\n",
       "         'him': 1,\n",
       "         'Design': 1,\n",
       "         'July': 6,\n",
       "         'lang=\"tl\"': 1,\n",
       "         'value,': 2,\n",
       "         'web\">Eby,': 1,\n",
       "         'block': 8,\n",
       "         '31px;': 8,\n",
       "         'party': 1,\n",
       "         'common,': 1,\n",
       "         'Examples': 1,\n",
       "         'beginning': 1,\n",
       "         '(8': 1,\n",
       "         'quote': 4,\n",
       "         '(2nd': 1,\n",
       "         'smaller': 1,\n",
       "         '3.42%': 2,\n",
       "         'lang=\"gl\"': 1,\n",
       "         'another': 1,\n",
       "         'advantage': 2,\n",
       "         'slice': 2,\n",
       "         'Who?': 1,\n",
       "         'French\"': 1,\n",
       "         'equality': 2,\n",
       "         'declared': 1,\n",
       "         'Timeline': 2,\n",
       "         '(REPL),': 1,\n",
       "         'must': 4,\n",
       "         'compiled': 1,\n",
       "         '2nd': 1,\n",
       "         '2x\"': 21,\n",
       "         'Despite': 1,\n",
       "         'lang=\"fr\"': 1,\n",
       "         'Benjamin': 1,\n",
       "         'where': 6,\n",
       "         'create': 3,\n",
       "         '&lt;&lt;': 1,\n",
       "         'same': 3,\n",
       "         'standard,': 1,\n",
       "         'e.g.,': 3,\n",
       "         'with': 59,\n",
       "         'writing': 4,\n",
       "         'allocated': 2,\n",
       "         'Kazakh\"': 1,\n",
       "         'gurus,': 1,\n",
       "         'August': 14,\n",
       "         'Evan.': 1,\n",
       "         '1px': 1,\n",
       "         'lang=\"km\"': 1,\n",
       "         'Core': 2,\n",
       "         'Cain': 1,\n",
       "         '(2005).': 1,\n",
       "         'title=\"A': 3,\n",
       "         'boolean': 2,\n",
       "         'Nepali\"': 1,\n",
       "         'width:': 9,\n",
       "         '1991.': 1,\n",
       "         '0,': 1,\n",
       "         'border:': 4,\n",
       "         'Blog</i>.': 1,\n",
       "         'book\"': 2,\n",
       "         'does': 7,\n",
       "         'office': 1,\n",
       "         'linked': 1,\n",
       "         'inspired': 2,\n",
       "         'principal': 1,\n",
       "         'Davis': 1,\n",
       "         'science': 4,\n",
       "         'Rexx,': 1,\n",
       "         '2017).': 3,\n",
       "         'multiply': 1,\n",
       "         'between': 5,\n",
       "         'round': 1,\n",
       "         'To': 1,\n",
       "         'public': 1,\n",
       "         '4D</a>,': 1,\n",
       "         'New-style': 1,\n",
       "         '–': 90,\n",
       "         'Cache': 1,\n",
       "         'games);': 1,\n",
       "         '/': 4,\n",
       "         'Persian\"': 1,\n",
       "         'unlimited': 1,\n",
       "         'upon': 1,\n",
       "         'important': 3,\n",
       "         'major': 6,\n",
       "         'around': 2,\n",
       "         'workload': 1,\n",
       "         '32': 1,\n",
       "         '6.97%': 2,\n",
       "         'very': 2,\n",
       "         'node': 2,\n",
       "         'workloads': 1,\n",
       "         'ଭାଷା)': 1,\n",
       "         'lang=\"ja\"': 1,\n",
       "         'Slithers': 1,\n",
       "         'Anthony': 2,\n",
       "         'thousands': 1,\n",
       "         ',': 2,\n",
       "         '\"Appendix': 1,\n",
       "         'Raymond': 2,\n",
       "         '20': 2,\n",
       "         'nyelv)': 1,\n",
       "         'Guido': 13,\n",
       "         'whose': 2,\n",
       "         'Tajik\"': 1,\n",
       "         '3.3.': 1,\n",
       "         'lang=\"hr\"': 1,\n",
       "         'mw1240': 1,\n",
       "         'suitable': 1,\n",
       "         'benefited': 1,\n",
       "         'DMOZ': 3,\n",
       "         'major,': 1,\n",
       "         'focus': 1,\n",
       "         'difficult': 1,\n",
       "         'Magnus': 1,\n",
       "         'feedback': 1,\n",
       "         'exuberant': 1,\n",
       "         'Purpose': 2,\n",
       "         'lang=\"ne\"': 1,\n",
       "         '466': 1,\n",
       "         'Expert': 1,\n",
       "         '__add__': 1,\n",
       "         'Catalan\"': 1,\n",
       "         'lang=\"da\"': 1,\n",
       "         'certain': 2,\n",
       "         'a': 168,\n",
       "         'stack,': 1,\n",
       "         'concern': 1,\n",
       "         'clean-up': 1,\n",
       "         'checked': 2,\n",
       "         'while': 3,\n",
       "         '(PEP)': 1,\n",
       "         '.pyw,': 1,\n",
       "         'body': 2,\n",
       "         '#B2B7F2;': 2,\n",
       "         'target': 1,\n",
       "         '10': 4,\n",
       "         'entities': 1,\n",
       "         '3.0,': 1,\n",
       "         'Estonian\"': 1,\n",
       "         'Magic': 1,\n",
       "         'each': 4,\n",
       "         'year,': 1,\n",
       "         'b': 2,\n",
       "         'decisions': 1,\n",
       "         'K.': 3,\n",
       "         '(EOL,': 1,\n",
       "         'patches': 1,\n",
       "         '(usually': 1,\n",
       "         'Al': 1,\n",
       "         'Nynorsk\"': 1,\n",
       "         'device': 1,\n",
       "         'provides': 4,\n",
       "         'efficient': 1,\n",
       "         'types': 4,\n",
       "         '2D/3D': 1,\n",
       "         'IV': 1,\n",
       "         'numerical': 1,\n",
       "         'sunset': 1,\n",
       "         'versions': 3,\n",
       "         'database.': 1,\n",
       "         '2012).': 1,\n",
       "         'rejects': 2,\n",
       "         'strive': 1,\n",
       "         'dmy': 3,\n",
       "         'a%b': 1,\n",
       "         'method.)': 1,\n",
       "         'computer,': 1,\n",
       "         'Julia': 1,\n",
       "         'Interview': 2,\n",
       "         '[g]\"': 1,\n",
       "         'name,': 1,\n",
       "         'stackless': 1,\n",
       "         'infix': 2,\n",
       "         'lang=\"ia\"': 1,\n",
       "         'lists': 1,\n",
       "         'need': 2,\n",
       "         'Lisp</a>,': 1,\n",
       "         '3.5),<sup': 1,\n",
       "         'lang=\"af\"': 1,\n",
       "         'A.': 2,\n",
       "         'Method': 1,\n",
       "         '3.17%': 2,\n",
       "         'Western': 1,\n",
       "         'Life': 1,\n",
       "         'Perl': 2,\n",
       "         'code</i>.': 1,\n",
       "         '2006<span': 2,\n",
       "         'goal': 1,\n",
       "         'Allen': 1,\n",
       "         'Canopy': 1,\n",
       "         'lang=\"an\"': 1,\n",
       "         'backslash': 1,\n",
       "         'be]': 1,\n",
       "         '(April': 1,\n",
       "         'Prentice': 1,\n",
       "         'join': 1,\n",
       "         'way': 3,\n",
       "         'shells,': 1,\n",
       "         'article\"': 2,\n",
       "         'example)': 1,\n",
       "         'columns': 1,\n",
       "         'Speaking': 1,\n",
       "         \"You're\": 1,\n",
       "         'Hetland,': 1,\n",
       "         'Russian\"': 1,\n",
       "         'inherited': 1,\n",
       "         'shopping': 1,\n",
       "         '--': 7,\n",
       "         'ships': 1,\n",
       "         'Slovak\"': 1,\n",
       "         'schedule': 1,\n",
       "         'IDEs,': 1,\n",
       "         'think': 1,\n",
       "         '19': 3,\n",
       "         '[ES4': 1,\n",
       "         'Institute': 1,\n",
       "         'developed': 2,\n",
       "         'c': 2,\n",
       "         'package': 1,\n",
       "         'operates': 1,\n",
       "         'matrix': 3,\n",
       "         'which': 37,\n",
       "         '2017<sup': 2,\n",
       "         '−1.0.<sup': 1,\n",
       "         'awarded': 1,\n",
       "         'sense': 1,\n",
       "         '(30': 3,\n",
       "         '(commonly': 1,\n",
       "         'much': 3,\n",
       "         \"'13.<sup\": 1,\n",
       "         '2.5),': 1,\n",
       "         'release': 7,\n",
       "         'lang=\"et\"': 1,\n",
       "         'syntax': 10,\n",
       "         'Brief': 2,\n",
       "         '(3': 2,\n",
       "         'Jump': 1,\n",
       "         'issue,': 1,\n",
       "         '(19': 1,\n",
       "         'Apple': 1,\n",
       "         'case,': 1,\n",
       "         'ed.': 1,\n",
       "         'timestamp': 1,\n",
       "         'sometimes': 1,\n",
       "         '(\"blah\",': 1,\n",
       "         'element': 4,\n",
       "         '14': 1,\n",
       "         '0465': 1,\n",
       "         'Recursion': 1,\n",
       "         'lang=\"hy\"': 1,\n",
       "         '2010),': 1,\n",
       "         'built-in': 3,\n",
       "         'and': 247,\n",
       "         'time</a>;': 1,\n",
       "         'addition': 1,\n",
       "         'reject': 1,\n",
       "         'cases': 1,\n",
       "         \"id='p-tb'\": 1,\n",
       "         'Hindi\"': 1,\n",
       "         'central': 1,\n",
       "         '20</i>),': 1,\n",
       "         'found': 2,\n",
       "         'noprint': 3,\n",
       "         '2015,': 1,\n",
       "         'Before': 1,\n",
       "         'Basque\"': 1,\n",
       "         'fork': 1,\n",
       "         'issues': 2,\n",
       "         'ભાષા)': 1,\n",
       "         '3.2,': 1,\n",
       "         'M.;': 1,\n",
       "         'Polish\"': 1,\n",
       "         'do,': 1,\n",
       "         'Ned': 1,\n",
       "         'taking': 1,\n",
       "         'of': 244,\n",
       "         'thinking': 1,\n",
       "         'Media,': 1,\n",
       "         '.6em;': 2,\n",
       "         'community': 4,\n",
       "         'Neil;': 1,\n",
       "         '(29': 3,\n",
       "         'name&gt;': 1,\n",
       "         'bugfixes': 1,\n",
       "         'BNF': 3,\n",
       "         ')': 1,\n",
       "         '(2004).': 1,\n",
       "         'C++\"</a>.': 1,\n",
       "         'simple': 1,\n",
       "         'lie': 1,\n",
       "         '(Monty': 1,\n",
       "         '6.86': 1,\n",
       "         'compared': 1,\n",
       "         'author,': 1,\n",
       "         'code,': 4,\n",
       "         'denoted': 2,\n",
       "         'Unicode': 1,\n",
       "         ...})"
      ]
     },
     "execution_count": 2,
     "metadata": {},
     "output_type": "execute_result"
    }
   ],
   "source": [
    "from collections import Counter\n",
    "import requests\n",
    "import re\n",
    "def getAlltermsFromUrl(url):\n",
    "    res = requests.get(url)\n",
    "    html = res.text\n",
    "    terms = [term for term in html.split() if not re.findall(r'^\\<', term) and not re.findall(r'\\>$', term) and len(term) < 10]\n",
    "    return terms\n",
    "\n",
    "url = \"https://en.wikipedia.org/wiki/Python_(programming_language)\"\n",
    "Counter(getAlltermsFromUrl(url))"
   ]
  },
  {
   "cell_type": "code",
   "execution_count": 144,
   "metadata": {
    "collapsed": false,
    "deletable": true,
    "editable": true
   },
   "outputs": [
    {
     "data": {
      "text/plain": [
       "[('the', 262),\n",
       " ('and', 250),\n",
       " ('of', 244),\n",
       " ('Python', 198),\n",
       " ('text\"', 185),\n",
       " ('to', 170),\n",
       " ('a', 168),\n",
       " ('in', 146),\n",
       " ('is', 142),\n",
       " ('Retrieved', 117),\n",
       " ('for', 102),\n",
       " ('–', 90),\n",
       " ('web\"><a', 79),\n",
       " ('as', 64),\n",
       " ('from', 59),\n",
       " ('with', 59),\n",
       " ('are', 56),\n",
       " ('by', 52),\n",
       " ('Software', 49),\n",
       " ('on', 44)]"
      ]
     },
     "execution_count": 144,
     "metadata": {},
     "output_type": "execute_result"
    }
   ],
   "source": [
    "sorted(dict(Counter(terms)).items(), key=lambda x:x[1], reverse=True)[:20] \n",
    "##dict have no order, so if tou want to order them, you have to transfer them into tuple list"
   ]
  },
  {
   "cell_type": "markdown",
   "metadata": {
    "collapsed": false,
    "deletable": true,
    "editable": true
   },
   "source": [
    "# str"
   ]
  },
  {
   "cell_type": "code",
   "execution_count": 56,
   "metadata": {
    "collapsed": false,
    "deletable": true,
    "editable": true
   },
   "outputs": [
    {
     "name": "stdout",
     "output_type": "stream",
     "text": [
      "True\n",
      "True\n"
     ]
    }
   ],
   "source": [
    "# startswith, endswith\n",
    "a = \"aaaab\"\n",
    "print(a.startswith('a'))\n",
    "print(a.endswith('b'))"
   ]
  },
  {
   "cell_type": "code",
   "execution_count": 61,
   "metadata": {
    "collapsed": false,
    "deletable": true,
    "editable": true
   },
   "outputs": [
    {
     "name": "stdout",
     "output_type": "stream",
     "text": [
      "aaaa\n",
      "AAAA\n",
      "False\n",
      "True\n"
     ]
    }
   ],
   "source": [
    "# lower, upper, \n",
    "print(\"AAaa\".lower())\n",
    "print(\"AAaa\".upper())\n",
    "\n",
    "# isapha\n",
    "print('11aa'.isalpha())\n",
    "print('aa'.isalpha())"
   ]
  },
  {
   "cell_type": "code",
   "execution_count": 66,
   "metadata": {
    "collapsed": false,
    "deletable": true,
    "editable": true
   },
   "outputs": [
    {
     "name": "stdout",
     "output_type": "stream",
     "text": [
      "['aaa', 'aaa']\n",
      "aaa aaa\n",
      "['aaa/aaa']\n"
     ]
    }
   ],
   "source": [
    "# split\n",
    "print(\"aaa aaa\".split())\n",
    "print(\" \".join(\"aaa aaa\".split()))\n",
    "print(\"aaa/aaa\".split())"
   ]
  },
  {
   "cell_type": "code",
   "execution_count": 74,
   "metadata": {
    "collapsed": false,
    "deletable": true,
    "editable": true
   },
   "outputs": [
    {
     "name": "stdout",
     "output_type": "stream",
     "text": [
      "Matches any character which is not a Unicode decimal digit. This is the opposite of \\d. If the ASCII flag is used this becomes the equivalent of [^0-9] (but the flag affects the entire regular expression, so in such cases using an explicit [^0-9] may be a better choice).\n",
      "Matches any character which is not a Unicode decimal digit. This is the opposite of \\d. If the ASCII flag is used this becomes the equivalent of {^0-9} (but the flag affects the entire regular expression, so in such cases using an explicit {^0-9} may be a better choice).\n"
     ]
    }
   ],
   "source": [
    "# replace\n",
    "testStr = \"Matches any character which is not a Unicode decimal digit. This is the opposite of \\d. If the ASCII flag is used this becomes the equivalent of [^0-9] (but the flag affects the entire regular expression, so in such cases using an explicit [^0-9] may be a better choice).\"\n",
    "print(testStr)\n",
    "print(testStr.replace('[', \"{\").replace(']', \"}\"))"
   ]
  },
  {
   "cell_type": "code",
   "execution_count": 72,
   "metadata": {
    "collapsed": false,
    "deletable": true,
    "editable": true
   },
   "outputs": [
    {
     "name": "stdout",
     "output_type": "stream",
     "text": [
      "b'\\xe5\\x96\\x86'\n",
      "喆\n",
      "喆\n"
     ]
    },
    {
     "ename": "UnicodeEncodeError",
     "evalue": "'big5' codec can't encode character '\\u5586' in position 0: illegal multibyte sequence",
     "output_type": "error",
     "traceback": [
      "\u001b[1;31m---------------------------------------------------------------------------\u001b[0m",
      "\u001b[1;31mUnicodeEncodeError\u001b[0m                        Traceback (most recent call last)",
      "\u001b[1;32m<ipython-input-72-cd3703fc473c>\u001b[0m in \u001b[0;36m<module>\u001b[1;34m()\u001b[0m\n\u001b[0;32m      4\u001b[0m \u001b[0mprint\u001b[0m\u001b[1;33m(\u001b[0m\u001b[1;34mb'\\xe5\\x96\\x86'\u001b[0m\u001b[1;33m.\u001b[0m\u001b[0mdecode\u001b[0m\u001b[1;33m(\u001b[0m\u001b[1;34m'utf8'\u001b[0m\u001b[1;33m)\u001b[0m\u001b[1;33m)\u001b[0m\u001b[1;33m\u001b[0m\u001b[0m\n\u001b[0;32m      5\u001b[0m \u001b[1;33m\u001b[0m\u001b[0m\n\u001b[1;32m----> 6\u001b[1;33m \u001b[0mprint\u001b[0m\u001b[1;33m(\u001b[0m\u001b[1;34m\"喆\"\u001b[0m\u001b[1;33m.\u001b[0m\u001b[0mencode\u001b[0m\u001b[1;33m(\u001b[0m\u001b[1;34m\"big5\"\u001b[0m\u001b[1;33m)\u001b[0m\u001b[1;33m)\u001b[0m\u001b[1;33m\u001b[0m\u001b[0m\n\u001b[0m\u001b[0;32m      7\u001b[0m \u001b[0mprint\u001b[0m\u001b[1;33m(\u001b[0m\u001b[1;34m\"喆\"\u001b[0m\u001b[1;33m.\u001b[0m\u001b[0mencode\u001b[0m\u001b[1;33m(\u001b[0m\u001b[1;34m\"cp950\"\u001b[0m\u001b[1;33m)\u001b[0m\u001b[1;33m)\u001b[0m\u001b[1;33m\u001b[0m\u001b[0m\n\u001b[0;32m      8\u001b[0m \u001b[1;33m\u001b[0m\u001b[0m\n",
      "\u001b[1;31mUnicodeEncodeError\u001b[0m: 'big5' codec can't encode character '\\u5586' in position 0: illegal multibyte sequence"
     ]
    }
   ],
   "source": [
    "# encode, decode: cp950, utf8, big5\n",
    "print(\"喆\".encode(\"utf8\"))\n",
    "print(\"喆\".encode(\"utf8\").decode('utf8'))\n",
    "print(b'\\xe5\\x96\\x86'.decode('utf8')) #notice b in front of the string\n",
    "\n",
    "print(\"喆\".encode(\"big5\"))\n",
    "print(\"喆\".encode(\"cp950\"))"
   ]
  },
  {
   "cell_type": "code",
   "execution_count": 81,
   "metadata": {
    "collapsed": false,
    "deletable": true,
    "editable": true
   },
   "outputs": [
    {
     "name": "stdout",
     "output_type": "stream",
     "text": [
      "I am jeremy\n",
      "the score is 3.14\n"
     ]
    }
   ],
   "source": [
    "# format\n",
    "print(\"I am {}\".format('jeremy'))\n",
    "print(\"the score is {:.2f}\".format(3.1415926))\n",
    "\n",
    "\n",
    "# if your version == 3.6, you can direct use {var} to format\n",
    "name = \"jeremy\"\n",
    "# print(f\"I am {name}\")\n"
   ]
  },
  {
   "cell_type": "code",
   "execution_count": 2,
   "metadata": {
    "collapsed": false,
    "deletable": true,
    "editable": true
   },
   "outputs": [
    {
     "name": "stdout",
     "output_type": "stream",
     "text": [
      "True\n",
      "True\n",
      "True\n",
      "True\n",
      "False\n",
      "------------------------\n"
     ]
    }
   ],
   "source": [
    "# re\n",
    "import re\n",
    "\n",
    "## match char\n",
    "# \".\" => any char\n",
    "# \"\\\\\"=> \"\\\"\n",
    "# \"\\t\" => tab click\n",
    "# \"\\n\" => change line\n",
    "# \"\\d\" => number\n",
    "print(bool(re.match(r'.',\"123\")))\n",
    "print(bool(re.match(r'.',\"abcd\")))\n",
    "print(bool(re.match(r'.',\"甲乙丙\")))\n",
    "\n",
    "print(bool(re.match(r'\\d',\"1\")))\n",
    "print(bool(re.match(r'\\d',\"abcd\")))\n",
    "print(\"------------------------\")\n"
   ]
  },
  {
   "cell_type": "code",
   "execution_count": 8,
   "metadata": {
    "collapsed": false,
    "deletable": true,
    "editable": true
   },
   "outputs": [
    {
     "name": "stdout",
     "output_type": "stream",
     "text": [
      "True\n",
      "False\n",
      "------------------------\n",
      "False\n",
      "True\n",
      "------------------------\n",
      "True\n",
      "True\n",
      "True\n"
     ]
    }
   ],
   "source": [
    "# start, end\n",
    "# start from a\n",
    "print(bool(re.match(r'^a',\"aaa\")))\n",
    "print(bool(re.match(r'^a',\"baa\")))\n",
    "print(\"------------------------\")\n",
    "# end with a\n",
    "print(bool(re.match(r'b$',\"aab\")))\n",
    "print(bool(re.findall(r'b$',\"aab\")))\n",
    "print(\"------------------------\")\n",
    "\n",
    "# char numbers: +, {m,n}\n",
    "print(bool(re.match(r'.+?b$',\"aab\")))\n",
    "print(bool(re.match(r'..b$',\"aab\")))\n",
    "print(bool(re.match(r'.+b$',\"aab\")))"
   ]
  },
  {
   "cell_type": "markdown",
   "metadata": {
    "collapsed": true,
    "deletable": true,
    "editable": true
   },
   "source": [
    "# File Reader(txt, csv, json)"
   ]
  },
  {
   "cell_type": "code",
   "execution_count": 3,
   "metadata": {
    "collapsed": false,
    "deletable": true,
    "editable": true
   },
   "outputs": [],
   "source": [
    "file = open('..\\\\FIleOperation\\\\test.txt', 'w', encoding='utf8')\n",
    "url = \"https://en.wikipedia.org/wiki/Python_(programming_language)\"\n",
    "file.write(\" \".join(getAlltermsFromUrl(url)))\n",
    "file.close()"
   ]
  },
  {
   "cell_type": "code",
   "execution_count": 5,
   "metadata": {
    "collapsed": false,
    "deletable": true,
    "editable": true
   },
   "outputs": [
    {
     "name": "stdout",
     "output_type": "stream",
     "text": [
      "44491\n"
     ]
    }
   ],
   "source": [
    "file = open(\"..\\\\FIleOperation\\\\test.txt\", 'r', encoding='utf8')\n",
    "fullText = file.read()\n",
    "print(len(fullText))\n",
    "file.close()"
   ]
  },
  {
   "cell_type": "code",
   "execution_count": 4,
   "metadata": {
    "collapsed": false,
    "deletable": true,
    "editable": true,
    "scrolled": true
   },
   "outputs": [
    {
     "name": "stdout",
     "output_type": "stream",
     "text": [
      "['scrapy.spidermiddlewares.httperror.HttpErrorMiddleware',\n",
      "\n",
      "2017-08-17 08:33:11 [chardet.charsetprober] DEBUG: SHIFT_JIS Japanese prober hit error at byte 894\n",
      "\n",
      "2017-08-17 08:33:11 [chardet.charsetprober] DEBUG: EUC-JP Japanese prober hit error at byte 109\n",
      "\n",
      "2017-08-17 08:33:11 [chardet.charsetprober] DEBUG: EUC-KR Korean prober hit error at byte 109\n",
      "\n",
      "2017-08-17 08:33:11 [chardet.charsetprober] DEBUG: CP949 Korean prober hit error at byte 759\n",
      "\n",
      "2017-08-17 08:33:15 [chardet.charsetprober] DEBUG: SHIFT_JIS Japanese prober hit error at byte 894\n",
      "\n",
      "2017-08-17 08:33:15 [chardet.charsetprober] DEBUG: EUC-JP Japanese prober hit error at byte 109\n",
      "\n",
      "2017-08-17 08:33:15 [chardet.charsetprober] DEBUG: EUC-KR Korean prober hit error at byte 109\n",
      "\n",
      "2017-08-17 08:33:15 [chardet.charsetprober] DEBUG: CP949 Korean prober hit error at byte 759\n",
      "\n",
      "2017-08-17 08:33:19 [chardet.charsetprober] DEBUG: SHIFT_JIS Japanese prober hit error at byte 894\n",
      "\n",
      "2017-08-17 08:33:19 [chardet.charsetprober] DEBUG: EUC-JP Japanese prober hit error at byte 109\n",
      "\n",
      "2017-08-17 08:33:19 [chardet.charsetprober] DEBUG: EUC-KR Korean prober hit error at byte 109\n",
      "\n",
      "2017-08-17 08:33:19 [chardet.charsetprober] DEBUG: CP949 Korean prober hit error at byte 759\n",
      "\n",
      "2017-08-17 08:33:21 [chardet.charsetprober] DEBUG: SHIFT_JIS Japanese prober hit error at byte 894\n",
      "\n",
      "2017-08-17 08:33:21 [chardet.charsetprober] DEBUG: EUC-JP Japanese prober hit error at byte 109\n",
      "\n",
      "2017-08-17 08:33:21 [chardet.charsetprober] DEBUG: EUC-KR Korean prober hit error at byte 109\n",
      "\n",
      "2017-08-17 08:33:21 [chardet.charsetprober] DEBUG: CP949 Korean prober hit error at byte 759\n",
      "\n",
      "2017-08-17 08:33:23 [chardet.charsetprober] DEBUG: SHIFT_JIS Japanese prober hit error at byte 894\n",
      "\n",
      "2017-08-17 08:33:23 [chardet.charsetprober] DEBUG: EUC-JP Japanese prober hit error at byte 109\n",
      "\n",
      "2017-08-17 08:33:23 [chardet.charsetprober] DEBUG: EUC-KR Korean prober hit error at byte 109\n",
      "\n",
      "2017-08-17 08:33:23 [chardet.charsetprober] DEBUG: CP949 Korean prober hit error at byte 759\n",
      "\n",
      "2017-08-17 08:33:28 [chardet.charsetprober] DEBUG: SHIFT_JIS Japanese prober hit error at byte 894\n",
      "\n",
      "2017-08-17 08:33:28 [chardet.charsetprober] DEBUG: EUC-JP Japanese prober hit error at byte 109\n",
      "\n",
      "2017-08-17 08:33:28 [chardet.charsetprober] DEBUG: EUC-KR Korean prober hit error at byte 109\n",
      "\n",
      "2017-08-17 08:33:28 [chardet.charsetprober] DEBUG: CP949 Korean prober hit error at byte 759\n",
      "\n",
      "2017-08-17 08:33:30 [chardet.charsetprober] DEBUG: SHIFT_JIS Japanese prober hit error at byte 894\n",
      "\n",
      "2017-08-17 08:33:30 [chardet.charsetprober] DEBUG: EUC-JP Japanese prober hit error at byte 109\n",
      "\n",
      "2017-08-17 08:33:30 [chardet.charsetprober] DEBUG: EUC-KR Korean prober hit error at byte 109\n",
      "\n",
      "2017-08-17 08:33:30 [chardet.charsetprober] DEBUG: CP949 Korean prober hit error at byte 759\n",
      "\n",
      "2017-08-17 08:33:33 [chardet.charsetprober] DEBUG: SHIFT_JIS Japanese prober hit error at byte 901\n",
      "\n",
      "2017-08-17 08:33:33 [chardet.charsetprober] DEBUG: EUC-JP Japanese prober hit error at byte 109\n",
      "\n",
      "2017-08-17 08:33:34 [chardet.charsetprober] DEBUG: EUC-KR Korean prober hit error at byte 109\n",
      "\n",
      "2017-08-17 08:33:34 [chardet.charsetprober] DEBUG: CP949 Korean prober hit error at byte 759\n",
      "\n",
      " 'downloader/exception_type_count/twisted.internet.error.TimeoutError': 2,\n",
      "\n",
      " 'retry/reason_count/twisted.internet.error.TimeoutError': 2,\n",
      "\n"
     ]
    }
   ],
   "source": [
    "file = open(\"..\\\\FIleOperation\\\\scrapy.log\", 'r', encoding='utf8')\n",
    "\n",
    "for line in file:\n",
    "    if 'error'in line:\n",
    "        print(line)\n",
    "\n",
    "file.close()"
   ]
  },
  {
   "cell_type": "code",
   "execution_count": 23,
   "metadata": {
    "collapsed": false,
    "deletable": true,
    "editable": true,
    "scrolled": true
   },
   "outputs": [],
   "source": [
    "df = pd.read_html(\"http://mops.twse.com.tw/server-java/t164sb01?step=1&CO_ID=4104&SYEAR=2017&SSEASON=2&REPORT_ID=C\", encoding='big5')[3]\n",
    "# df.to_csv('FileOperation\\\\table.csv', header=None, index=False)\n",
    "\n",
    "df.columns = df.xs(0)\n",
    "df.drop(0, inplace=True)\n",
    "df.T.to_json(\"FileOperation\\\\table1.json\", force_ascii=None)"
   ]
  },
  {
   "cell_type": "code",
   "execution_count": 8,
   "metadata": {
    "collapsed": false,
    "deletable": true,
    "editable": true
   },
   "outputs": [],
   "source": [
    "import json\n",
    "import pandas as pd\n",
    "df = pd.read_html(\"http://mops.twse.com.tw/server-java/t164sb01?step=1&CO_ID=4104&SYEAR=2017&SSEASON=2&REPORT_ID=C\", encoding='big5')[3]\n",
    "dist2017 = {}\n",
    "dist2016 = {}\n",
    "\n",
    "for row in df.iterrows():\n",
    "    if pd.notnull(row[1][1]) and row[1][0] != '會計項目':\n",
    "        dist2017[row[1][0]] = row[1][1]\n",
    "        dist2016[row[1][0]] = row[1][2]\n",
    "\n",
    "tableDist = {\n",
    "    '2017年01月01日至2017年06月30日':dist2017,\n",
    "    '2016年01月01日至2016年06月30日':dist2016\n",
    "}\n",
    "\n",
    "with open('..\\\\FileOperation\\\\table1.json', 'w', encoding='utf8') as f:\n",
    "    json.dump(tableDist, f)"
   ]
  },
  {
   "cell_type": "code",
   "execution_count": 9,
   "metadata": {
    "collapsed": false,
    "deletable": true,
    "editable": true
   },
   "outputs": [
    {
     "name": "stdout",
     "output_type": "stream",
     "text": [
      "2\n",
      "dict_keys(['2016年01月01日至2016年06月30日', '2017年01月01日至2017年06月30日'])\n"
     ]
    }
   ],
   "source": [
    "file = open('..\\\\FileOperation\\\\table1.json', encoding='utf8')\n",
    "tableJson = json.loads(file.read())\n",
    "print(len(tableJson))\n",
    "print(tableJson.keys())"
   ]
  },
  {
   "cell_type": "code",
   "execution_count": null,
   "metadata": {
    "collapsed": true,
    "deletable": true,
    "editable": true
   },
   "outputs": [],
   "source": []
  }
 ],
 "metadata": {
  "kernelspec": {
   "display_name": "Python 3",
   "language": "python",
   "name": "python3"
  },
  "language_info": {
   "codemirror_mode": {
    "name": "ipython",
    "version": 3
   },
   "file_extension": ".py",
   "mimetype": "text/x-python",
   "name": "python",
   "nbconvert_exporter": "python",
   "pygments_lexer": "ipython3",
   "version": "3.5.3"
  }
 },
 "nbformat": 4,
 "nbformat_minor": 2
}
