{
 "cells": [
  {
   "cell_type": "code",
   "execution_count": 1,
   "metadata": {
    "collapsed": true,
    "deletable": true,
    "editable": true
   },
   "outputs": [],
   "source": [
    "import pandas as pd\n",
    "from matplotlib import pylab as plt\n",
    "import numpy as np\n",
    "import nltk\n",
    "from collections import Counter\n",
    "from nltk.corpus import stopwords\n",
    "from nltk.stem import WordNetLemmatizer\n",
    "\n",
    "df_train = pd.read_csv(\"RawData/train.csv\")\n",
    "df_test = pd.read_csv(\"RawData/test.csv\")\n",
    "\n",
    "train_qs = pd.Series(df_train['question1'].tolist() + df_train['question2'].tolist()).astype(str)\n",
    "test_qs = pd.Series(df_test['question1'].tolist() + df_test['question2'].tolist()).astype(str)"
   ]
  },
  {
   "cell_type": "markdown",
   "metadata": {
    "deletable": true,
    "editable": true
   },
   "source": [
    "# Train_Word_Match"
   ]
  },
  {
   "cell_type": "code",
   "execution_count": 2,
   "metadata": {
    "collapsed": false,
    "deletable": true,
    "editable": true,
    "scrolled": true
   },
   "outputs": [
    {
     "data": {
      "image/png": "[encoded data removed]",
      "text/plain": [
       "<matplotlib.figure.Figure at 0x1e29aa8fba8>"
      ]
     },
     "metadata": {},
     "output_type": "display_data"
    }
   ],
   "source": [
    "from nltk.corpus import stopwords\n",
    "\n",
    "stops = set(stopwords.words(\"english\"))\n",
    "\n",
    "def word_match_share(row):\n",
    "    q1words = {}\n",
    "    q2words = {}\n",
    "    for word in str(row['question1']).lower().split():\n",
    "        if word not in stops:\n",
    "            q1words[word] = 1\n",
    "    for word in str(row['question2']).lower().split():\n",
    "        if word not in stops:\n",
    "            q2words[word] = 1\n",
    "    if len(q1words) == 0 or len(q2words) == 0:\n",
    "        # The computer-generated chaff includes a few questions that are nothing but stopwords\n",
    "        return 0\n",
    "    shared_words_in_q1 = [w for w in q1words.keys() if w in q2words]\n",
    "    shared_words_in_q2 = [w for w in q2words.keys() if w in q1words]\n",
    "    R = (len(shared_words_in_q1) + len(shared_words_in_q2))/(len(q1words) + len(q2words))\n",
    "    return R\n",
    "\n",
    "train_word_match = df_train.apply(word_match_share, axis=1, raw=True)\n",
    "\n",
    "plt.figure(figsize=(15, 5))\n",
    "plt.hist(train_word_match[df_train['is_duplicate'] == 0], bins=20, normed=True, label='Not Duplicate')\n",
    "plt.hist(train_word_match[df_train['is_duplicate'] == 1], bins=20, normed=True, alpha=0.7, label='Duplicate')\n",
    "plt.legend()\n",
    "plt.title('Label distribution over word_match_share', fontsize=15)\n",
    "plt.xlabel('word_match_share', fontsize=15)\n",
    "plt.show()"
   ]
  },
  {
   "cell_type": "markdown",
   "metadata": {
    "deletable": true,
    "editable": true
   },
   "source": [
    "# Train_Word_Match_OnlyStops"
   ]
  },
  {
   "cell_type": "code",
   "execution_count": null,
   "metadata": {
    "collapsed": true,
    "deletable": true,
    "editable": true
   },
   "outputs": [],
   "source": [
    "def PreprocessLemWithStops(Doc):\n",
    "    tokens = nltk.wordpunct_tokenize(Doc)\n",
    "    text = nltk.Text(tokens)\n",
    "    words = [w.lower() for w in text if w.isalpha()]\n",
    "    lemmer = WordNetLemmatizer()\n",
    "    words = list(pd.Series(words).apply(lemmer.lemmatize))\n",
    "    \n",
    "    return words"
   ]
  },
  {
   "cell_type": "code",
   "execution_count": 4,
   "metadata": {
    "collapsed": false,
    "deletable": true,
    "editable": true
   },
   "outputs": [
    {
     "data": {
      "image/png": "[encoded data removed]",
      "text/plain": [
       "<matplotlib.figure.Figure at 0x1e2804e1710>"
      ]
     },
     "metadata": {},
     "output_type": "display_data"
    }
   ],
   "source": [
    "\n",
    "from nltk.corpus import stopwords\n",
    "\n",
    "stops = set(stopwords.words(\"english\"))\n",
    "\n",
    "def word_match_share_onlystops(row):\n",
    "    if pd.isnull(row['question1']) or pd.isnull(row['question2']):\n",
    "        return 0\n",
    "    else:\n",
    "        q1words = PreprocessLemWithStops(row['question1'])\n",
    "        q2words = PreprocessLemWithStops(row['question2'])\n",
    "\n",
    "        q1stops = {}\n",
    "        q2stops = {}\n",
    "\n",
    "        for word in q1words:\n",
    "            if word in stops:\n",
    "                q1stops[word] = 1\n",
    "        for word in q2words:\n",
    "            if word in stops:\n",
    "                q2stops[word] = 1\n",
    "\n",
    "\n",
    "        if len(q1stops) == 0 or len(q2stops) == 0:\n",
    "            # The computer-generated chaff includes a few questions that are nothing but stopwords\n",
    "            return 0\n",
    "        shared_stops_in_q1 = [w for w in q1stops.keys() if w in q2stops]\n",
    "        shared_stops_in_q2 = [w for w in q2stops.keys() if w in q1stops]\n",
    "        R = (len(shared_stops_in_q1) + len(shared_stops_in_q2))/(len(q1stops) + len(q2stops))\n",
    "        return R\n",
    "\n",
    "train_word_match_onlystops = df_train.apply(word_match_share_onlystops, axis=1, raw=True)\n",
    "\n",
    "plt.figure(figsize=(15, 5))\n",
    "plt.hist(train_word_match[df_train['is_duplicate'] == 0], bins=20, normed=True, label='Not Duplicate')\n",
    "plt.hist(train_word_match[df_train['is_duplicate'] == 1], bins=20, normed=True, alpha=0.7, label='Duplicate')\n",
    "plt.legend()\n",
    "plt.title('Label distribution over word_match_share_onlystops', fontsize=15)\n",
    "plt.xlabel('word_match_share_onlystops', fontsize=15)\n",
    "plt.show()"
   ]
  },
  {
   "cell_type": "markdown",
   "metadata": {
    "deletable": true,
    "editable": true
   },
   "source": [
    "# Tfidf_Train_Word_Match"
   ]
  },
  {
   "cell_type": "code",
   "execution_count": 8,
   "metadata": {
    "collapsed": true,
    "deletable": true,
    "editable": true
   },
   "outputs": [],
   "source": [
    "from collections import Counter\n",
    "\n",
    "# If a word appears only once, we ignore it completely (likely a typo)\n",
    "# Epsilon defines a smoothing constant, which makes the effect of extremely rare words smaller\n",
    "def get_weight(count, eps=10000, min_count=2):\n",
    "    if count < min_count:\n",
    "        return 0\n",
    "    else:\n",
    "        return 1 / (count + eps)\n",
    "\n",
    "eps = 5000 \n",
    "words = (\" \".join(train_qs)).lower().split()\n",
    "counts = Counter(words)\n",
    "weights = {word: get_weight(count) for word, count in counts.items()}"
   ]
  },
  {
   "cell_type": "code",
   "execution_count": 9,
   "metadata": {
    "collapsed": false,
    "deletable": true,
    "editable": true
   },
   "outputs": [
    {
     "name": "stderr",
     "output_type": "stream",
     "text": [
      "c:\\users\\jeremy\\appdata\\local\\programs\\python\\python35\\lib\\site-packages\\ipykernel\\__main__.py:20: RuntimeWarning: invalid value encountered in double_scalars\n"
     ]
    },
    {
     "data": {
      "image/png": "[encoded data removed]",
      "text/plain": [
       "<matplotlib.figure.Figure at 0x1e2c2fab7f0>"
      ]
     },
     "metadata": {},
     "output_type": "display_data"
    }
   ],
   "source": [
    "from nltk.corpus import stopwords\n",
    "stops = set(stopwords.words(\"english\"))\n",
    "\n",
    "def tfidf_word_match_share(row):\n",
    "    q1words = {}\n",
    "    q2words = {}\n",
    "    for word in str(row['question1']).lower().split():\n",
    "        if word not in stops:\n",
    "            q1words[word] = 1\n",
    "    for word in str(row['question2']).lower().split():\n",
    "        if word not in stops:\n",
    "            q2words[word] = 1\n",
    "    if len(q1words) == 0 or len(q2words) == 0:\n",
    "        # The computer-generated chaff includes a few questions that are nothing but stopwords\n",
    "        return 0\n",
    "    \n",
    "    shared_weights = [weights.get(w, 0) for w in q1words.keys() if w in q2words] + [weights.get(w, 0) for w in q2words.keys() if w in q1words]\n",
    "    total_weights = [weights.get(w, 0) for w in q1words] + [weights.get(w, 0) for w in q2words]\n",
    "    \n",
    "    R = np.sum(shared_weights) / np.sum(total_weights)\n",
    "    return R\n",
    "\n",
    "tfidf_train_word_match = df_train.apply(tfidf_word_match_share, axis=1, raw=True)\n",
    "\n",
    "plt.figure(figsize=(15, 5))\n",
    "plt.hist(tfidf_train_word_match[df_train['is_duplicate'] == 0].fillna(0), bins=20, normed=True, label='Not Duplicate')\n",
    "plt.hist(tfidf_train_word_match[df_train['is_duplicate'] == 1].fillna(0), bins=20, normed=True, alpha=0.7, label='Duplicate')\n",
    "plt.legend()\n",
    "plt.title('Label distribution over tfidf_word_match_share', fontsize=15)\n",
    "plt.xlabel('word_match_share', fontsize=15)\n",
    "plt.show()"
   ]
  },
  {
   "cell_type": "markdown",
   "metadata": {
    "deletable": true,
    "editable": true
   },
   "source": [
    "# Laplace\n",
    "$$Pi = (Tf + 1)\\ /\\ (DocLen +　UniqueTokens) $$"
   ]
  },
  {
   "cell_type": "code",
   "execution_count": 10,
   "metadata": {
    "collapsed": true,
    "deletable": true,
    "editable": true
   },
   "outputs": [],
   "source": [
    "##The whole process of prepocessing a document(stemming and remove stop words)\n",
    "from nltk.stem.lancaster import LancasterStemmer\n",
    "from nltk import word_tokenize\n",
    "from nltk.stem.wordnet import WordNetLemmatizer\n",
    "\n",
    "def PreprocessDocLem(Doc):\n",
    "    \"\"\"return a term list\"\"\"\n",
    "    lemmer = WordNetLemmatizer()\n",
    "    terms = list(pd.Series(word_tokenize(Doc)).apply(lemmer.lemmatize))\n",
    "    return terms"
   ]
  },
  {
   "cell_type": "code",
   "execution_count": 40,
   "metadata": {
    "collapsed": true,
    "deletable": true,
    "editable": true
   },
   "outputs": [],
   "source": [
    "## generate q1 From q2(document = coupus)\n",
    "from collections import Counter\n",
    "\n",
    "def LaplaceForRow(row):\n",
    "    if not pd.isnull(row['question2']) and not pd.isnull(row['question1']): \n",
    "        q1Li = PreprocessDocLem(row['question1'])\n",
    "        q2Li = PreprocessDocLem(row['question2'])\n",
    "        DocLen = len(q2Li)\n",
    "        UniTokenLen = len(set(q2Li))\n",
    "        TfCounter = Counter(q2Li)\n",
    "        UniTokes = set(q2Li)\n",
    "        LaplaceLi = []\n",
    "        \n",
    "        for term in list(set(q1Li)):\n",
    "            if term in list(set(q2Li)):\n",
    "                tf = TfCounter[term]\n",
    "            else:\n",
    "                tf = 0\n",
    "            LaplaceLi.append(-np.log((tf+1)/(DocLen+UniTokenLen)))\n",
    "#             LaplaceLi.append((tf+1)/(DocLen+UniTokenLen))\n",
    "\n",
    "#         row['laplace'] = np.prod(LaplaceLi)*(10**10)\n",
    "#         row['laplace'] = sum(LaplaceLi)\n",
    "        return sum(LaplaceLi)"
   ]
  },
  {
   "cell_type": "code",
   "execution_count": 14,
   "metadata": {
    "collapsed": false,
    "deletable": true,
    "editable": true
   },
   "outputs": [
    {
     "data": {
      "image/png": "[encoded data removed]",
      "text/plain": [
       "<matplotlib.figure.Figure at 0x1e3050a2710>"
      ]
     },
     "metadata": {},
     "output_type": "display_data"
    }
   ],
   "source": [
    "df_laplace = df_train.drop(['id','qid1','qid2'],axis=1)\n",
    "\n",
    "df_laplace['laplace'] = None\n",
    "# df_laplace.head()\n",
    "df_laplace = df_laplace.apply(LaplaceForRow,axis=1)\n",
    "\n",
    "\n",
    "plt.hist(df_laplace[df_train['is_duplicate']==1], bins=30, label='Duplicate')\n",
    "plt.hist(df_laplace[df_train['is_duplicate']==0], bins=30, alpha=0.7,label ='NonDuplicate')\n",
    "plt.xlabel('Laplace', fontsize=18)\n",
    "plt.ylabel('count', fontsize=16)\n",
    "plt.suptitle('Laplace_log_Lemmatize')\n",
    "\n",
    "plt.legend()\n",
    "plt.savefig('Laplace_log_Lemmatize')\n",
    "plt.show()"
   ]
  },
  {
   "cell_type": "markdown",
   "metadata": {
    "deletable": true,
    "editable": true
   },
   "source": [
    "# BM25"
   ]
  },
  {
   "cell_type": "code",
   "execution_count": 18,
   "metadata": {
    "collapsed": true,
    "deletable": true,
    "editable": true
   },
   "outputs": [],
   "source": [
    "def PreprocessLemWithStops(Doc):\n",
    "    tokens = nltk.wordpunct_tokenize(Doc)\n",
    "    text = nltk.Text(tokens)\n",
    "    words = [w.lower() for w in text if w.isalpha()]\n",
    "    lemmer = WordNetLemmatizer()\n",
    "    words = list(pd.Series(words).apply(lemmer.lemmatize))\n",
    "    return words"
   ]
  },
  {
   "cell_type": "code",
   "execution_count": 23,
   "metadata": {
    "collapsed": true,
    "deletable": true,
    "editable": true
   },
   "outputs": [],
   "source": [
    "## For train dataset\n",
    "QuestionTermsLists = train_qs.apply(PreprocessLemWithStops)\n",
    "\n",
    "QuestionTermsList = []\n",
    "for termlist in QuestionTermsLists:\n",
    "    QuestionTermsList += termlist\n",
    "QuestionTermLSet = set(QuestionTermsList)\n",
    "\n",
    "QuestionLength = len(QuestionTermsLists)\n",
    "\n",
    "TermCountDict = {}\n",
    "for term in QuestionTermLSet:\n",
    "    TermCountDict[term] = 0\n",
    "\n",
    "for TermsList in QuestionTermsLists:\n",
    "    for term in set(TermsList):\n",
    "        TermCountDict[term] += 1\n",
    "\n",
    "IdfDict = {}\n",
    "for term in QuestionTermLSet:\n",
    "    IdfDict[term] = (QuestionLength - TermCountDict[term] +0.5)/ (TermCountDict[term] + 0.5)\n",
    "\n",
    "AverageDocLen = len(QuestionTermsList)/len(df_train)    \n",
    "\n"
   ]
  },
  {
   "cell_type": "code",
   "execution_count": 24,
   "metadata": {
    "collapsed": true,
    "deletable": true,
    "editable": true
   },
   "outputs": [],
   "source": [
    "from numpy import dot\n",
    "from numpy.linalg import norm\n",
    "def cosine(vector1, vector2):\n",
    "    \"\"\" related documents j and q are in the concept space by comparing the vectors : cosine  = ( V1 * V2 ) / ||V1|| x ||V2|| \"\"\"\n",
    "    if norm(vector1) * norm(vector2) != 0:\n",
    "        return float(dot(vector1,vector2) / (norm(vector1) * norm(vector2)))\n",
    "    else:\n",
    "        return 0"
   ]
  },
  {
   "cell_type": "code",
   "execution_count": 25,
   "metadata": {
    "collapsed": true,
    "deletable": true,
    "editable": true
   },
   "outputs": [],
   "source": [
    "def BM25(row):\n",
    "    if pd.isnull(row['question1']) or pd.isnull(row['question2']):\n",
    "        return 0 \n",
    "    else:\n",
    "        q1words = PreprocessLemWithStops(row['question1'])\n",
    "        q1Len = len(q1words)\n",
    "        q2words = PreprocessLemWithStops(row['question2'])\n",
    "        q2Len = len(q2words)\n",
    "\n",
    "        vector = set(q1words+q2words)\n",
    "\n",
    "        if len(q1words) == 0 or len(q2words) == 0:\n",
    "            return 0\n",
    "        else:\n",
    "            q1TfDict = dict(Counter(q1words))\n",
    "            q2TfDict = dict(Counter(q2words))\n",
    "            q1vector = []\n",
    "            q2vector = []\n",
    "\n",
    "            for term in vector:\n",
    "                termIdf = IdfDict[term]\n",
    "                q1Tf = q1TfDict.get(term,0)\n",
    "                q2Tf = q2TfDict.get(term,0)\n",
    "                q1TfIdf = termIdf * ((3*q1Tf)/(q1Tf+0.5+1.5*(q1Len/AverageDocLen)))\n",
    "                q2TfIdf = termIdf * ((3*q2Tf)/(q2Tf+0.5+1.5*(q2Len/AverageDocLen)))\n",
    "                q1vector.append(q1TfIdf)\n",
    "                q2vector.append(q2TfIdf)\n",
    "            cosineScore = cosine(q1vector,q2vector)\n",
    "        return cosineScore"
   ]
  },
  {
   "cell_type": "code",
   "execution_count": null,
   "metadata": {
    "collapsed": true,
    "deletable": true,
    "editable": true
   },
   "outputs": [],
   "source": [
    "IdfDict = BM25Prepare(Train=True)\n",
    "train_Bm25 = df_train.apply(BM25, axis=1, raw=True) \n"
   ]
  },
  {
   "cell_type": "code",
   "execution_count": 27,
   "metadata": {
    "collapsed": false,
    "deletable": true,
    "editable": true
   },
   "outputs": [
    {
     "data": {
      "image/png": "[encoded data removed]",
      "text/plain": [
       "<matplotlib.figure.Figure at 0x1e3207a1518>"
      ]
     },
     "metadata": {},
     "output_type": "display_data"
    }
   ],
   "source": [
    "plt.figure(figsize=(15, 5))\n",
    "plt.hist(train_Bm25[df_train['is_duplicate'] == 0], bins=50, normed=True, label='Not Duplicate')\n",
    "plt.hist(train_Bm25[df_train['is_duplicate'] == 1], bins=50, normed=True, alpha=0.7, label='Duplicate')\n",
    "plt.legend()\n",
    "plt.title('Label distribution over BM25', fontsize=15)\n",
    "plt.xlabel('cosine score', fontsize=15)\n",
    "plt.show()"
   ]
  },
  {
   "cell_type": "markdown",
   "metadata": {
    "deletable": true,
    "editable": true
   },
   "source": [
    "# Word mover's distance(Word2Vec)"
   ]
  },
  {
   "cell_type": "code",
   "execution_count": 28,
   "metadata": {
    "collapsed": false,
    "deletable": true,
    "editable": true
   },
   "outputs": [
    {
     "name": "stderr",
     "output_type": "stream",
     "text": [
      "c:\\users\\jeremy\\appdata\\local\\programs\\python\\python35\\lib\\site-packages\\gensim\\utils.py:860: UserWarning: detected Windows; aliasing chunkize to chunkize_serial\n",
      "  warnings.warn(\"detected Windows; aliasing chunkize to chunkize_serial\")\n"
     ]
    }
   ],
   "source": [
    "import gensim\n",
    "import matplotlib.pyplot as plt\n",
    "import math\n",
    "\n",
    "## You should first download pretrained models online\n",
    "model = gensim.models.Word2Vec.load(\"D:\\WikiCorpus\\WikiModel\\wiki.en.word2vec.model\")"
   ]
  },
  {
   "cell_type": "code",
   "execution_count": 29,
   "metadata": {
    "collapsed": true,
    "deletable": true,
    "editable": true
   },
   "outputs": [],
   "source": [
    "import nltk\n",
    "def PreprocessWithStops(Doc):\n",
    "    tokens = nltk.wordpunct_tokenize(Doc)\n",
    "    text = nltk.Text(tokens)\n",
    "    wordsWithStops = [w.lower() for w in text]\n",
    "    wordsInVocab = [term for term in wordsWithStops if term in model.wv.vocab]\n",
    "\n",
    "    return wordsInVocab\n",
    "\n",
    "def wmdDistance(row):\n",
    "    Doc1 = row['question1']\n",
    "    Doc2 = row['question2']\n",
    "    if pd.isnull(Doc1) or pd.isnull(Doc2):\n",
    "        return np.inf\n",
    "    else:\n",
    "        Doc1Li = PreprocessWithStops(Doc1)\n",
    "        Doc2Li = PreprocessWithStops(Doc2)\n",
    "\n",
    "        distance = model.wmdistance(Doc1Li, Doc2Li)\n",
    "        return distance"
   ]
  },
  {
   "cell_type": "code",
   "execution_count": 30,
   "metadata": {
    "collapsed": false,
    "deletable": true,
    "editable": true
   },
   "outputs": [
    {
     "data": {
      "image/png": "[encoded data removed]",
      "text/plain": [
       "<matplotlib.figure.Figure at 0x1e31fe15ba8>"
      ]
     },
     "metadata": {},
     "output_type": "display_data"
    }
   ],
   "source": [
    "wmd_train = df_train.apply(wmdDistance,axis=1)\n",
    "\n",
    "plt.hist(wmd_train[df_train['is_duplicate']==1], bins=30, label='Duplicate',range=(0,1.5))\n",
    "plt.hist(wmd_train[df_train['is_duplicate']==0], bins=30, alpha=0.7,label ='NonDuplicate',range=(0,1.5))\n",
    "plt.xlabel('WM Distance', fontsize=18)\n",
    "plt.ylabel('count', fontsize=16)\n",
    "plt.suptitle('WMD')\n",
    "\n",
    "plt.legend()\n",
    "# plt.savefig('Pic/WMD_WithStops')\n",
    "plt.show()"
   ]
  },
  {
   "cell_type": "markdown",
   "metadata": {
    "deletable": true,
    "editable": true
   },
   "source": [
    "# Edit Distance"
   ]
  },
  {
   "cell_type": "code",
   "execution_count": 31,
   "metadata": {
    "collapsed": true,
    "deletable": true,
    "editable": true
   },
   "outputs": [],
   "source": [
    "def PreprocessLemWithStops(Doc):\n",
    "    tokens = nltk.wordpunct_tokenize(Doc)\n",
    "    text = nltk.Text(tokens)\n",
    "    words = [w.lower() for w in text if w.isalpha()]\n",
    "    lemmer = WordNetLemmatizer()\n",
    "    words = list(pd.Series(words).apply(lemmer.lemmatize))\n",
    "    return words"
   ]
  },
  {
   "cell_type": "code",
   "execution_count": 32,
   "metadata": {
    "collapsed": true,
    "deletable": true,
    "editable": true
   },
   "outputs": [],
   "source": [
    "from Levenshtein import seqratio\n",
    "def EditDistance(row):\n",
    "    Doc1 = row['question1']\n",
    "    Doc2 = row['question2']\n",
    "    if pd.isnull(Doc1) or pd.isnull(Doc2):\n",
    "        return np.inf\n",
    "    else:\n",
    "        Doc1Li = PreprocessLemWithStops(Doc1)\n",
    "        Doc2Li = PreprocessLemWithStops(Doc2)\n",
    "\n",
    "        distance = seqratio(Doc1Li, Doc2Li)\n",
    "        return distance"
   ]
  },
  {
   "cell_type": "code",
   "execution_count": 33,
   "metadata": {
    "collapsed": false,
    "deletable": true,
    "editable": true
   },
   "outputs": [
    {
     "data": {
      "image/png": "[encoded data removed]",
      "text/plain": [
       "<matplotlib.figure.Figure at 0x1e53b9edf98>"
      ]
     },
     "metadata": {},
     "output_type": "display_data"
    }
   ],
   "source": [
    "train_ED = df_train.apply(EditDistance, axis=1, raw=True) \n",
    "\n",
    "plt.figure(figsize=(7, 5))\n",
    "plt.hist(train_ED[df_train['is_duplicate'] == 0], bins=20, normed=True, label='Not Duplicate',range=(0,1.1))\n",
    "plt.hist(train_ED[df_train['is_duplicate'] == 1], bins=20, normed=True, alpha=0.7, label='Duplicate',range=(0,1.1))\n",
    "plt.legend()\n",
    "plt.title('Label distribution over Edit Distance', fontsize=15)\n",
    "plt.xlabel('Distance', fontsize=15)\n",
    "plt.show()"
   ]
  },
  {
   "cell_type": "markdown",
   "metadata": {
    "deletable": true,
    "editable": true
   },
   "source": [
    "# Final Evaluation(XGBoost)"
   ]
  },
  {
   "cell_type": "code",
   "execution_count": 34,
   "metadata": {
    "collapsed": true,
    "deletable": true,
    "editable": true
   },
   "outputs": [],
   "source": [
    "import pandas as pd\n",
    "from matplotlib import pylab as plt\n",
    "import numpy as np\n",
    "\n",
    "\n",
    "df_train = pd.read_csv(\"RawData/train.csv\")\n",
    "df_test = pd.read_csv(\"RawData/test.csv\")\n",
    "\n",
    "train_qs = pd.Series(df_train['question1'].tolist() + df_train['question2'].tolist()).astype(str)"
   ]
  },
  {
   "cell_type": "code",
   "execution_count": 50,
   "metadata": {
    "collapsed": false,
    "deletable": true,
    "editable": true
   },
   "outputs": [],
   "source": [
    "import pandas as pd\n",
    "import datetime\n",
    "\n",
    "# x_train = pd.DataFrame()\n",
    "# x_train['word_match'] = train_word_match\n",
    "# x_train['word_match_onlystops'] = train_word_match_onlystops\n",
    "# x_train['tfidf_word_match'] = tfidf_train_word_match\n",
    "# x_train['laplace'] = df_laplace\n",
    "# x_train['BM25'] = train_Bm25\n",
    "# x_train['wm_distance'] = wmd_train\n",
    "# x_train['ED'] = train_ED    ##Edit Distance\n",
    "\n",
    "\n",
    "# nowtime = datetime.datetime.now()\n",
    "# date = str(nowtime.date()).replace(\"-\",\"\")\n",
    "# hour = str(nowtime.time()).split(':')[0]\n",
    "# min = str(nowtime.time()).split(':')[1]\n",
    "# x_train.to_csv('x_train'+date+hour+min+'.csv', index=False)\n",
    "\n",
    "x_train = pd.read_csv(\"x_train201706292313.csv\")"
   ]
  },
  {
   "cell_type": "code",
   "execution_count": 41,
   "metadata": {
    "collapsed": true,
    "deletable": true,
    "editable": true
   },
   "outputs": [],
   "source": [
    "# ## for test dataset(BM25 Preparation)\n",
    "# QuestionTermsLists = test_qs.apply(PreprocessLemWithStops)\n",
    "\n",
    "# QuestionTermsList = []\n",
    "# for termlist in QuestionTermsLists:\n",
    "#     QuestionTermsList += termlist\n",
    "# QuestionTermLSet = set(QuestionTermsList)\n",
    "\n",
    "# QuestionLength = len(QuestionTermsLists)\n",
    "\n",
    "# TermCountDict = {}\n",
    "# for term in QuestionTermLSet:\n",
    "#     TermCountDict[term] = 0\n",
    "\n",
    "# for TermsList in QuestionTermsLists:\n",
    "#     for term in set(TermsList):\n",
    "#         TermCountDict[term] += 1\n",
    "\n",
    "# IdfDict = {}\n",
    "# for term in QuestionTermLSet:\n",
    "#     IdfDict[term] = (QuestionLength - TermCountDict[term] +0.5)/ (TermCountDict[term] + 0.5)\n",
    "\n",
    "# AverageDocLen = len(QuestionTermsList)/len(df_test)   "
   ]
  },
  {
   "cell_type": "code",
   "execution_count": 51,
   "metadata": {
    "collapsed": false,
    "deletable": true,
    "editable": true
   },
   "outputs": [],
   "source": [
    "# x_test = pd.DataFrame()\n",
    "# x_test['word_match'] = df_test.apply(word_match_share, axis=1, raw=True)\n",
    "# x_test['word_match_onlystops'] = df_test.apply(word_match_share_onlystops, axis=1, raw=True)\n",
    "# x_test['tfidf_word_match'] = df_test.apply(tfidf_word_match_share, axis=1, raw=True)\n",
    "# x_test['laplace'] = df_test.apply(LaplaceForRow, axis=1, raw=True)\n",
    "# x_test['BM25'] = df_test.apply(BM25, axis=1, raw=True)\n",
    "# x_test['wm_distance'] = df_test.apply(wmdDistance, axis=1, raw=True)\n",
    "# x_test['ED'] = df_test.apply(EditDistance, axis=1, raw=True)\n",
    "\n",
    "# nowtime = datetime.datetime.now()\n",
    "# date = str(nowtime.date()).replace(\"-\",\"\")\n",
    "# hour = str(nowtime.time()).split(':')[0]\n",
    "# min = str(nowtime.time()).split(':')[1]\n",
    "# x_test.to_csv('x_test'+date+hour+min+'.csv', index=False)\n",
    "\n",
    "x_test = pd.read_csv(\"x_test201706291910.csv\")"
   ]
  },
  {
   "cell_type": "code",
   "execution_count": 52,
   "metadata": {
    "collapsed": false,
    "deletable": true,
    "editable": true
   },
   "outputs": [
    {
     "name": "stdout",
     "output_type": "stream",
     "text": [
      "0.19124366100096607\n"
     ]
    }
   ],
   "source": [
    "y_train = df_train['is_duplicate'].values\n",
    "\n",
    "# Rebalance\n",
    "pos_train = x_train[y_train == 1]\n",
    "neg_train = x_train[y_train == 0]\n",
    "\n",
    "\n",
    "p = 0.165\n",
    "scale = ((len(pos_train) / (len(pos_train) + len(neg_train))) / p) - 1\n",
    "while scale > 1:\n",
    "    neg_train = pd.concat([neg_train, neg_train])\n",
    "    scale -=1\n",
    "neg_train = pd.concat([neg_train, neg_train[:int(scale * len(neg_train))]])    ##concat: Add rows\n",
    "print(len(pos_train) / (len(pos_train) + len(neg_train)))\n",
    "\n",
    "x_train = pd.concat([pos_train, neg_train])\n",
    "y_train = (np.zeros(len(pos_train)) + 1).tolist() + np.zeros(len(neg_train)).tolist()\n",
    "del pos_train, neg_train"
   ]
  },
  {
   "cell_type": "code",
   "execution_count": 53,
   "metadata": {
    "collapsed": false,
    "deletable": true,
    "editable": true
   },
   "outputs": [],
   "source": [
    "# Finally, we split some of the data off for validation\n",
    "from sklearn.cross_validation import train_test_split\n",
    "\n",
    "x_train, x_valid, y_train, y_valid = train_test_split(x_train, y_train, test_size=0.2, random_state=4242)"
   ]
  },
  {
   "cell_type": "code",
   "execution_count": 54,
   "metadata": {
    "collapsed": false,
    "deletable": true,
    "editable": true
   },
   "outputs": [
    {
     "name": "stdout",
     "output_type": "stream",
     "text": [
      "[0]\ttrain-logloss:0.672344\tvalid-logloss:0.672477\n",
      "Multiple eval metrics have been passed: 'valid-logloss' will be used for early stopping.\n",
      "\n",
      "Will train until valid-logloss hasn't improved in 50 rounds.\n",
      "[10]\ttrain-logloss:0.530196\tvalid-logloss:0.531463\n",
      "[20]\ttrain-logloss:0.454235\tvalid-logloss:0.456335\n",
      "[30]\ttrain-logloss:0.409618\tvalid-logloss:0.412437\n",
      "[40]\ttrain-logloss:0.382099\tvalid-logloss:0.385616\n",
      "[50]\ttrain-logloss:0.364801\tvalid-logloss:0.368873\n",
      "[60]\ttrain-logloss:0.353867\tvalid-logloss:0.358406\n",
      "[70]\ttrain-logloss:0.346521\tvalid-logloss:0.351481\n",
      "[80]\ttrain-logloss:0.34166\tvalid-logloss:0.346967\n",
      "[90]\ttrain-logloss:0.338233\tvalid-logloss:0.343935\n",
      "[100]\ttrain-logloss:0.335773\tvalid-logloss:0.341804\n",
      "[110]\ttrain-logloss:0.33402\tvalid-logloss:0.340333\n",
      "[120]\ttrain-logloss:0.332768\tvalid-logloss:0.33934\n",
      "[130]\ttrain-logloss:0.331772\tvalid-logloss:0.338593\n",
      "[140]\ttrain-logloss:0.330961\tvalid-logloss:0.337999\n",
      "[150]\ttrain-logloss:0.330305\tvalid-logloss:0.337582\n",
      "[160]\ttrain-logloss:0.329632\tvalid-logloss:0.337128\n",
      "[170]\ttrain-logloss:0.329086\tvalid-logloss:0.336804\n",
      "[180]\ttrain-logloss:0.328118\tvalid-logloss:0.336121\n",
      "[190]\ttrain-logloss:0.327349\tvalid-logloss:0.33559\n",
      "[200]\ttrain-logloss:0.32698\tvalid-logloss:0.335399\n",
      "[210]\ttrain-logloss:0.326466\tvalid-logloss:0.335076\n",
      "[220]\ttrain-logloss:0.325969\tvalid-logloss:0.334806\n",
      "[230]\ttrain-logloss:0.325336\tvalid-logloss:0.334426\n",
      "[240]\ttrain-logloss:0.324449\tvalid-logloss:0.333925\n",
      "[250]\ttrain-logloss:0.323965\tvalid-logloss:0.333647\n",
      "[260]\ttrain-logloss:0.323171\tvalid-logloss:0.333195\n",
      "[270]\ttrain-logloss:0.322711\tvalid-logloss:0.332937\n",
      "[280]\ttrain-logloss:0.322355\tvalid-logloss:0.332781\n",
      "[290]\ttrain-logloss:0.321859\tvalid-logloss:0.332486\n",
      "[300]\ttrain-logloss:0.321267\tvalid-logloss:0.332167\n",
      "[310]\ttrain-logloss:0.320748\tvalid-logloss:0.331919\n",
      "[320]\ttrain-logloss:0.320244\tvalid-logloss:0.331677\n",
      "[330]\ttrain-logloss:0.319808\tvalid-logloss:0.331493\n",
      "[340]\ttrain-logloss:0.319274\tvalid-logloss:0.33124\n",
      "[350]\ttrain-logloss:0.318862\tvalid-logloss:0.331036\n",
      "[360]\ttrain-logloss:0.318326\tvalid-logloss:0.330796\n",
      "[370]\ttrain-logloss:0.31764\tvalid-logloss:0.330444\n",
      "[380]\ttrain-logloss:0.317126\tvalid-logloss:0.330215\n",
      "[390]\ttrain-logloss:0.316678\tvalid-logloss:0.330026\n"
     ]
    }
   ],
   "source": [
    "import xgboost as xgb\n",
    "\n",
    "# Set our parameters for xgboost\n",
    "params = {}\n",
    "params['objective'] = 'binary:logistic'\n",
    "params['eval_metric'] = 'logloss'\n",
    "params['eta'] = 0.04\n",
    "## learning rate: Lower values generalize well.\n",
    "params['max_depth'] = 8\n",
    "## control over-fitting, higher depth specific to a particular sample.\n",
    "\n",
    "d_train = xgb.DMatrix(x_train, label=y_train)\n",
    "d_valid = xgb.DMatrix(x_valid, label=y_valid)\n",
    "\n",
    "watchlist = [(d_train, 'train'), (d_valid, 'valid')]\n",
    "\n",
    "bst = xgb.train(params, d_train, 400, watchlist, early_stopping_rounds=50, verbose_eval=10)"
   ]
  },
  {
   "cell_type": "code",
   "execution_count": 55,
   "metadata": {
    "collapsed": true,
    "deletable": true,
    "editable": true
   },
   "outputs": [],
   "source": [
    "d_test = xgb.DMatrix(x_test)\n",
    "p_test = bst.predict(d_test)\n",
    "\n",
    "sub = pd.DataFrame()\n",
    "sub['test_id'] = df_test['test_id']\n",
    "sub['is_duplicate'] = p_test\n",
    "\n",
    "nowtime = datetime.datetime.now()\n",
    "date = str(nowtime.date()).replace(\"-\",\"\")\n",
    "hour = str(nowtime.time()).split(':')[0]\n",
    "min = str(nowtime.time()).split(':')[1]\n",
    "sub.to_csv('submission'+date+hour+min+'.csv', index=False)"
   ]
  },
  {
   "cell_type": "code",
   "execution_count": null,
   "metadata": {
    "collapsed": true,
    "deletable": true,
    "editable": true
   },
   "outputs": [],
   "source": []
  },
  {
   "cell_type": "code",
   "execution_count": null,
   "metadata": {
    "collapsed": true,
    "deletable": true,
    "editable": true
   },
   "outputs": [],
   "source": []
  },
  {
   "cell_type": "code",
   "execution_count": null,
   "metadata": {
    "collapsed": true,
    "deletable": true,
    "editable": true
   },
   "outputs": [],
   "source": []
  }
 ],
 "metadata": {
  "kernelspec": {
   "display_name": "Python 3",
   "language": "python",
   "name": "python3"
  },
  "language_info": {
   "codemirror_mode": {
    "name": "ipython",
    "version": 3
   },
   "file_extension": ".py",
   "mimetype": "text/x-python",
   "name": "python",
   "nbconvert_exporter": "python",
   "pygments_lexer": "ipython3",
   "version": "3.5.3"
  }
 },
 "nbformat": 4,
 "nbformat_minor": 2
}
